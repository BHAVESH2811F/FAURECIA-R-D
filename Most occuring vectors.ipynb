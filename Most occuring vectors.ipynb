{
 "cells": [
  {
   "cell_type": "code",
   "execution_count": 1,
   "id": "7da3a097",
   "metadata": {},
   "outputs": [],
   "source": [
    "import pandas as pd \n",
    "import numpy as np \n",
    "import matplotlib.pyplot as plt \n",
    "import seaborn as sns "
   ]
  },
  {
   "cell_type": "code",
   "execution_count": 4,
   "id": "e9f6f745",
   "metadata": {},
   "outputs": [],
   "source": [
    "data5 = pd.read_pickle('d_part_05.pkl')#part \n",
    "# Key - 'N'\n",
    "# "
   ]
  },
  {
   "cell_type": "code",
   "execution_count": 5,
   "id": "fcb40870",
   "metadata": {
    "scrolled": true
   },
   "outputs": [
    {
     "name": "stdout",
     "output_type": "stream",
     "text": [
      "FRONT_TOPROLL_SD0526A239420114_008_STYLE\n",
      "1670177_2941632X _TESLA_MY_DR_BELTLINE_2_0_FR_LH\n",
      "2089738X_TOP_ROLL_FRT_KISS_CUT_RH_STYLE\n",
      "2237373X_TOP_ROLL_FRT_COVRD_LH_ALLCATPART\n",
      "PSA_C48E_THERMOCOVERED_TOPROLL_ALLCATPART\n"
     ]
    }
   ],
   "source": [
    "for keys in data5.keys():\n",
    "    print(keys)"
   ]
  },
  {
   "cell_type": "code",
   "execution_count": 12,
   "id": "49e299b9",
   "metadata": {},
   "outputs": [
    {
     "data": {
      "text/plain": [
       "array([[ 0.01690266, -0.92995083, -0.36729541],\n",
       "       [ 0.01690266, -0.92995083, -0.36729541],\n",
       "       [ 0.01690266, -0.92995083, -0.36729541],\n",
       "       ...,\n",
       "       [ 0.06108081, -0.49811602,  0.86495638],\n",
       "       [ 0.05600601, -0.76223534,  0.64487249],\n",
       "       [ 0.04273998, -0.92881197,  0.36807832]])"
      ]
     },
     "execution_count": 12,
     "metadata": {},
     "output_type": "execute_result"
    }
   ],
   "source": [
    "data5['FRONT_TOPROLL_SD0526A239420114_008_STYLE']['N']"
   ]
  },
  {
   "cell_type": "code",
   "execution_count": 5,
   "id": "2fa53fb1",
   "metadata": {},
   "outputs": [],
   "source": [
    "# def arrays_vstack(filename):\n",
    "#     for i in range(len(data5[filename]['pnts'])):\n",
    "#         if i ==0:\n",
    "#             array_used_in_loop = data5[filename]['pnts'][i]\n",
    "#         else :\n",
    "#             array_used_in_loop = np.vstack((array_used_in_loop , data5[filename]['pnts'][i]))\n",
    "    \n",
    "#     return array_used_in_loop"
   ]
  },
  {
   "cell_type": "code",
   "execution_count": 22,
   "id": "2e8e3fc1",
   "metadata": {},
   "outputs": [],
   "source": [
    "array1 = np.round(data5['FRONT_TOPROLL_SD0526A239420114_008_STYLE']['N'],3)\n",
    "array2 = np.round(data5['1670177_2941632X _TESLA_MY_DR_BELTLINE_2_0_FR_LH']['N'],3)\n",
    "array3 = np.round(data5['2089738X_TOP_ROLL_FRT_KISS_CUT_RH_STYLE']['N'],3)\n",
    "array4 = np.round(data5['2237373X_TOP_ROLL_FRT_COVRD_LH_ALLCATPART']['N'],3)\n",
    "array5 = np.round(data5['PSA_C48E_THERMOCOVERED_TOPROLL_ALLCATPART']['N'],3)"
   ]
  },
  {
   "cell_type": "code",
   "execution_count": 23,
   "id": "41c21cf9",
   "metadata": {
    "scrolled": false
   },
   "outputs": [
    {
     "name": "stdout",
     "output_type": "stream",
     "text": [
      "5616 7952 9520 15840 14648\n"
     ]
    }
   ],
   "source": [
    "print(len(array1),len(array2),len(array3),len(array4),len(array5))"
   ]
  },
  {
   "cell_type": "code",
   "execution_count": 24,
   "id": "989afc53",
   "metadata": {
    "scrolled": true
   },
   "outputs": [
    {
     "data": {
      "text/plain": [
       "array([[ 0.017, -0.93 , -0.367],\n",
       "       [ 0.017, -0.93 , -0.367],\n",
       "       [ 0.017, -0.93 , -0.367],\n",
       "       ...,\n",
       "       [ 0.061, -0.498,  0.865],\n",
       "       [ 0.056, -0.762,  0.645],\n",
       "       [ 0.043, -0.929,  0.368]])"
      ]
     },
     "execution_count": 24,
     "metadata": {},
     "output_type": "execute_result"
    }
   ],
   "source": [
    "array1"
   ]
  },
  {
   "cell_type": "code",
   "execution_count": null,
   "id": "f1681c74",
   "metadata": {},
   "outputs": [],
   "source": []
  },
  {
   "cell_type": "markdown",
   "id": "0bc3f359",
   "metadata": {},
   "source": [
    "## uni1"
   ]
  },
  {
   "cell_type": "code",
   "execution_count": 34,
   "id": "ab25697a",
   "metadata": {
    "scrolled": true
   },
   "outputs": [],
   "source": [
    "uni, count = np.unique(array1, axis = 0,return_counts=True)"
   ]
  },
  {
   "cell_type": "code",
   "execution_count": 35,
   "id": "5411b5e5",
   "metadata": {},
   "outputs": [
    {
     "data": {
      "text/plain": [
       "(array([3542], dtype=int64),)"
      ]
     },
     "execution_count": 35,
     "metadata": {},
     "output_type": "execute_result"
    }
   ],
   "source": [
    "np.where(count == max(count))"
   ]
  },
  {
   "cell_type": "code",
   "execution_count": 37,
   "id": "1713d4e8",
   "metadata": {
    "scrolled": true
   },
   "outputs": [
    {
     "name": "stdout",
     "output_type": "stream",
     "text": [
      "[ 0.137 -0.07   0.988]\n",
      "12\n"
     ]
    }
   ],
   "source": [
    "print (uni[3542])\n",
    "print(count[3542])"
   ]
  },
  {
   "cell_type": "code",
   "execution_count": null,
   "id": "15a45194",
   "metadata": {},
   "outputs": [],
   "source": []
  },
  {
   "cell_type": "markdown",
   "id": "da68c70f",
   "metadata": {},
   "source": [
    "## Uni2 "
   ]
  },
  {
   "cell_type": "code",
   "execution_count": 38,
   "id": "a3d117c7",
   "metadata": {
    "scrolled": false
   },
   "outputs": [],
   "source": [
    "uni2, count2 = np.unique(array2, axis = 0,return_counts=True)"
   ]
  },
  {
   "cell_type": "code",
   "execution_count": 39,
   "id": "f5dbd2df",
   "metadata": {},
   "outputs": [
    {
     "data": {
      "text/plain": [
       "(array([86], dtype=int64),)"
      ]
     },
     "execution_count": 39,
     "metadata": {},
     "output_type": "execute_result"
    }
   ],
   "source": [
    "np.where(count2 == max(count2))"
   ]
  },
  {
   "cell_type": "code",
   "execution_count": 40,
   "id": "a5b3ab2f",
   "metadata": {},
   "outputs": [
    {
     "name": "stdout",
     "output_type": "stream",
     "text": [
      "[-0.97  -0.122  0.21 ]\n",
      "33\n"
     ]
    }
   ],
   "source": [
    "print (uni2[86])\n",
    "print(count2[86])"
   ]
  },
  {
   "cell_type": "markdown",
   "id": "9b007204",
   "metadata": {},
   "source": [
    "## Uni3"
   ]
  },
  {
   "cell_type": "code",
   "execution_count": 42,
   "id": "288dc6ad",
   "metadata": {
    "scrolled": true
   },
   "outputs": [],
   "source": [
    "uni3, count3 = np.unique(array3, axis = 0,return_counts=True)"
   ]
  },
  {
   "cell_type": "code",
   "execution_count": 43,
   "id": "edbd82cd",
   "metadata": {},
   "outputs": [
    {
     "data": {
      "text/plain": [
       "(array([56], dtype=int64),)"
      ]
     },
     "execution_count": 43,
     "metadata": {},
     "output_type": "execute_result"
    }
   ],
   "source": [
    "np.where(count3 == max(count3))"
   ]
  },
  {
   "cell_type": "code",
   "execution_count": 45,
   "id": "3391dc4e",
   "metadata": {},
   "outputs": [
    {
     "name": "stdout",
     "output_type": "stream",
     "text": [
      "[-0.964  0.122  0.236]\n"
     ]
    },
    {
     "data": {
      "text/plain": [
       "13"
      ]
     },
     "execution_count": 45,
     "metadata": {},
     "output_type": "execute_result"
    }
   ],
   "source": [
    "print(uni3[56])\n",
    "count3[56]"
   ]
  },
  {
   "cell_type": "markdown",
   "id": "d76d01b7",
   "metadata": {},
   "source": [
    "## Uni4 "
   ]
  },
  {
   "cell_type": "code",
   "execution_count": 46,
   "id": "c1c9067b",
   "metadata": {
    "scrolled": true
   },
   "outputs": [],
   "source": [
    "uni4, count4 = np.unique(array4, axis = 0,return_counts=True)"
   ]
  },
  {
   "cell_type": "code",
   "execution_count": 47,
   "id": "6057e78f",
   "metadata": {
    "scrolled": true
   },
   "outputs": [
    {
     "data": {
      "text/plain": [
       "(array([12298], dtype=int64),)"
      ]
     },
     "execution_count": 47,
     "metadata": {},
     "output_type": "execute_result"
    }
   ],
   "source": [
    "np.where(count4 == max(count4))"
   ]
  },
  {
   "cell_type": "code",
   "execution_count": 48,
   "id": "ccd4169e",
   "metadata": {},
   "outputs": [
    {
     "name": "stdout",
     "output_type": "stream",
     "text": [
      "[ 0.957  0.124 -0.261]\n"
     ]
    },
    {
     "data": {
      "text/plain": [
       "46"
      ]
     },
     "execution_count": 48,
     "metadata": {},
     "output_type": "execute_result"
    }
   ],
   "source": [
    "print(uni4[12298])\n",
    "count4[12298]"
   ]
  },
  {
   "cell_type": "markdown",
   "id": "9e42b416",
   "metadata": {},
   "source": [
    "## uni5 "
   ]
  },
  {
   "cell_type": "code",
   "execution_count": 49,
   "id": "b5bb7597",
   "metadata": {},
   "outputs": [],
   "source": [
    "uni5, count5 = np.unique(array5, axis = 0,return_counts=True)"
   ]
  },
  {
   "cell_type": "code",
   "execution_count": 50,
   "id": "3a872a1c",
   "metadata": {},
   "outputs": [
    {
     "data": {
      "text/plain": [
       "(array([5933], dtype=int64),)"
      ]
     },
     "execution_count": 50,
     "metadata": {},
     "output_type": "execute_result"
    }
   ],
   "source": [
    "np.where(count5 == max(count5))"
   ]
  },
  {
   "cell_type": "code",
   "execution_count": 51,
   "id": "745746a7",
   "metadata": {},
   "outputs": [
    {
     "data": {
      "text/plain": [
       "186"
      ]
     },
     "execution_count": 51,
     "metadata": {},
     "output_type": "execute_result"
    }
   ],
   "source": [
    "count5[5933]"
   ]
  },
  {
   "cell_type": "code",
   "execution_count": 52,
   "id": "6bc6c70e",
   "metadata": {},
   "outputs": [
    {
     "data": {
      "text/plain": [
       "array([ 0.023,  0.998, -0.057])"
      ]
     },
     "execution_count": 52,
     "metadata": {},
     "output_type": "execute_result"
    }
   ],
   "source": [
    "uni5[5933]"
   ]
  }
 ],
 "metadata": {
  "kernelspec": {
   "display_name": "Python 3",
   "language": "python",
   "name": "python3"
  },
  "language_info": {
   "codemirror_mode": {
    "name": "ipython",
    "version": 3
   },
   "file_extension": ".py",
   "mimetype": "text/x-python",
   "name": "python",
   "nbconvert_exporter": "python",
   "pygments_lexer": "ipython3",
   "version": "3.8.8"
  }
 },
 "nbformat": 4,
 "nbformat_minor": 5
}
