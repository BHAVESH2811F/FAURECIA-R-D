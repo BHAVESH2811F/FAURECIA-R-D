{
 "cells": [
  {
   "cell_type": "code",
   "execution_count": 1,
   "id": "ddd4b13b",
   "metadata": {},
   "outputs": [],
   "source": [
    "import pandas as pd \n",
    "import numpy as np \n",
    "import matplotlib.pyplot as plt \n",
    "import seaborn as sns \n",
    "\n",
    "from sklearn.preprocessing import MinMaxScaler,MaxAbsScaler,StandardScaler\n",
    "from sklearn.model_selection import train_test_split\n",
    "from sklearn.metrics import confusion_matrix\n",
    "import joblib\n",
    "\n",
    "import tensorflow as tf \n",
    "from tensorflow import keras\n",
    "from keras_tuner import RandomSearch"
   ]
  },
  {
   "cell_type": "markdown",
   "id": "fc5c85fa",
   "metadata": {},
   "source": [
    "## Data Preparation "
   ]
  },
  {
   "cell_type": "code",
   "execution_count": 2,
   "id": "5e961801",
   "metadata": {},
   "outputs": [],
   "source": [
    "data10 = pd.read_pickle('d_data_10.pkl')\n",
    "thck10 = pd.read_pickle('d_thck_10.pkl')"
   ]
  },
  {
   "cell_type": "code",
   "execution_count": 3,
   "id": "35d029fe",
   "metadata": {},
   "outputs": [],
   "source": [
    "i_put = []\n",
    "o_put = []\n",
    "for key in data10.keys():\n",
    "    i_img = data10[key]['imgs']\n",
    "    o_put.append(thck10[key])\n",
    "    i_put.append(np.array([i_img[k] for k in range(len(i_img))]))\n",
    "o_put = np.concatenate(o_put) \n",
    "i_put = np.concatenate(i_put) "
   ]
  },
  {
   "cell_type": "code",
   "execution_count": 4,
   "id": "b1ab04d3",
   "metadata": {},
   "outputs": [],
   "source": [
    "target10 = o_put.copy()\n",
    "images10 = i_put.copy()"
   ]
  },
  {
   "cell_type": "code",
   "execution_count": 5,
   "id": "8a50bf22",
   "metadata": {},
   "outputs": [
    {
     "data": {
      "image/png": "[encoded data removed]",
      "text/plain": [
       "<Figure size 432x288 with 1 Axes>"
      ]
     },
     "metadata": {
      "needs_background": "light"
     },
     "output_type": "display_data"
    }
   ],
   "source": [
    "#sns.histplot(o_put)\n",
    "plt.hist(o_put)\n",
    "plt.show()"
   ]
  },
  {
   "cell_type": "code",
   "execution_count": 5,
   "id": "df82e0d3",
   "metadata": {
    "scrolled": true
   },
   "outputs": [
    {
     "name": "stdout",
     "output_type": "stream",
     "text": [
      "53576\n"
     ]
    },
    {
     "data": {
      "text/plain": [
       "53576"
      ]
     },
     "execution_count": 5,
     "metadata": {},
     "output_type": "execute_result"
    }
   ],
   "source": [
    "print(len(o_put))\n",
    "len(i_put)"
   ]
  },
  {
   "cell_type": "code",
   "execution_count": null,
   "id": "ba3b025a",
   "metadata": {},
   "outputs": [],
   "source": [
    "#minmaxscaler "
   ]
  },
  {
   "cell_type": "code",
   "execution_count": 6,
   "id": "eb52b070",
   "metadata": {
    "scrolled": true
   },
   "outputs": [],
   "source": [
    "scaler_transform_10 = MinMaxScaler()\n",
    "target10_scaled = scaler_transform_10.fit_transform(target10.reshape(-1,1))\n",
    "target10_scaled = target10_scaled.ravel()"
   ]
  },
  {
   "cell_type": "code",
   "execution_count": 7,
   "id": "6be7e74f",
   "metadata": {},
   "outputs": [
    {
     "data": {
      "image/png": "[encoded data removed]",
      "text/plain": [
       "<Figure size 432x288 with 1 Axes>"
      ]
     },
     "metadata": {
      "needs_background": "light"
     },
     "output_type": "display_data"
    }
   ],
   "source": [
    "plt.hist(target10_scaled)\n",
    "plt.show()"
   ]
  },
  {
   "cell_type": "code",
   "execution_count": 8,
   "id": "2cc58433",
   "metadata": {
    "scrolled": true
   },
   "outputs": [
    {
     "data": {
      "text/plain": [
       "['scaler_transform_10']"
      ]
     },
     "execution_count": 8,
     "metadata": {},
     "output_type": "execute_result"
    }
   ],
   "source": [
    "# saving transformer \n",
    "#joblib.dump(scaler_transform_10,'scaler_transform_10')"
   ]
  },
  {
   "cell_type": "code",
   "execution_count": 8,
   "id": "b5aa98b7",
   "metadata": {
    "scrolled": false
   },
   "outputs": [
    {
     "name": "stdout",
     "output_type": "stream",
     "text": [
      "(11100,)\n",
      "(16731,)\n",
      "(13967,)\n",
      "(11778,)\n"
     ]
    }
   ],
   "source": [
    "print(np.array(np.where(target10_scaled<=0.30)).flatten().shape)\n",
    "print(np.array(np.where((target10_scaled>0.30) & (target10_scaled<=0.50))).flatten().shape)\n",
    "print(np.array(np.where((target10_scaled>0.50) & (target10_scaled<=0.70))).flatten().shape)\n",
    "print(np.array(np.where(target10_scaled>0.7)).flatten().shape)"
   ]
  },
  {
   "cell_type": "code",
   "execution_count": 19,
   "id": "7e159d84",
   "metadata": {},
   "outputs": [
    {
     "data": {
      "text/plain": [
       "array([2, 2, 2, ..., 1, 1, 3], dtype=int64)"
      ]
     },
     "execution_count": 19,
     "metadata": {},
     "output_type": "execute_result"
    }
   ],
   "source": [
    "bins = np.array([-0.9,0.3,0.5,0.7,1])\n",
    "target10_scaled = np.digitize(target10_scaled,bins,right=True)\n",
    "target10_scaled"
   ]
  },
  {
   "cell_type": "code",
   "execution_count": 20,
   "id": "c7baf0c4",
   "metadata": {},
   "outputs": [
    {
     "name": "stdout",
     "output_type": "stream",
     "text": [
      "[1 2 3 4]\n"
     ]
    },
    {
     "data": {
      "text/plain": [
       "2    16731\n",
       "3    13967\n",
       "4    11778\n",
       "1    11100\n",
       "dtype: int64"
      ]
     },
     "execution_count": 20,
     "metadata": {},
     "output_type": "execute_result"
    }
   ],
   "source": [
    "print(np.unique(target10_scaled))\n",
    "\n",
    "pd.DataFrame(target10_scaled).value_counts()"
   ]
  },
  {
   "cell_type": "code",
   "execution_count": null,
   "id": "682d3106",
   "metadata": {},
   "outputs": [],
   "source": [
    "# target10_scaled = np.where(target10_scaled>=0.70,3,target10_scaled)\n",
    "# target10_scaled = np.where((target10_scaled>0.50) & (target10_scaled<=0.70),2,target10_scaled)\n",
    "# target10_scaled = np.where((target10_scaled>0.30) & (target10_scaled<=0.50),1,target10_scaled)\n",
    "# target10_scaled = np.where(target10_scaled<=0.30,0,target10_scaled)"
   ]
  },
  {
   "cell_type": "code",
   "execution_count": 10,
   "id": "e6e3e4bb",
   "metadata": {},
   "outputs": [],
   "source": [
    "images10 = images10.reshape(len(images10),32,32,1)\n",
    "images10 = images10/255.0"
   ]
  },
  {
   "cell_type": "code",
   "execution_count": 11,
   "id": "26dbbad0",
   "metadata": {
    "scrolled": true
   },
   "outputs": [],
   "source": [
    "x_train, x_test, y_train, y_test = train_test_split(images10,target10_scaled,test_size=0.2,random_state=2)"
   ]
  },
  {
   "cell_type": "markdown",
   "id": "b001a989",
   "metadata": {},
   "source": [
    "## model building \n",
    "### Model1"
   ]
  },
  {
   "cell_type": "code",
   "execution_count": 17,
   "id": "080f9bcb",
   "metadata": {
    "scrolled": true
   },
   "outputs": [
    {
     "name": "stdout",
     "output_type": "stream",
     "text": [
      "INFO:tensorflow:Reloading Oracle from existing project hyperparameter_models\\3rd_model\\oracle.json\n",
      "INFO:tensorflow:Reloading Tuner from hyperparameter_models\\3rd_model\\tuner0.json\n"
     ]
    },
    {
     "data": {
      "text/plain": [
       "{'conv_1_filter': 32,\n",
       " 'conv_1_kernel': 5,\n",
       " 'conv_2_filter': 128,\n",
       " 'conv_2_kernel': 5,\n",
       " 'dense_1_units': 112,\n",
       " 'learning_rate': 0.001}"
      ]
     },
     "execution_count": 17,
     "metadata": {},
     "output_type": "execute_result"
    }
   ],
   "source": [
    "best_model1 = RandomSearch(hyper_model,objective='val_accuracy',max_trials = 10, directory = 'hyperparameter_models',project_name='3rd_model')\n",
    "hyp = best_model1.get_best_hyperparameters()[0]\n",
    "hyp.values"
   ]
  },
  {
   "cell_type": "code",
   "execution_count": 36,
   "id": "269dcd8a",
   "metadata": {},
   "outputs": [],
   "source": [
    "model = keras.Sequential([\n",
    "    keras.layers.Conv2D(filters = 32,kernel_size = (5,5), activation ='relu',input_shape=(32,32,1)),\n",
    "    keras.layers.MaxPooling2D((2,2)),\n",
    "    keras.layers.Dropout(0.2),\n",
    "    \n",
    "    keras.layers.Conv2D(filters = 128, kernel_size=(5,5), activation ='relu'),\n",
    "    keras.layers.MaxPooling2D((2,2)),\n",
    "    keras.layers.Dropout(0.2),\n",
    "    \n",
    "    keras.layers.Flatten(),\n",
    "    \n",
    "    keras.layers.Dense(112,activation='relu'),\n",
    "    keras.layers.Dense(4, activation= 'softmax')])\n",
    "\n",
    "model.compile(optimizer = keras.optimizers.Adam(learning_rate=0.001),\n",
    "              loss = 'sparse_categorical_crossentropy',\n",
    "             metrics = ['accuracy'])"
   ]
  },
  {
   "cell_type": "code",
   "execution_count": 37,
   "id": "b7680250",
   "metadata": {
    "scrolled": true
   },
   "outputs": [
    {
     "name": "stdout",
     "output_type": "stream",
     "text": [
      "Epoch 1/10\n",
      "1340/1340 [==============================] - 78s 58ms/step - loss: 1.1454 - accuracy: 0.49540s - loss: 1.1454 - accuracy: 0.49\n",
      "Epoch 2/10\n",
      "1340/1340 [==============================] - 71s 53ms/step - loss: 0.9384 - accuracy: 0.6130\n",
      "Epoch 3/10\n",
      "1340/1340 [==============================] - 72s 54ms/step - loss: 0.8363 - accuracy: 0.6619\n",
      "Epoch 4/10\n",
      "1340/1340 [==============================] - 72s 54ms/step - loss: 0.7611 - accuracy: 0.6948\n",
      "Epoch 5/10\n",
      "1340/1340 [==============================] - 73s 54ms/step - loss: 0.7072 - accuracy: 0.7174\n",
      "Epoch 6/10\n",
      "1340/1340 [==============================] - 73s 54ms/step - loss: 0.6611 - accuracy: 0.7367\n",
      "Epoch 7/10\n",
      "1340/1340 [==============================] - 73s 54ms/step - loss: 0.6239 - accuracy: 0.7532\n",
      "Epoch 8/10\n",
      "1340/1340 [==============================] - 71s 53ms/step - loss: 0.5969 - accuracy: 0.7608\n",
      "Epoch 9/10\n",
      "1340/1340 [==============================] - 73s 54ms/step - loss: 0.5690 - accuracy: 0.7746\n",
      "Epoch 10/10\n",
      "1340/1340 [==============================] - 72s 54ms/step - loss: 0.5461 - accuracy: 0.7840\n"
     ]
    },
    {
     "data": {
      "text/plain": [
       "<keras.callbacks.History at 0x2b878ce6c10>"
      ]
     },
     "execution_count": 37,
     "metadata": {},
     "output_type": "execute_result"
    }
   ],
   "source": [
    "model.fit(x_train,y_train,epochs=10)"
   ]
  },
  {
   "cell_type": "code",
   "execution_count": 39,
   "id": "038bbad6",
   "metadata": {},
   "outputs": [
    {
     "name": "stdout",
     "output_type": "stream",
     "text": [
      "335/335 [==============================] - 5s 13ms/step - loss: 0.6294 - accuracy: 0.7615\n"
     ]
    },
    {
     "data": {
      "text/plain": [
       "[0.6293536424636841, 0.7614781856536865]"
      ]
     },
     "execution_count": 39,
     "metadata": {},
     "output_type": "execute_result"
    }
   ],
   "source": [
    "model.evaluate(x_test,y_test)"
   ]
  },
  {
   "cell_type": "code",
   "execution_count": null,
   "id": "bc5df494",
   "metadata": {},
   "outputs": [],
   "source": []
  },
  {
   "cell_type": "markdown",
   "id": "930f69e9",
   "metadata": {},
   "source": [
    "## hyperparameter tunning \n",
    "### Model2 "
   ]
  },
  {
   "cell_type": "code",
   "execution_count": 15,
   "id": "e8a1a867",
   "metadata": {},
   "outputs": [],
   "source": [
    "def hyper_model(hp):\n",
    "    model = keras.Sequential([\n",
    "    keras.layers.Conv2D( filters=hp.Int('conv_1_filter', min_value=32, max_value=128, step=16),\n",
    "        kernel_size=hp.Choice('conv_1_kernel', values = [3,5]),\n",
    "        activation='relu',\n",
    "        input_shape=(32,32,1)),\n",
    "    keras.layers.MaxPooling2D((2,2)),\n",
    "    keras.layers.Dropout(0.2),\n",
    "        \n",
    "    keras.layers.Conv2D( filters=hp.Int('conv_2_filter', min_value=32, max_value=128, step=16),\n",
    "        kernel_size=hp.Choice('conv_2_kernel', values = [3,5]),\n",
    "        activation='relu'),\n",
    "    keras.layers.MaxPooling2D((2,2)),\n",
    "    keras.layers.Dropout(0.2),\n",
    "              \n",
    "    keras.layers.Flatten(),\n",
    "      \n",
    "    keras.layers.Dense(units=hp.Int('dense_1_units', min_value=32, max_value=128, step=16),activation='relu'),\n",
    "\n",
    "    keras.layers.Dense(4, activation='softmax')])\n",
    "    \n",
    "    model.compile(optimizer=keras.optimizers.Adam(hp.Choice('learning_rate', values=[1e-2, 1e-3])),\n",
    "              loss='sparse_categorical_crossentropy',\n",
    "              metrics=['accuracy'])\n",
    "    return model"
   ]
  },
  {
   "cell_type": "code",
   "execution_count": 40,
   "id": "e1aac2d4",
   "metadata": {},
   "outputs": [],
   "source": [
    "best_model2 = RandomSearch(hyper_model,objective='val_accuracy',max_trials = 10, directory = 'hyperparameter_models',project_name='4th_model')"
   ]
  },
  {
   "cell_type": "code",
   "execution_count": 41,
   "id": "fab92c31",
   "metadata": {
    "scrolled": true
   },
   "outputs": [
    {
     "name": "stdout",
     "output_type": "stream",
     "text": [
      "Trial 10 Complete [00h 11m 04s]\n",
      "val_accuracy: 0.7058603763580322\n",
      "\n",
      "Best val_accuracy So Far: 0.7058603763580322\n",
      "Total elapsed time: 01h 26m 12s\n",
      "INFO:tensorflow:Oracle triggered exit\n"
     ]
    }
   ],
   "source": [
    "best_model2.search(x_train,y_train,epochs=5,validation_data=(x_test,y_test))"
   ]
  },
  {
   "cell_type": "code",
   "execution_count": 43,
   "id": "965e246f",
   "metadata": {
    "scrolled": true
   },
   "outputs": [
    {
     "name": "stdout",
     "output_type": "stream",
     "text": [
      "Model: \"sequential\"\n",
      "_________________________________________________________________\n",
      " Layer (type)                Output Shape              Param #   \n",
      "=================================================================\n",
      " conv2d (Conv2D)             (None, 30, 30, 96)        960       \n",
      "                                                                 \n",
      " max_pooling2d (MaxPooling2D  (None, 15, 15, 96)       0         \n",
      " )                                                               \n",
      "                                                                 \n",
      " dropout (Dropout)           (None, 15, 15, 96)        0         \n",
      "                                                                 \n",
      " conv2d_1 (Conv2D)           (None, 13, 13, 96)        83040     \n",
      "                                                                 \n",
      " max_pooling2d_1 (MaxPooling  (None, 6, 6, 96)         0         \n",
      " 2D)                                                             \n",
      "                                                                 \n",
      " dropout_1 (Dropout)         (None, 6, 6, 96)          0         \n",
      "                                                                 \n",
      " flatten (Flatten)           (None, 3456)              0         \n",
      "                                                                 \n",
      " dense (Dense)               (None, 128)               442496    \n",
      "                                                                 \n",
      " dense_1 (Dense)             (None, 4)                 516       \n",
      "                                                                 \n",
      "=================================================================\n",
      "Total params: 527,012\n",
      "Trainable params: 527,012\n",
      "Non-trainable params: 0\n",
      "_________________________________________________________________\n"
     ]
    }
   ],
   "source": [
    "model2 = best_model2.get_best_models()[0]\n",
    "model2.summary()"
   ]
  },
  {
   "cell_type": "code",
   "execution_count": 44,
   "id": "085c8cef",
   "metadata": {
    "scrolled": true
   },
   "outputs": [
    {
     "name": "stdout",
     "output_type": "stream",
     "text": [
      "335/335 [==============================] - 8s 24ms/step - loss: 0.7498 - accuracy: 0.7059\n"
     ]
    },
    {
     "data": {
      "text/plain": [
       "[0.749832034111023, 0.7058603763580322]"
      ]
     },
     "execution_count": 44,
     "metadata": {},
     "output_type": "execute_result"
    }
   ],
   "source": [
    "model2.evaluate(x_test,y_test)"
   ]
  },
  {
   "cell_type": "code",
   "execution_count": 45,
   "id": "5e5513f0",
   "metadata": {
    "scrolled": true
   },
   "outputs": [
    {
     "name": "stdout",
     "output_type": "stream",
     "text": [
      "Epoch 6/10\n",
      "1340/1340 [==============================] - 120s 89ms/step - loss: 0.6841 - accuracy: 0.7297\n",
      "Epoch 7/10\n",
      "1340/1340 [==============================] - 107s 80ms/step - loss: 0.6442 - accuracy: 0.7439\n",
      "Epoch 8/10\n",
      "1340/1340 [==============================] - 111s 83ms/step - loss: 0.6090 - accuracy: 0.7586\n",
      "Epoch 9/10\n",
      "1340/1340 [==============================] - 107s 80ms/step - loss: 0.5833 - accuracy: 0.7702\n",
      "Epoch 10/10\n",
      "1340/1340 [==============================] - 107s 80ms/step - loss: 0.5595 - accuracy: 0.7811\n"
     ]
    },
    {
     "data": {
      "text/plain": [
       "<keras.callbacks.History at 0x2b8783090d0>"
      ]
     },
     "execution_count": 45,
     "metadata": {},
     "output_type": "execute_result"
    }
   ],
   "source": [
    "model2.fit(x_train,y_train,initial_epoch=5,epochs=10)"
   ]
  },
  {
   "cell_type": "code",
   "execution_count": 46,
   "id": "af223c81",
   "metadata": {
    "scrolled": false
   },
   "outputs": [
    {
     "name": "stdout",
     "output_type": "stream",
     "text": [
      "335/335 [==============================] - 6s 18ms/step - loss: 0.6814 - accuracy: 0.7422\n"
     ]
    },
    {
     "data": {
      "text/plain": [
       "[0.6813571453094482, 0.7421612739562988]"
      ]
     },
     "execution_count": 46,
     "metadata": {},
     "output_type": "execute_result"
    }
   ],
   "source": [
    "model2.evaluate(x_test,y_test)"
   ]
  },
  {
   "cell_type": "markdown",
   "id": "218ec3dd",
   "metadata": {},
   "source": [
    "## Tessting models with Data_8 and Data_5"
   ]
  },
  {
   "cell_type": "code",
   "execution_count": null,
   "id": "cde5066c",
   "metadata": {},
   "outputs": [],
   "source": [
    "# testing Data 05 "
   ]
  },
  {
   "cell_type": "code",
   "execution_count": 48,
   "id": "767e5ca4",
   "metadata": {
    "scrolled": true
   },
   "outputs": [
    {
     "name": "stdout",
     "output_type": "stream",
     "text": [
      "1675/1675 [==============================] - 17s 10ms/step - loss: 1.3879 - accuracy: 0.5117\n",
      "[1.3879057168960571, 0.5116656422615051]\n",
      "1675/1675 [==============================] - 32s 19ms/step - loss: 1.4555 - accuracy: 0.5029\n",
      "[1.455491065979004, 0.5029117465019226]\n"
     ]
    }
   ],
   "source": [
    "data05 = pd.read_pickle('d_data_05.pkl')\n",
    "thck05 = pd.read_pickle('d_thck_05.pkl')\n",
    "\n",
    "i_put_05 = []\n",
    "o_put_05 = []\n",
    "for key in data05.keys():\n",
    "    i_img_05 = data05[key]['imgs']\n",
    "    o_put_05.append(thck05[key])\n",
    "    i_put_05.append(np.array([i_img_05[k] for k in range(len(i_img_05))]))\n",
    "    \n",
    "i_put_05 = np.concatenate(i_put_05) \n",
    "o_put_05 = np.concatenate(o_put_05) \n",
    "\n",
    "o_put_05 = scaler_transform_10.transform(o_put_05.reshape(-1,1))\n",
    "o_put_05 = o_put_05.ravel()\n",
    "o_put_05\n",
    "\n",
    "o_put_05 = np.digitize(o_put_05,bins,right=True)\n",
    "\n",
    "images_TestData_5 = i_put_05.reshape(len(i_put_05),32,32,1)\n",
    "images_TestData_5 = images_TestData_5/255.0\n",
    "\n",
    "print(model.evaluate(images_TestData_5,o_put_05))\n",
    "print(model2.evaluate(images_TestData_5,o_put_05))"
   ]
  },
  {
   "cell_type": "code",
   "execution_count": null,
   "id": "23e4a3b3",
   "metadata": {},
   "outputs": [],
   "source": []
  },
  {
   "cell_type": "code",
   "execution_count": null,
   "id": "3f05ddda",
   "metadata": {},
   "outputs": [],
   "source": [
    "# testing Data 08"
   ]
  },
  {
   "cell_type": "code",
   "execution_count": 55,
   "id": "d5703a53",
   "metadata": {
    "scrolled": true
   },
   "outputs": [
    {
     "name": "stdout",
     "output_type": "stream",
     "text": [
      "1675/1675 [==============================] - 17s 10ms/step - loss: 0.7661 - accuracy: 0.7016\n",
      "Model1 - [0.7660661935806274, 0.7015827894210815]\n",
      "\n",
      "\n",
      "1675/1675 [==============================] - 31s 19ms/step - loss: 0.8281 - accuracy: 0.6796\n",
      "Model2 - [0.8281142115592957, 0.6795580387115479]\n"
     ]
    }
   ],
   "source": [
    "data08 = pd.read_pickle('d_data_08.pkl')\n",
    "thck08 = pd.read_pickle('d_thck_08.pkl')\n",
    "\n",
    "i_put_08 = []\n",
    "o_put_08 = []\n",
    "for key in data08.keys():\n",
    "    i_img_08 = data08[key]['imgs']\n",
    "    o_put_08.append(thck08[key])\n",
    "    i_put_08.append(np.array([i_img_08[k] for k in range(len(i_img_08))]))\n",
    "    \n",
    "i_put_08 = np.concatenate(i_put_08) \n",
    "o_put_08 = np.concatenate(o_put_08) \n",
    "\n",
    "o_put_08 = scaler_transform_10.transform(o_put_08.reshape(-1,1))\n",
    "o_put_08 = o_put_08.ravel()\n",
    "\n",
    "o_put_08 = np.digitize(o_put_08,bins,right=True)\n",
    "\n",
    "images_TestData_8 = i_put_08.reshape(len(i_put_08),32,32,1)\n",
    "images_TestData_8 = images_TestData_8/255.0\n",
    "\n",
    "print('Model1 -',model.evaluate(images_TestData_8,o_put_08))\n",
    "print('\\n')\n",
    "print('Model2 -',model2.evaluate(images_TestData_8,o_put_08))"
   ]
  },
  {
   "cell_type": "code",
   "execution_count": 56,
   "id": "74403dcc",
   "metadata": {},
   "outputs": [
    {
     "name": "stdout",
     "output_type": "stream",
     "text": [
      "INFO:tensorflow:Assets written to: Model_Data10_1st\\assets\n",
      "INFO:tensorflow:Assets written to: Model_Data10_2nd\\assets\n"
     ]
    }
   ],
   "source": [
    "#saving models\n",
    "# model.save('Model_Data10_1st')\n",
    "# model2.save('Model_Data10_2nd')"
   ]
  },
  {
   "cell_type": "code",
   "execution_count": null,
   "id": "d687dfd1",
   "metadata": {},
   "outputs": [],
   "source": []
  },
  {
   "cell_type": "code",
   "execution_count": null,
   "id": "ec1ac0c6",
   "metadata": {},
   "outputs": [],
   "source": [
    "#### Model 3 made using Data_10\n",
    "\n",
    "# model1 with 10 epochs - 78% accuracy on training data and 76% on testing data \n",
    "\n",
    "# model2 with 5 epochs - 70% on testing data \n",
    "# model2 with 10 epochs - 78% accuracy on training data and 74% on testing data \n",
    "\n",
    "### Data_05\n",
    "# Model1 - accuracy of 51% \n",
    "# model2 - accuracy of 50% \n",
    "\n",
    "### Data_08\n",
    "# Model1 - accuracy of 70% \n",
    "# model2 - accuracy of 67% "
   ]
  }
 ],
 "metadata": {
  "kernelspec": {
   "display_name": "Python 3",
   "language": "python",
   "name": "python3"
  },
  "language_info": {
   "codemirror_mode": {
    "name": "ipython",
    "version": 3
   },
   "file_extension": ".py",
   "mimetype": "text/x-python",
   "name": "python",
   "nbconvert_exporter": "python",
   "pygments_lexer": "ipython3",
   "version": "3.8.8"
  }
 },
 "nbformat": 4,
 "nbformat_minor": 5
}
