{
 "cells": [
  {
   "cell_type": "code",
   "execution_count": 7,
   "id": "f78aecfa-2e77-4658-a200-73b60ad4274d",
   "metadata": {},
   "outputs": [],
   "source": [
    "import sys\n",
    "\n",
    "ROOT_DIR = \"C:/Users/1kudupud/Untitled Folder/3D/Using CNN/NEW DATA and NEW MODEL/New_Data/\"\n",
    "sys.path.append(ROOT_DIR)\n"
   ]
  },
  {
   "cell_type": "code",
   "execution_count": 5,
   "id": "c8915f0f-397d-4ab9-a3a6-d0dbf7635137",
   "metadata": {},
   "outputs": [
    {
     "name": "stdout",
     "output_type": "stream",
     "text": [
      "Jupyter environment detected. Enabling Open3D WebVisualizer.\n",
      "[Open3D INFO] WebRTC GUI backend enabled.\n",
      "[Open3D INFO] WebRTCWindowSystem: HTTP handshake server disabled.\n"
     ]
    }
   ],
   "source": [
    "from approach_3d_processing import *\n",
    "\n",
    "def export_data(size = 5):\n",
    "    \"\"\"\n",
    "    Creates data dictionaries from .stl, and csv file.\n",
    "\n",
    "    Parameters\n",
    "    ----------\n",
    "    size : float\n",
    "        Size of window created at each point.\n",
    "\n",
    "    Returns\n",
    "    -------\n",
    "    None\n",
    "    \"\"\"\n",
    "    global ROOT_DIR\n",
    "    PATH = ROOT_DIR + \"FILES\\\\\"\n",
    "    \n",
    "    FILES = list({name[:-4] for name in os.listdir(PATH)})\n",
    "\n",
    "    for file in FILES:\n",
    "        print(f'{\"| \"+file+\" |\":=^80}')\n",
    "        d_thck, d_part, d_data = {}, {}, {}\n",
    "        d_part[file] = read_process_mesh(PATH+file+'.stl')\n",
    "        d_thck[file] = read_process_thck(PATH+file+'.csv', d_part[file]['V'])\n",
    "        d_data[file] = fill_dictionaries(d_part[file], window=size)\n",
    "\n",
    "        pickle.dump(d_part, open(file[:15] + f'd_part_{size:02}.pkl', 'wb'))\n",
    "        pickle.dump(d_thck, open(file[:15] + f'd_thck_{size:02}.pkl', 'wb'))\n",
    "        pickle.dump(d_data, open(file[:15] + f'd_data_{size:02}.pkl', 'wb'))"
   ]
  },
  {
   "cell_type": "code",
   "execution_count": 9,
   "id": "7c67a3f2",
   "metadata": {},
   "outputs": [
    {
     "name": "stdout",
     "output_type": "stream",
     "text": [
      "===============| 1948046X_X74_DP_AV_BANDEAU_SUP_THERMOGAINE_LH |================\n",
      "No of processed points :          0/17735      ETA:9370.183747768402\n",
      "No of processed points :       1000/17735      ETA:9894.592362690162\n",
      "No of processed points :       2000/17735      ETA:11978.850588875732\n",
      "No of processed points :       3000/17735      ETA:11761.673488360808\n"
     ]
    },
    {
     "name": "stderr",
     "output_type": "stream",
     "text": [
      "C:/Users/1kudupud/Untitled Folder/3D/Using CNN/NEW DATA and NEW MODEL/New_Data\\approach_3d_processing.py:337: RuntimeWarning: divide by zero encountered in true_divide\n",
      "  dist = ((GRID_PTS-tris[i, 0])@norm[i])/(-norm[i, -1])\n",
      "C:\\Users\\1kudupud\\AppData\\Roaming\\Python\\Python38\\site-packages\\numpy\\core\\numeric.py:1657: RuntimeWarning: invalid value encountered in multiply\n",
      "  multiply(a2, b0, out=cp1)\n",
      "C:\\Users\\1kudupud\\AppData\\Roaming\\Python\\Python38\\site-packages\\numpy\\core\\numeric.py:1655: RuntimeWarning: invalid value encountered in multiply\n",
      "  tmp = array(a2 * b1)\n"
     ]
    },
    {
     "name": "stdout",
     "output_type": "stream",
     "text": [
      "No of processed points :       4000/17735      ETA:10111.76462821143\n",
      "No of processed points :       5000/17735      ETA:9239.643281939792\n",
      "No of processed points :       6000/17735      ETA:8556.26559165803\n",
      "No of processed points :       7000/17735      ETA:8152.144792328935\n",
      "No of processed points :       8000/17735      ETA:7340.636938707811\n",
      "No of processed points :       9000/17735      ETA:6571.983167706907\n",
      "No of processed points :      10000/17735      ETA:5789.463569896147\n",
      "No of processed points :      11000/17735      ETA:4935.536543847821\n",
      "No of processed points :      12000/17735      ETA:3983.211335769962\n",
      "No of processed points :      13000/17735      ETA:3249.5498989220537\n",
      "No of processed points :      14000/17735      ETA:2524.622954168606\n",
      "No of processed points :      15000/17735      ETA:1834.4079403834662\n",
      "No of processed points :      16000/17735      ETA:1195.5581649665899\n",
      "No of processed points :      17000/17735      ETA:494.122124932975\n",
      "===========| AA_DF000644RL_00_SRL_2539768X_RR_TOP_ROLL_SUBSTRATE_LH |===========\n",
      "No of processed points :          0/9682       ETA:8047.356177806854\n",
      "No of processed points :       1000/9682       ETA:5669.468545341825\n",
      "No of processed points :       2000/9682       ETA:3854.6034105384074\n",
      "No of processed points :       3000/9682       ETA:3348.414531214084\n",
      "No of processed points :       4000/9682       ETA:3027.5008923676696\n",
      "No of processed points :       5000/9682       ETA:2652.711671944738\n",
      "No of processed points :       6000/9682       ETA:2024.6228353105132\n",
      "No of processed points :       7000/9682       ETA:1445.3128103386111\n",
      "No of processed points :       8000/9682       ETA:893.3889965203804\n",
      "No of processed points :       9000/9682       ETA:345.07713014413855\n",
      "===============| 1952133X_X74_DP_AR_BANDEAU_SUP_THERMOGAINE_LH |================\n",
      "No of processed points :          0/5445       ETA:165.45886707305908\n",
      "No of processed points :       1000/5445       ETA:1530.1166957603705\n",
      "No of processed points :       2000/5445       ETA:1177.1865751689697\n",
      "No of processed points :       3000/5445       ETA:836.4744021874276\n",
      "No of processed points :       4000/5445       ETA:497.16648290372433\n",
      "No of processed points :       5000/5445       ETA:147.3275186135945\n"
     ]
    }
   ],
   "source": [
    "export_data(10)"
   ]
  }
 ],
 "metadata": {
  "kernelspec": {
   "display_name": "Python 3",
   "language": "python",
   "name": "python3"
  },
  "language_info": {
   "codemirror_mode": {
    "name": "ipython",
    "version": 3
   },
   "file_extension": ".py",
   "mimetype": "text/x-python",
   "name": "python",
   "nbconvert_exporter": "python",
   "pygments_lexer": "ipython3",
   "version": "3.8.8"
  }
 },
 "nbformat": 4,
 "nbformat_minor": 5
}
