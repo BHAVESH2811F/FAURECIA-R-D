{
 "cells": [
  {
   "cell_type": "code",
   "execution_count": 1,
   "id": "2321d3be",
   "metadata": {},
   "outputs": [],
   "source": [
    "import pandas as pd \n",
    "import numpy as np \n",
    "import matplotlib.pyplot as plt \n",
    "import seaborn as sns \n",
    "\n",
    "from sklearn.preprocessing import MinMaxScaler,MaxAbsScaler,StandardScaler\n",
    "from sklearn.model_selection import train_test_split\n",
    "from sklearn.metrics import confusion_matrix, accuracy_score, mean_squared_error, mean_absolute_error\n",
    "import joblib\n",
    "\n",
    "import tensorflow as tf \n",
    "from tensorflow import keras\n",
    "from keras_tuner import RandomSearch"
   ]
  },
  {
   "cell_type": "code",
   "execution_count": 2,
   "id": "96f59f77",
   "metadata": {},
   "outputs": [],
   "source": [
    "def Data_Extract(data, thck):\n",
    "    i_put = []\n",
    "    o_put = []\n",
    "    for key in data.keys():\n",
    "        i_img = data[key]['imgs']\n",
    "        o_put.append(thck[key])\n",
    "        i_put.append(np.array([i_img[k] for k in range(len(i_img))]))\n",
    "\n",
    "    i_put = np.concatenate(i_put) \n",
    "    o_put = np.concatenate(o_put) \n",
    "\n",
    "    target = o_put.copy()\n",
    "    images = i_put.copy()\n",
    "    \n",
    "    images = images.reshape(len(images),32,32,1)\n",
    "    images = images/255.0\n",
    "    \n",
    "    return(images,target)"
   ]
  },
  {
   "cell_type": "code",
   "execution_count": 3,
   "id": "d7591692",
   "metadata": {},
   "outputs": [],
   "source": [
    "data10 = pd.read_pickle('d_data_10.pkl')\n",
    "thck10 = pd.read_pickle('d_thck_10.pkl')\n",
    "\n",
    "images10, target10 = Data_Extract(data10,thck10)"
   ]
  },
  {
   "cell_type": "code",
   "execution_count": 4,
   "id": "89c91f2f",
   "metadata": {},
   "outputs": [],
   "source": [
    "new_data10_1 = pd.read_pickle('AA_DF000644RL_0d_data_10.pkl')\n",
    "new_thck10_1 = pd.read_pickle('AA_DF000644RL_0d_thck_10.pkl')\n",
    "\n",
    "images10_AA_D, target10_AA_D = Data_Extract(new_data10_1,new_thck10_1)"
   ]
  },
  {
   "cell_type": "code",
   "execution_count": 5,
   "id": "5fe009fb",
   "metadata": {},
   "outputs": [],
   "source": [
    "new_data10_2 = pd.read_pickle('1948046X_X74_DPd_data_10.pkl')\n",
    "new_thck10_2 = pd.read_pickle('1948046X_X74_DPd_thck_10.pkl')\n",
    "\n",
    "images10_1948, target10_1948 = Data_Extract(new_data10_2,new_thck10_2)"
   ]
  },
  {
   "cell_type": "code",
   "execution_count": 6,
   "id": "c03f58c1",
   "metadata": {},
   "outputs": [],
   "source": [
    "new_data10_3 = pd.read_pickle('1952133X_X74_DPd_data_10.pkl')\n",
    "new_thck10_3 = pd.read_pickle('1952133X_X74_DPd_thck_10.pkl')\n",
    "\n",
    "images10_1952, target10_1952 = Data_Extract(new_data10_3,new_thck10_3)"
   ]
  },
  {
   "cell_type": "code",
   "execution_count": 7,
   "id": "c6f77e7f",
   "metadata": {},
   "outputs": [
    {
     "name": "stdout",
     "output_type": "stream",
     "text": [
      "(86438, 32, 32, 1) (86438,)\n"
     ]
    }
   ],
   "source": [
    "images10_combine = np.append(images10,images10_AA_D,axis=0)\n",
    "images10_combine = np.append(images10_combine,images10_1948,axis=0)\n",
    "images10_combine = np.append(images10_combine,images10_1952,axis=0)\n",
    "\n",
    "target10_combine = np.append(target10,target10_AA_D)\n",
    "target10_combine = np.append(target10_combine,target10_1948)\n",
    "target10_combine = np.append(target10_combine,target10_1952)\n",
    "\n",
    "print(images10_combine.shape,target10_combine.shape)"
   ]
  },
  {
   "cell_type": "code",
   "execution_count": 12,
   "id": "3d165621",
   "metadata": {},
   "outputs": [
    {
     "name": "stdout",
     "output_type": "stream",
     "text": [
      "AA_DF000644RL_00_SRL_2539768X_RR_TOP_ROLL_SUBSTRATE_LH\n"
     ]
    }
   ],
   "source": [
    "for key in new_data10_1.keys():\n",
    "    print(key)"
   ]
  },
  {
   "cell_type": "code",
   "execution_count": 13,
   "id": "fec17b5a",
   "metadata": {},
   "outputs": [
    {
     "name": "stdout",
     "output_type": "stream",
     "text": [
      "1948046X_X74_DP_AV_BANDEAU_SUP_THERMOGAINE_LH\n"
     ]
    }
   ],
   "source": [
    "for key in new_data10_2.keys():\n",
    "    print(key)"
   ]
  },
  {
   "cell_type": "code",
   "execution_count": 14,
   "id": "deb7575c",
   "metadata": {
    "scrolled": false
   },
   "outputs": [
    {
     "name": "stdout",
     "output_type": "stream",
     "text": [
      "1952133X_X74_DP_AR_BANDEAU_SUP_THERMOGAINE_LH\n"
     ]
    }
   ],
   "source": [
    "for key in new_data10_3.keys():\n",
    "    print(key)"
   ]
  },
  {
   "cell_type": "code",
   "execution_count": null,
   "id": "71043798",
   "metadata": {},
   "outputs": [],
   "source": []
  },
  {
   "cell_type": "code",
   "execution_count": null,
   "id": "37c5778d",
   "metadata": {
    "scrolled": true
   },
   "outputs": [],
   "source": []
  },
  {
   "cell_type": "markdown",
   "id": "6ac58eff",
   "metadata": {},
   "source": [
    "## Images in Matrix"
   ]
  },
  {
   "cell_type": "code",
   "execution_count": 134,
   "id": "e3c37672",
   "metadata": {
    "scrolled": false
   },
   "outputs": [
    {
     "name": "stdout",
     "output_type": "stream",
     "text": [
      "[0.]\n",
      "[1.]\n"
     ]
    }
   ],
   "source": [
    "scale = MinMaxScaler()\n",
    "\n",
    "target10_combine_scaled = scale.fit_transform(target10_combine.reshape(-1,1))\n",
    "target10_combine_scaled = target10_combine_scaled.reshape(1,-1).flatten()\n",
    "print(min(target10_combine_scaled))\n",
    "print(max(target10_combine_scaled))"
   ]
  },
  {
   "cell_type": "code",
   "execution_count": 178,
   "id": "7a4cf3f5",
   "metadata": {
    "scrolled": true
   },
   "outputs": [],
   "source": [
    "bin1 =np.array(np.where(target10_combine_scaled<=0.2)).flatten()\n",
    "bin1 = images10_combine[bin1]\n",
    "\n",
    "bin2 = np.array(np.where((target10_combine_scaled>0.2)&(target10_combine_scaled<=0.4))).flatten()\n",
    "bin2 = images10_combine[bin2]\n",
    "\n",
    "bin3 = np.array(np.where((target10_combine_scaled>0.4)&(target10_combine_scaled<=0.6))).flatten()\n",
    "bin3 = images10_combine[bin3]\n",
    "\n",
    "bin4 = np.array(np.where((target10_combine_scaled>0.6)&(target10_combine_scaled<=0.8))).flatten()\n",
    "bin4 = images10_combine[bin4]\n",
    "\n",
    "bin5 = np.array(np.where((target10_combine_scaled>0.8)&(target10_combine_scaled<=1))).flatten()\n",
    "bin5 = images10_combine[bin5]"
   ]
  },
  {
   "cell_type": "code",
   "execution_count": 183,
   "id": "173aeb86",
   "metadata": {},
   "outputs": [],
   "source": [
    "bin1 = bin1[np.random.choice(len(bin1),100)]\n",
    "bin2 = bin2[np.random.choice(len(bin2),100)]\n",
    "bin3 = bin3[np.random.choice(len(bin3),100)]\n",
    "bin4 = bin4[np.random.choice(len(bin4),100)]\n",
    "bin5 = bin5[np.random.choice(len(bin5),100)]"
   ]
  },
  {
   "cell_type": "code",
   "execution_count": 223,
   "id": "0fa2017d",
   "metadata": {
    "scrolled": false
   },
   "outputs": [
    {
     "data": {
      "image/png": "[encoded data removed]",
      "text/plain": [
       "<Figure size 720x576 with 100 Axes>"
      ]
     },
     "metadata": {
      "needs_background": "light"
     },
     "output_type": "display_data"
    }
   ],
   "source": [
    "i = 0 \n",
    "plt.figure(figsize=(10,8))\n",
    "while i<100:\n",
    "    plt.subplot(10,10,i+1)\n",
    "    plt.imshow(bin5[i])\n",
    "    plt.axis('off')\n",
    "    i+=1\n",
    "        \n",
    "plt.show()"
   ]
  },
  {
   "cell_type": "code",
   "execution_count": 212,
   "id": "3ba09cd2",
   "metadata": {},
   "outputs": [
    {
     "data": {
      "image/png": "[encoded data removed]",
      "text/plain": [
       "<Figure size 432x288 with 1 Axes>"
      ]
     },
     "metadata": {
      "needs_background": "light"
     },
     "output_type": "display_data"
    }
   ],
   "source": [
    "plt.imshow(bin1[0])\n",
    "plt.axis('off')\n",
    "plt.show()"
   ]
  },
  {
   "cell_type": "code",
   "execution_count": null,
   "id": "db746d88",
   "metadata": {},
   "outputs": [],
   "source": []
  },
  {
   "cell_type": "markdown",
   "id": "d4fcbed3",
   "metadata": {},
   "source": [
    "## Working with new attributes "
   ]
  },
  {
   "cell_type": "code",
   "execution_count": 8,
   "id": "8a5c3fbb",
   "metadata": {
    "scrolled": true
   },
   "outputs": [
    {
     "data": {
      "text/html": [
       "<div>\n",
       "<style scoped>\n",
       "    .dataframe tbody tr th:only-of-type {\n",
       "        vertical-align: middle;\n",
       "    }\n",
       "\n",
       "    .dataframe tbody tr th {\n",
       "        vertical-align: top;\n",
       "    }\n",
       "\n",
       "    .dataframe thead th {\n",
       "        text-align: right;\n",
       "    }\n",
       "</style>\n",
       "<table border=\"1\" class=\"dataframe\">\n",
       "  <thead>\n",
       "    <tr style=\"text-align: right;\">\n",
       "      <th></th>\n",
       "      <th>ID</th>\n",
       "      <th>File</th>\n",
       "      <th>OEM</th>\n",
       "      <th>Project</th>\n",
       "      <th>Commodity</th>\n",
       "      <th>Variant</th>\n",
       "      <th>Part</th>\n",
       "      <th>Skin Mtrl</th>\n",
       "      <th>Skin thk</th>\n",
       "      <th>Foam Mtrl</th>\n",
       "      <th>Foam Thk</th>\n",
       "      <th>Norm Thk</th>\n",
       "      <th>Process</th>\n",
       "      <th>MTD_X</th>\n",
       "      <th>MTD_Y</th>\n",
       "      <th>MTD_Z</th>\n",
       "    </tr>\n",
       "  </thead>\n",
       "  <tbody>\n",
       "    <tr>\n",
       "      <th>0</th>\n",
       "      <td>D0001</td>\n",
       "      <td>1670177_2941632X _TESLA_MY_DR_BELTLINE_2_0_FR_LH</td>\n",
       "      <td>Tesla</td>\n",
       "      <td>MY</td>\n",
       "      <td>DP</td>\n",
       "      <td>Front</td>\n",
       "      <td>Toproll</td>\n",
       "      <td>TPO</td>\n",
       "      <td>0.5</td>\n",
       "      <td>PP</td>\n",
       "      <td>2.0</td>\n",
       "      <td>2.1</td>\n",
       "      <td>Thermo covering</td>\n",
       "      <td>0.000000</td>\n",
       "      <td>0.927184</td>\n",
       "      <td>0.374607</td>\n",
       "    </tr>\n",
       "    <tr>\n",
       "      <th>1</th>\n",
       "      <td>D0002</td>\n",
       "      <td>1948046X_X74_DP_AV_BANDEAU_SUP_THERMOGAINE_LH</td>\n",
       "      <td>PSA</td>\n",
       "      <td>X74</td>\n",
       "      <td>DP</td>\n",
       "      <td>Front</td>\n",
       "      <td>Toproll</td>\n",
       "      <td>PVC</td>\n",
       "      <td>0.5</td>\n",
       "      <td>PP</td>\n",
       "      <td>1.5</td>\n",
       "      <td>1.8</td>\n",
       "      <td>Thermo covering</td>\n",
       "      <td>0.000000</td>\n",
       "      <td>-0.173648</td>\n",
       "      <td>0.984808</td>\n",
       "    </tr>\n",
       "    <tr>\n",
       "      <th>2</th>\n",
       "      <td>D0003</td>\n",
       "      <td>1952133X_X74_DP_AR_BANDEAU_SUP_THERMOGAINE_LH</td>\n",
       "      <td>PSA</td>\n",
       "      <td>X74</td>\n",
       "      <td>DP</td>\n",
       "      <td>Rear</td>\n",
       "      <td>Toproll</td>\n",
       "      <td>PVC</td>\n",
       "      <td>0.5</td>\n",
       "      <td>PP</td>\n",
       "      <td>1.5</td>\n",
       "      <td>1.8</td>\n",
       "      <td>Thermo covering</td>\n",
       "      <td>-0.009798</td>\n",
       "      <td>0.246147</td>\n",
       "      <td>-0.969183</td>\n",
       "    </tr>\n",
       "    <tr>\n",
       "      <th>3</th>\n",
       "      <td>D0004</td>\n",
       "      <td>2089738X_TOP_ROLL_FRT_KISS_CUT_RH_STYLE</td>\n",
       "      <td>PSA</td>\n",
       "      <td>D34</td>\n",
       "      <td>DP</td>\n",
       "      <td>Front</td>\n",
       "      <td>Toproll</td>\n",
       "      <td>PVC</td>\n",
       "      <td>0.5</td>\n",
       "      <td>PP</td>\n",
       "      <td>1.5</td>\n",
       "      <td>1.8</td>\n",
       "      <td>Thermo covering</td>\n",
       "      <td>0.000000</td>\n",
       "      <td>0.199368</td>\n",
       "      <td>-0.979925</td>\n",
       "    </tr>\n",
       "    <tr>\n",
       "      <th>4</th>\n",
       "      <td>D0005</td>\n",
       "      <td>PSA_C48E_THERMOCOVERED_TOPROLL_ALLCATPART</td>\n",
       "      <td>PSA</td>\n",
       "      <td>C84E</td>\n",
       "      <td>DP</td>\n",
       "      <td>Front</td>\n",
       "      <td>Toproll</td>\n",
       "      <td>PVC</td>\n",
       "      <td>0.5</td>\n",
       "      <td>PP</td>\n",
       "      <td>2.0</td>\n",
       "      <td>2.2</td>\n",
       "      <td>Thermo covering</td>\n",
       "      <td>0.000000</td>\n",
       "      <td>1.000000</td>\n",
       "      <td>0.000000</td>\n",
       "    </tr>\n",
       "    <tr>\n",
       "      <th>5</th>\n",
       "      <td>D0006</td>\n",
       "      <td>2237373X_TOP_ROLL_FRT_COVRD_LH_ALLCATPART</td>\n",
       "      <td>RSA</td>\n",
       "      <td>HJB</td>\n",
       "      <td>DP</td>\n",
       "      <td>Front</td>\n",
       "      <td>Toproll</td>\n",
       "      <td>TPO2</td>\n",
       "      <td>0.5</td>\n",
       "      <td>PP</td>\n",
       "      <td>2.0</td>\n",
       "      <td>2.5</td>\n",
       "      <td>Thermo covering</td>\n",
       "      <td>0.000000</td>\n",
       "      <td>1.000000</td>\n",
       "      <td>0.000000</td>\n",
       "    </tr>\n",
       "    <tr>\n",
       "      <th>6</th>\n",
       "      <td>D0007</td>\n",
       "      <td>2500835X_VS11_FRT_DOOR_INSERT_ARMREST_COVERED_...</td>\n",
       "      <td>RSA</td>\n",
       "      <td>VS11</td>\n",
       "      <td>DP</td>\n",
       "      <td>Front</td>\n",
       "      <td>Armrest</td>\n",
       "      <td>TPO</td>\n",
       "      <td>1.0</td>\n",
       "      <td>PU</td>\n",
       "      <td>3.5</td>\n",
       "      <td>4.5</td>\n",
       "      <td>Press Covering</td>\n",
       "      <td>0.000000</td>\n",
       "      <td>1.000000</td>\n",
       "      <td>0.000000</td>\n",
       "    </tr>\n",
       "    <tr>\n",
       "      <th>7</th>\n",
       "      <td>D0008</td>\n",
       "      <td>AA_DF000644RL_00_SRL_2539768X_RR_TOP_ROLL_SUBS...</td>\n",
       "      <td>Byton</td>\n",
       "      <td>FMC</td>\n",
       "      <td>DP</td>\n",
       "      <td>Rear</td>\n",
       "      <td>Toproll</td>\n",
       "      <td>PVC</td>\n",
       "      <td>0.5</td>\n",
       "      <td>PP</td>\n",
       "      <td>2.0</td>\n",
       "      <td>1.8</td>\n",
       "      <td>Thermo covering</td>\n",
       "      <td>0.000000</td>\n",
       "      <td>1.000000</td>\n",
       "      <td>0.000000</td>\n",
       "    </tr>\n",
       "    <tr>\n",
       "      <th>8</th>\n",
       "      <td>D0009</td>\n",
       "      <td>FRONT_TOPROLL_SD0526A239420114_008_STYLE</td>\n",
       "      <td>PSA</td>\n",
       "      <td>C346</td>\n",
       "      <td>DP</td>\n",
       "      <td>Front</td>\n",
       "      <td>Toproll</td>\n",
       "      <td>PVC</td>\n",
       "      <td>0.5</td>\n",
       "      <td>PP</td>\n",
       "      <td>2.0</td>\n",
       "      <td>1.3</td>\n",
       "      <td>Thermo covering</td>\n",
       "      <td>0.223799</td>\n",
       "      <td>-0.596988</td>\n",
       "      <td>0.770402</td>\n",
       "    </tr>\n",
       "    <tr>\n",
       "      <th>9</th>\n",
       "      <td>D0010</td>\n",
       "      <td>2504639X_XFK_RR_DOOR_ASSBLD_SLIDING_TILTING_SO...</td>\n",
       "      <td>PSA</td>\n",
       "      <td>XFK</td>\n",
       "      <td>DP</td>\n",
       "      <td>Rear</td>\n",
       "      <td>Insert</td>\n",
       "      <td>Textile</td>\n",
       "      <td>0.6</td>\n",
       "      <td>PU</td>\n",
       "      <td>4.0</td>\n",
       "      <td>3.6</td>\n",
       "      <td>Press Covering</td>\n",
       "      <td>0.000000</td>\n",
       "      <td>1.000000</td>\n",
       "      <td>0.000000</td>\n",
       "    </tr>\n",
       "    <tr>\n",
       "      <th>10</th>\n",
       "      <td>D0011</td>\n",
       "      <td>AA_DF000657FL_00_SRL_2451543X_FRT_TOP_ROLL_SUB...</td>\n",
       "      <td>Byton</td>\n",
       "      <td>FMC</td>\n",
       "      <td>DP</td>\n",
       "      <td>Front</td>\n",
       "      <td>Toproll</td>\n",
       "      <td>PVC</td>\n",
       "      <td>1.5</td>\n",
       "      <td>PP</td>\n",
       "      <td>2.0</td>\n",
       "      <td>1.8</td>\n",
       "      <td>Thermo covering</td>\n",
       "      <td>0.000000</td>\n",
       "      <td>1.000000</td>\n",
       "      <td>0.000000</td>\n",
       "    </tr>\n",
       "    <tr>\n",
       "      <th>11</th>\n",
       "      <td>D0012</td>\n",
       "      <td>2503756X_XFK_FRT_DOOR_INSERT_COVERED_LH</td>\n",
       "      <td>PSA</td>\n",
       "      <td>XFK</td>\n",
       "      <td>DP</td>\n",
       "      <td>Front</td>\n",
       "      <td>Insert</td>\n",
       "      <td>Textile</td>\n",
       "      <td>0.6</td>\n",
       "      <td>PU</td>\n",
       "      <td>4.0</td>\n",
       "      <td>3.6</td>\n",
       "      <td>Press Covering</td>\n",
       "      <td>0.000000</td>\n",
       "      <td>1.000000</td>\n",
       "      <td>0.000000</td>\n",
       "    </tr>\n",
       "  </tbody>\n",
       "</table>\n",
       "</div>"
      ],
      "text/plain": [
       "       ID                                               File    OEM Project  \\\n",
       "0   D0001   1670177_2941632X _TESLA_MY_DR_BELTLINE_2_0_FR_LH  Tesla      MY   \n",
       "1   D0002      1948046X_X74_DP_AV_BANDEAU_SUP_THERMOGAINE_LH    PSA     X74   \n",
       "2   D0003      1952133X_X74_DP_AR_BANDEAU_SUP_THERMOGAINE_LH    PSA     X74   \n",
       "3   D0004            2089738X_TOP_ROLL_FRT_KISS_CUT_RH_STYLE    PSA     D34   \n",
       "4   D0005          PSA_C48E_THERMOCOVERED_TOPROLL_ALLCATPART    PSA    C84E   \n",
       "5   D0006          2237373X_TOP_ROLL_FRT_COVRD_LH_ALLCATPART    RSA     HJB   \n",
       "6   D0007  2500835X_VS11_FRT_DOOR_INSERT_ARMREST_COVERED_...    RSA    VS11   \n",
       "7   D0008  AA_DF000644RL_00_SRL_2539768X_RR_TOP_ROLL_SUBS...  Byton     FMC   \n",
       "8   D0009           FRONT_TOPROLL_SD0526A239420114_008_STYLE    PSA    C346   \n",
       "9   D0010  2504639X_XFK_RR_DOOR_ASSBLD_SLIDING_TILTING_SO...    PSA     XFK   \n",
       "10  D0011  AA_DF000657FL_00_SRL_2451543X_FRT_TOP_ROLL_SUB...  Byton     FMC   \n",
       "11  D0012            2503756X_XFK_FRT_DOOR_INSERT_COVERED_LH    PSA     XFK   \n",
       "\n",
       "   Commodity Variant     Part Skin Mtrl  Skin thk Foam Mtrl  Foam Thk  \\\n",
       "0         DP   Front  Toproll       TPO       0.5        PP       2.0   \n",
       "1         DP   Front  Toproll       PVC       0.5        PP       1.5   \n",
       "2         DP    Rear  Toproll       PVC       0.5        PP       1.5   \n",
       "3         DP   Front  Toproll       PVC       0.5        PP       1.5   \n",
       "4         DP   Front  Toproll       PVC       0.5        PP       2.0   \n",
       "5         DP   Front  Toproll      TPO2       0.5        PP       2.0   \n",
       "6         DP   Front  Armrest       TPO       1.0        PU       3.5   \n",
       "7         DP    Rear  Toproll       PVC       0.5        PP       2.0   \n",
       "8         DP   Front  Toproll       PVC       0.5        PP       2.0   \n",
       "9         DP    Rear   Insert   Textile       0.6        PU       4.0   \n",
       "10        DP   Front  Toproll       PVC       1.5        PP       2.0   \n",
       "11        DP   Front   Insert   Textile       0.6        PU       4.0   \n",
       "\n",
       "    Norm Thk          Process     MTD_X     MTD_Y     MTD_Z  \n",
       "0        2.1  Thermo covering  0.000000  0.927184  0.374607  \n",
       "1        1.8  Thermo covering  0.000000 -0.173648  0.984808  \n",
       "2        1.8  Thermo covering -0.009798  0.246147 -0.969183  \n",
       "3        1.8  Thermo covering  0.000000  0.199368 -0.979925  \n",
       "4        2.2  Thermo covering  0.000000  1.000000  0.000000  \n",
       "5        2.5  Thermo covering  0.000000  1.000000  0.000000  \n",
       "6        4.5   Press Covering  0.000000  1.000000  0.000000  \n",
       "7        1.8  Thermo covering  0.000000  1.000000  0.000000  \n",
       "8        1.3  Thermo covering  0.223799 -0.596988  0.770402  \n",
       "9        3.6   Press Covering  0.000000  1.000000  0.000000  \n",
       "10       1.8  Thermo covering  0.000000  1.000000  0.000000  \n",
       "11       3.6   Press Covering  0.000000  1.000000  0.000000  "
      ]
     },
     "execution_count": 8,
     "metadata": {},
     "output_type": "execute_result"
    }
   ],
   "source": [
    "extra_variables = pd.read_csv('Project_Info.csv')\n",
    "extra_variables"
   ]
  },
  {
   "cell_type": "code",
   "execution_count": 9,
   "id": "aeda515b",
   "metadata": {
    "scrolled": true
   },
   "outputs": [
    {
     "name": "stdout",
     "output_type": "stream",
     "text": [
      "PSA_C48E_THERMOCOVERED_TOPROLL_ALLCATPART - 1\n",
      "2089738X_TOP_ROLL_FRT_KISS_CUT_RH_STYLE - 1\n",
      "1670177_2941632X _TESLA_MY_DR_BELTLINE_2_0_FR_LH - 1\n",
      "FRONT_TOPROLL_SD0526A239420114_008_STYLE - 1\n",
      "2237373X_TOP_ROLL_FRT_COVRD_LH_ALLCATPART - 1\n",
      "AA_DF000644RL_00_SRL_2539768X_RR_TOP_ROLL_SUBSTRATE_LH - 1\n",
      "1948046X_X74_DP_AV_BANDEAU_SUP_THERMOGAINE_LH - 1\n",
      "1952133X_X74_DP_AR_BANDEAU_SUP_THERMOGAINE_LH - 1\n"
     ]
    }
   ],
   "source": [
    "allfiles = [data10,new_data10_1,new_data10_2,new_data10_3]\n",
    "for filename in allfiles:\n",
    "    for key in filename.keys():\n",
    "        print(key,'-' ,len(extra_variables.loc[extra_variables['File'] == key]))"
   ]
  },
  {
   "cell_type": "code",
   "execution_count": 10,
   "id": "650f081d",
   "metadata": {
    "scrolled": true
   },
   "outputs": [],
   "source": [
    "def getting_attributes(filenames):\n",
    "    \n",
    "    extra_variables = pd.read_csv('Project_Info.csv')\n",
    "    df = pd.DataFrame(columns=extra_variables.columns)\n",
    "    \n",
    "    for filename in filenames:   \n",
    "        for key in filename.keys():\n",
    "            key_len = len(filename[key]['imgs'].keys())\n",
    "            df = df.append([extra_variables.loc[extra_variables['File']==key]]*key_len,ignore_index=True)\n",
    "    \n",
    "    return df\n"
   ]
  },
  {
   "cell_type": "code",
   "execution_count": 11,
   "id": "10d8c969",
   "metadata": {
    "scrolled": false
   },
   "outputs": [
    {
     "name": "stdout",
     "output_type": "stream",
     "text": [
      "dataframe 86438\n"
     ]
    },
    {
     "data": {
      "text/plain": [
       "86438"
      ]
     },
     "execution_count": 11,
     "metadata": {},
     "output_type": "execute_result"
    }
   ],
   "source": [
    "df = getting_attributes(allfiles)\n",
    "del(allfiles)\n",
    "print('dataframe',len(df))\n",
    "len(images10_combine)"
   ]
  },
  {
   "cell_type": "code",
   "execution_count": 12,
   "id": "1924545a",
   "metadata": {},
   "outputs": [],
   "source": [
    "df['Thickness']=pd.DataFrame(target10_combine)"
   ]
  },
  {
   "cell_type": "code",
   "execution_count": 13,
   "id": "ec45e03e",
   "metadata": {},
   "outputs": [
    {
     "data": {
      "text/html": [
       "<div>\n",
       "<style scoped>\n",
       "    .dataframe tbody tr th:only-of-type {\n",
       "        vertical-align: middle;\n",
       "    }\n",
       "\n",
       "    .dataframe tbody tr th {\n",
       "        vertical-align: top;\n",
       "    }\n",
       "\n",
       "    .dataframe thead th {\n",
       "        text-align: right;\n",
       "    }\n",
       "</style>\n",
       "<table border=\"1\" class=\"dataframe\">\n",
       "  <thead>\n",
       "    <tr style=\"text-align: right;\">\n",
       "      <th></th>\n",
       "      <th>ID</th>\n",
       "      <th>File</th>\n",
       "      <th>OEM</th>\n",
       "      <th>Project</th>\n",
       "      <th>Commodity</th>\n",
       "      <th>Variant</th>\n",
       "      <th>Part</th>\n",
       "      <th>Skin Mtrl</th>\n",
       "      <th>Skin thk</th>\n",
       "      <th>Foam Mtrl</th>\n",
       "      <th>Foam Thk</th>\n",
       "      <th>Norm Thk</th>\n",
       "      <th>Process</th>\n",
       "      <th>MTD_X</th>\n",
       "      <th>MTD_Y</th>\n",
       "      <th>MTD_Z</th>\n",
       "      <th>Thickness</th>\n",
       "    </tr>\n",
       "  </thead>\n",
       "  <tbody>\n",
       "    <tr>\n",
       "      <th>0</th>\n",
       "      <td>D0005</td>\n",
       "      <td>PSA_C48E_THERMOCOVERED_TOPROLL_ALLCATPART</td>\n",
       "      <td>PSA</td>\n",
       "      <td>C84E</td>\n",
       "      <td>DP</td>\n",
       "      <td>Front</td>\n",
       "      <td>Toproll</td>\n",
       "      <td>PVC</td>\n",
       "      <td>0.5</td>\n",
       "      <td>PP</td>\n",
       "      <td>2.0</td>\n",
       "      <td>2.2</td>\n",
       "      <td>Thermo covering</td>\n",
       "      <td>0.0</td>\n",
       "      <td>1.0</td>\n",
       "      <td>0.0</td>\n",
       "      <td>1.281634</td>\n",
       "    </tr>\n",
       "    <tr>\n",
       "      <th>1</th>\n",
       "      <td>D0005</td>\n",
       "      <td>PSA_C48E_THERMOCOVERED_TOPROLL_ALLCATPART</td>\n",
       "      <td>PSA</td>\n",
       "      <td>C84E</td>\n",
       "      <td>DP</td>\n",
       "      <td>Front</td>\n",
       "      <td>Toproll</td>\n",
       "      <td>PVC</td>\n",
       "      <td>0.5</td>\n",
       "      <td>PP</td>\n",
       "      <td>2.0</td>\n",
       "      <td>2.2</td>\n",
       "      <td>Thermo covering</td>\n",
       "      <td>0.0</td>\n",
       "      <td>1.0</td>\n",
       "      <td>0.0</td>\n",
       "      <td>1.200343</td>\n",
       "    </tr>\n",
       "    <tr>\n",
       "      <th>2</th>\n",
       "      <td>D0005</td>\n",
       "      <td>PSA_C48E_THERMOCOVERED_TOPROLL_ALLCATPART</td>\n",
       "      <td>PSA</td>\n",
       "      <td>C84E</td>\n",
       "      <td>DP</td>\n",
       "      <td>Front</td>\n",
       "      <td>Toproll</td>\n",
       "      <td>PVC</td>\n",
       "      <td>0.5</td>\n",
       "      <td>PP</td>\n",
       "      <td>2.0</td>\n",
       "      <td>2.2</td>\n",
       "      <td>Thermo covering</td>\n",
       "      <td>0.0</td>\n",
       "      <td>1.0</td>\n",
       "      <td>0.0</td>\n",
       "      <td>1.300560</td>\n",
       "    </tr>\n",
       "    <tr>\n",
       "      <th>3</th>\n",
       "      <td>D0005</td>\n",
       "      <td>PSA_C48E_THERMOCOVERED_TOPROLL_ALLCATPART</td>\n",
       "      <td>PSA</td>\n",
       "      <td>C84E</td>\n",
       "      <td>DP</td>\n",
       "      <td>Front</td>\n",
       "      <td>Toproll</td>\n",
       "      <td>PVC</td>\n",
       "      <td>0.5</td>\n",
       "      <td>PP</td>\n",
       "      <td>2.0</td>\n",
       "      <td>2.2</td>\n",
       "      <td>Thermo covering</td>\n",
       "      <td>0.0</td>\n",
       "      <td>1.0</td>\n",
       "      <td>0.0</td>\n",
       "      <td>1.404651</td>\n",
       "    </tr>\n",
       "    <tr>\n",
       "      <th>4</th>\n",
       "      <td>D0005</td>\n",
       "      <td>PSA_C48E_THERMOCOVERED_TOPROLL_ALLCATPART</td>\n",
       "      <td>PSA</td>\n",
       "      <td>C84E</td>\n",
       "      <td>DP</td>\n",
       "      <td>Front</td>\n",
       "      <td>Toproll</td>\n",
       "      <td>PVC</td>\n",
       "      <td>0.5</td>\n",
       "      <td>PP</td>\n",
       "      <td>2.0</td>\n",
       "      <td>2.2</td>\n",
       "      <td>Thermo covering</td>\n",
       "      <td>0.0</td>\n",
       "      <td>1.0</td>\n",
       "      <td>0.0</td>\n",
       "      <td>1.602970</td>\n",
       "    </tr>\n",
       "  </tbody>\n",
       "</table>\n",
       "</div>"
      ],
      "text/plain": [
       "      ID                                       File  OEM Project Commodity  \\\n",
       "0  D0005  PSA_C48E_THERMOCOVERED_TOPROLL_ALLCATPART  PSA    C84E        DP   \n",
       "1  D0005  PSA_C48E_THERMOCOVERED_TOPROLL_ALLCATPART  PSA    C84E        DP   \n",
       "2  D0005  PSA_C48E_THERMOCOVERED_TOPROLL_ALLCATPART  PSA    C84E        DP   \n",
       "3  D0005  PSA_C48E_THERMOCOVERED_TOPROLL_ALLCATPART  PSA    C84E        DP   \n",
       "4  D0005  PSA_C48E_THERMOCOVERED_TOPROLL_ALLCATPART  PSA    C84E        DP   \n",
       "\n",
       "  Variant     Part Skin Mtrl  Skin thk Foam Mtrl  Foam Thk  Norm Thk  \\\n",
       "0   Front  Toproll       PVC       0.5        PP       2.0       2.2   \n",
       "1   Front  Toproll       PVC       0.5        PP       2.0       2.2   \n",
       "2   Front  Toproll       PVC       0.5        PP       2.0       2.2   \n",
       "3   Front  Toproll       PVC       0.5        PP       2.0       2.2   \n",
       "4   Front  Toproll       PVC       0.5        PP       2.0       2.2   \n",
       "\n",
       "           Process  MTD_X  MTD_Y  MTD_Z  Thickness  \n",
       "0  Thermo covering    0.0    1.0    0.0   1.281634  \n",
       "1  Thermo covering    0.0    1.0    0.0   1.200343  \n",
       "2  Thermo covering    0.0    1.0    0.0   1.300560  \n",
       "3  Thermo covering    0.0    1.0    0.0   1.404651  \n",
       "4  Thermo covering    0.0    1.0    0.0   1.602970  "
      ]
     },
     "execution_count": 13,
     "metadata": {},
     "output_type": "execute_result"
    }
   ],
   "source": [
    "df.head()"
   ]
  },
  {
   "cell_type": "code",
   "execution_count": 14,
   "id": "a27e8b6c",
   "metadata": {
    "scrolled": true
   },
   "outputs": [
    {
     "name": "stdout",
     "output_type": "stream",
     "text": [
      "Process        \n",
      "Thermo covering    86438\n",
      "dtype: int64\n",
      "\n",
      "\n",
      "Skin Mtrl\n",
      "PVC          62646\n",
      "TPO2         15840\n",
      "TPO           7952\n",
      "dtype: int64\n",
      "\n",
      "\n",
      "OEM  \n",
      "PSA      52964\n",
      "RSA      15840\n",
      "Byton     9682\n",
      "Tesla     7952\n",
      "dtype: int64\n",
      "\n",
      "\n",
      "Project\n",
      "X74        23180\n",
      "HJB        15840\n",
      "C84E       14648\n",
      "FMC         9682\n",
      "D34         9520\n",
      "MY          7952\n",
      "C346        5616\n",
      "dtype: int64\n",
      "\n",
      "\n",
      "Commodity\n",
      "DP           86438\n",
      "dtype: int64\n",
      "\n",
      "\n",
      "Variant\n",
      "Front      71311\n",
      "Rear       15127\n",
      "dtype: int64\n",
      "\n",
      "\n",
      "Part   \n",
      "Toproll    86438\n",
      "dtype: int64\n"
     ]
    }
   ],
   "source": [
    "print(df[['Process']].value_counts())\n",
    "print('\\n')\n",
    "print(df[['Skin Mtrl']].value_counts())\n",
    "print('\\n')\n",
    "\n",
    "print(df[['OEM']].value_counts())\n",
    "print('\\n')\n",
    "\n",
    "print(df[['Project']].value_counts())\n",
    "print('\\n')\n",
    "\n",
    "print(df[['Commodity']].value_counts())\n",
    "print('\\n')\n",
    "\n",
    "print(df[['Variant']].value_counts())\n",
    "print('\\n')\n",
    "\n",
    "print(df[['Part']].value_counts())"
   ]
  },
  {
   "cell_type": "code",
   "execution_count": 15,
   "id": "cd5e98e8",
   "metadata": {
    "scrolled": true
   },
   "outputs": [
    {
     "name": "stdout",
     "output_type": "stream",
     "text": [
      "Thickness    1.285806\n",
      "dtype: float64\n"
     ]
    },
    {
     "data": {
      "image/png": "[encoded data removed]",
      "text/plain": [
       "<Figure size 432x288 with 1 Axes>"
      ]
     },
     "metadata": {
      "needs_background": "light"
     },
     "output_type": "display_data"
    }
   ],
   "source": [
    "print(df.loc[df['OEM']=='PSA',['Thickness']].mean())\n",
    "plt.hist(df.loc[df['OEM']=='PSA',['Thickness']])\n",
    "plt.show()"
   ]
  },
  {
   "cell_type": "code",
   "execution_count": 16,
   "id": "37292570",
   "metadata": {
    "scrolled": true
   },
   "outputs": [
    {
     "name": "stdout",
     "output_type": "stream",
     "text": [
      "Thickness    1.751498\n",
      "dtype: float64\n"
     ]
    },
    {
     "data": {
      "image/png": "[encoded data removed]",
      "text/plain": [
       "<Figure size 432x288 with 1 Axes>"
      ]
     },
     "metadata": {
      "needs_background": "light"
     },
     "output_type": "display_data"
    }
   ],
   "source": [
    "print(df.loc[df['OEM']=='RSA',['Thickness']].mean())\n",
    "plt.hist(df.loc[df['OEM']=='RSA',['Thickness']])\n",
    "plt.show()"
   ]
  },
  {
   "cell_type": "code",
   "execution_count": 18,
   "id": "763016d4",
   "metadata": {},
   "outputs": [
    {
     "name": "stdout",
     "output_type": "stream",
     "text": [
      "Thickness    1.729418\n",
      "dtype: float64\n"
     ]
    },
    {
     "data": {
      "image/png": "[encoded data removed]",
      "text/plain": [
       "<Figure size 432x288 with 1 Axes>"
      ]
     },
     "metadata": {
      "needs_background": "light"
     },
     "output_type": "display_data"
    }
   ],
   "source": [
    "print(df.loc[df['OEM']=='Byton',['Thickness']].mean())\n",
    "plt.hist(df.loc[df['OEM']=='Byton',['Thickness']])\n",
    "plt.show()"
   ]
  },
  {
   "cell_type": "code",
   "execution_count": 19,
   "id": "3f9440a9",
   "metadata": {
    "scrolled": false
   },
   "outputs": [
    {
     "name": "stdout",
     "output_type": "stream",
     "text": [
      "Thickness    1.491507\n",
      "dtype: float64\n"
     ]
    },
    {
     "data": {
      "image/png": "[encoded data removed]",
      "text/plain": [
       "<Figure size 432x288 with 1 Axes>"
      ]
     },
     "metadata": {
      "needs_background": "light"
     },
     "output_type": "display_data"
    }
   ],
   "source": [
    "print(df.loc[df['OEM']=='Tesla',['Thickness']].mean())\n",
    "plt.hist(df.loc[df['OEM']=='Tesla',['Thickness']])\n",
    "plt.show()"
   ]
  },
  {
   "cell_type": "code",
   "execution_count": 14,
   "id": "4f6ea871",
   "metadata": {
    "scrolled": false
   },
   "outputs": [
    {
     "data": {
      "text/html": [
       "<div>\n",
       "<style scoped>\n",
       "    .dataframe tbody tr th:only-of-type {\n",
       "        vertical-align: middle;\n",
       "    }\n",
       "\n",
       "    .dataframe tbody tr th {\n",
       "        vertical-align: top;\n",
       "    }\n",
       "\n",
       "    .dataframe thead th {\n",
       "        text-align: right;\n",
       "    }\n",
       "</style>\n",
       "<table border=\"1\" class=\"dataframe\">\n",
       "  <thead>\n",
       "    <tr style=\"text-align: right;\">\n",
       "      <th></th>\n",
       "      <th>OEM</th>\n",
       "      <th>Variant</th>\n",
       "      <th>Skin Mtrl</th>\n",
       "      <th>Skin thk</th>\n",
       "      <th>Foam Mtrl</th>\n",
       "      <th>Foam Thk</th>\n",
       "      <th>Norm Thk</th>\n",
       "      <th>MTD_X</th>\n",
       "      <th>MTD_Y</th>\n",
       "      <th>MTD_Z</th>\n",
       "      <th>Thickness</th>\n",
       "    </tr>\n",
       "  </thead>\n",
       "  <tbody>\n",
       "    <tr>\n",
       "      <th>0</th>\n",
       "      <td>PSA</td>\n",
       "      <td>Front</td>\n",
       "      <td>PVC</td>\n",
       "      <td>0.5</td>\n",
       "      <td>PP</td>\n",
       "      <td>2.0</td>\n",
       "      <td>2.2</td>\n",
       "      <td>0.0</td>\n",
       "      <td>1.0</td>\n",
       "      <td>0.0</td>\n",
       "      <td>1.281634</td>\n",
       "    </tr>\n",
       "    <tr>\n",
       "      <th>1</th>\n",
       "      <td>PSA</td>\n",
       "      <td>Front</td>\n",
       "      <td>PVC</td>\n",
       "      <td>0.5</td>\n",
       "      <td>PP</td>\n",
       "      <td>2.0</td>\n",
       "      <td>2.2</td>\n",
       "      <td>0.0</td>\n",
       "      <td>1.0</td>\n",
       "      <td>0.0</td>\n",
       "      <td>1.200343</td>\n",
       "    </tr>\n",
       "    <tr>\n",
       "      <th>2</th>\n",
       "      <td>PSA</td>\n",
       "      <td>Front</td>\n",
       "      <td>PVC</td>\n",
       "      <td>0.5</td>\n",
       "      <td>PP</td>\n",
       "      <td>2.0</td>\n",
       "      <td>2.2</td>\n",
       "      <td>0.0</td>\n",
       "      <td>1.0</td>\n",
       "      <td>0.0</td>\n",
       "      <td>1.300560</td>\n",
       "    </tr>\n",
       "    <tr>\n",
       "      <th>3</th>\n",
       "      <td>PSA</td>\n",
       "      <td>Front</td>\n",
       "      <td>PVC</td>\n",
       "      <td>0.5</td>\n",
       "      <td>PP</td>\n",
       "      <td>2.0</td>\n",
       "      <td>2.2</td>\n",
       "      <td>0.0</td>\n",
       "      <td>1.0</td>\n",
       "      <td>0.0</td>\n",
       "      <td>1.404651</td>\n",
       "    </tr>\n",
       "    <tr>\n",
       "      <th>4</th>\n",
       "      <td>PSA</td>\n",
       "      <td>Front</td>\n",
       "      <td>PVC</td>\n",
       "      <td>0.5</td>\n",
       "      <td>PP</td>\n",
       "      <td>2.0</td>\n",
       "      <td>2.2</td>\n",
       "      <td>0.0</td>\n",
       "      <td>1.0</td>\n",
       "      <td>0.0</td>\n",
       "      <td>1.602970</td>\n",
       "    </tr>\n",
       "  </tbody>\n",
       "</table>\n",
       "</div>"
      ],
      "text/plain": [
       "   OEM Variant Skin Mtrl  Skin thk Foam Mtrl  Foam Thk  Norm Thk  MTD_X  \\\n",
       "0  PSA   Front       PVC       0.5        PP       2.0       2.2    0.0   \n",
       "1  PSA   Front       PVC       0.5        PP       2.0       2.2    0.0   \n",
       "2  PSA   Front       PVC       0.5        PP       2.0       2.2    0.0   \n",
       "3  PSA   Front       PVC       0.5        PP       2.0       2.2    0.0   \n",
       "4  PSA   Front       PVC       0.5        PP       2.0       2.2    0.0   \n",
       "\n",
       "   MTD_Y  MTD_Z  Thickness  \n",
       "0    1.0    0.0   1.281634  \n",
       "1    1.0    0.0   1.200343  \n",
       "2    1.0    0.0   1.300560  \n",
       "3    1.0    0.0   1.404651  \n",
       "4    1.0    0.0   1.602970  "
      ]
     },
     "execution_count": 14,
     "metadata": {},
     "output_type": "execute_result"
    }
   ],
   "source": [
    "df = df.drop(columns=['ID','File','Project','Commodity','Part','Process'])\n",
    "df.head()"
   ]
  },
  {
   "cell_type": "code",
   "execution_count": 16,
   "id": "c11068d0",
   "metadata": {
    "scrolled": true
   },
   "outputs": [
    {
     "name": "stdout",
     "output_type": "stream",
     "text": [
      "Skin Mtrl\n",
      "PVC          62646\n",
      "TPO2         15840\n",
      "TPO           7952\n",
      "dtype: int64\n",
      "\n",
      "\n",
      "Variant\n",
      "Front      71311\n",
      "Rear       15127\n",
      "dtype: int64\n",
      "\n",
      "\n",
      "Foam Mtrl\n",
      "PP           86438\n",
      "dtype: int64\n",
      "\n",
      "\n",
      "OEM  \n",
      "PSA      52964\n",
      "RSA      15840\n",
      "Byton     9682\n",
      "Tesla     7952\n",
      "dtype: int64\n"
     ]
    }
   ],
   "source": [
    "print(df[['Skin Mtrl']].value_counts())\n",
    "print('\\n')\n",
    "print(df[['Variant']].value_counts())\n",
    "print('\\n')\n",
    "print(df[['Foam Mtrl']].value_counts())\n",
    "print('\\n')\n",
    "print(df[['OEM']].value_counts())"
   ]
  },
  {
   "cell_type": "code",
   "execution_count": 17,
   "id": "637c69ca",
   "metadata": {
    "scrolled": true
   },
   "outputs": [
    {
     "data": {
      "text/html": [
       "<div>\n",
       "<style scoped>\n",
       "    .dataframe tbody tr th:only-of-type {\n",
       "        vertical-align: middle;\n",
       "    }\n",
       "\n",
       "    .dataframe tbody tr th {\n",
       "        vertical-align: top;\n",
       "    }\n",
       "\n",
       "    .dataframe thead th {\n",
       "        text-align: right;\n",
       "    }\n",
       "</style>\n",
       "<table border=\"1\" class=\"dataframe\">\n",
       "  <thead>\n",
       "    <tr style=\"text-align: right;\">\n",
       "      <th></th>\n",
       "      <th>Skin thk</th>\n",
       "      <th>Foam Thk</th>\n",
       "      <th>Norm Thk</th>\n",
       "      <th>MTD_X</th>\n",
       "      <th>MTD_Y</th>\n",
       "      <th>MTD_Z</th>\n",
       "      <th>Thickness</th>\n",
       "      <th>OEM_Byton</th>\n",
       "      <th>OEM_PSA</th>\n",
       "      <th>OEM_RSA</th>\n",
       "      <th>OEM_Tesla</th>\n",
       "      <th>Variant_Front</th>\n",
       "      <th>Variant_Rear</th>\n",
       "      <th>Skin Mtrl_PVC</th>\n",
       "      <th>Skin Mtrl_TPO</th>\n",
       "      <th>Skin Mtrl_TPO2</th>\n",
       "      <th>Foam Mtrl_PP</th>\n",
       "    </tr>\n",
       "  </thead>\n",
       "  <tbody>\n",
       "    <tr>\n",
       "      <th>0</th>\n",
       "      <td>0.5</td>\n",
       "      <td>2.0</td>\n",
       "      <td>2.2</td>\n",
       "      <td>0.000000</td>\n",
       "      <td>1.000000</td>\n",
       "      <td>0.000000</td>\n",
       "      <td>1.281634</td>\n",
       "      <td>0</td>\n",
       "      <td>1</td>\n",
       "      <td>0</td>\n",
       "      <td>0</td>\n",
       "      <td>1</td>\n",
       "      <td>0</td>\n",
       "      <td>1</td>\n",
       "      <td>0</td>\n",
       "      <td>0</td>\n",
       "      <td>1</td>\n",
       "    </tr>\n",
       "    <tr>\n",
       "      <th>1</th>\n",
       "      <td>0.5</td>\n",
       "      <td>2.0</td>\n",
       "      <td>2.2</td>\n",
       "      <td>0.000000</td>\n",
       "      <td>1.000000</td>\n",
       "      <td>0.000000</td>\n",
       "      <td>1.200343</td>\n",
       "      <td>0</td>\n",
       "      <td>1</td>\n",
       "      <td>0</td>\n",
       "      <td>0</td>\n",
       "      <td>1</td>\n",
       "      <td>0</td>\n",
       "      <td>1</td>\n",
       "      <td>0</td>\n",
       "      <td>0</td>\n",
       "      <td>1</td>\n",
       "    </tr>\n",
       "    <tr>\n",
       "      <th>2</th>\n",
       "      <td>0.5</td>\n",
       "      <td>2.0</td>\n",
       "      <td>2.2</td>\n",
       "      <td>0.000000</td>\n",
       "      <td>1.000000</td>\n",
       "      <td>0.000000</td>\n",
       "      <td>1.300560</td>\n",
       "      <td>0</td>\n",
       "      <td>1</td>\n",
       "      <td>0</td>\n",
       "      <td>0</td>\n",
       "      <td>1</td>\n",
       "      <td>0</td>\n",
       "      <td>1</td>\n",
       "      <td>0</td>\n",
       "      <td>0</td>\n",
       "      <td>1</td>\n",
       "    </tr>\n",
       "    <tr>\n",
       "      <th>3</th>\n",
       "      <td>0.5</td>\n",
       "      <td>2.0</td>\n",
       "      <td>2.2</td>\n",
       "      <td>0.000000</td>\n",
       "      <td>1.000000</td>\n",
       "      <td>0.000000</td>\n",
       "      <td>1.404651</td>\n",
       "      <td>0</td>\n",
       "      <td>1</td>\n",
       "      <td>0</td>\n",
       "      <td>0</td>\n",
       "      <td>1</td>\n",
       "      <td>0</td>\n",
       "      <td>1</td>\n",
       "      <td>0</td>\n",
       "      <td>0</td>\n",
       "      <td>1</td>\n",
       "    </tr>\n",
       "    <tr>\n",
       "      <th>4</th>\n",
       "      <td>0.5</td>\n",
       "      <td>2.0</td>\n",
       "      <td>2.2</td>\n",
       "      <td>0.000000</td>\n",
       "      <td>1.000000</td>\n",
       "      <td>0.000000</td>\n",
       "      <td>1.602970</td>\n",
       "      <td>0</td>\n",
       "      <td>1</td>\n",
       "      <td>0</td>\n",
       "      <td>0</td>\n",
       "      <td>1</td>\n",
       "      <td>0</td>\n",
       "      <td>1</td>\n",
       "      <td>0</td>\n",
       "      <td>0</td>\n",
       "      <td>1</td>\n",
       "    </tr>\n",
       "    <tr>\n",
       "      <th>...</th>\n",
       "      <td>...</td>\n",
       "      <td>...</td>\n",
       "      <td>...</td>\n",
       "      <td>...</td>\n",
       "      <td>...</td>\n",
       "      <td>...</td>\n",
       "      <td>...</td>\n",
       "      <td>...</td>\n",
       "      <td>...</td>\n",
       "      <td>...</td>\n",
       "      <td>...</td>\n",
       "      <td>...</td>\n",
       "      <td>...</td>\n",
       "      <td>...</td>\n",
       "      <td>...</td>\n",
       "      <td>...</td>\n",
       "      <td>...</td>\n",
       "    </tr>\n",
       "    <tr>\n",
       "      <th>86433</th>\n",
       "      <td>0.5</td>\n",
       "      <td>1.5</td>\n",
       "      <td>1.8</td>\n",
       "      <td>-0.009798</td>\n",
       "      <td>0.246147</td>\n",
       "      <td>-0.969183</td>\n",
       "      <td>0.939436</td>\n",
       "      <td>0</td>\n",
       "      <td>1</td>\n",
       "      <td>0</td>\n",
       "      <td>0</td>\n",
       "      <td>0</td>\n",
       "      <td>1</td>\n",
       "      <td>1</td>\n",
       "      <td>0</td>\n",
       "      <td>0</td>\n",
       "      <td>1</td>\n",
       "    </tr>\n",
       "    <tr>\n",
       "      <th>86434</th>\n",
       "      <td>0.5</td>\n",
       "      <td>1.5</td>\n",
       "      <td>1.8</td>\n",
       "      <td>-0.009798</td>\n",
       "      <td>0.246147</td>\n",
       "      <td>-0.969183</td>\n",
       "      <td>1.105126</td>\n",
       "      <td>0</td>\n",
       "      <td>1</td>\n",
       "      <td>0</td>\n",
       "      <td>0</td>\n",
       "      <td>0</td>\n",
       "      <td>1</td>\n",
       "      <td>1</td>\n",
       "      <td>0</td>\n",
       "      <td>0</td>\n",
       "      <td>1</td>\n",
       "    </tr>\n",
       "    <tr>\n",
       "      <th>86435</th>\n",
       "      <td>0.5</td>\n",
       "      <td>1.5</td>\n",
       "      <td>1.8</td>\n",
       "      <td>-0.009798</td>\n",
       "      <td>0.246147</td>\n",
       "      <td>-0.969183</td>\n",
       "      <td>1.099450</td>\n",
       "      <td>0</td>\n",
       "      <td>1</td>\n",
       "      <td>0</td>\n",
       "      <td>0</td>\n",
       "      <td>0</td>\n",
       "      <td>1</td>\n",
       "      <td>1</td>\n",
       "      <td>0</td>\n",
       "      <td>0</td>\n",
       "      <td>1</td>\n",
       "    </tr>\n",
       "    <tr>\n",
       "      <th>86436</th>\n",
       "      <td>0.5</td>\n",
       "      <td>1.5</td>\n",
       "      <td>1.8</td>\n",
       "      <td>-0.009798</td>\n",
       "      <td>0.246147</td>\n",
       "      <td>-0.969183</td>\n",
       "      <td>0.939475</td>\n",
       "      <td>0</td>\n",
       "      <td>1</td>\n",
       "      <td>0</td>\n",
       "      <td>0</td>\n",
       "      <td>0</td>\n",
       "      <td>1</td>\n",
       "      <td>1</td>\n",
       "      <td>0</td>\n",
       "      <td>0</td>\n",
       "      <td>1</td>\n",
       "    </tr>\n",
       "    <tr>\n",
       "      <th>86437</th>\n",
       "      <td>0.5</td>\n",
       "      <td>1.5</td>\n",
       "      <td>1.8</td>\n",
       "      <td>-0.009798</td>\n",
       "      <td>0.246147</td>\n",
       "      <td>-0.969183</td>\n",
       "      <td>0.874242</td>\n",
       "      <td>0</td>\n",
       "      <td>1</td>\n",
       "      <td>0</td>\n",
       "      <td>0</td>\n",
       "      <td>0</td>\n",
       "      <td>1</td>\n",
       "      <td>1</td>\n",
       "      <td>0</td>\n",
       "      <td>0</td>\n",
       "      <td>1</td>\n",
       "    </tr>\n",
       "  </tbody>\n",
       "</table>\n",
       "<p>86438 rows × 17 columns</p>\n",
       "</div>"
      ],
      "text/plain": [
       "       Skin thk  Foam Thk  Norm Thk     MTD_X     MTD_Y     MTD_Z  Thickness  \\\n",
       "0           0.5       2.0       2.2  0.000000  1.000000  0.000000   1.281634   \n",
       "1           0.5       2.0       2.2  0.000000  1.000000  0.000000   1.200343   \n",
       "2           0.5       2.0       2.2  0.000000  1.000000  0.000000   1.300560   \n",
       "3           0.5       2.0       2.2  0.000000  1.000000  0.000000   1.404651   \n",
       "4           0.5       2.0       2.2  0.000000  1.000000  0.000000   1.602970   \n",
       "...         ...       ...       ...       ...       ...       ...        ...   \n",
       "86433       0.5       1.5       1.8 -0.009798  0.246147 -0.969183   0.939436   \n",
       "86434       0.5       1.5       1.8 -0.009798  0.246147 -0.969183   1.105126   \n",
       "86435       0.5       1.5       1.8 -0.009798  0.246147 -0.969183   1.099450   \n",
       "86436       0.5       1.5       1.8 -0.009798  0.246147 -0.969183   0.939475   \n",
       "86437       0.5       1.5       1.8 -0.009798  0.246147 -0.969183   0.874242   \n",
       "\n",
       "       OEM_Byton  OEM_PSA  OEM_RSA  OEM_Tesla  Variant_Front  Variant_Rear  \\\n",
       "0              0        1        0          0              1             0   \n",
       "1              0        1        0          0              1             0   \n",
       "2              0        1        0          0              1             0   \n",
       "3              0        1        0          0              1             0   \n",
       "4              0        1        0          0              1             0   \n",
       "...          ...      ...      ...        ...            ...           ...   \n",
       "86433          0        1        0          0              0             1   \n",
       "86434          0        1        0          0              0             1   \n",
       "86435          0        1        0          0              0             1   \n",
       "86436          0        1        0          0              0             1   \n",
       "86437          0        1        0          0              0             1   \n",
       "\n",
       "       Skin Mtrl_PVC  Skin Mtrl_TPO  Skin Mtrl_TPO2  Foam Mtrl_PP  \n",
       "0                  1              0               0             1  \n",
       "1                  1              0               0             1  \n",
       "2                  1              0               0             1  \n",
       "3                  1              0               0             1  \n",
       "4                  1              0               0             1  \n",
       "...              ...            ...             ...           ...  \n",
       "86433              1              0               0             1  \n",
       "86434              1              0               0             1  \n",
       "86435              1              0               0             1  \n",
       "86436              1              0               0             1  \n",
       "86437              1              0               0             1  \n",
       "\n",
       "[86438 rows x 17 columns]"
      ]
     },
     "execution_count": 17,
     "metadata": {},
     "output_type": "execute_result"
    }
   ],
   "source": [
    "df = pd.get_dummies(df)\n",
    "df"
   ]
  },
  {
   "cell_type": "code",
   "execution_count": 18,
   "id": "12ff12b8",
   "metadata": {},
   "outputs": [
    {
     "data": {
      "text/html": [
       "<div>\n",
       "<style scoped>\n",
       "    .dataframe tbody tr th:only-of-type {\n",
       "        vertical-align: middle;\n",
       "    }\n",
       "\n",
       "    .dataframe tbody tr th {\n",
       "        vertical-align: top;\n",
       "    }\n",
       "\n",
       "    .dataframe thead th {\n",
       "        text-align: right;\n",
       "    }\n",
       "</style>\n",
       "<table border=\"1\" class=\"dataframe\">\n",
       "  <thead>\n",
       "    <tr style=\"text-align: right;\">\n",
       "      <th></th>\n",
       "      <th>Variant_Front</th>\n",
       "      <th>Skin Mtrl_PVC</th>\n",
       "      <th>Skin Mtrl_TPO2</th>\n",
       "      <th>OEM_PSA</th>\n",
       "      <th>OEM_RSA</th>\n",
       "      <th>OEM_Byton</th>\n",
       "      <th>Skin thk</th>\n",
       "      <th>Foam Thk</th>\n",
       "      <th>Norm Thk</th>\n",
       "      <th>MTD_X</th>\n",
       "      <th>MTD_Y</th>\n",
       "      <th>MTD_Z</th>\n",
       "      <th>Thickness</th>\n",
       "    </tr>\n",
       "  </thead>\n",
       "  <tbody>\n",
       "    <tr>\n",
       "      <th>0</th>\n",
       "      <td>1</td>\n",
       "      <td>1</td>\n",
       "      <td>0</td>\n",
       "      <td>1</td>\n",
       "      <td>0</td>\n",
       "      <td>0</td>\n",
       "      <td>0.5</td>\n",
       "      <td>2.0</td>\n",
       "      <td>2.2</td>\n",
       "      <td>0.000000</td>\n",
       "      <td>1.000000</td>\n",
       "      <td>0.000000</td>\n",
       "      <td>1.281634</td>\n",
       "    </tr>\n",
       "    <tr>\n",
       "      <th>1</th>\n",
       "      <td>1</td>\n",
       "      <td>1</td>\n",
       "      <td>0</td>\n",
       "      <td>1</td>\n",
       "      <td>0</td>\n",
       "      <td>0</td>\n",
       "      <td>0.5</td>\n",
       "      <td>2.0</td>\n",
       "      <td>2.2</td>\n",
       "      <td>0.000000</td>\n",
       "      <td>1.000000</td>\n",
       "      <td>0.000000</td>\n",
       "      <td>1.200343</td>\n",
       "    </tr>\n",
       "    <tr>\n",
       "      <th>2</th>\n",
       "      <td>1</td>\n",
       "      <td>1</td>\n",
       "      <td>0</td>\n",
       "      <td>1</td>\n",
       "      <td>0</td>\n",
       "      <td>0</td>\n",
       "      <td>0.5</td>\n",
       "      <td>2.0</td>\n",
       "      <td>2.2</td>\n",
       "      <td>0.000000</td>\n",
       "      <td>1.000000</td>\n",
       "      <td>0.000000</td>\n",
       "      <td>1.300560</td>\n",
       "    </tr>\n",
       "    <tr>\n",
       "      <th>3</th>\n",
       "      <td>1</td>\n",
       "      <td>1</td>\n",
       "      <td>0</td>\n",
       "      <td>1</td>\n",
       "      <td>0</td>\n",
       "      <td>0</td>\n",
       "      <td>0.5</td>\n",
       "      <td>2.0</td>\n",
       "      <td>2.2</td>\n",
       "      <td>0.000000</td>\n",
       "      <td>1.000000</td>\n",
       "      <td>0.000000</td>\n",
       "      <td>1.404651</td>\n",
       "    </tr>\n",
       "    <tr>\n",
       "      <th>4</th>\n",
       "      <td>1</td>\n",
       "      <td>1</td>\n",
       "      <td>0</td>\n",
       "      <td>1</td>\n",
       "      <td>0</td>\n",
       "      <td>0</td>\n",
       "      <td>0.5</td>\n",
       "      <td>2.0</td>\n",
       "      <td>2.2</td>\n",
       "      <td>0.000000</td>\n",
       "      <td>1.000000</td>\n",
       "      <td>0.000000</td>\n",
       "      <td>1.602970</td>\n",
       "    </tr>\n",
       "    <tr>\n",
       "      <th>...</th>\n",
       "      <td>...</td>\n",
       "      <td>...</td>\n",
       "      <td>...</td>\n",
       "      <td>...</td>\n",
       "      <td>...</td>\n",
       "      <td>...</td>\n",
       "      <td>...</td>\n",
       "      <td>...</td>\n",
       "      <td>...</td>\n",
       "      <td>...</td>\n",
       "      <td>...</td>\n",
       "      <td>...</td>\n",
       "      <td>...</td>\n",
       "    </tr>\n",
       "    <tr>\n",
       "      <th>86433</th>\n",
       "      <td>0</td>\n",
       "      <td>1</td>\n",
       "      <td>0</td>\n",
       "      <td>1</td>\n",
       "      <td>0</td>\n",
       "      <td>0</td>\n",
       "      <td>0.5</td>\n",
       "      <td>1.5</td>\n",
       "      <td>1.8</td>\n",
       "      <td>-0.009798</td>\n",
       "      <td>0.246147</td>\n",
       "      <td>-0.969183</td>\n",
       "      <td>0.939436</td>\n",
       "    </tr>\n",
       "    <tr>\n",
       "      <th>86434</th>\n",
       "      <td>0</td>\n",
       "      <td>1</td>\n",
       "      <td>0</td>\n",
       "      <td>1</td>\n",
       "      <td>0</td>\n",
       "      <td>0</td>\n",
       "      <td>0.5</td>\n",
       "      <td>1.5</td>\n",
       "      <td>1.8</td>\n",
       "      <td>-0.009798</td>\n",
       "      <td>0.246147</td>\n",
       "      <td>-0.969183</td>\n",
       "      <td>1.105126</td>\n",
       "    </tr>\n",
       "    <tr>\n",
       "      <th>86435</th>\n",
       "      <td>0</td>\n",
       "      <td>1</td>\n",
       "      <td>0</td>\n",
       "      <td>1</td>\n",
       "      <td>0</td>\n",
       "      <td>0</td>\n",
       "      <td>0.5</td>\n",
       "      <td>1.5</td>\n",
       "      <td>1.8</td>\n",
       "      <td>-0.009798</td>\n",
       "      <td>0.246147</td>\n",
       "      <td>-0.969183</td>\n",
       "      <td>1.099450</td>\n",
       "    </tr>\n",
       "    <tr>\n",
       "      <th>86436</th>\n",
       "      <td>0</td>\n",
       "      <td>1</td>\n",
       "      <td>0</td>\n",
       "      <td>1</td>\n",
       "      <td>0</td>\n",
       "      <td>0</td>\n",
       "      <td>0.5</td>\n",
       "      <td>1.5</td>\n",
       "      <td>1.8</td>\n",
       "      <td>-0.009798</td>\n",
       "      <td>0.246147</td>\n",
       "      <td>-0.969183</td>\n",
       "      <td>0.939475</td>\n",
       "    </tr>\n",
       "    <tr>\n",
       "      <th>86437</th>\n",
       "      <td>0</td>\n",
       "      <td>1</td>\n",
       "      <td>0</td>\n",
       "      <td>1</td>\n",
       "      <td>0</td>\n",
       "      <td>0</td>\n",
       "      <td>0.5</td>\n",
       "      <td>1.5</td>\n",
       "      <td>1.8</td>\n",
       "      <td>-0.009798</td>\n",
       "      <td>0.246147</td>\n",
       "      <td>-0.969183</td>\n",
       "      <td>0.874242</td>\n",
       "    </tr>\n",
       "  </tbody>\n",
       "</table>\n",
       "<p>86438 rows × 13 columns</p>\n",
       "</div>"
      ],
      "text/plain": [
       "       Variant_Front  Skin Mtrl_PVC  Skin Mtrl_TPO2  OEM_PSA  OEM_RSA  \\\n",
       "0                  1              1               0        1        0   \n",
       "1                  1              1               0        1        0   \n",
       "2                  1              1               0        1        0   \n",
       "3                  1              1               0        1        0   \n",
       "4                  1              1               0        1        0   \n",
       "...              ...            ...             ...      ...      ...   \n",
       "86433              0              1               0        1        0   \n",
       "86434              0              1               0        1        0   \n",
       "86435              0              1               0        1        0   \n",
       "86436              0              1               0        1        0   \n",
       "86437              0              1               0        1        0   \n",
       "\n",
       "       OEM_Byton  Skin thk  Foam Thk  Norm Thk     MTD_X     MTD_Y     MTD_Z  \\\n",
       "0              0       0.5       2.0       2.2  0.000000  1.000000  0.000000   \n",
       "1              0       0.5       2.0       2.2  0.000000  1.000000  0.000000   \n",
       "2              0       0.5       2.0       2.2  0.000000  1.000000  0.000000   \n",
       "3              0       0.5       2.0       2.2  0.000000  1.000000  0.000000   \n",
       "4              0       0.5       2.0       2.2  0.000000  1.000000  0.000000   \n",
       "...          ...       ...       ...       ...       ...       ...       ...   \n",
       "86433          0       0.5       1.5       1.8 -0.009798  0.246147 -0.969183   \n",
       "86434          0       0.5       1.5       1.8 -0.009798  0.246147 -0.969183   \n",
       "86435          0       0.5       1.5       1.8 -0.009798  0.246147 -0.969183   \n",
       "86436          0       0.5       1.5       1.8 -0.009798  0.246147 -0.969183   \n",
       "86437          0       0.5       1.5       1.8 -0.009798  0.246147 -0.969183   \n",
       "\n",
       "       Thickness  \n",
       "0       1.281634  \n",
       "1       1.200343  \n",
       "2       1.300560  \n",
       "3       1.404651  \n",
       "4       1.602970  \n",
       "...          ...  \n",
       "86433   0.939436  \n",
       "86434   1.105126  \n",
       "86435   1.099450  \n",
       "86436   0.939475  \n",
       "86437   0.874242  \n",
       "\n",
       "[86438 rows x 13 columns]"
      ]
     },
     "execution_count": 18,
     "metadata": {},
     "output_type": "execute_result"
    }
   ],
   "source": [
    "df = df.drop(columns =['Variant_Rear','Skin Mtrl_TPO','Foam Mtrl_PP','OEM_Tesla'])\n",
    "df= df[['Variant_Front', 'Skin Mtrl_PVC', 'Skin Mtrl_TPO2','OEM_PSA','OEM_RSA','OEM_Byton','Skin thk','Foam Thk', 'Norm Thk','MTD_X', 'MTD_Y', 'MTD_Z','Thickness']]\n",
    "df"
   ]
  },
  {
   "cell_type": "code",
   "execution_count": 27,
   "id": "85a28a25",
   "metadata": {},
   "outputs": [],
   "source": [
    "from statsmodels.stats.outliers_influence import variance_inflation_factor as vif "
   ]
  },
  {
   "cell_type": "code",
   "execution_count": 35,
   "id": "98c13bef",
   "metadata": {},
   "outputs": [
    {
     "name": "stderr",
     "output_type": "stream",
     "text": [
      "C:\\ProgramData\\Anaconda3\\lib\\site-packages\\statsmodels\\regression\\linear_model.py:1715: RuntimeWarning: divide by zero encountered in double_scalars\n",
      "  return 1 - self.ssr/self.centered_tss\n"
     ]
    },
    {
     "data": {
      "text/html": [
       "<div>\n",
       "<style scoped>\n",
       "    .dataframe tbody tr th:only-of-type {\n",
       "        vertical-align: middle;\n",
       "    }\n",
       "\n",
       "    .dataframe tbody tr th {\n",
       "        vertical-align: top;\n",
       "    }\n",
       "\n",
       "    .dataframe thead th {\n",
       "        text-align: right;\n",
       "    }\n",
       "</style>\n",
       "<table border=\"1\" class=\"dataframe\">\n",
       "  <thead>\n",
       "    <tr style=\"text-align: right;\">\n",
       "      <th></th>\n",
       "      <th>Attributes</th>\n",
       "      <th>vif</th>\n",
       "    </tr>\n",
       "  </thead>\n",
       "  <tbody>\n",
       "    <tr>\n",
       "      <th>0</th>\n",
       "      <td>Variant_Front</td>\n",
       "      <td>3.790144e+06</td>\n",
       "    </tr>\n",
       "    <tr>\n",
       "      <th>1</th>\n",
       "      <td>Skin Mtrl_PVC</td>\n",
       "      <td>1.306830e+06</td>\n",
       "    </tr>\n",
       "    <tr>\n",
       "      <th>2</th>\n",
       "      <td>Skin Mtrl_TPO2</td>\n",
       "      <td>7.867237e+11</td>\n",
       "    </tr>\n",
       "    <tr>\n",
       "      <th>3</th>\n",
       "      <td>OEM_PSA</td>\n",
       "      <td>2.054851e+07</td>\n",
       "    </tr>\n",
       "    <tr>\n",
       "      <th>4</th>\n",
       "      <td>OEM_RSA</td>\n",
       "      <td>2.267959e+11</td>\n",
       "    </tr>\n",
       "    <tr>\n",
       "      <th>5</th>\n",
       "      <td>OEM_Byton</td>\n",
       "      <td>5.782742e+11</td>\n",
       "    </tr>\n",
       "    <tr>\n",
       "      <th>6</th>\n",
       "      <td>Skin thk</td>\n",
       "      <td>0.000000e+00</td>\n",
       "    </tr>\n",
       "    <tr>\n",
       "      <th>7</th>\n",
       "      <td>Foam Thk</td>\n",
       "      <td>1.234434e+06</td>\n",
       "    </tr>\n",
       "    <tr>\n",
       "      <th>8</th>\n",
       "      <td>Norm Thk</td>\n",
       "      <td>2.142695e+06</td>\n",
       "    </tr>\n",
       "    <tr>\n",
       "      <th>9</th>\n",
       "      <td>MTD_X</td>\n",
       "      <td>7.820446e+10</td>\n",
       "    </tr>\n",
       "    <tr>\n",
       "      <th>10</th>\n",
       "      <td>MTD_Y</td>\n",
       "      <td>1.669910e+07</td>\n",
       "    </tr>\n",
       "  </tbody>\n",
       "</table>\n",
       "</div>"
      ],
      "text/plain": [
       "        Attributes           vif\n",
       "0    Variant_Front  3.790144e+06\n",
       "1    Skin Mtrl_PVC  1.306830e+06\n",
       "2   Skin Mtrl_TPO2  7.867237e+11\n",
       "3          OEM_PSA  2.054851e+07\n",
       "4          OEM_RSA  2.267959e+11\n",
       "5        OEM_Byton  5.782742e+11\n",
       "6         Skin thk  0.000000e+00\n",
       "7         Foam Thk  1.234434e+06\n",
       "8         Norm Thk  2.142695e+06\n",
       "9            MTD_X  7.820446e+10\n",
       "10           MTD_Y  1.669910e+07"
      ]
     },
     "execution_count": 35,
     "metadata": {},
     "output_type": "execute_result"
    }
   ],
   "source": [
    "Vif = pd.DataFrame()\n",
    "Vif['Attributes'] = df.iloc[:,:-2].columns\n",
    "Vif['vif'] = [vif(df.values,i) for i in range(len(df.iloc[:,:-2].columns))]\n",
    "Vif"
   ]
  },
  {
   "cell_type": "code",
   "execution_count": 39,
   "id": "f26e44e5",
   "metadata": {},
   "outputs": [
    {
     "data": {
      "text/plain": [
       "<AxesSubplot:>"
      ]
     },
     "execution_count": 39,
     "metadata": {},
     "output_type": "execute_result"
    },
    {
     "data": {
      "image/png": "[encoded data removed]",
      "text/plain": [
       "<Figure size 576x432 with 1 Axes>"
      ]
     },
     "metadata": {
      "needs_background": "light"
     },
     "output_type": "display_data"
    }
   ],
   "source": [
    "from xgboost import XGBRegressor\n",
    "\n",
    "fs = XGBRegressor()\n",
    "fs.fit(df.iloc[:,:-2],df.iloc[:,-1])\n",
    "\n",
    "featire_imp= pd.Series(fs.feature_importances_ , index= df.iloc[:,:-2].columns)\n",
    "plt.figure(figsize=(8, 6))\n",
    "featire_imp.nlargest(30).plot(kind='barh')"
   ]
  },
  {
   "cell_type": "markdown",
   "id": "228bf475",
   "metadata": {
    "scrolled": true
   },
   "source": [
    "## Train and Test Data "
   ]
  },
  {
   "cell_type": "code",
   "execution_count": 19,
   "id": "7fee48d1",
   "metadata": {},
   "outputs": [],
   "source": [
    "x_train_images,x_test_images,x_train_data,x_test_data = train_test_split(images10_combine,df, test_size=0.2, random_state=2 )"
   ]
  },
  {
   "cell_type": "code",
   "execution_count": 20,
   "id": "76f34dec",
   "metadata": {
    "scrolled": true
   },
   "outputs": [
    {
     "data": {
      "text/plain": [
       "array([[[ 0.08144591],\n",
       "        [ 0.07719549],\n",
       "        [ 0.07348867],\n",
       "        ...,\n",
       "        [-0.01844153],\n",
       "        [-0.02176069],\n",
       "        [-0.02505744]],\n",
       "\n",
       "       [[ 0.07932142],\n",
       "        [ 0.07514998],\n",
       "        [ 0.0715787 ],\n",
       "        ...,\n",
       "        [-0.01993711],\n",
       "        [-0.02323387],\n",
       "        [-0.02653062]],\n",
       "\n",
       "       [[ 0.07719694],\n",
       "        [ 0.07324001],\n",
       "        [ 0.06966873],\n",
       "        ...,\n",
       "        [-0.02141029],\n",
       "        [-0.02470705],\n",
       "        [-0.0280038 ]],\n",
       "\n",
       "       ...,\n",
       "\n",
       "       [[ 0.02410976],\n",
       "        [ 0.0209726 ],\n",
       "        [ 0.01783545],\n",
       "        ...,\n",
       "        [-0.06300387],\n",
       "        [-0.06575792],\n",
       "        [-0.06851471]],\n",
       "\n",
       "       [[ 0.02218214],\n",
       "        [ 0.01904498],\n",
       "        [ 0.01590783],\n",
       "        ...,\n",
       "        [-0.06457276],\n",
       "        [-0.06732955],\n",
       "        [-0.07008634]],\n",
       "\n",
       "       [[ 0.02025452],\n",
       "        [ 0.01709876],\n",
       "        [ 0.01393712],\n",
       "        ...,\n",
       "        [-0.06614439],\n",
       "        [-0.06890118],\n",
       "        [-0.07159613]]])"
      ]
     },
     "execution_count": 20,
     "metadata": {},
     "output_type": "execute_result"
    }
   ],
   "source": [
    "# array([[[ 0.08144591],\n",
    "#         [ 0.07719549],\n",
    "#         [ 0.07348867]\n",
    "\n",
    "x_train_images[0]"
   ]
  },
  {
   "cell_type": "code",
   "execution_count": 21,
   "id": "2965383a",
   "metadata": {
    "scrolled": true
   },
   "outputs": [],
   "source": [
    "y_train_thck = pd.DataFrame(x_train_data['Thickness'])\n",
    "y_test_thck = pd.DataFrame(x_test_data['Thickness'])\n",
    "x_train_data = x_train_data.iloc[:,0:-1]\n",
    "x_test_data = x_test_data.iloc[:,0:-1]"
   ]
  },
  {
   "cell_type": "code",
   "execution_count": null,
   "id": "d5dd551b",
   "metadata": {},
   "outputs": [],
   "source": []
  },
  {
   "cell_type": "code",
   "execution_count": 231,
   "id": "9f470ea8",
   "metadata": {},
   "outputs": [
    {
     "data": {
      "text/plain": [
       "(69150, 9)"
      ]
     },
     "execution_count": 231,
     "metadata": {},
     "output_type": "execute_result"
    }
   ],
   "source": [
    "x_train_data.shape"
   ]
  },
  {
   "cell_type": "markdown",
   "id": "9320cf57",
   "metadata": {},
   "source": [
    "## Model1"
   ]
  },
  {
   "cell_type": "code",
   "execution_count": 224,
   "id": "d4274de5",
   "metadata": {},
   "outputs": [],
   "source": [
    "model1 = keras.Sequential([\n",
    "    keras.layers.Conv2D(filters = 96,kernel_size = (5,5), activation ='relu',input_shape=(32,32,1)),\n",
    "    keras.layers.MaxPooling2D((2,2)), \n",
    "    keras.layers.Dropout(0.2),\n",
    "    \n",
    "    keras.layers.Conv2D(filters = 176, kernel_size=(3,3), activation ='relu'),\n",
    "    keras.layers.MaxPooling2D((2,2)), \n",
    "    keras.layers.Dropout(0.2),\n",
    "    \n",
    "#     keras.layers.Conv2D(filters = 48, kernel_size=(3,3), activation ='relu'),\n",
    "#     keras.layers.MaxPooling2D((2,2)), \n",
    "#     keras.layers.Dropout(0.2),\n",
    "    \n",
    "    keras.layers.Flatten(),\n",
    "    \n",
    "    keras.layers.Dense(240,activation='relu'),#256\n",
    "    keras.layers.Dense(160,activation='relu'),\n",
    "    keras.layers.Dense(176,activation='relu'),\n",
    "    keras.layers.Dense(1, activation= 'relu')])\n",
    "\n",
    "model1.compile(optimizer = keras.optimizers.Adam(learning_rate=0.001),\n",
    "              loss = keras.losses.mean_absolute_error,\n",
    "             metrics = keras.metrics.mean_squared_error)"
   ]
  },
  {
   "cell_type": "code",
   "execution_count": 44,
   "id": "10a0912e",
   "metadata": {
    "scrolled": true
   },
   "outputs": [
    {
     "name": "stdout",
     "output_type": "stream",
     "text": [
      "Epoch 1/10\n",
      "  86/2161 [>.............................] - ETA: 4:05 - loss: 0.1757 - mean_squared_error: 0.0789"
     ]
    },
    {
     "ename": "KeyboardInterrupt",
     "evalue": "",
     "output_type": "error",
     "traceback": [
      "\u001b[1;31m---------------------------------------------------------------------------\u001b[0m",
      "\u001b[1;31mKeyboardInterrupt\u001b[0m                         Traceback (most recent call last)",
      "\u001b[1;32m<ipython-input-44-2c8de9733471>\u001b[0m in \u001b[0;36m<module>\u001b[1;34m\u001b[0m\n\u001b[1;32m----> 1\u001b[1;33m \u001b[0mmodel4\u001b[0m\u001b[1;33m.\u001b[0m\u001b[0mfit\u001b[0m\u001b[1;33m(\u001b[0m\u001b[0mx_train_1\u001b[0m\u001b[1;33m,\u001b[0m\u001b[0my_train_1\u001b[0m\u001b[1;33m,\u001b[0m\u001b[0mepochs\u001b[0m\u001b[1;33m=\u001b[0m\u001b[1;36m10\u001b[0m\u001b[1;33m)\u001b[0m\u001b[1;33m\u001b[0m\u001b[1;33m\u001b[0m\u001b[0m\n\u001b[0m",
      "\u001b[1;32m~\\AppData\\Roaming\\Python\\Python38\\site-packages\\keras\\utils\\traceback_utils.py\u001b[0m in \u001b[0;36merror_handler\u001b[1;34m(*args, **kwargs)\u001b[0m\n\u001b[0;32m     62\u001b[0m     \u001b[0mfiltered_tb\u001b[0m \u001b[1;33m=\u001b[0m \u001b[1;32mNone\u001b[0m\u001b[1;33m\u001b[0m\u001b[1;33m\u001b[0m\u001b[0m\n\u001b[0;32m     63\u001b[0m     \u001b[1;32mtry\u001b[0m\u001b[1;33m:\u001b[0m\u001b[1;33m\u001b[0m\u001b[1;33m\u001b[0m\u001b[0m\n\u001b[1;32m---> 64\u001b[1;33m       \u001b[1;32mreturn\u001b[0m \u001b[0mfn\u001b[0m\u001b[1;33m(\u001b[0m\u001b[1;33m*\u001b[0m\u001b[0margs\u001b[0m\u001b[1;33m,\u001b[0m \u001b[1;33m**\u001b[0m\u001b[0mkwargs\u001b[0m\u001b[1;33m)\u001b[0m\u001b[1;33m\u001b[0m\u001b[1;33m\u001b[0m\u001b[0m\n\u001b[0m\u001b[0;32m     65\u001b[0m     \u001b[1;32mexcept\u001b[0m \u001b[0mException\u001b[0m \u001b[1;32mas\u001b[0m \u001b[0me\u001b[0m\u001b[1;33m:\u001b[0m  \u001b[1;31m# pylint: disable=broad-except\u001b[0m\u001b[1;33m\u001b[0m\u001b[1;33m\u001b[0m\u001b[0m\n\u001b[0;32m     66\u001b[0m       \u001b[0mfiltered_tb\u001b[0m \u001b[1;33m=\u001b[0m \u001b[0m_process_traceback_frames\u001b[0m\u001b[1;33m(\u001b[0m\u001b[0me\u001b[0m\u001b[1;33m.\u001b[0m\u001b[0m__traceback__\u001b[0m\u001b[1;33m)\u001b[0m\u001b[1;33m\u001b[0m\u001b[1;33m\u001b[0m\u001b[0m\n",
      "\u001b[1;32m~\\AppData\\Roaming\\Python\\Python38\\site-packages\\keras\\engine\\training.py\u001b[0m in \u001b[0;36mfit\u001b[1;34m(self, x, y, batch_size, epochs, verbose, callbacks, validation_split, validation_data, shuffle, class_weight, sample_weight, initial_epoch, steps_per_epoch, validation_steps, validation_batch_size, validation_freq, max_queue_size, workers, use_multiprocessing)\u001b[0m\n\u001b[0;32m   1214\u001b[0m                 _r=1):\n\u001b[0;32m   1215\u001b[0m               \u001b[0mcallbacks\u001b[0m\u001b[1;33m.\u001b[0m\u001b[0mon_train_batch_begin\u001b[0m\u001b[1;33m(\u001b[0m\u001b[0mstep\u001b[0m\u001b[1;33m)\u001b[0m\u001b[1;33m\u001b[0m\u001b[1;33m\u001b[0m\u001b[0m\n\u001b[1;32m-> 1216\u001b[1;33m               \u001b[0mtmp_logs\u001b[0m \u001b[1;33m=\u001b[0m \u001b[0mself\u001b[0m\u001b[1;33m.\u001b[0m\u001b[0mtrain_function\u001b[0m\u001b[1;33m(\u001b[0m\u001b[0miterator\u001b[0m\u001b[1;33m)\u001b[0m\u001b[1;33m\u001b[0m\u001b[1;33m\u001b[0m\u001b[0m\n\u001b[0m\u001b[0;32m   1217\u001b[0m               \u001b[1;32mif\u001b[0m \u001b[0mdata_handler\u001b[0m\u001b[1;33m.\u001b[0m\u001b[0mshould_sync\u001b[0m\u001b[1;33m:\u001b[0m\u001b[1;33m\u001b[0m\u001b[1;33m\u001b[0m\u001b[0m\n\u001b[0;32m   1218\u001b[0m                 \u001b[0mcontext\u001b[0m\u001b[1;33m.\u001b[0m\u001b[0masync_wait\u001b[0m\u001b[1;33m(\u001b[0m\u001b[1;33m)\u001b[0m\u001b[1;33m\u001b[0m\u001b[1;33m\u001b[0m\u001b[0m\n",
      "\u001b[1;32m~\\AppData\\Roaming\\Python\\Python38\\site-packages\\tensorflow\\python\\util\\traceback_utils.py\u001b[0m in \u001b[0;36merror_handler\u001b[1;34m(*args, **kwargs)\u001b[0m\n\u001b[0;32m    148\u001b[0m     \u001b[0mfiltered_tb\u001b[0m \u001b[1;33m=\u001b[0m \u001b[1;32mNone\u001b[0m\u001b[1;33m\u001b[0m\u001b[1;33m\u001b[0m\u001b[0m\n\u001b[0;32m    149\u001b[0m     \u001b[1;32mtry\u001b[0m\u001b[1;33m:\u001b[0m\u001b[1;33m\u001b[0m\u001b[1;33m\u001b[0m\u001b[0m\n\u001b[1;32m--> 150\u001b[1;33m       \u001b[1;32mreturn\u001b[0m \u001b[0mfn\u001b[0m\u001b[1;33m(\u001b[0m\u001b[1;33m*\u001b[0m\u001b[0margs\u001b[0m\u001b[1;33m,\u001b[0m \u001b[1;33m**\u001b[0m\u001b[0mkwargs\u001b[0m\u001b[1;33m)\u001b[0m\u001b[1;33m\u001b[0m\u001b[1;33m\u001b[0m\u001b[0m\n\u001b[0m\u001b[0;32m    151\u001b[0m     \u001b[1;32mexcept\u001b[0m \u001b[0mException\u001b[0m \u001b[1;32mas\u001b[0m \u001b[0me\u001b[0m\u001b[1;33m:\u001b[0m\u001b[1;33m\u001b[0m\u001b[1;33m\u001b[0m\u001b[0m\n\u001b[0;32m    152\u001b[0m       \u001b[0mfiltered_tb\u001b[0m \u001b[1;33m=\u001b[0m \u001b[0m_process_traceback_frames\u001b[0m\u001b[1;33m(\u001b[0m\u001b[0me\u001b[0m\u001b[1;33m.\u001b[0m\u001b[0m__traceback__\u001b[0m\u001b[1;33m)\u001b[0m\u001b[1;33m\u001b[0m\u001b[1;33m\u001b[0m\u001b[0m\n",
      "\u001b[1;32m~\\AppData\\Roaming\\Python\\Python38\\site-packages\\tensorflow\\python\\eager\\def_function.py\u001b[0m in \u001b[0;36m__call__\u001b[1;34m(self, *args, **kwds)\u001b[0m\n\u001b[0;32m    908\u001b[0m \u001b[1;33m\u001b[0m\u001b[0m\n\u001b[0;32m    909\u001b[0m       \u001b[1;32mwith\u001b[0m \u001b[0mOptionalXlaContext\u001b[0m\u001b[1;33m(\u001b[0m\u001b[0mself\u001b[0m\u001b[1;33m.\u001b[0m\u001b[0m_jit_compile\u001b[0m\u001b[1;33m)\u001b[0m\u001b[1;33m:\u001b[0m\u001b[1;33m\u001b[0m\u001b[1;33m\u001b[0m\u001b[0m\n\u001b[1;32m--> 910\u001b[1;33m         \u001b[0mresult\u001b[0m \u001b[1;33m=\u001b[0m \u001b[0mself\u001b[0m\u001b[1;33m.\u001b[0m\u001b[0m_call\u001b[0m\u001b[1;33m(\u001b[0m\u001b[1;33m*\u001b[0m\u001b[0margs\u001b[0m\u001b[1;33m,\u001b[0m \u001b[1;33m**\u001b[0m\u001b[0mkwds\u001b[0m\u001b[1;33m)\u001b[0m\u001b[1;33m\u001b[0m\u001b[1;33m\u001b[0m\u001b[0m\n\u001b[0m\u001b[0;32m    911\u001b[0m \u001b[1;33m\u001b[0m\u001b[0m\n\u001b[0;32m    912\u001b[0m       \u001b[0mnew_tracing_count\u001b[0m \u001b[1;33m=\u001b[0m \u001b[0mself\u001b[0m\u001b[1;33m.\u001b[0m\u001b[0mexperimental_get_tracing_count\u001b[0m\u001b[1;33m(\u001b[0m\u001b[1;33m)\u001b[0m\u001b[1;33m\u001b[0m\u001b[1;33m\u001b[0m\u001b[0m\n",
      "\u001b[1;32m~\\AppData\\Roaming\\Python\\Python38\\site-packages\\tensorflow\\python\\eager\\def_function.py\u001b[0m in \u001b[0;36m_call\u001b[1;34m(self, *args, **kwds)\u001b[0m\n\u001b[0;32m    940\u001b[0m       \u001b[1;31m# In this case we have created variables on the first call, so we run the\u001b[0m\u001b[1;33m\u001b[0m\u001b[1;33m\u001b[0m\u001b[1;33m\u001b[0m\u001b[0m\n\u001b[0;32m    941\u001b[0m       \u001b[1;31m# defunned version which is guaranteed to never create variables.\u001b[0m\u001b[1;33m\u001b[0m\u001b[1;33m\u001b[0m\u001b[1;33m\u001b[0m\u001b[0m\n\u001b[1;32m--> 942\u001b[1;33m       \u001b[1;32mreturn\u001b[0m \u001b[0mself\u001b[0m\u001b[1;33m.\u001b[0m\u001b[0m_stateless_fn\u001b[0m\u001b[1;33m(\u001b[0m\u001b[1;33m*\u001b[0m\u001b[0margs\u001b[0m\u001b[1;33m,\u001b[0m \u001b[1;33m**\u001b[0m\u001b[0mkwds\u001b[0m\u001b[1;33m)\u001b[0m  \u001b[1;31m# pylint: disable=not-callable\u001b[0m\u001b[1;33m\u001b[0m\u001b[1;33m\u001b[0m\u001b[0m\n\u001b[0m\u001b[0;32m    943\u001b[0m     \u001b[1;32melif\u001b[0m \u001b[0mself\u001b[0m\u001b[1;33m.\u001b[0m\u001b[0m_stateful_fn\u001b[0m \u001b[1;32mis\u001b[0m \u001b[1;32mnot\u001b[0m \u001b[1;32mNone\u001b[0m\u001b[1;33m:\u001b[0m\u001b[1;33m\u001b[0m\u001b[1;33m\u001b[0m\u001b[0m\n\u001b[0;32m    944\u001b[0m       \u001b[1;31m# Release the lock early so that multiple threads can perform the call\u001b[0m\u001b[1;33m\u001b[0m\u001b[1;33m\u001b[0m\u001b[1;33m\u001b[0m\u001b[0m\n",
      "\u001b[1;32m~\\AppData\\Roaming\\Python\\Python38\\site-packages\\tensorflow\\python\\eager\\function.py\u001b[0m in \u001b[0;36m__call__\u001b[1;34m(self, *args, **kwargs)\u001b[0m\n\u001b[0;32m   3128\u001b[0m       (graph_function,\n\u001b[0;32m   3129\u001b[0m        filtered_flat_args) = self._maybe_define_function(args, kwargs)\n\u001b[1;32m-> 3130\u001b[1;33m     return graph_function._call_flat(\n\u001b[0m\u001b[0;32m   3131\u001b[0m         filtered_flat_args, captured_inputs=graph_function.captured_inputs)  # pylint: disable=protected-access\n\u001b[0;32m   3132\u001b[0m \u001b[1;33m\u001b[0m\u001b[0m\n",
      "\u001b[1;32m~\\AppData\\Roaming\\Python\\Python38\\site-packages\\tensorflow\\python\\eager\\function.py\u001b[0m in \u001b[0;36m_call_flat\u001b[1;34m(self, args, captured_inputs, cancellation_manager)\u001b[0m\n\u001b[0;32m   1957\u001b[0m         and executing_eagerly):\n\u001b[0;32m   1958\u001b[0m       \u001b[1;31m# No tape is watching; skip to running the function.\u001b[0m\u001b[1;33m\u001b[0m\u001b[1;33m\u001b[0m\u001b[1;33m\u001b[0m\u001b[0m\n\u001b[1;32m-> 1959\u001b[1;33m       return self._build_call_outputs(self._inference_function.call(\n\u001b[0m\u001b[0;32m   1960\u001b[0m           ctx, args, cancellation_manager=cancellation_manager))\n\u001b[0;32m   1961\u001b[0m     forward_backward = self._select_forward_and_backward_functions(\n",
      "\u001b[1;32m~\\AppData\\Roaming\\Python\\Python38\\site-packages\\tensorflow\\python\\eager\\function.py\u001b[0m in \u001b[0;36mcall\u001b[1;34m(self, ctx, args, cancellation_manager)\u001b[0m\n\u001b[0;32m    596\u001b[0m       \u001b[1;32mwith\u001b[0m \u001b[0m_InterpolateFunctionError\u001b[0m\u001b[1;33m(\u001b[0m\u001b[0mself\u001b[0m\u001b[1;33m)\u001b[0m\u001b[1;33m:\u001b[0m\u001b[1;33m\u001b[0m\u001b[1;33m\u001b[0m\u001b[0m\n\u001b[0;32m    597\u001b[0m         \u001b[1;32mif\u001b[0m \u001b[0mcancellation_manager\u001b[0m \u001b[1;32mis\u001b[0m \u001b[1;32mNone\u001b[0m\u001b[1;33m:\u001b[0m\u001b[1;33m\u001b[0m\u001b[1;33m\u001b[0m\u001b[0m\n\u001b[1;32m--> 598\u001b[1;33m           outputs = execute.execute(\n\u001b[0m\u001b[0;32m    599\u001b[0m               \u001b[0mstr\u001b[0m\u001b[1;33m(\u001b[0m\u001b[0mself\u001b[0m\u001b[1;33m.\u001b[0m\u001b[0msignature\u001b[0m\u001b[1;33m.\u001b[0m\u001b[0mname\u001b[0m\u001b[1;33m)\u001b[0m\u001b[1;33m,\u001b[0m\u001b[1;33m\u001b[0m\u001b[1;33m\u001b[0m\u001b[0m\n\u001b[0;32m    600\u001b[0m               \u001b[0mnum_outputs\u001b[0m\u001b[1;33m=\u001b[0m\u001b[0mself\u001b[0m\u001b[1;33m.\u001b[0m\u001b[0m_num_outputs\u001b[0m\u001b[1;33m,\u001b[0m\u001b[1;33m\u001b[0m\u001b[1;33m\u001b[0m\u001b[0m\n",
      "\u001b[1;32m~\\AppData\\Roaming\\Python\\Python38\\site-packages\\tensorflow\\python\\eager\\execute.py\u001b[0m in \u001b[0;36mquick_execute\u001b[1;34m(op_name, num_outputs, inputs, attrs, ctx, name)\u001b[0m\n\u001b[0;32m     56\u001b[0m   \u001b[1;32mtry\u001b[0m\u001b[1;33m:\u001b[0m\u001b[1;33m\u001b[0m\u001b[1;33m\u001b[0m\u001b[0m\n\u001b[0;32m     57\u001b[0m     \u001b[0mctx\u001b[0m\u001b[1;33m.\u001b[0m\u001b[0mensure_initialized\u001b[0m\u001b[1;33m(\u001b[0m\u001b[1;33m)\u001b[0m\u001b[1;33m\u001b[0m\u001b[1;33m\u001b[0m\u001b[0m\n\u001b[1;32m---> 58\u001b[1;33m     tensors = pywrap_tfe.TFE_Py_Execute(ctx._handle, device_name, op_name,\n\u001b[0m\u001b[0;32m     59\u001b[0m                                         inputs, attrs, num_outputs)\n\u001b[0;32m     60\u001b[0m   \u001b[1;32mexcept\u001b[0m \u001b[0mcore\u001b[0m\u001b[1;33m.\u001b[0m\u001b[0m_NotOkStatusException\u001b[0m \u001b[1;32mas\u001b[0m \u001b[0me\u001b[0m\u001b[1;33m:\u001b[0m\u001b[1;33m\u001b[0m\u001b[1;33m\u001b[0m\u001b[0m\n",
      "\u001b[1;31mKeyboardInterrupt\u001b[0m: "
     ]
    }
   ],
   "source": [
    "model1.fit(x_train_1,y_train_1,epochs=10)"
   ]
  },
  {
   "cell_type": "code",
   "execution_count": 45,
   "id": "4194df33",
   "metadata": {},
   "outputs": [
    {
     "name": "stdout",
     "output_type": "stream",
     "text": [
      "541/541 [==============================] - 16s 30ms/step - loss: 0.1589 - mean_squared_error: 0.0670\n"
     ]
    },
    {
     "data": {
      "text/plain": [
       "[0.1588856428861618, 0.06703495234251022]"
      ]
     },
     "execution_count": 45,
     "metadata": {},
     "output_type": "execute_result"
    }
   ],
   "source": [
    "model1.evaluate(x_test_1,y_test_1)"
   ]
  },
  {
   "cell_type": "code",
   "execution_count": null,
   "id": "819df3f8",
   "metadata": {},
   "outputs": [],
   "source": []
  },
  {
   "cell_type": "code",
   "execution_count": 46,
   "id": "898bfa64",
   "metadata": {
    "scrolled": true
   },
   "outputs": [
    {
     "name": "stdout",
     "output_type": "stream",
     "text": [
      "Epoch 11/20\n",
      "  90/2161 [>.............................] - ETA: 4:38 - loss: 0.1816 - mean_squared_error: 0.0873"
     ]
    },
    {
     "ename": "KeyboardInterrupt",
     "evalue": "",
     "output_type": "error",
     "traceback": [
      "\u001b[1;31m---------------------------------------------------------------------------\u001b[0m",
      "\u001b[1;31mKeyboardInterrupt\u001b[0m                         Traceback (most recent call last)",
      "\u001b[1;32m<ipython-input-46-c4c04f91a6c6>\u001b[0m in \u001b[0;36m<module>\u001b[1;34m\u001b[0m\n\u001b[1;32m----> 1\u001b[1;33m \u001b[0mmodel4\u001b[0m\u001b[1;33m.\u001b[0m\u001b[0mfit\u001b[0m\u001b[1;33m(\u001b[0m\u001b[0mx_train_1\u001b[0m\u001b[1;33m,\u001b[0m\u001b[0my_train_1\u001b[0m\u001b[1;33m,\u001b[0m\u001b[0mepochs\u001b[0m\u001b[1;33m=\u001b[0m\u001b[1;36m20\u001b[0m\u001b[1;33m,\u001b[0m \u001b[0minitial_epoch\u001b[0m \u001b[1;33m=\u001b[0m\u001b[1;36m10\u001b[0m\u001b[1;33m)\u001b[0m\u001b[1;33m\u001b[0m\u001b[1;33m\u001b[0m\u001b[0m\n\u001b[0m",
      "\u001b[1;32m~\\AppData\\Roaming\\Python\\Python38\\site-packages\\keras\\utils\\traceback_utils.py\u001b[0m in \u001b[0;36merror_handler\u001b[1;34m(*args, **kwargs)\u001b[0m\n\u001b[0;32m     62\u001b[0m     \u001b[0mfiltered_tb\u001b[0m \u001b[1;33m=\u001b[0m \u001b[1;32mNone\u001b[0m\u001b[1;33m\u001b[0m\u001b[1;33m\u001b[0m\u001b[0m\n\u001b[0;32m     63\u001b[0m     \u001b[1;32mtry\u001b[0m\u001b[1;33m:\u001b[0m\u001b[1;33m\u001b[0m\u001b[1;33m\u001b[0m\u001b[0m\n\u001b[1;32m---> 64\u001b[1;33m       \u001b[1;32mreturn\u001b[0m \u001b[0mfn\u001b[0m\u001b[1;33m(\u001b[0m\u001b[1;33m*\u001b[0m\u001b[0margs\u001b[0m\u001b[1;33m,\u001b[0m \u001b[1;33m**\u001b[0m\u001b[0mkwargs\u001b[0m\u001b[1;33m)\u001b[0m\u001b[1;33m\u001b[0m\u001b[1;33m\u001b[0m\u001b[0m\n\u001b[0m\u001b[0;32m     65\u001b[0m     \u001b[1;32mexcept\u001b[0m \u001b[0mException\u001b[0m \u001b[1;32mas\u001b[0m \u001b[0me\u001b[0m\u001b[1;33m:\u001b[0m  \u001b[1;31m# pylint: disable=broad-except\u001b[0m\u001b[1;33m\u001b[0m\u001b[1;33m\u001b[0m\u001b[0m\n\u001b[0;32m     66\u001b[0m       \u001b[0mfiltered_tb\u001b[0m \u001b[1;33m=\u001b[0m \u001b[0m_process_traceback_frames\u001b[0m\u001b[1;33m(\u001b[0m\u001b[0me\u001b[0m\u001b[1;33m.\u001b[0m\u001b[0m__traceback__\u001b[0m\u001b[1;33m)\u001b[0m\u001b[1;33m\u001b[0m\u001b[1;33m\u001b[0m\u001b[0m\n",
      "\u001b[1;32m~\\AppData\\Roaming\\Python\\Python38\\site-packages\\keras\\engine\\training.py\u001b[0m in \u001b[0;36mfit\u001b[1;34m(self, x, y, batch_size, epochs, verbose, callbacks, validation_split, validation_data, shuffle, class_weight, sample_weight, initial_epoch, steps_per_epoch, validation_steps, validation_batch_size, validation_freq, max_queue_size, workers, use_multiprocessing)\u001b[0m\n\u001b[0;32m   1214\u001b[0m                 _r=1):\n\u001b[0;32m   1215\u001b[0m               \u001b[0mcallbacks\u001b[0m\u001b[1;33m.\u001b[0m\u001b[0mon_train_batch_begin\u001b[0m\u001b[1;33m(\u001b[0m\u001b[0mstep\u001b[0m\u001b[1;33m)\u001b[0m\u001b[1;33m\u001b[0m\u001b[1;33m\u001b[0m\u001b[0m\n\u001b[1;32m-> 1216\u001b[1;33m               \u001b[0mtmp_logs\u001b[0m \u001b[1;33m=\u001b[0m \u001b[0mself\u001b[0m\u001b[1;33m.\u001b[0m\u001b[0mtrain_function\u001b[0m\u001b[1;33m(\u001b[0m\u001b[0miterator\u001b[0m\u001b[1;33m)\u001b[0m\u001b[1;33m\u001b[0m\u001b[1;33m\u001b[0m\u001b[0m\n\u001b[0m\u001b[0;32m   1217\u001b[0m               \u001b[1;32mif\u001b[0m \u001b[0mdata_handler\u001b[0m\u001b[1;33m.\u001b[0m\u001b[0mshould_sync\u001b[0m\u001b[1;33m:\u001b[0m\u001b[1;33m\u001b[0m\u001b[1;33m\u001b[0m\u001b[0m\n\u001b[0;32m   1218\u001b[0m                 \u001b[0mcontext\u001b[0m\u001b[1;33m.\u001b[0m\u001b[0masync_wait\u001b[0m\u001b[1;33m(\u001b[0m\u001b[1;33m)\u001b[0m\u001b[1;33m\u001b[0m\u001b[1;33m\u001b[0m\u001b[0m\n",
      "\u001b[1;32m~\\AppData\\Roaming\\Python\\Python38\\site-packages\\tensorflow\\python\\util\\traceback_utils.py\u001b[0m in \u001b[0;36merror_handler\u001b[1;34m(*args, **kwargs)\u001b[0m\n\u001b[0;32m    148\u001b[0m     \u001b[0mfiltered_tb\u001b[0m \u001b[1;33m=\u001b[0m \u001b[1;32mNone\u001b[0m\u001b[1;33m\u001b[0m\u001b[1;33m\u001b[0m\u001b[0m\n\u001b[0;32m    149\u001b[0m     \u001b[1;32mtry\u001b[0m\u001b[1;33m:\u001b[0m\u001b[1;33m\u001b[0m\u001b[1;33m\u001b[0m\u001b[0m\n\u001b[1;32m--> 150\u001b[1;33m       \u001b[1;32mreturn\u001b[0m \u001b[0mfn\u001b[0m\u001b[1;33m(\u001b[0m\u001b[1;33m*\u001b[0m\u001b[0margs\u001b[0m\u001b[1;33m,\u001b[0m \u001b[1;33m**\u001b[0m\u001b[0mkwargs\u001b[0m\u001b[1;33m)\u001b[0m\u001b[1;33m\u001b[0m\u001b[1;33m\u001b[0m\u001b[0m\n\u001b[0m\u001b[0;32m    151\u001b[0m     \u001b[1;32mexcept\u001b[0m \u001b[0mException\u001b[0m \u001b[1;32mas\u001b[0m \u001b[0me\u001b[0m\u001b[1;33m:\u001b[0m\u001b[1;33m\u001b[0m\u001b[1;33m\u001b[0m\u001b[0m\n\u001b[0;32m    152\u001b[0m       \u001b[0mfiltered_tb\u001b[0m \u001b[1;33m=\u001b[0m \u001b[0m_process_traceback_frames\u001b[0m\u001b[1;33m(\u001b[0m\u001b[0me\u001b[0m\u001b[1;33m.\u001b[0m\u001b[0m__traceback__\u001b[0m\u001b[1;33m)\u001b[0m\u001b[1;33m\u001b[0m\u001b[1;33m\u001b[0m\u001b[0m\n",
      "\u001b[1;32m~\\AppData\\Roaming\\Python\\Python38\\site-packages\\tensorflow\\python\\eager\\def_function.py\u001b[0m in \u001b[0;36m__call__\u001b[1;34m(self, *args, **kwds)\u001b[0m\n\u001b[0;32m    908\u001b[0m \u001b[1;33m\u001b[0m\u001b[0m\n\u001b[0;32m    909\u001b[0m       \u001b[1;32mwith\u001b[0m \u001b[0mOptionalXlaContext\u001b[0m\u001b[1;33m(\u001b[0m\u001b[0mself\u001b[0m\u001b[1;33m.\u001b[0m\u001b[0m_jit_compile\u001b[0m\u001b[1;33m)\u001b[0m\u001b[1;33m:\u001b[0m\u001b[1;33m\u001b[0m\u001b[1;33m\u001b[0m\u001b[0m\n\u001b[1;32m--> 910\u001b[1;33m         \u001b[0mresult\u001b[0m \u001b[1;33m=\u001b[0m \u001b[0mself\u001b[0m\u001b[1;33m.\u001b[0m\u001b[0m_call\u001b[0m\u001b[1;33m(\u001b[0m\u001b[1;33m*\u001b[0m\u001b[0margs\u001b[0m\u001b[1;33m,\u001b[0m \u001b[1;33m**\u001b[0m\u001b[0mkwds\u001b[0m\u001b[1;33m)\u001b[0m\u001b[1;33m\u001b[0m\u001b[1;33m\u001b[0m\u001b[0m\n\u001b[0m\u001b[0;32m    911\u001b[0m \u001b[1;33m\u001b[0m\u001b[0m\n\u001b[0;32m    912\u001b[0m       \u001b[0mnew_tracing_count\u001b[0m \u001b[1;33m=\u001b[0m \u001b[0mself\u001b[0m\u001b[1;33m.\u001b[0m\u001b[0mexperimental_get_tracing_count\u001b[0m\u001b[1;33m(\u001b[0m\u001b[1;33m)\u001b[0m\u001b[1;33m\u001b[0m\u001b[1;33m\u001b[0m\u001b[0m\n",
      "\u001b[1;32m~\\AppData\\Roaming\\Python\\Python38\\site-packages\\tensorflow\\python\\eager\\def_function.py\u001b[0m in \u001b[0;36m_call\u001b[1;34m(self, *args, **kwds)\u001b[0m\n\u001b[0;32m    940\u001b[0m       \u001b[1;31m# In this case we have created variables on the first call, so we run the\u001b[0m\u001b[1;33m\u001b[0m\u001b[1;33m\u001b[0m\u001b[1;33m\u001b[0m\u001b[0m\n\u001b[0;32m    941\u001b[0m       \u001b[1;31m# defunned version which is guaranteed to never create variables.\u001b[0m\u001b[1;33m\u001b[0m\u001b[1;33m\u001b[0m\u001b[1;33m\u001b[0m\u001b[0m\n\u001b[1;32m--> 942\u001b[1;33m       \u001b[1;32mreturn\u001b[0m \u001b[0mself\u001b[0m\u001b[1;33m.\u001b[0m\u001b[0m_stateless_fn\u001b[0m\u001b[1;33m(\u001b[0m\u001b[1;33m*\u001b[0m\u001b[0margs\u001b[0m\u001b[1;33m,\u001b[0m \u001b[1;33m**\u001b[0m\u001b[0mkwds\u001b[0m\u001b[1;33m)\u001b[0m  \u001b[1;31m# pylint: disable=not-callable\u001b[0m\u001b[1;33m\u001b[0m\u001b[1;33m\u001b[0m\u001b[0m\n\u001b[0m\u001b[0;32m    943\u001b[0m     \u001b[1;32melif\u001b[0m \u001b[0mself\u001b[0m\u001b[1;33m.\u001b[0m\u001b[0m_stateful_fn\u001b[0m \u001b[1;32mis\u001b[0m \u001b[1;32mnot\u001b[0m \u001b[1;32mNone\u001b[0m\u001b[1;33m:\u001b[0m\u001b[1;33m\u001b[0m\u001b[1;33m\u001b[0m\u001b[0m\n\u001b[0;32m    944\u001b[0m       \u001b[1;31m# Release the lock early so that multiple threads can perform the call\u001b[0m\u001b[1;33m\u001b[0m\u001b[1;33m\u001b[0m\u001b[1;33m\u001b[0m\u001b[0m\n",
      "\u001b[1;32m~\\AppData\\Roaming\\Python\\Python38\\site-packages\\tensorflow\\python\\eager\\function.py\u001b[0m in \u001b[0;36m__call__\u001b[1;34m(self, *args, **kwargs)\u001b[0m\n\u001b[0;32m   3128\u001b[0m       (graph_function,\n\u001b[0;32m   3129\u001b[0m        filtered_flat_args) = self._maybe_define_function(args, kwargs)\n\u001b[1;32m-> 3130\u001b[1;33m     return graph_function._call_flat(\n\u001b[0m\u001b[0;32m   3131\u001b[0m         filtered_flat_args, captured_inputs=graph_function.captured_inputs)  # pylint: disable=protected-access\n\u001b[0;32m   3132\u001b[0m \u001b[1;33m\u001b[0m\u001b[0m\n",
      "\u001b[1;32m~\\AppData\\Roaming\\Python\\Python38\\site-packages\\tensorflow\\python\\eager\\function.py\u001b[0m in \u001b[0;36m_call_flat\u001b[1;34m(self, args, captured_inputs, cancellation_manager)\u001b[0m\n\u001b[0;32m   1957\u001b[0m         and executing_eagerly):\n\u001b[0;32m   1958\u001b[0m       \u001b[1;31m# No tape is watching; skip to running the function.\u001b[0m\u001b[1;33m\u001b[0m\u001b[1;33m\u001b[0m\u001b[1;33m\u001b[0m\u001b[0m\n\u001b[1;32m-> 1959\u001b[1;33m       return self._build_call_outputs(self._inference_function.call(\n\u001b[0m\u001b[0;32m   1960\u001b[0m           ctx, args, cancellation_manager=cancellation_manager))\n\u001b[0;32m   1961\u001b[0m     forward_backward = self._select_forward_and_backward_functions(\n",
      "\u001b[1;32m~\\AppData\\Roaming\\Python\\Python38\\site-packages\\tensorflow\\python\\eager\\function.py\u001b[0m in \u001b[0;36mcall\u001b[1;34m(self, ctx, args, cancellation_manager)\u001b[0m\n\u001b[0;32m    596\u001b[0m       \u001b[1;32mwith\u001b[0m \u001b[0m_InterpolateFunctionError\u001b[0m\u001b[1;33m(\u001b[0m\u001b[0mself\u001b[0m\u001b[1;33m)\u001b[0m\u001b[1;33m:\u001b[0m\u001b[1;33m\u001b[0m\u001b[1;33m\u001b[0m\u001b[0m\n\u001b[0;32m    597\u001b[0m         \u001b[1;32mif\u001b[0m \u001b[0mcancellation_manager\u001b[0m \u001b[1;32mis\u001b[0m \u001b[1;32mNone\u001b[0m\u001b[1;33m:\u001b[0m\u001b[1;33m\u001b[0m\u001b[1;33m\u001b[0m\u001b[0m\n\u001b[1;32m--> 598\u001b[1;33m           outputs = execute.execute(\n\u001b[0m\u001b[0;32m    599\u001b[0m               \u001b[0mstr\u001b[0m\u001b[1;33m(\u001b[0m\u001b[0mself\u001b[0m\u001b[1;33m.\u001b[0m\u001b[0msignature\u001b[0m\u001b[1;33m.\u001b[0m\u001b[0mname\u001b[0m\u001b[1;33m)\u001b[0m\u001b[1;33m,\u001b[0m\u001b[1;33m\u001b[0m\u001b[1;33m\u001b[0m\u001b[0m\n\u001b[0;32m    600\u001b[0m               \u001b[0mnum_outputs\u001b[0m\u001b[1;33m=\u001b[0m\u001b[0mself\u001b[0m\u001b[1;33m.\u001b[0m\u001b[0m_num_outputs\u001b[0m\u001b[1;33m,\u001b[0m\u001b[1;33m\u001b[0m\u001b[1;33m\u001b[0m\u001b[0m\n",
      "\u001b[1;32m~\\AppData\\Roaming\\Python\\Python38\\site-packages\\tensorflow\\python\\eager\\execute.py\u001b[0m in \u001b[0;36mquick_execute\u001b[1;34m(op_name, num_outputs, inputs, attrs, ctx, name)\u001b[0m\n\u001b[0;32m     56\u001b[0m   \u001b[1;32mtry\u001b[0m\u001b[1;33m:\u001b[0m\u001b[1;33m\u001b[0m\u001b[1;33m\u001b[0m\u001b[0m\n\u001b[0;32m     57\u001b[0m     \u001b[0mctx\u001b[0m\u001b[1;33m.\u001b[0m\u001b[0mensure_initialized\u001b[0m\u001b[1;33m(\u001b[0m\u001b[1;33m)\u001b[0m\u001b[1;33m\u001b[0m\u001b[1;33m\u001b[0m\u001b[0m\n\u001b[1;32m---> 58\u001b[1;33m     tensors = pywrap_tfe.TFE_Py_Execute(ctx._handle, device_name, op_name,\n\u001b[0m\u001b[0;32m     59\u001b[0m                                         inputs, attrs, num_outputs)\n\u001b[0;32m     60\u001b[0m   \u001b[1;32mexcept\u001b[0m \u001b[0mcore\u001b[0m\u001b[1;33m.\u001b[0m\u001b[0m_NotOkStatusException\u001b[0m \u001b[1;32mas\u001b[0m \u001b[0me\u001b[0m\u001b[1;33m:\u001b[0m\u001b[1;33m\u001b[0m\u001b[1;33m\u001b[0m\u001b[0m\n",
      "\u001b[1;31mKeyboardInterrupt\u001b[0m: "
     ]
    }
   ],
   "source": [
    "model1.fit(x_train_1,y_train_1,epochs=20, initial_epoch =10)"
   ]
  },
  {
   "cell_type": "code",
   "execution_count": 47,
   "id": "b4660272",
   "metadata": {},
   "outputs": [
    {
     "name": "stdout",
     "output_type": "stream",
     "text": [
      "541/541 [==============================] - 18s 33ms/step - loss: 0.1651 - mean_squared_error: 0.07234s - loss: 0.1662 - mean_s - ETA: 4s - loss: 0.1665 - me - ETA: 1s - loss: 0.1652  - ETA: 0s - loss: 0.1650 - mean_squared\n"
     ]
    },
    {
     "data": {
      "text/plain": [
       "[0.16512984037399292, 0.0723496675491333]"
      ]
     },
     "execution_count": 47,
     "metadata": {},
     "output_type": "execute_result"
    }
   ],
   "source": [
    "model1.evaluate(x_test_1,y_test_1)"
   ]
  },
  {
   "cell_type": "code",
   "execution_count": 231,
   "id": "ede42b80",
   "metadata": {},
   "outputs": [
    {
     "name": "stdout",
     "output_type": "stream",
     "text": [
      "INFO:tensorflow:Assets written to: NewData10_0.20\\assets\n"
     ]
    }
   ],
   "source": [
    "model1.save('NewData10_0.20')"
   ]
  },
  {
   "cell_type": "code",
   "execution_count": 10,
   "id": "2d7291de",
   "metadata": {},
   "outputs": [],
   "source": [
    "model1 = keras.models.load_model('NewData10_0.20')"
   ]
  },
  {
   "cell_type": "code",
   "execution_count": 11,
   "id": "a801e4d4",
   "metadata": {
    "scrolled": false
   },
   "outputs": [
    {
     "name": "stdout",
     "output_type": "stream",
     "text": [
      "541/541 [==============================] - 12s 21ms/step - loss: 0.1672 - mean_squared_error: 0.0731\n"
     ]
    },
    {
     "data": {
      "text/plain": [
       "[0.167168527841568, 0.07305897027254105]"
      ]
     },
     "execution_count": 11,
     "metadata": {},
     "output_type": "execute_result"
    }
   ],
   "source": [
    "model1.evaluate(x_test_1,y_test_1)"
   ]
  },
  {
   "cell_type": "code",
   "execution_count": 48,
   "id": "4f085e4a",
   "metadata": {
    "scrolled": false
   },
   "outputs": [
    {
     "name": "stdout",
     "output_type": "stream",
     "text": [
      "2161/2161 [==============================] - 62s 29ms/step - loss: 0.1638 - mean_squared_error: 0.0721\n"
     ]
    },
    {
     "data": {
      "text/plain": [
       "[0.16383397579193115, 0.07210865616798401]"
      ]
     },
     "execution_count": 48,
     "metadata": {},
     "output_type": "execute_result"
    }
   ],
   "source": [
    "model1.evaluate(x_train_1,y_train_1)"
   ]
  },
  {
   "cell_type": "code",
   "execution_count": 49,
   "id": "e373e8b2",
   "metadata": {},
   "outputs": [
    {
     "data": {
      "text/plain": [
       "array([[1.4912956],\n",
       "       [1.2715137],\n",
       "       [0.7059757],\n",
       "       ...,\n",
       "       [2.5176363],\n",
       "       [0.3590509],\n",
       "       [1.5001743]], dtype=float32)"
      ]
     },
     "execution_count": 49,
     "metadata": {},
     "output_type": "execute_result"
    }
   ],
   "source": [
    "y_pred = model1.predict(x_test_1)\n",
    "y_pred"
   ]
  },
  {
   "cell_type": "code",
   "execution_count": 50,
   "id": "c0e4ccc4",
   "metadata": {},
   "outputs": [
    {
     "data": {
      "image/png": "[encoded data removed]",
      "text/plain": [
       "<Figure size 576x288 with 1 Axes>"
      ]
     },
     "metadata": {
      "needs_background": "light"
     },
     "output_type": "display_data"
    }
   ],
   "source": [
    "error = y_test_1.reshape(-1,1)-y_pred\n",
    "error = error.reshape(1,-1).flatten()\n",
    "plt.figure(figsize=(8,4))\n",
    "sns.histplot(abs(error),bins =20)\n",
    "plt.yscale('log')\n",
    "plt.show()"
   ]
  },
  {
   "cell_type": "code",
   "execution_count": 24,
   "id": "b1b76bae",
   "metadata": {
    "scrolled": true
   },
   "outputs": [
    {
     "data": {
      "text/plain": [
       "17288"
      ]
     },
     "execution_count": 24,
     "metadata": {},
     "output_type": "execute_result"
    }
   ],
   "source": [
    "len(y_test_1)"
   ]
  },
  {
   "cell_type": "code",
   "execution_count": 51,
   "id": "c387f157",
   "metadata": {
    "scrolled": false
   },
   "outputs": [
    {
     "name": "stdout",
     "output_type": "stream",
     "text": [
      "MAE less than \"0.1\" (13589,)\n",
      "MAE less than \"0.5\" (16750,)\n",
      "MAE greater than \"0.5\" but less than \"1\" (432,)\n",
      "MAE greater than \"1\" but less than \"1.5\" (85,)\n",
      "MAE greater than \"1.5\" but less than \"2\" (20,)\n",
      "MAE greater than \"2\" but less than \"3\" (1,)\n"
     ]
    }
   ],
   "source": [
    "print('MAE less than \"0.1\"',np.array(np.where(error<=0.1)).flatten().shape)\n",
    "print('MAE less than \"0.5\"',np.array(np.where(error<=0.5)).flatten().shape)\n",
    "print('MAE greater than \"0.5\" but less than \"1\"',np.array(np.where( (error<=1) &(error>0.5) )).flatten().shape)\n",
    "print('MAE greater than \"1\" but less than \"1.5\"',np.array(np.where( (error<=1.5) &(error>1) )).flatten().shape)\n",
    "print('MAE greater than \"1.5\" but less than \"2\"',np.array(np.where( (error<=2) &(error>1.5) )).flatten().shape)\n",
    "print('MAE greater than \"2\" but less than \"3\"',np.array(np.where( (error<=2.5) &(error>2) )).flatten().shape)"
   ]
  },
  {
   "cell_type": "markdown",
   "id": "f03a66e3",
   "metadata": {},
   "source": [
    "## Model 2 "
   ]
  },
  {
   "cell_type": "code",
   "execution_count": 54,
   "id": "31c450da",
   "metadata": {},
   "outputs": [],
   "source": [
    "model2 = keras.Sequential([\n",
    "    keras.layers.Conv2D(filters = 144,kernel_size = (5,5), activation ='relu',input_shape=(32,32,1)),\n",
    "    keras.layers.MaxPooling2D((2,2)), \n",
    "    keras.layers.Dropout(0.2),\n",
    "    \n",
    "    keras.layers.Conv2D(filters = 176, kernel_size=(3,3), activation ='relu'),\n",
    "    keras.layers.MaxPooling2D((2,2)), \n",
    "    keras.layers.Dropout(0.2),\n",
    "    \n",
    "    keras.layers.Flatten(),\n",
    "    \n",
    "    keras.layers.Dense(240,activation='relu'),#256\n",
    "    keras.layers.Dense(160,activation='relu'),\n",
    "    keras.layers.Dense(176,activation='relu'),\n",
    "    keras.layers.Dense(1, activation= 'relu')])\n",
    "\n",
    "model2.compile(optimizer = keras.optimizers.Adam(learning_rate=0.001),\n",
    "              loss = keras.losses.mean_absolute_error,\n",
    "             metrics = keras.metrics.mean_squared_error)"
   ]
  },
  {
   "cell_type": "code",
   "execution_count": 55,
   "id": "b1eaf96c",
   "metadata": {
    "scrolled": true
   },
   "outputs": [
    {
     "name": "stdout",
     "output_type": "stream",
     "text": [
      "Epoch 1/10\n",
      "2161/2161 [==============================] - 364s 168ms/step - loss: 0.4535 - mean_squared_error: 0.3390\n",
      "Epoch 2/10\n",
      "2161/2161 [==============================] - 317s 147ms/step - loss: 0.3713 - mean_squared_error: 0.2495\n",
      "Epoch 3/10\n",
      "2161/2161 [==============================] - 300s 139ms/step - loss: 0.3293 - mean_squared_error: 0.2084\n",
      "Epoch 4/10\n",
      "2161/2161 [==============================] - 305s 141ms/step - loss: 0.2992 - mean_squared_error: 0.1816\n",
      "Epoch 5/10\n",
      "2161/2161 [==============================] - 323s 149ms/step - loss: 0.2779 - mean_squared_error: 0.1619\n",
      "Epoch 6/10\n",
      "2161/2161 [==============================] - 317s 147ms/step - loss: 0.2623 - mean_squared_error: 0.1476\n",
      "Epoch 7/10\n",
      "2161/2161 [==============================] - 356s 165ms/step - loss: 0.2491 - mean_squared_error: 0.1361\n",
      "Epoch 8/10\n",
      "2161/2161 [==============================] - 355s 164ms/step - loss: 0.2378 - mean_squared_error: 0.1269\n",
      "Epoch 9/10\n",
      "2161/2161 [==============================] - 353s 163ms/step - loss: 0.2291 - mean_squared_error: 0.1199\n",
      "Epoch 10/10\n",
      "2161/2161 [==============================] - 307s 142ms/step - loss: 0.2203 - mean_squared_error: 0.1129\n"
     ]
    },
    {
     "data": {
      "text/plain": [
       "<keras.callbacks.History at 0x254f43f0760>"
      ]
     },
     "execution_count": 55,
     "metadata": {},
     "output_type": "execute_result"
    }
   ],
   "source": [
    "model2.fit(x_train_1,y_train_1,epochs=10)"
   ]
  },
  {
   "cell_type": "code",
   "execution_count": 56,
   "id": "e8b3ba6d",
   "metadata": {},
   "outputs": [
    {
     "name": "stdout",
     "output_type": "stream",
     "text": [
      "541/541 [==============================] - 17s 31ms/step - loss: 0.2378 - mean_squared_error: 0.1349\n"
     ]
    },
    {
     "data": {
      "text/plain": [
       "[0.23784460127353668, 0.13490094244480133]"
      ]
     },
     "execution_count": 56,
     "metadata": {},
     "output_type": "execute_result"
    }
   ],
   "source": [
    "model2.evaluate(x_test_1,y_test_1)"
   ]
  },
  {
   "cell_type": "code",
   "execution_count": 57,
   "id": "6fc6d293",
   "metadata": {
    "scrolled": true
   },
   "outputs": [
    {
     "name": "stdout",
     "output_type": "stream",
     "text": [
      "Epoch 11/20\n",
      "2161/2161 [==============================] - 323s 149ms/step - loss: 0.2123 - mean_squared_error: 0.1057\n",
      "Epoch 12/20\n",
      "2161/2161 [==============================] - 364s 169ms/step - loss: 0.2054 - mean_squared_error: 0.1010\n",
      "Epoch 13/20\n",
      "2161/2161 [==============================] - 365s 169ms/step - loss: 0.2005 - mean_squared_error: 0.0970\n",
      "Epoch 14/20\n",
      "2161/2161 [==============================] - 357s 165ms/step - loss: 0.1956 - mean_squared_error: 0.0936\n",
      "Epoch 15/20\n",
      "2161/2161 [==============================] - 350s 162ms/step - loss: 0.1920 - mean_squared_error: 0.0913\n",
      "Epoch 16/20\n",
      "2161/2161 [==============================] - 364s 169ms/step - loss: 0.1876 - mean_squared_error: 0.0874\n",
      "Epoch 17/20\n",
      "2161/2161 [==============================] - 338s 157ms/step - loss: 0.1836 - mean_squared_error: 0.0838\n",
      "Epoch 18/20\n",
      "2161/2161 [==============================] - 309s 143ms/step - loss: 0.1797 - mean_squared_error: 0.0818\n",
      "Epoch 19/20\n",
      "2161/2161 [==============================] - 308s 142ms/step - loss: 0.1773 - mean_squared_error: 0.0802\n",
      "Epoch 20/20\n",
      "2161/2161 [==============================] - 306s 142ms/step - loss: 0.1752 - mean_squared_error: 0.0786\n"
     ]
    },
    {
     "data": {
      "text/plain": [
       "<keras.callbacks.History at 0x254f458a760>"
      ]
     },
     "execution_count": 57,
     "metadata": {},
     "output_type": "execute_result"
    }
   ],
   "source": [
    "model2.fit(x_train_1,y_train_1,epochs=20,initial_epoch=10)"
   ]
  },
  {
   "cell_type": "code",
   "execution_count": 58,
   "id": "1f621095",
   "metadata": {
    "scrolled": true
   },
   "outputs": [
    {
     "name": "stdout",
     "output_type": "stream",
     "text": [
      "541/541 [==============================] - 17s 32ms/step - loss: 0.2006 - mean_squared_error: 0.1033\n"
     ]
    },
    {
     "data": {
      "text/plain": [
       "[0.2005997598171234, 0.10333998501300812]"
      ]
     },
     "execution_count": 58,
     "metadata": {},
     "output_type": "execute_result"
    }
   ],
   "source": [
    "model2.evaluate(x_test_1,y_test_1)"
   ]
  },
  {
   "cell_type": "code",
   "execution_count": 60,
   "id": "fe8db5a8",
   "metadata": {
    "scrolled": false
   },
   "outputs": [
    {
     "data": {
      "text/plain": [
       "array([[1.5233406 ],\n",
       "       [1.8907539 ],\n",
       "       [0.68661004],\n",
       "       ...,\n",
       "       [2.5428696 ],\n",
       "       [0.38522524],\n",
       "       [0.97506696]], dtype=float32)"
      ]
     },
     "execution_count": 60,
     "metadata": {},
     "output_type": "execute_result"
    }
   ],
   "source": [
    "y_pred = model2.predict(x_test_1)\n",
    "y_pred"
   ]
  },
  {
   "cell_type": "code",
   "execution_count": 72,
   "id": "a04c366c",
   "metadata": {
    "scrolled": true
   },
   "outputs": [
    {
     "data": {
      "image/png": "[encoded data removed]",
      "text/plain": [
       "<Figure size 432x288 with 1 Axes>"
      ]
     },
     "metadata": {
      "needs_background": "light"
     },
     "output_type": "display_data"
    }
   ],
   "source": [
    "difference = y_test_1.reshape(-1,1)- y_pred\n",
    "difference = difference.reshape(1,-1).flatten()\n",
    "sns.histplot(abs(difference),bins = 20)\n",
    "plt.yscale('log')\n",
    "plt.show()"
   ]
  },
  {
   "cell_type": "code",
   "execution_count": 73,
   "id": "5df4c63c",
   "metadata": {
    "scrolled": true
   },
   "outputs": [
    {
     "name": "stdout",
     "output_type": "stream",
     "text": [
      "MAE less than \"0.1\" (13078,)\n",
      "MAE less than \"0.5\" (16458,)\n",
      "MAE greater than \"0.5\" but less than \"1\" (660,)\n",
      "MAE greater than \"1\" but less than \"1.5\" (133,)\n",
      "MAE greater than \"1.5\" but less than \"2\" (34,)\n",
      "MAE greater than \"2\" but less than \"3\" (3,)\n"
     ]
    }
   ],
   "source": [
    "print('MAE less than \"0.1\"',np.array(np.where(difference<=0.1)).flatten().shape)\n",
    "print('MAE less than \"0.5\"',np.array(np.where(difference<=0.5)).flatten().shape)\n",
    "print('MAE greater than \"0.5\" but less than \"1\"',np.array(np.where( (difference<=1) &(difference>0.5) )).flatten().shape)\n",
    "print('MAE greater than \"1\" but less than \"1.5\"',np.array(np.where( (difference<=1.5) &(difference>1) )).flatten().shape)\n",
    "print('MAE greater than \"1.5\" but less than \"2\"',np.array(np.where( (difference<=2) &(difference>1.5) )).flatten().shape)\n",
    "print('MAE greater than \"2\" but less than \"3\"',np.array(np.where( (difference<=3) &(difference>2) )).flatten().shape)"
   ]
  },
  {
   "cell_type": "code",
   "execution_count": 74,
   "id": "1c31d221",
   "metadata": {
    "scrolled": true
   },
   "outputs": [
    {
     "data": {
      "text/plain": [
       "2.212350589168274"
      ]
     },
     "execution_count": 74,
     "metadata": {},
     "output_type": "execute_result"
    }
   ],
   "source": [
    "max(difference)"
   ]
  },
  {
   "cell_type": "code",
   "execution_count": null,
   "id": "9211de4a",
   "metadata": {},
   "outputs": [],
   "source": [
    "# SAve the model "
   ]
  },
  {
   "cell_type": "markdown",
   "id": "93ff241d",
   "metadata": {},
   "source": [
    "## MOdel 3 "
   ]
  },
  {
   "cell_type": "code",
   "execution_count": null,
   "id": "ad434b63",
   "metadata": {},
   "outputs": [],
   "source": [
    "#96\n",
    "#176\n",
    "#240"
   ]
  },
  {
   "cell_type": "code",
   "execution_count": 79,
   "id": "a22bea2b",
   "metadata": {},
   "outputs": [],
   "source": [
    "model3 = keras.Sequential([\n",
    "    keras.layers.Conv2D(filters = 192,kernel_size = (5,5), activation ='relu',input_shape=(32,32,1)), \n",
    "    keras.layers.MaxPooling2D((2,2)), \n",
    "    keras.layers.Dropout(0.2),\n",
    "    \n",
    "    keras.layers.Conv2D(filters = 352, kernel_size=(3,3), activation ='relu'),\n",
    "    keras.layers.MaxPooling2D((2,2)), \n",
    "    keras.layers.Dropout(0.2),\n",
    "    \n",
    "    keras.layers.Flatten(),\n",
    "    \n",
    "    keras.layers.Dense(480,activation='relu'),\n",
    "    keras.layers.Dense(160,activation='relu'),\n",
    "    keras.layers.Dense(176,activation='relu'),\n",
    "    keras.layers.Dense(1, activation= 'relu')])\n",
    "\n",
    "model3.compile(optimizer = keras.optimizers.Adam(learning_rate=0.001),\n",
    "              loss = keras.losses.mean_absolute_error,\n",
    "             metrics = keras.metrics.mean_squared_error)"
   ]
  },
  {
   "cell_type": "code",
   "execution_count": 80,
   "id": "6a8457e2",
   "metadata": {
    "scrolled": true
   },
   "outputs": [
    {
     "name": "stdout",
     "output_type": "stream",
     "text": [
      "Epoch 1/10\n",
      "2161/2161 [==============================] - 692s 320ms/step - loss: 0.4450 - mean_squared_error: 0.3274\n",
      "Epoch 2/10\n",
      "2161/2161 [==============================] - 725s 335ms/step - loss: 0.3591 - mean_squared_error: 0.2376\n",
      "Epoch 3/10\n",
      "2161/2161 [==============================] - 663s 307ms/step - loss: 0.3094 - mean_squared_error: 0.1897\n",
      "Epoch 4/10\n",
      "2161/2161 [==============================] - 698s 323ms/step - loss: 0.2794 - mean_squared_error: 0.1642\n",
      "Epoch 5/10\n",
      "2161/2161 [==============================] - 662s 306ms/step - loss: 0.2566 - mean_squared_error: 0.1438\n",
      "Epoch 6/10\n",
      "2161/2161 [==============================] - 726s 336ms/step - loss: 0.2401 - mean_squared_error: 0.1295\n",
      "Epoch 7/10\n",
      "2161/2161 [==============================] - 732s 339ms/step - loss: 0.2269 - mean_squared_error: 0.1190\n",
      "Epoch 8/10\n",
      "2161/2161 [==============================] - 687s 318ms/step - loss: 0.2161 - mean_squared_error: 0.1102\n",
      "Epoch 9/10\n",
      "2161/2161 [==============================] - 630s 291ms/step - loss: 0.2056 - mean_squared_error: 0.1014\n",
      "Epoch 10/10\n",
      "2161/2161 [==============================] - 712s 330ms/step - loss: 0.1980 - mean_squared_error: 0.0961\n"
     ]
    },
    {
     "data": {
      "text/plain": [
       "<keras.callbacks.History at 0x255fc2409d0>"
      ]
     },
     "execution_count": 80,
     "metadata": {},
     "output_type": "execute_result"
    }
   ],
   "source": [
    "model3.fit(x_train_1,y_train_1,epochs=10)"
   ]
  },
  {
   "cell_type": "code",
   "execution_count": 81,
   "id": "5d7b9ebf",
   "metadata": {},
   "outputs": [
    {
     "name": "stdout",
     "output_type": "stream",
     "text": [
      "541/541 [==============================] - 44s 82ms/step - loss: 0.2187 - mean_squared_error: 0.1175\n"
     ]
    },
    {
     "data": {
      "text/plain": [
       "[0.2186780422925949, 0.11747456341981888]"
      ]
     },
     "execution_count": 81,
     "metadata": {},
     "output_type": "execute_result"
    }
   ],
   "source": [
    "model3.evaluate(x_test_1,y_test_1)"
   ]
  },
  {
   "cell_type": "code",
   "execution_count": 82,
   "id": "b72ba105",
   "metadata": {
    "scrolled": true
   },
   "outputs": [
    {
     "name": "stdout",
     "output_type": "stream",
     "text": [
      "Epoch 11/20\n",
      "2161/2161 [==============================] - 653s 302ms/step - loss: 0.1901 - mean_squared_error: 0.0897\n",
      "Epoch 12/20\n",
      "2161/2161 [==============================] - 624s 289ms/step - loss: 0.1845 - mean_squared_error: 0.0858\n",
      "Epoch 13/20\n",
      "2161/2161 [==============================] - 679s 314ms/step - loss: 0.1785 - mean_squared_error: 0.0813\n",
      "Epoch 14/20\n",
      "2161/2161 [==============================] - 633s 293ms/step - loss: 0.1736 - mean_squared_error: 0.0787\n",
      "Epoch 15/20\n",
      "2161/2161 [==============================] - 633s 293ms/step - loss: 0.1692 - mean_squared_error: 0.0752\n",
      "Epoch 16/20\n",
      "2161/2161 [==============================] - 688s 318ms/step - loss: 0.1654 - mean_squared_error: 0.0727\n",
      "Epoch 17/20\n",
      "2161/2161 [==============================] - 612s 283ms/step - loss: 0.1613 - mean_squared_error: 0.0693\n",
      "Epoch 18/20\n",
      "2161/2161 [==============================] - 707s 327ms/step - loss: 0.1588 - mean_squared_error: 0.0677\n",
      "Epoch 19/20\n",
      "2161/2161 [==============================] - 738s 341ms/step - loss: 0.1556 - mean_squared_error: 0.0658\n",
      "Epoch 20/20\n",
      "2161/2161 [==============================] - 731s 338ms/step - loss: 0.1528 - mean_squared_error: 0.0642\n"
     ]
    },
    {
     "data": {
      "text/plain": [
       "<keras.callbacks.History at 0x255fdb5acd0>"
      ]
     },
     "execution_count": 82,
     "metadata": {},
     "output_type": "execute_result"
    }
   ],
   "source": [
    "model3.fit(x_train_1,y_train_1,epochs=20,initial_epoch = 10)"
   ]
  },
  {
   "cell_type": "code",
   "execution_count": 83,
   "id": "2f6b29c0",
   "metadata": {
    "scrolled": true
   },
   "outputs": [
    {
     "name": "stdout",
     "output_type": "stream",
     "text": [
      "541/541 [==============================] - 41s 76ms/step - loss: 0.1962 - mean_squared_error: 0.1000\n"
     ]
    },
    {
     "data": {
      "text/plain": [
       "[0.19623124599456787, 0.10003992915153503]"
      ]
     },
     "execution_count": 83,
     "metadata": {},
     "output_type": "execute_result"
    }
   ],
   "source": [
    "model3.evaluate(x_test_1,y_test_1)"
   ]
  },
  {
   "cell_type": "code",
   "execution_count": 84,
   "id": "a7d79eb8",
   "metadata": {},
   "outputs": [
    {
     "data": {
      "text/plain": [
       "array([[1.5023911 ],\n",
       "       [1.314765  ],\n",
       "       [0.7058426 ],\n",
       "       ...,\n",
       "       [2.6236212 ],\n",
       "       [0.32967535],\n",
       "       [0.79158235]], dtype=float32)"
      ]
     },
     "execution_count": 84,
     "metadata": {},
     "output_type": "execute_result"
    }
   ],
   "source": [
    "y_pred_3 = model3.predict(x_test_1)\n",
    "y_pred_3"
   ]
  },
  {
   "cell_type": "code",
   "execution_count": 85,
   "id": "2b6e9d1f",
   "metadata": {
    "scrolled": true
   },
   "outputs": [
    {
     "data": {
      "image/png": "[encoded data removed]",
      "text/plain": [
       "<Figure size 432x288 with 1 Axes>"
      ]
     },
     "metadata": {
      "needs_background": "light"
     },
     "output_type": "display_data"
    }
   ],
   "source": [
    "difference_3 = y_test_1.reshape(-1,1)- y_pred_3\n",
    "difference_3 = difference_3.reshape(1,-1).flatten()\n",
    "sns.histplot(abs(difference_3),bins = 20)\n",
    "plt.yscale('log')\n",
    "plt.show()"
   ]
  },
  {
   "cell_type": "code",
   "execution_count": 87,
   "id": "cb716ff8",
   "metadata": {},
   "outputs": [
    {
     "name": "stdout",
     "output_type": "stream",
     "text": [
      "MAE less than \"0.1\" (13085,)\n",
      "MAE less than \"0.5\" (16504,)\n",
      "MAE greater than \"0.5\" but less than \"1\" (609,)\n",
      "MAE greater than \"1\" but less than \"1.5\" (139,)\n",
      "MAE greater than \"1.5\" but less than \"2\" (28,)\n",
      "MAE greater than \"2\" but less than \"3\" (8,)\n"
     ]
    }
   ],
   "source": [
    "print('MAE less than \"0.1\"',np.array(np.where(difference_3<=0.1)).flatten().shape)\n",
    "print('MAE less than \"0.5\"',np.array(np.where(difference_3<=0.5)).flatten().shape)\n",
    "print('MAE greater than \"0.5\" but less than \"1\"',np.array(np.where( (difference_3<=1) &(difference_3>0.5) )).flatten().shape)\n",
    "print('MAE greater than \"1\" but less than \"1.5\"',np.array(np.where( (difference_3<=1.5) &(difference_3>1) )).flatten().shape)\n",
    "print('MAE greater than \"1.5\" but less than \"2\"',np.array(np.where( (difference_3<=2) &(difference_3>1.5) )).flatten().shape)\n",
    "print('MAE greater than \"2\" but less than \"3\"',np.array(np.where( (difference_3<=2.5) &(difference_3>2) )).flatten().shape)"
   ]
  },
  {
   "cell_type": "code",
   "execution_count": 88,
   "id": "ec2282ae",
   "metadata": {},
   "outputs": [
    {
     "name": "stdout",
     "output_type": "stream",
     "text": [
      "INFO:tensorflow:Assets written to: Data10Combined_model3\\assets\n"
     ]
    }
   ],
   "source": [
    "#model3.save('Data10Combined_model3')"
   ]
  },
  {
   "cell_type": "markdown",
   "id": "ed96fdec",
   "metadata": {},
   "source": [
    "## model3 functional api plus external attributes "
   ]
  },
  {
   "cell_type": "code",
   "execution_count": 44,
   "id": "95bb467b",
   "metadata": {
    "scrolled": true
   },
   "outputs": [
    {
     "name": "stdout",
     "output_type": "stream",
     "text": [
      "Model: \"model_6\"\n",
      "__________________________________________________________________________________________________\n",
      " Layer (type)                   Output Shape         Param #     Connected to                     \n",
      "==================================================================================================\n",
      " input_12 (InputLayer)          [(None, 32, 32, 1)]  0           []                               \n",
      "                                                                                                  \n",
      " conv2d_6 (Conv2D)              (None, 28, 28, 192)  4992        ['input_12[0][0]']               \n",
      "                                                                                                  \n",
      " max_pooling2d_6 (MaxPooling2D)  (None, 14, 14, 192)  0          ['conv2d_6[0][0]']               \n",
      "                                                                                                  \n",
      " dropout_6 (Dropout)            (None, 14, 14, 192)  0           ['max_pooling2d_6[0][0]']        \n",
      "                                                                                                  \n",
      " conv2d_7 (Conv2D)              (None, 12, 12, 352)  608608      ['dropout_6[0][0]']              \n",
      "                                                                                                  \n",
      " input_13 (InputLayer)          [(None, 12)]         0           []                               \n",
      "                                                                                                  \n",
      " max_pooling2d_7 (MaxPooling2D)  (None, 6, 6, 352)   0           ['conv2d_7[0][0]']               \n",
      "                                                                                                  \n",
      " dense_27 (Dense)               (None, 200)          2600        ['input_13[0][0]']               \n",
      "                                                                                                  \n",
      " dropout_7 (Dropout)            (None, 6, 6, 352)    0           ['max_pooling2d_7[0][0]']        \n",
      "                                                                                                  \n",
      " dense_28 (Dense)               (None, 100)          20100       ['dense_27[0][0]']               \n",
      "                                                                                                  \n",
      " flatten_3 (Flatten)            (None, 12672)        0           ['dropout_7[0][0]']              \n",
      "                                                                                                  \n",
      " dense_29 (Dense)               (None, 10)           1010        ['dense_28[0][0]']               \n",
      "                                                                                                  \n",
      " concatenate_2 (Concatenate)    (None, 12682)        0           ['flatten_3[0][0]',              \n",
      "                                                                  'dense_29[0][0]']               \n",
      "                                                                                                  \n",
      " dense_30 (Dense)               (None, 480)          6087840     ['concatenate_2[0][0]']          \n",
      "                                                                                                  \n",
      " dense_31 (Dense)               (None, 160)          76960       ['dense_30[0][0]']               \n",
      "                                                                                                  \n",
      " dense_32 (Dense)               (None, 176)          28336       ['dense_31[0][0]']               \n",
      "                                                                                                  \n",
      " dense_33 (Dense)               (None, 1)            177         ['dense_32[0][0]']               \n",
      "                                                                                                  \n",
      "==================================================================================================\n",
      "Total params: 6,830,623\n",
      "Trainable params: 6,830,623\n",
      "Non-trainable params: 0\n",
      "__________________________________________________________________________________________________\n"
     ]
    }
   ],
   "source": [
    "Input1 = keras.layers.Input(shape=(32,32,1))\n",
    "Input2 = keras.layers.Input(shape =(12,))\n",
    "\n",
    "#Filter 1 \n",
    "Conv1 = keras.layers.Conv2D(192, kernel_size=(5,5), activation ='relu')(Input1)\n",
    "maxpooling1 = keras.layers.MaxPool2D((2,2))(Conv1)\n",
    "dropout1 = keras.layers.Dropout(0.2)(maxpooling1)\n",
    "\n",
    "Conv2 = keras.layers.Conv2D(352, kernel_size=(3,3), activation ='relu')(dropout1)\n",
    "maxpooling2 = keras.layers.MaxPool2D((2,2))(Conv2)\n",
    "dropout2= keras.layers.Dropout(0.2)(maxpooling2)\n",
    "\n",
    "flatten1 = keras.layers.Flatten()(dropout2)\n",
    "\n",
    "# Dense Layer for other attributes \n",
    "D1 = keras.layers.Dense(200, activation = 'relu')(Input2)\n",
    "D2 = keras.layers.Dense(100, activation = 'relu')(D1)\n",
    "#dp1= keras.layers.Dropout(0.2)(D2)\n",
    "ot = keras.layers.Dense(10, activation = 'relu')(D2)\n",
    "\n",
    "\n",
    "#merge \n",
    "merge = keras.layers.concatenate([flatten1,ot])\n",
    "\n",
    "# Dense Layers \n",
    "Dense1 = keras.layers.Dense(480, activation = 'relu')(merge)\n",
    "#dropout3= keras.layers.Dropout(0.2)(Dense1)\n",
    "Dense2 = keras.layers.Dense(160, activation = 'relu')(Dense1)\n",
    "Dense3 = keras.layers.Dense(176, activation = 'relu')(Dense2)\n",
    "#Dropout4 = keras.layers.Dropout(0.2)(Dense3)\n",
    "output = keras.layers.Dense(1, activation = 'relu')(Dense3)\n",
    "\n",
    "model_func_api = keras.Model(inputs = [Input1,Input2],outputs = output)\n",
    "\n",
    "model_func_api.compile(optimizer = keras.optimizers.Adam(learning_rate=0.001),\n",
    "              loss = keras.losses.mean_absolute_error,\n",
    "             metrics = keras.metrics.mean_squared_error)\n",
    "\n",
    "model_func_api.summary()"
   ]
  },
  {
   "cell_type": "code",
   "execution_count": 45,
   "id": "43dd0ba4",
   "metadata": {
    "scrolled": true
   },
   "outputs": [
    {
     "name": "stdout",
     "output_type": "stream",
     "text": [
      "Epoch 1/10\n",
      "2161/2161 [==============================] - 639s 295ms/step - loss: 0.3599 - mean_squared_error: 0.2290\n",
      "Epoch 2/10\n",
      "2161/2161 [==============================] - 680s 314ms/step - loss: 0.2674 - mean_squared_error: 0.1470\n",
      "Epoch 3/10\n",
      "2161/2161 [==============================] - 731s 338ms/step - loss: 0.2307 - mean_squared_error: 0.1182\n",
      "Epoch 4/10\n",
      "2161/2161 [==============================] - 631s 292ms/step - loss: 0.2041 - mean_squared_error: 0.0982\n",
      "Epoch 5/10\n",
      "2161/2161 [==============================] - 624s 289ms/step - loss: 0.1867 - mean_squared_error: 0.0858\n",
      "Epoch 6/10\n",
      "2161/2161 [==============================] - 628s 290ms/step - loss: 0.1743 - mean_squared_error: 0.0766\n",
      "Epoch 7/10\n",
      "2161/2161 [==============================] - 625s 289ms/step - loss: 0.1646 - mean_squared_error: 0.0703\n",
      "Epoch 8/10\n",
      "2161/2161 [==============================] - 681s 315ms/step - loss: 0.1561 - mean_squared_error: 0.0647\n",
      "Epoch 9/10\n",
      "2161/2161 [==============================] - 725s 335ms/step - loss: 0.1505 - mean_squared_error: 0.0613\n",
      "Epoch 10/10\n",
      "2161/2161 [==============================] - 692s 320ms/step - loss: 0.1440 - mean_squared_error: 0.0574\n"
     ]
    },
    {
     "data": {
      "text/plain": [
       "<keras.callbacks.History at 0x19ef525dd00>"
      ]
     },
     "execution_count": 45,
     "metadata": {},
     "output_type": "execute_result"
    }
   ],
   "source": [
    "model_func_api.fit([x_train_images,x_train_data],y_train_thck,epochs =10)"
   ]
  },
  {
   "cell_type": "code",
   "execution_count": 46,
   "id": "9c897c9c",
   "metadata": {
    "scrolled": true
   },
   "outputs": [
    {
     "name": "stdout",
     "output_type": "stream",
     "text": [
      "541/541 [==============================] - 39s 71ms/step - loss: 0.1611 - mean_squared_error: 0.0715\n"
     ]
    },
    {
     "data": {
      "text/plain": [
       "[0.1610921323299408, 0.07146190106868744]"
      ]
     },
     "execution_count": 46,
     "metadata": {},
     "output_type": "execute_result"
    }
   ],
   "source": [
    "model_func_api.evaluate([x_test_images,x_test_data],y_test_thck)"
   ]
  },
  {
   "cell_type": "code",
   "execution_count": 67,
   "id": "9baee4dc",
   "metadata": {},
   "outputs": [
    {
     "name": "stdout",
     "output_type": "stream",
     "text": [
      "Epoch 11/15\n",
      "2161/2161 [==============================] - 718s 332ms/step - loss: 0.1395 - mean_squared_error: 0.0550\n",
      "Epoch 12/15\n",
      "2161/2161 [==============================] - 717s 332ms/step - loss: 0.1358 - mean_squared_error: 0.0526\n",
      "Epoch 13/15\n",
      "2161/2161 [==============================] - 718s 332ms/step - loss: 0.1333 - mean_squared_error: 0.0510\n",
      "Epoch 14/15\n",
      "2161/2161 [==============================] - 719s 333ms/step - loss: 0.1286 - mean_squared_error: 0.0484\n",
      "Epoch 15/15\n",
      "2161/2161 [==============================] - 658s 304ms/step - loss: 0.1264 - mean_squared_error: 0.0473\n"
     ]
    },
    {
     "data": {
      "text/plain": [
       "<keras.callbacks.History at 0x19ef615d220>"
      ]
     },
     "execution_count": 67,
     "metadata": {},
     "output_type": "execute_result"
    }
   ],
   "source": [
    "model_func_api.fit([x_train_images,x_train_data],y_train_thck,epochs =15,initial_epoch=10)"
   ]
  },
  {
   "cell_type": "code",
   "execution_count": 68,
   "id": "ab2acf57",
   "metadata": {},
   "outputs": [
    {
     "name": "stdout",
     "output_type": "stream",
     "text": [
      "541/541 [==============================] - 36s 67ms/step - loss: 0.1524 - mean_squared_error: 0.0616\n"
     ]
    },
    {
     "data": {
      "text/plain": [
       "[0.15239307284355164, 0.061636894941329956]"
      ]
     },
     "execution_count": 68,
     "metadata": {},
     "output_type": "execute_result"
    }
   ],
   "source": [
    "model_func_api.evaluate([x_test_images,x_test_data],y_test_thck)"
   ]
  },
  {
   "cell_type": "code",
   "execution_count": 69,
   "id": "839068fe",
   "metadata": {},
   "outputs": [
    {
     "data": {
      "text/plain": [
       "array([[1.6697097 ],\n",
       "       [1.9022076 ],\n",
       "       [0.70145816],\n",
       "       ...,\n",
       "       [2.4632542 ],\n",
       "       [0.16634607],\n",
       "       [1.315175  ]], dtype=float32)"
      ]
     },
     "execution_count": 69,
     "metadata": {},
     "output_type": "execute_result"
    }
   ],
   "source": [
    "y_pred_thck = model_func_api.predict([x_test_images,x_test_data])\n",
    "y_pred_thck"
   ]
  },
  {
   "cell_type": "code",
   "execution_count": 70,
   "id": "bf3f4d1d",
   "metadata": {},
   "outputs": [
    {
     "data": {
      "image/png": "[encoded data removed]",
      "text/plain": [
       "<Figure size 432x288 with 1 Axes>"
      ]
     },
     "metadata": {
      "needs_background": "light"
     },
     "output_type": "display_data"
    }
   ],
   "source": [
    "difference_3_api = (np.array(y_test_thck)- y_pred_thck).reshape(1,-1).flatten()\n",
    "sns.histplot(abs(difference_3_api),bins = 20)\n",
    "plt.yscale('log')\n",
    "plt.show()"
   ]
  },
  {
   "cell_type": "code",
   "execution_count": 71,
   "id": "53510926",
   "metadata": {},
   "outputs": [
    {
     "name": "stdout",
     "output_type": "stream",
     "text": [
      "MAE less than \"0.1\" (9586,)\n",
      "MAE less than \"0.2\" (3735,)\n",
      "MAE less than \"0.5\" (16262,)\n",
      "MAE greater than \"0.5\" but less than \"1\" (869,)\n",
      "MAE greater than \"1\" but less than \"1.5\" (141,)\n",
      "MAE greater than \"1.5\" but less than 1.996995633576538 (16,)\n"
     ]
    }
   ],
   "source": [
    "difference_3_api = abs(difference_3_api)\n",
    "print('MAE less than \"0.1\"',np.array(np.where(difference_3_api<=0.1)).flatten().shape)\n",
    "print('MAE less than \"0.2\"',np.array(np.where( (difference_3_api>0.1) & (difference_3_api<=0.2) ) ).flatten().shape)\n",
    "print('MAE less than \"0.5\"',np.array(np.where(difference_3_api<=0.5)).flatten().shape)\n",
    "print('MAE greater than \"0.5\" but less than \"1\"',np.array(np.where( (difference_3_api<=1) &(difference_3_api>0.5) )).flatten().shape)\n",
    "print('MAE greater than \"1\" but less than \"1.5\"',np.array(np.where( (difference_3_api<=1.5) &(difference_3_api>1) )).flatten().shape)\n",
    "print('MAE greater than \"1.5\" but less than',max(difference_3_api),np.array(np.where( (difference_3_api<=max(difference_3_api)) &(difference_3_api>1.5) )).flatten().shape)"
   ]
  },
  {
   "cell_type": "code",
   "execution_count": 72,
   "id": "b0ad141f",
   "metadata": {},
   "outputs": [
    {
     "name": "stdout",
     "output_type": "stream",
     "text": [
      "INFO:tensorflow:Assets written to: 1st_FunctionalModel_0.15MAE\\assets\n"
     ]
    }
   ],
   "source": [
    "model_func_api.save('1st_FunctionalModel_0.15MAE')"
   ]
  },
  {
   "cell_type": "code",
   "execution_count": 73,
   "id": "492faa4d",
   "metadata": {},
   "outputs": [
    {
     "data": {
      "text/plain": [
       "17288"
      ]
     },
     "execution_count": 73,
     "metadata": {},
     "output_type": "execute_result"
    }
   ],
   "source": [
    "len(x_test_images)"
   ]
  },
  {
   "cell_type": "code",
   "execution_count": null,
   "id": "bfcdfda5",
   "metadata": {},
   "outputs": [],
   "source": [
    "# 94% of data has a difference of 0.5 \n"
   ]
  },
  {
   "cell_type": "code",
   "execution_count": 74,
   "id": "f3c19056",
   "metadata": {},
   "outputs": [
    {
     "data": {
      "text/plain": [
       "array([0.06152734, 0.02547681, 0.00290481, ..., 0.07254567, 0.16462172,\n",
       "       0.63670517])"
      ]
     },
     "execution_count": 74,
     "metadata": {},
     "output_type": "execute_result"
    }
   ],
   "source": [
    "difference_3_api"
   ]
  },
  {
   "cell_type": "markdown",
   "id": "1a7f95c1",
   "metadata": {},
   "source": [
    "## Model using images and extra varaible 2nd Model "
   ]
  },
  {
   "cell_type": "code",
   "execution_count": null,
   "id": "6eb9e4ce",
   "metadata": {},
   "outputs": [],
   "source": [
    "Input1 = keras.layers.Input(shape=(32,32,1))\n",
    "Input2 = keras.layers.Input(shape =(12,))\n",
    "\n",
    "#Filter 1 \n",
    "Conv1 = keras.layers.Conv2D(192, kernel_size=(5,5), activation ='relu')(Input1)\n",
    "maxpooling1 = keras.layers.MaxPool2D((2,2))(Conv1)\n",
    "dropout1 = keras.layers.Dropout(0.2)(maxpooling1)\n",
    "\n",
    "Conv2 = keras.layers.Conv2D(352, kernel_size=(3,3), activation ='relu')(dropout1)\n",
    "maxpooling2 = keras.layers.MaxPool2D((2,2))(Conv2)\n",
    "dropout2= keras.layers.Dropout(0.2)(maxpooling2)\n",
    "\n",
    "flatten1 = keras.layers.Flatten()(dropout2)\n",
    "\n",
    "# Dense Layer for other attributes \n",
    "D1 = keras.layers.Dense(200, activation = 'relu')(Input2)\n",
    "D2 = keras.layers.Dense(100, activation = 'relu')(D1)\n",
    "#dp1= keras.layers.Dropout(0.2)(D2)\n",
    "ot = keras.layers.Dense(10, activation = 'relu')(D2)\n",
    "\n",
    "\n",
    "#merge \n",
    "merge = keras.layers.concatenate([flatten1,ot])\n",
    "\n",
    "# Dense Layers \n",
    "Dense1 = keras.layers.Dense(480, activation = 'relu')(merge)\n",
    "#dropout3= keras.layers.Dropout(0.2)(Dense1)\n",
    "Dense2 = keras.layers.Dense(160, activation = 'relu')(Dense1)\n",
    "Dense3 = keras.layers.Dense(176, activation = 'relu')(Dense2)\n",
    "#Dropout4 = keras.layers.Dropout(0.2)(Dense3)\n",
    "output = keras.layers.Dense(1, activation = 'relu')(Dense3)\n",
    "\n",
    "model_func_api_2 = keras.Model(inputs = [Input1,Input2],outputs = output)\n",
    "\n",
    "model_func_api_2.compile(optimizer = keras.optimizers.Adam(learning_rate=0.001),\n",
    "              loss = keras.losses.mean_absolute_error,\n",
    "             metrics = keras.metrics.mean_squared_error)\n",
    "\n",
    "model_func_api_2.summary()"
   ]
  },
  {
   "cell_type": "code",
   "execution_count": null,
   "id": "53552b11",
   "metadata": {},
   "outputs": [],
   "source": []
  },
  {
   "cell_type": "code",
   "execution_count": null,
   "id": "ea7f20cf",
   "metadata": {},
   "outputs": [],
   "source": []
  },
  {
   "cell_type": "code",
   "execution_count": null,
   "id": "a193499f",
   "metadata": {},
   "outputs": [],
   "source": []
  },
  {
   "cell_type": "markdown",
   "id": "c768dcaa",
   "metadata": {},
   "source": [
    "## Model for Extra Variables "
   ]
  },
  {
   "cell_type": "code",
   "execution_count": 78,
   "id": "1b5f667f",
   "metadata": {
    "scrolled": false
   },
   "outputs": [
    {
     "name": "stdout",
     "output_type": "stream",
     "text": [
      "Model: \"model_10\"\n",
      "_________________________________________________________________\n",
      " Layer (type)                Output Shape              Param #   \n",
      "=================================================================\n",
      " input_17 (InputLayer)       [(None, 12)]              0         \n",
      "                                                                 \n",
      " dense_43 (Dense)            (None, 300)               3900      \n",
      "                                                                 \n",
      " dense_44 (Dense)            (None, 200)               60200     \n",
      "                                                                 \n",
      " dense_45 (Dense)            (None, 100)               20100     \n",
      "                                                                 \n",
      " dropout_11 (Dropout)        (None, 100)               0         \n",
      "                                                                 \n",
      " dense_46 (Dense)            (None, 1)                 101       \n",
      "                                                                 \n",
      "=================================================================\n",
      "Total params: 84,301\n",
      "Trainable params: 84,301\n",
      "Non-trainable params: 0\n",
      "_________________________________________________________________\n"
     ]
    }
   ],
   "source": [
    "inn = keras.layers.Input(12,)\n",
    "D1 = keras.layers.Dense(300, activation = 'relu')(inn)\n",
    "D2 = keras.layers.Dense(200, activation = 'relu')(D1)\n",
    "drop = keras.layers.Dropout(0.2)(D2)\n",
    "D3 = keras.layers.Dense(100, activation = 'relu')(drop)\n",
    "D4 = keras.layers.Dense(12, activation = 'relu')(D3)\n",
    "drop = keras.layers.Dropout(0.2)(D4)\n",
    "ot = keras.layers.Dense(1, activation = 'relu')(drop)\n",
    "\n",
    "model_t = keras.Model(inputs = inn,outputs = ot)\n",
    "\n",
    "model_t.compile(optimizer = keras.optimizers.Adam(learning_rate=0.001),\n",
    "              loss = keras.losses.mean_absolute_error,\n",
    "             metrics = keras.metrics.mean_squared_error)\n",
    "\n",
    "model_t.summary()"
   ]
  },
  {
   "cell_type": "code",
   "execution_count": 76,
   "id": "97c66b21",
   "metadata": {
    "scrolled": true
   },
   "outputs": [
    {
     "data": {
      "text/html": [
       "<div>\n",
       "<style scoped>\n",
       "    .dataframe tbody tr th:only-of-type {\n",
       "        vertical-align: middle;\n",
       "    }\n",
       "\n",
       "    .dataframe tbody tr th {\n",
       "        vertical-align: top;\n",
       "    }\n",
       "\n",
       "    .dataframe thead th {\n",
       "        text-align: right;\n",
       "    }\n",
       "</style>\n",
       "<table border=\"1\" class=\"dataframe\">\n",
       "  <thead>\n",
       "    <tr style=\"text-align: right;\">\n",
       "      <th></th>\n",
       "      <th>Variant_Front</th>\n",
       "      <th>Skin Mtrl_PVC</th>\n",
       "      <th>Skin Mtrl_TPO2</th>\n",
       "      <th>OEM_PSA</th>\n",
       "      <th>OEM_RSA</th>\n",
       "      <th>OEM_Byton</th>\n",
       "      <th>Skin thk</th>\n",
       "      <th>Foam Thk</th>\n",
       "      <th>Norm Thk</th>\n",
       "      <th>MTD_X</th>\n",
       "      <th>MTD_Y</th>\n",
       "      <th>MTD_Z</th>\n",
       "    </tr>\n",
       "  </thead>\n",
       "  <tbody>\n",
       "    <tr>\n",
       "      <th>49317</th>\n",
       "      <td>1</td>\n",
       "      <td>0</td>\n",
       "      <td>1</td>\n",
       "      <td>0</td>\n",
       "      <td>1</td>\n",
       "      <td>0</td>\n",
       "      <td>0.5</td>\n",
       "      <td>2.0</td>\n",
       "      <td>2.5</td>\n",
       "      <td>0.0</td>\n",
       "      <td>1.0</td>\n",
       "      <td>0.0</td>\n",
       "    </tr>\n",
       "    <tr>\n",
       "      <th>4449</th>\n",
       "      <td>1</td>\n",
       "      <td>1</td>\n",
       "      <td>0</td>\n",
       "      <td>1</td>\n",
       "      <td>0</td>\n",
       "      <td>0</td>\n",
       "      <td>0.5</td>\n",
       "      <td>2.0</td>\n",
       "      <td>2.2</td>\n",
       "      <td>0.0</td>\n",
       "      <td>1.0</td>\n",
       "      <td>0.0</td>\n",
       "    </tr>\n",
       "  </tbody>\n",
       "</table>\n",
       "</div>"
      ],
      "text/plain": [
       "       Variant_Front  Skin Mtrl_PVC  Skin Mtrl_TPO2  OEM_PSA  OEM_RSA  \\\n",
       "49317              1              0               1        0        1   \n",
       "4449               1              1               0        1        0   \n",
       "\n",
       "       OEM_Byton  Skin thk  Foam Thk  Norm Thk  MTD_X  MTD_Y  MTD_Z  \n",
       "49317          0       0.5       2.0       2.5    0.0    1.0    0.0  \n",
       "4449           0       0.5       2.0       2.2    0.0    1.0    0.0  "
      ]
     },
     "execution_count": 76,
     "metadata": {},
     "output_type": "execute_result"
    }
   ],
   "source": [
    "x_train_data.head(2)"
   ]
  },
  {
   "cell_type": "code",
   "execution_count": 79,
   "id": "c30598df",
   "metadata": {
    "scrolled": true
   },
   "outputs": [
    {
     "name": "stdout",
     "output_type": "stream",
     "text": [
      "Epoch 1/20\n",
      "2161/2161 [==============================] - 6s 3ms/step - loss: 0.4384 - mean_squared_error: 0.3001\n",
      "Epoch 2/20\n",
      "2161/2161 [==============================] - 7s 3ms/step - loss: 0.4309 - mean_squared_error: 0.2893\n",
      "Epoch 3/20\n",
      "2161/2161 [==============================] - 6s 3ms/step - loss: 0.4283 - mean_squared_error: 0.2856\n",
      "Epoch 4/20\n",
      "2161/2161 [==============================] - 7s 3ms/step - loss: 0.4259 - mean_squared_error: 0.2829\n",
      "Epoch 5/20\n",
      "2161/2161 [==============================] - 6s 3ms/step - loss: 0.4250 - mean_squared_error: 0.2809\n",
      "Epoch 6/20\n",
      "2161/2161 [==============================] - 7s 3ms/step - loss: 0.4236 - mean_squared_error: 0.2789\n",
      "Epoch 7/20\n",
      "2161/2161 [==============================] - 7s 3ms/step - loss: 0.4232 - mean_squared_error: 0.2790\n",
      "Epoch 8/20\n",
      "2161/2161 [==============================] - 7s 3ms/step - loss: 0.4228 - mean_squared_error: 0.2783\n",
      "Epoch 9/20\n",
      "2161/2161 [==============================] - 8s 3ms/step - loss: 0.4226 - mean_squared_error: 0.2774\n",
      "Epoch 10/20\n",
      "2161/2161 [==============================] - 7s 3ms/step - loss: 0.4219 - mean_squared_error: 0.2771\n",
      "Epoch 11/20\n",
      "2161/2161 [==============================] - 7s 3ms/step - loss: 0.4216 - mean_squared_error: 0.2770\n",
      "Epoch 12/20\n",
      "2161/2161 [==============================] - 6s 3ms/step - loss: 0.4216 - mean_squared_error: 0.2767\n",
      "Epoch 13/20\n",
      "2161/2161 [==============================] - 6s 3ms/step - loss: 0.4215 - mean_squared_error: 0.2765\n",
      "Epoch 14/20\n",
      "2161/2161 [==============================] - 6s 3ms/step - loss: 0.4218 - mean_squared_error: 0.2772\n",
      "Epoch 15/20\n",
      "2161/2161 [==============================] - 6s 3ms/step - loss: 0.4215 - mean_squared_error: 0.2762\n",
      "Epoch 16/20\n",
      "2161/2161 [==============================] - 6s 3ms/step - loss: 0.4214 - mean_squared_error: 0.2763\n",
      "Epoch 17/20\n",
      "2161/2161 [==============================] - 6s 3ms/step - loss: 0.4213 - mean_squared_error: 0.2765\n",
      "Epoch 18/20\n",
      "2161/2161 [==============================] - 6s 3ms/step - loss: 0.4209 - mean_squared_error: 0.2762\n",
      "Epoch 19/20\n",
      "2161/2161 [==============================] - 6s 3ms/step - loss: 0.4210 - mean_squared_error: 0.2764\n",
      "Epoch 20/20\n",
      "2161/2161 [==============================] - 6s 3ms/step - loss: 0.4210 - mean_squared_error: 0.2761\n"
     ]
    },
    {
     "data": {
      "text/plain": [
       "<keras.callbacks.History at 0x19ef5845c70>"
      ]
     },
     "execution_count": 79,
     "metadata": {},
     "output_type": "execute_result"
    }
   ],
   "source": [
    "model_t.fit(x_train_data,y_train_thck,epochs = 20)"
   ]
  },
  {
   "cell_type": "code",
   "execution_count": 66,
   "id": "af808f6b",
   "metadata": {
    "scrolled": false
   },
   "outputs": [
    {
     "name": "stdout",
     "output_type": "stream",
     "text": [
      "541/541 [==============================] - 1s 1ms/step - loss: 0.4188 - mean_squared_error: 0.2749\n"
     ]
    },
    {
     "data": {
      "text/plain": [
       "[0.4187757074832916, 0.2749185264110565]"
      ]
     },
     "execution_count": 66,
     "metadata": {},
     "output_type": "execute_result"
    }
   ],
   "source": [
    "model_t.evaluate(x_test_data,y_test_thck)"
   ]
  },
  {
   "cell_type": "markdown",
   "id": "47610530",
   "metadata": {},
   "source": [
    "## Model4 using functional api "
   ]
  },
  {
   "cell_type": "code",
   "execution_count": 20,
   "id": "d0386136",
   "metadata": {
    "scrolled": true
   },
   "outputs": [
    {
     "name": "stdout",
     "output_type": "stream",
     "text": [
      "Model: \"model_4\"\n",
      "_________________________________________________________________\n",
      " Layer (type)                Output Shape              Param #   \n",
      "=================================================================\n",
      " input_5 (InputLayer)        [(None, 32, 32, 1)]       0         \n",
      "                                                                 \n",
      " conv2d_10 (Conv2D)          (None, 28, 28, 192)       4992      \n",
      "                                                                 \n",
      " max_pooling2d_10 (MaxPoolin  (None, 14, 14, 192)      0         \n",
      " g2D)                                                            \n",
      "                                                                 \n",
      " dropout_10 (Dropout)        (None, 14, 14, 192)       0         \n",
      "                                                                 \n",
      " conv2d_11 (Conv2D)          (None, 12, 12, 352)       608608    \n",
      "                                                                 \n",
      " max_pooling2d_11 (MaxPoolin  (None, 6, 6, 352)        0         \n",
      " g2D)                                                            \n",
      "                                                                 \n",
      " dropout_11 (Dropout)        (None, 6, 6, 352)         0         \n",
      "                                                                 \n",
      " flatten_8 (Flatten)         (None, 12672)             0         \n",
      "                                                                 \n",
      " dense_20 (Dense)            (None, 480)               6083040   \n",
      "                                                                 \n",
      " dense_21 (Dense)            (None, 160)               76960     \n",
      "                                                                 \n",
      " dense_22 (Dense)            (None, 176)               28336     \n",
      "                                                                 \n",
      " dense_23 (Dense)            (None, 1)                 177       \n",
      "                                                                 \n",
      "=================================================================\n",
      "Total params: 6,802,113\n",
      "Trainable params: 6,802,113\n",
      "Non-trainable params: 0\n",
      "_________________________________________________________________\n"
     ]
    }
   ],
   "source": [
    "Input = keras.layers.Input(shape=(32,32,1))\n",
    "\n",
    "#Filter 1 \n",
    "Conv1 = keras.layers.Conv2D(192, kernel_size=(5,5), activation ='relu')(Input)\n",
    "maxpooling1 = keras.layers.MaxPool2D((2,2))(Conv1)\n",
    "dropout1 = keras.layers.Dropout(0.2)(maxpooling1)\n",
    "\n",
    "Conv2 = keras.layers.Conv2D(352, kernel_size=(3,3), activation ='relu')(dropout1)\n",
    "maxpooling2 = keras.layers.MaxPool2D((2,2))(Conv2)\n",
    "dropout2= keras.layers.Dropout(0.2)(maxpooling2)\n",
    "\n",
    "flatten1 = keras.layers.Flatten()(dropout2)\n",
    "\n",
    "#Filter 2 \n",
    "    # Conv3 = keras.layers.Conv2D(352, kernel_size=(3,3), activation ='relu')(Input)\n",
    "    # maxpooling3 = keras.layers.MaxPool2D((2,2))(Conv3)\n",
    "    # dropout3= keras.layers.Dropout(0.2)(maxpooling3)\n",
    "\n",
    "    # Conv4 = keras.layers.Conv2D(160, kernel_size=(5,5), activation ='relu')(dropout3)\n",
    "    # maxpooling4 = keras.layers.MaxPool2D((2,2))(Conv4)\n",
    "    # dropout4= keras.layers.Dropout(0.2)(maxpooling4)\n",
    "\n",
    "    #flatten2 = keras.layers.Flatten()(dropout3)\n",
    "\n",
    "#merge \n",
    "#merge = keras.layers.concatenate([flatten1,flatten2])\n",
    "\n",
    "# Dense Layers \n",
    "Dense1 = keras.layers.Dense(480, activation = 'relu')(flatten1)\n",
    "Dense2 = keras.layers.Dense(160, activation = 'relu')(Dense1)\n",
    "Dense3 = keras.layers.Dense(176, activation = 'relu')(Dense2)\n",
    "\n",
    "output = keras.layers.Dense(1, activation = 'relu')(Dense3)\n",
    "\n",
    "model4 = keras.Model(inputs = Input,outputs = output)\n",
    "\n",
    "model4.compile(optimizer = keras.optimizers.Adam(learning_rate=0.001),\n",
    "              loss = keras.losses.mean_absolute_error,\n",
    "             metrics = keras.metrics.mean_squared_error)\n",
    "\n",
    "model4.summary()"
   ]
  },
  {
   "cell_type": "code",
   "execution_count": 21,
   "id": "69ed3786",
   "metadata": {
    "scrolled": true
   },
   "outputs": [
    {
     "name": "stdout",
     "output_type": "stream",
     "text": [
      "Epoch 1/10\n",
      "2161/2161 [==============================] - 623s 288ms/step - loss: 0.4539 - mean_squared_error: 0.3417\n",
      "Epoch 2/10\n",
      "2161/2161 [==============================] - 690s 319ms/step - loss: 0.3696 - mean_squared_error: 0.2474\n",
      "Epoch 3/10\n",
      "2161/2161 [==============================] - 626s 290ms/step - loss: 0.3227 - mean_squared_error: 0.2022\n",
      "Epoch 4/10\n",
      "2161/2161 [==============================] - 654s 303ms/step - loss: 0.2884 - mean_squared_error: 0.1715\n",
      "Epoch 5/10\n",
      "2161/2161 [==============================] - 732s 339ms/step - loss: 0.2648 - mean_squared_error: 0.1499\n",
      "Epoch 6/10\n",
      "2161/2161 [==============================] - 720s 333ms/step - loss: 0.2478 - mean_squared_error: 0.1355\n",
      "Epoch 7/10\n",
      "2161/2161 [==============================] - 615s 284ms/step - loss: 0.2315 - mean_squared_error: 0.1217\n",
      "Epoch 8/10\n",
      "2161/2161 [==============================] - 653s 302ms/step - loss: 0.2201 - mean_squared_error: 0.1125\n",
      "Epoch 9/10\n",
      "2161/2161 [==============================] - 697s 322ms/step - loss: 0.2109 - mean_squared_error: 0.1047\n",
      "Epoch 10/10\n",
      "2161/2161 [==============================] - 697s 322ms/step - loss: 0.2017 - mean_squared_error: 0.0978\n"
     ]
    },
    {
     "data": {
      "text/plain": [
       "<keras.callbacks.History at 0x28abe584730>"
      ]
     },
     "execution_count": 21,
     "metadata": {},
     "output_type": "execute_result"
    }
   ],
   "source": [
    "model4.fit(x_train_1,y_train_1,epochs=10)"
   ]
  },
  {
   "cell_type": "code",
   "execution_count": 22,
   "id": "7b30c8e0",
   "metadata": {},
   "outputs": [
    {
     "name": "stdout",
     "output_type": "stream",
     "text": [
      "541/541 [==============================] - 35s 65ms/step - loss: 0.2219 - mean_squared_error: 0.1178\n"
     ]
    },
    {
     "data": {
      "text/plain": [
       "[0.2218799740076065, 0.11781725287437439]"
      ]
     },
     "execution_count": 22,
     "metadata": {},
     "output_type": "execute_result"
    }
   ],
   "source": [
    "model4.evaluate(x_test_1,y_test_1)"
   ]
  },
  {
   "cell_type": "code",
   "execution_count": 23,
   "id": "9bf51b50",
   "metadata": {
    "scrolled": true
   },
   "outputs": [
    {
     "name": "stdout",
     "output_type": "stream",
     "text": [
      "Epoch 11/20\n",
      "2161/2161 [==============================] - 662s 306ms/step - loss: 0.1942 - mean_squared_error: 0.0911\n",
      "Epoch 12/20\n",
      "2161/2161 [==============================] - 707s 327ms/step - loss: 0.1868 - mean_squared_error: 0.0857\n",
      "Epoch 13/20\n",
      "2161/2161 [==============================] - 716s 331ms/step - loss: 0.1803 - mean_squared_error: 0.0813\n",
      "Epoch 14/20\n",
      "2161/2161 [==============================] - 721s 333ms/step - loss: 0.1762 - mean_squared_error: 0.0785\n",
      "Epoch 15/20\n",
      "2161/2161 [==============================] - 716s 331ms/step - loss: 0.1709 - mean_squared_error: 0.0742\n",
      "Epoch 16/20\n",
      "2161/2161 [==============================] - 716s 331ms/step - loss: 0.1667 - mean_squared_error: 0.0715\n",
      "Epoch 17/20\n",
      "2161/2161 [==============================] - 652s 302ms/step - loss: 0.1621 - mean_squared_error: 0.0686\n",
      "Epoch 18/20\n",
      "2161/2161 [==============================] - 608s 281ms/step - loss: 0.1596 - mean_squared_error: 0.0666\n",
      "Epoch 19/20\n",
      "2161/2161 [==============================] - 618s 286ms/step - loss: 0.1557 - mean_squared_error: 0.0643\n",
      "Epoch 20/20\n",
      "2161/2161 [==============================] - 625s 289ms/step - loss: 0.1531 - mean_squared_error: 0.0630\n"
     ]
    },
    {
     "data": {
      "text/plain": [
       "<keras.callbacks.History at 0x28ac2ecd1f0>"
      ]
     },
     "execution_count": 23,
     "metadata": {},
     "output_type": "execute_result"
    }
   ],
   "source": [
    "model4.fit(x_train_1,y_train_1,epochs=20, initial_epoch=10)"
   ]
  },
  {
   "cell_type": "code",
   "execution_count": 24,
   "id": "be42437c",
   "metadata": {},
   "outputs": [
    {
     "name": "stdout",
     "output_type": "stream",
     "text": [
      "541/541 [==============================] - 36s 66ms/step - loss: 0.1886 - mean_squared_error: 0.0923\n"
     ]
    },
    {
     "data": {
      "text/plain": [
       "[0.18858353793621063, 0.0923432856798172]"
      ]
     },
     "execution_count": 24,
     "metadata": {},
     "output_type": "execute_result"
    }
   ],
   "source": [
    "model4.evaluate(x_test_1,y_test_1)"
   ]
  },
  {
   "cell_type": "code",
   "execution_count": 18,
   "id": "c08488aa",
   "metadata": {
    "scrolled": false
   },
   "outputs": [
    {
     "name": "stdout",
     "output_type": "stream",
     "text": [
      "541/541 [==============================] - 61s 111ms/step - loss: 0.1886 - mean_squared_error: 0.0923\n"
     ]
    },
    {
     "data": {
      "text/plain": [
       "[0.18858353793621063, 0.0923432856798172]"
      ]
     },
     "execution_count": 18,
     "metadata": {},
     "output_type": "execute_result"
    }
   ],
   "source": [
    "#model4.save('model_functionalapi_model')\n",
    "model4 = keras.models.load_model('model_functionalapi_model')\n",
    "model4.evaluate(x_test_1,y_test_1)"
   ]
  },
  {
   "cell_type": "code",
   "execution_count": 26,
   "id": "0eb2f759",
   "metadata": {
    "scrolled": true
   },
   "outputs": [
    {
     "name": "stdout",
     "output_type": "stream",
     "text": [
      "541/541 [==============================] - 41s 76ms/step - loss: 0.1886 - mean_squared_error: 0.0923\n"
     ]
    },
    {
     "data": {
      "text/plain": [
       "[0.18858353793621063, 0.0923432856798172]"
      ]
     },
     "execution_count": 26,
     "metadata": {},
     "output_type": "execute_result"
    }
   ],
   "source": [
    "model3 = keras.models.load_model('Data10Combined_model3')\n",
    "model4.evaluate(x_test_1,y_test_1)"
   ]
  },
  {
   "cell_type": "code",
   "execution_count": 19,
   "id": "6c818c5c",
   "metadata": {
    "scrolled": true
   },
   "outputs": [
    {
     "data": {
      "text/plain": [
       "array([[1.1735032 ],\n",
       "       [2.046578  ],\n",
       "       [0.7040731 ],\n",
       "       ...,\n",
       "       [2.6385398 ],\n",
       "       [0.32111132],\n",
       "       [1.061325  ]], dtype=float32)"
      ]
     },
     "execution_count": 19,
     "metadata": {},
     "output_type": "execute_result"
    }
   ],
   "source": [
    "y_pred_model4 = model4.predict(x_test_1)\n",
    "y_pred_model4"
   ]
  },
  {
   "cell_type": "code",
   "execution_count": 27,
   "id": "4d894ff4",
   "metadata": {},
   "outputs": [
    {
     "data": {
      "text/plain": [
       "array([[1.5023911 ],\n",
       "       [1.314765  ],\n",
       "       [0.7058426 ],\n",
       "       ...,\n",
       "       [2.6236212 ],\n",
       "       [0.32967535],\n",
       "       [0.79158235]], dtype=float32)"
      ]
     },
     "execution_count": 27,
     "metadata": {},
     "output_type": "execute_result"
    }
   ],
   "source": [
    "y_pred_model3 = model3.predict(x_test_1)\n",
    "y_pred_model3"
   ]
  },
  {
   "cell_type": "code",
   "execution_count": 13,
   "id": "dd75f8ff",
   "metadata": {
    "scrolled": false
   },
   "outputs": [
    {
     "data": {
      "image/png": "[encoded data removed]",
      "text/plain": [
       "<Figure size 720x432 with 1 Axes>"
      ]
     },
     "metadata": {
      "needs_background": "light"
     },
     "output_type": "display_data"
    }
   ],
   "source": [
    "# 10 epochs \n",
    "plt.figure(figsize=(10,6))\n",
    "sns.histplot(abs(y_test_1-y_pred_model4.flatten()),bins=20)\n",
    "plt.yscale(\"log\")"
   ]
  },
  {
   "cell_type": "code",
   "execution_count": 20,
   "id": "77f34226",
   "metadata": {
    "scrolled": false
   },
   "outputs": [
    {
     "name": "stdout",
     "output_type": "stream",
     "text": [
      "MAE less than \"0.1\" (8529,)\n",
      "MAE less than \"0.2\" (3492,)\n",
      "MAE less than \"0.5\" (15687,)\n",
      "MAE greater than \"0.5\" but less than \"1\" (1320,)\n",
      "MAE greater than \"1\" but less than \"1.5\" (231,)\n",
      "MAE greater than \"1.5\" but less than \"2\" (45,)\n",
      "MAE greater than \"2\" but less than 2.125365671155365 (5,)\n"
     ]
    }
   ],
   "source": [
    "difference = abs(y_test_1-y_pred_model4.flatten())\n",
    "print('MAE less than \"0.1\"',np.array(np.where(difference<=0.1)).flatten().shape)\n",
    "print('MAE less than \"0.2\"',np.array(np.where( (difference>0.1) & (difference<=0.2) ) ).flatten().shape)\n",
    "print('MAE less than \"0.5\"',np.array(np.where(difference<=0.5)).flatten().shape)\n",
    "print('MAE greater than \"0.5\" but less than \"1\"',np.array(np.where( (difference<=1) &(difference>0.5) )).flatten().shape)\n",
    "print('MAE greater than \"1\" but less than \"1.5\"',np.array(np.where( (difference<=1.5) &(difference>1) )).flatten().shape)\n",
    "print('MAE greater than \"1.5\" but less than \"2\"',np.array(np.where( (difference<=2) &(difference>1.5) )).flatten().shape)\n",
    "print('MAE greater than \"2\" but less than',max(difference),np.array(np.where( (difference<=max(difference)) &(difference>2) )).flatten().shape)"
   ]
  },
  {
   "cell_type": "code",
   "execution_count": null,
   "id": "2a9f2218",
   "metadata": {},
   "outputs": [],
   "source": []
  },
  {
   "cell_type": "code",
   "execution_count": 21,
   "id": "ffaa1c42",
   "metadata": {},
   "outputs": [
    {
     "data": {
      "text/plain": [
       "17288"
      ]
     },
     "execution_count": 21,
     "metadata": {},
     "output_type": "execute_result"
    }
   ],
   "source": [
    "len(x_test_1)"
   ]
  },
  {
   "cell_type": "code",
   "execution_count": 28,
   "id": "e9981b9d",
   "metadata": {},
   "outputs": [
    {
     "data": {
      "image/png": "[encoded data removed]",
      "text/plain": [
       "<Figure size 720x432 with 1 Axes>"
      ]
     },
     "metadata": {
      "needs_background": "light"
     },
     "output_type": "display_data"
    }
   ],
   "source": [
    "# 10 epochs \n",
    "plt.figure(figsize=(10,6))\n",
    "sns.histplot(abs(y_test_1-y_pred_model3.flatten()),bins=20)\n",
    "plt.yscale(\"log\")"
   ]
  },
  {
   "cell_type": "code",
   "execution_count": 29,
   "id": "c5911ae2",
   "metadata": {},
   "outputs": [
    {
     "name": "stdout",
     "output_type": "stream",
     "text": [
      "MAE less than \"0.1\" (8204,)\n",
      "MAE less than \"0.5\" (15589,)\n",
      "MAE greater than \"0.5\" but less than \"1\" (1356,)\n",
      "MAE greater than \"1\" but less than \"1.5\" (284,)\n",
      "MAE greater than \"1.5\" but less than \"2\" (50,)\n",
      "MAE greater than \"2\" but less than 2.313222867381775 (9,)\n"
     ]
    }
   ],
   "source": [
    "difference = abs(y_test_1-y_pred_model3.flatten())\n",
    "print('MAE less than \"0.1\"',np.array(np.where(difference<=0.1)).flatten().shape)\n",
    "print('MAE less than \"0.5\"',np.array(np.where(difference<=0.5)).flatten().shape)\n",
    "print('MAE greater than \"0.5\" but less than \"1\"',np.array(np.where( (difference<=1) &(difference>0.5) )).flatten().shape)\n",
    "print('MAE greater than \"1\" but less than \"1.5\"',np.array(np.where( (difference<=1.5) &(difference>1) )).flatten().shape)\n",
    "print('MAE greater than \"1.5\" but less than \"2\"',np.array(np.where( (difference<=2) &(difference>1.5) )).flatten().shape)\n",
    "print('MAE greater than \"2\" but less than',max(difference),np.array(np.where( (difference<=max(difference)) &(difference>2) )).flatten().shape)"
   ]
  },
  {
   "cell_type": "code",
   "execution_count": null,
   "id": "f3c695e9",
   "metadata": {},
   "outputs": [],
   "source": []
  },
  {
   "cell_type": "markdown",
   "id": "3303b05a",
   "metadata": {},
   "source": [
    "## Tesing Old Model "
   ]
  },
  {
   "cell_type": "code",
   "execution_count": 8,
   "id": "f04a4056",
   "metadata": {
    "scrolled": true
   },
   "outputs": [
    {
     "name": "stdout",
     "output_type": "stream",
     "text": [
      "Model: \"sequential_13\"\n",
      "_________________________________________________________________\n",
      " Layer (type)                Output Shape              Param #   \n",
      "=================================================================\n",
      " conv2d_28 (Conv2D)          (None, 28, 28, 160)       4160      \n",
      "                                                                 \n",
      " max_pooling2d_26 (MaxPoolin  (None, 14, 14, 160)      0         \n",
      " g2D)                                                            \n",
      "                                                                 \n",
      " dropout_28 (Dropout)        (None, 14, 14, 160)       0         \n",
      "                                                                 \n",
      " conv2d_29 (Conv2D)          (None, 10, 10, 160)       640160    \n",
      "                                                                 \n",
      " max_pooling2d_27 (MaxPoolin  (None, 5, 5, 160)        0         \n",
      " g2D)                                                            \n",
      "                                                                 \n",
      " dropout_29 (Dropout)        (None, 5, 5, 160)         0         \n",
      "                                                                 \n",
      " flatten_13 (Flatten)        (None, 4000)              0         \n",
      "                                                                 \n",
      " dense_39 (Dense)            (None, 256)               1024256   \n",
      "                                                                 \n",
      " dense_40 (Dense)            (None, 112)               28784     \n",
      "                                                                 \n",
      " dense_41 (Dense)            (None, 32)                3616      \n",
      "                                                                 \n",
      " dense_42 (Dense)            (None, 1)                 33        \n",
      "                                                                 \n",
      "=================================================================\n",
      "Total params: 1,701,009\n",
      "Trainable params: 1,701,009\n",
      "Non-trainable params: 0\n",
      "_________________________________________________________________\n"
     ]
    }
   ],
   "source": [
    "testing = keras.models.load_model('Cnn_regression_4thModel')\n",
    "testing.summary()"
   ]
  },
  {
   "cell_type": "code",
   "execution_count": 12,
   "id": "7fbe8b84",
   "metadata": {
    "scrolled": true
   },
   "outputs": [
    {
     "name": "stdout",
     "output_type": "stream",
     "text": [
      "303/303 [==============================] - 18s 57ms/step - loss: 0.5768 - mean_squared_error: 0.5461\n"
     ]
    },
    {
     "data": {
      "text/plain": [
       "[0.5767677426338196, 0.5460764169692993]"
      ]
     },
     "execution_count": 12,
     "metadata": {},
     "output_type": "execute_result"
    }
   ],
   "source": [
    "testing.evaluate(images10_AA_D,target10_AA_D)"
   ]
  },
  {
   "cell_type": "code",
   "execution_count": 14,
   "id": "3c07d253",
   "metadata": {},
   "outputs": [
    {
     "name": "stdout",
     "output_type": "stream",
     "text": [
      "555/555 [==============================] - 31s 55ms/step - loss: 0.4125 - mean_squared_error: 0.2900\n"
     ]
    },
    {
     "data": {
      "text/plain": [
       "[0.41254228353500366, 0.2899544835090637]"
      ]
     },
     "execution_count": 14,
     "metadata": {},
     "output_type": "execute_result"
    }
   ],
   "source": [
    "testing.evaluate(images10_1948,target10_1948)"
   ]
  },
  {
   "cell_type": "code",
   "execution_count": 17,
   "id": "33719f21",
   "metadata": {
    "scrolled": true
   },
   "outputs": [
    {
     "name": "stdout",
     "output_type": "stream",
     "text": [
      "171/171 [==============================] - 10s 58ms/step - loss: 0.4627 - mean_squared_error: 0.3243\n"
     ]
    },
    {
     "data": {
      "text/plain": [
       "[0.46267077326774597, 0.3243071436882019]"
      ]
     },
     "execution_count": 17,
     "metadata": {},
     "output_type": "execute_result"
    }
   ],
   "source": [
    "testing.evaluate(images10__1952,target10_1952)"
   ]
  },
  {
   "cell_type": "markdown",
   "id": "4ffa3b98",
   "metadata": {},
   "source": [
    "# Keras Tuner "
   ]
  },
  {
   "cell_type": "code",
   "execution_count": 9,
   "id": "5cd38f95",
   "metadata": {},
   "outputs": [],
   "source": [
    "def hyper_model(hp):\n",
    "    model = keras.Sequential([\n",
    "    keras.layers.Conv2D( filters=hp.Int('conv_1_filter', min_value=32, max_value=192, step=16),\n",
    "        kernel_size=hp.Choice('conv_1_kernel', values = [3,5]),\n",
    "        activation='relu',\n",
    "        input_shape=(32,32,1)),\n",
    "    keras.layers.MaxPooling2D((2,2)),\n",
    "    keras.layers.Dropout(0.2),\n",
    "        \n",
    "    keras.layers.Conv2D( filters=hp.Int('conv_2_filter', min_value=32, max_value=192, step=16),\n",
    "        kernel_size=hp.Choice('conv_2_kernel', values = [3,5]),\n",
    "        activation='relu'),\n",
    "    keras.layers.MaxPooling2D((2,2)),\n",
    "    keras.layers.Dropout(0.2),\n",
    "        \n",
    "              \n",
    "    keras.layers.Flatten(),\n",
    "      \n",
    "    keras.layers.Dense(units=hp.Int('dense_1_units', min_value=32, max_value=256, step=16),activation='relu'),\n",
    "    keras.layers.Dense(units=hp.Int('dense_2_units', min_value=32, max_value=256, step=16),activation='relu'),\n",
    "    keras.layers.Dense(units=hp.Int('dense_3_units', min_value=32, max_value=256, step=16),activation='relu'),\n",
    "\n",
    "    keras.layers.Dense(1, activation='relu')])\n",
    "    \n",
    "    model.compile(optimizer=keras.optimizers.Adam(learning_rate=0.001),\n",
    "              loss=keras.losses.mean_absolute_error,\n",
    "              metrics= keras.metrics.mean_absolute_error)\n",
    "    return model"
   ]
  },
  {
   "cell_type": "code",
   "execution_count": 10,
   "id": "6d56ec51",
   "metadata": {
    "scrolled": true
   },
   "outputs": [
    {
     "name": "stdout",
     "output_type": "stream",
     "text": [
      "INFO:tensorflow:Reloading Oracle from existing project hyperparameter_models\\New_data10_Regression\\oracle.json\n",
      "INFO:tensorflow:Reloading Tuner from hyperparameter_models\\New_data10_Regression\\tuner0.json\n"
     ]
    }
   ],
   "source": [
    "best_model = RandomSearch(hyper_model,objective='mean_absolute_error',max_trials = 20, directory = 'hyperparameter_models',project_name='New_data10_Regression')"
   ]
  },
  {
   "cell_type": "code",
   "execution_count": 70,
   "id": "aca9425d",
   "metadata": {
    "scrolled": false
   },
   "outputs": [
    {
     "name": "stdout",
     "output_type": "stream",
     "text": [
      "Trial 20 Complete [00h 30m 44s]\n",
      "mean_absolute_error: 0.30480682849884033\n",
      "\n",
      "Best mean_absolute_error So Far: 0.27609992027282715\n",
      "Total elapsed time: 07h 59m 10s\n",
      "INFO:tensorflow:Oracle triggered exit\n"
     ]
    }
   ],
   "source": [
    "# dont run this \n",
    "best_model.search(x_train_1,y_train_1,epochs=5,validation_data=(x_test_1,y_test_1))"
   ]
  },
  {
   "cell_type": "code",
   "execution_count": 119,
   "id": "a39d953e",
   "metadata": {
    "scrolled": true
   },
   "outputs": [
    {
     "data": {
      "text/plain": [
       "{}"
      ]
     },
     "execution_count": 119,
     "metadata": {},
     "output_type": "execute_result"
    }
   ],
   "source": [
    "best_model.get_best_hyperparameters()"
   ]
  },
  {
   "cell_type": "code",
   "execution_count": 127,
   "id": "7bf0bcb7",
   "metadata": {
    "scrolled": true
   },
   "outputs": [
    {
     "data": {
      "text/plain": [
       "{'conv_1_filter': 96,\n",
       " 'conv_1_kernel': 5,\n",
       " 'conv_2_filter': 176,\n",
       " 'conv_2_kernel': 3,\n",
       " 'dense_1_units': 240,\n",
       " 'dense_2_units': 160,\n",
       " 'dense_3_units': 176}"
      ]
     },
     "execution_count": 127,
     "metadata": {},
     "output_type": "execute_result"
    }
   ],
   "source": [
    "best_hp = best_model.get_best_hyperparameters()[0]\n",
    "best_hp.values"
   ]
  },
  {
   "cell_type": "code",
   "execution_count": 12,
   "id": "0d5d2537",
   "metadata": {
    "scrolled": true
   },
   "outputs": [
    {
     "name": "stdout",
     "output_type": "stream",
     "text": [
      "Model: \"sequential\"\n",
      "_________________________________________________________________\n",
      " Layer (type)                Output Shape              Param #   \n",
      "=================================================================\n",
      " conv2d (Conv2D)             (None, 28, 28, 96)        2496      \n",
      "                                                                 \n",
      " max_pooling2d (MaxPooling2D  (None, 14, 14, 96)       0         \n",
      " )                                                               \n",
      "                                                                 \n",
      " dropout (Dropout)           (None, 14, 14, 96)        0         \n",
      "                                                                 \n",
      " conv2d_1 (Conv2D)           (None, 12, 12, 176)       152240    \n",
      "                                                                 \n",
      " max_pooling2d_1 (MaxPooling  (None, 6, 6, 176)        0         \n",
      " 2D)                                                             \n",
      "                                                                 \n",
      " dropout_1 (Dropout)         (None, 6, 6, 176)         0         \n",
      "                                                                 \n",
      " flatten (Flatten)           (None, 6336)              0         \n",
      "                                                                 \n",
      " dense (Dense)               (None, 240)               1520880   \n",
      "                                                                 \n",
      " dense_1 (Dense)             (None, 160)               38560     \n",
      "                                                                 \n",
      " dense_2 (Dense)             (None, 176)               28336     \n",
      "                                                                 \n",
      " dense_3 (Dense)             (None, 1)                 177       \n",
      "                                                                 \n",
      "=================================================================\n",
      "Total params: 1,742,689\n",
      "Trainable params: 1,742,689\n",
      "Non-trainable params: 0\n",
      "_________________________________________________________________\n"
     ]
    }
   ],
   "source": [
    "model = best_model.get_best_models()[0]\n",
    "model.summary()"
   ]
  },
  {
   "cell_type": "code",
   "execution_count": 32,
   "id": "837394ee",
   "metadata": {
    "scrolled": true
   },
   "outputs": [
    {
     "name": "stdout",
     "output_type": "stream",
     "text": [
      "Epoch 6/10\n",
      "2161/2161 [==============================] - 228s 105ms/step - loss: 0.2650 - mean_absolute_error: 0.2650\n",
      "Epoch 7/10\n",
      "2161/2161 [==============================] - 231s 107ms/step - loss: 0.2508 - mean_absolute_error: 0.2508\n",
      "Epoch 8/10\n",
      "2161/2161 [==============================] - 210s 97ms/step - loss: 0.2381 - mean_absolute_error: 0.2381\n",
      "Epoch 9/10\n",
      "2161/2161 [==============================] - 237s 110ms/step - loss: 0.2296 - mean_absolute_error: 0.2296\n",
      "Epoch 10/10\n",
      "2161/2161 [==============================] - 246s 114ms/step - loss: 0.2225 - mean_absolute_error: 0.2225\n"
     ]
    },
    {
     "data": {
      "text/plain": [
       "<keras.callbacks.History at 0x274244899d0>"
      ]
     },
     "execution_count": 32,
     "metadata": {},
     "output_type": "execute_result"
    }
   ],
   "source": [
    "model.fit(x_train_1,y_train_1,epochs=10,initial_epoch=5)"
   ]
  },
  {
   "cell_type": "code",
   "execution_count": 33,
   "id": "cf08e803",
   "metadata": {
    "scrolled": true
   },
   "outputs": [
    {
     "name": "stdout",
     "output_type": "stream",
     "text": [
      "541/541 [==============================] - 15s 27ms/step - loss: 0.2200 - mean_absolute_error: 0.2200 1s - loss: 0.2204 - mean_absolute_err - ETA: 0s - loss: 0.2202 - mean_absolute_error:\n"
     ]
    },
    {
     "data": {
      "text/plain": [
       "[0.22002427279949188, 0.22002427279949188]"
      ]
     },
     "execution_count": 33,
     "metadata": {},
     "output_type": "execute_result"
    }
   ],
   "source": [
    "model.evaluate(x_test_1,y_test_1)"
   ]
  },
  {
   "cell_type": "code",
   "execution_count": 81,
   "id": "2bd449fd",
   "metadata": {
    "scrolled": true
   },
   "outputs": [
    {
     "name": "stdout",
     "output_type": "stream",
     "text": [
      "Epoch 11/20\n",
      "2161/2161 [==============================] - 256s 119ms/step - loss: 0.2138 - mean_absolute_error: 0.2138\n",
      "Epoch 12/20\n",
      "2161/2161 [==============================] - 248s 115ms/step - loss: 0.2068 - mean_absolute_error: 0.2068\n",
      "Epoch 13/20\n",
      "2161/2161 [==============================] - 250s 115ms/step - loss: 0.2012 - mean_absolute_error: 0.2012\n",
      "Epoch 14/20\n",
      "2161/2161 [==============================] - 257s 119ms/step - loss: 0.1957 - mean_absolute_error: 0.1957\n",
      "Epoch 15/20\n",
      "2161/2161 [==============================] - 249s 115ms/step - loss: 0.1906 - mean_absolute_error: 0.1906\n",
      "Epoch 16/20\n",
      "2161/2161 [==============================] - 249s 115ms/step - loss: 0.1873 - mean_absolute_error: 0.1873\n",
      "Epoch 17/20\n",
      "2161/2161 [==============================] - 248s 115ms/step - loss: 0.1835 - mean_absolute_error: 0.1835\n",
      "Epoch 18/20\n",
      "2161/2161 [==============================] - 250s 116ms/step - loss: 0.1796 - mean_absolute_error: 0.1796\n",
      "Epoch 19/20\n",
      "2161/2161 [==============================] - 250s 115ms/step - loss: 0.1759 - mean_absolute_error: 0.1759\n",
      "Epoch 20/20\n",
      "2161/2161 [==============================] - 249s 115ms/step - loss: 0.1729 - mean_absolute_error: 0.1729\n"
     ]
    },
    {
     "data": {
      "text/plain": [
       "<keras.callbacks.History at 0x274b03dbd00>"
      ]
     },
     "execution_count": 81,
     "metadata": {},
     "output_type": "execute_result"
    }
   ],
   "source": [
    "model.fit(x_train_1,y_train_1,epochs=20,initial_epoch=10)"
   ]
  },
  {
   "cell_type": "code",
   "execution_count": 82,
   "id": "a96fff84",
   "metadata": {},
   "outputs": [
    {
     "name": "stdout",
     "output_type": "stream",
     "text": [
      "541/541 [==============================] - 15s 28ms/step - loss: 0.1967 - mean_absolute_error: 0.1967\n"
     ]
    },
    {
     "data": {
      "text/plain": [
       "[0.19668778777122498, 0.19668778777122498]"
      ]
     },
     "execution_count": 82,
     "metadata": {},
     "output_type": "execute_result"
    }
   ],
   "source": [
    "model.evaluate(x_test_1,y_test_1)"
   ]
  },
  {
   "cell_type": "code",
   "execution_count": 83,
   "id": "3def8855",
   "metadata": {
    "scrolled": true
   },
   "outputs": [
    {
     "data": {
      "text/plain": [
       "array([[0.7763894],\n",
       "       [2.5953267],\n",
       "       [1.9186721],\n",
       "       ...,\n",
       "       [1.5931907],\n",
       "       [1.7627265],\n",
       "       [1.8780205]], dtype=float32)"
      ]
     },
     "execution_count": 83,
     "metadata": {},
     "output_type": "execute_result"
    }
   ],
   "source": [
    "y_pred_model = model.predict(x_test_1)\n",
    "y_pred_model"
   ]
  },
  {
   "cell_type": "code",
   "execution_count": 49,
   "id": "4d2cb67e",
   "metadata": {
    "scrolled": false
   },
   "outputs": [
    {
     "data": {
      "image/png": "[encoded data removed]",
      "text/plain": [
       "<Figure size 720x432 with 1 Axes>"
      ]
     },
     "metadata": {
      "needs_background": "light"
     },
     "output_type": "display_data"
    }
   ],
   "source": [
    "# 10 epochs \n",
    "plt.figure(figsize=(10,6))\n",
    "sns.histplot(abs(y_test_1-y_pred_model.flatten()),bins=20)\n",
    "plt.yscale(\"log\")"
   ]
  },
  {
   "cell_type": "code",
   "execution_count": 59,
   "id": "5529ed2a",
   "metadata": {},
   "outputs": [
    {
     "data": {
      "text/plain": [
       "17288"
      ]
     },
     "execution_count": 59,
     "metadata": {},
     "output_type": "execute_result"
    }
   ],
   "source": [
    "len(y_test_1)"
   ]
  },
  {
   "cell_type": "code",
   "execution_count": 80,
   "id": "2033dae8",
   "metadata": {
    "scrolled": false
   },
   "outputs": [
    {
     "name": "stdout",
     "output_type": "stream",
     "text": [
      "MAE less than \"0.1\" (12199,)\n",
      "MAE less than \"0.5\" (16165,)\n",
      "MAE greater than \"0.5\" but less than \"1\" (892,)\n",
      "MAE greater than \"1\" but less than \"1.5\" (193,)\n",
      "MAE greater than \"1.5\" but less than \"2\" (33,)\n",
      "MAE greater than \"2\" but less than \"3\" (5,)\n"
     ]
    }
   ],
   "source": [
    "# 10 epochs\n",
    "print('MAE less than \"0.1\"',np.array(np.where(difference<=0.1)).flatten().shape)\n",
    "print('MAE less than \"0.5\"',np.array(np.where(difference<=0.5)).flatten().shape)\n",
    "print('MAE greater than \"0.5\" but less than \"1\"',np.array(np.where( (difference<=1) &(difference>0.5) )).flatten().shape)\n",
    "print('MAE greater than \"1\" but less than \"1.5\"',np.array(np.where( (difference<=1.5) &(difference>1) )).flatten().shape)\n",
    "print('MAE greater than \"1.5\" but less than \"2\"',np.array(np.where( (difference<=2) &(difference>1.5) )).flatten().shape)\n",
    "print('MAE greater than \"2\" but less than \"3\"',np.array(np.where( (difference<=3) &(difference>2) )).flatten().shape)"
   ]
  },
  {
   "cell_type": "code",
   "execution_count": 84,
   "id": "578c7ae5",
   "metadata": {},
   "outputs": [
    {
     "data": {
      "image/png": "[encoded data removed]",
      "text/plain": [
       "<Figure size 720x432 with 1 Axes>"
      ]
     },
     "metadata": {
      "needs_background": "light"
     },
     "output_type": "display_data"
    }
   ],
   "source": [
    "# 20 epochs \n",
    "# 10 epochs \n",
    "plt.figure(figsize=(10,6))\n",
    "sns.histplot(abs(y_test_1-y_pred_model.flatten()),bins=20)\n",
    "plt.yscale(\"log\")"
   ]
  },
  {
   "cell_type": "code",
   "execution_count": 85,
   "id": "7b5c68cf",
   "metadata": {},
   "outputs": [
    {
     "name": "stdout",
     "output_type": "stream",
     "text": [
      "MAE less than \"0.1\" (12199,)\n",
      "MAE less than \"0.5\" (16165,)\n",
      "MAE greater than \"0.5\" but less than \"1\" (892,)\n",
      "MAE greater than \"1\" but less than \"1.5\" (193,)\n",
      "MAE greater than \"1.5\" but less than \"2\" (33,)\n",
      "MAE greater than \"2\" but less than \"3\" (5,)\n"
     ]
    }
   ],
   "source": [
    "# 20 Epochs\n",
    "\n",
    "print('MAE less than \"0.1\"',np.array(np.where(difference<=0.1)).flatten().shape)\n",
    "print('MAE less than \"0.5\"',np.array(np.where(difference<=0.5)).flatten().shape)\n",
    "print('MAE greater than \"0.5\" but less than \"1\"',np.array(np.where( (difference<=1) &(difference>0.5) )).flatten().shape)\n",
    "print('MAE greater than \"1\" but less than \"1.5\"',np.array(np.where( (difference<=1.5) &(difference>1) )).flatten().shape)\n",
    "print('MAE greater than \"1.5\" but less than \"2\"',np.array(np.where( (difference<=2) &(difference>1.5) )).flatten().shape)\n",
    "print('MAE greater than \"2\" but less than \"3\"',np.array(np.where( (difference<=3) &(difference>2) )).flatten().shape)"
   ]
  }
 ],
 "metadata": {
  "kernelspec": {
   "display_name": "Python 3",
   "language": "python",
   "name": "python3"
  },
  "language_info": {
   "codemirror_mode": {
    "name": "ipython",
    "version": 3
   },
   "file_extension": ".py",
   "mimetype": "text/x-python",
   "name": "python",
   "nbconvert_exporter": "python",
   "pygments_lexer": "ipython3",
   "version": "3.8.8"
  }
 },
 "nbformat": 4,
 "nbformat_minor": 5
}
