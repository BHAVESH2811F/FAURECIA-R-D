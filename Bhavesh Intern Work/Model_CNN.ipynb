{
 "cells": [
  {
   "cell_type": "code",
   "execution_count": 1,
   "id": "c1068d97",
   "metadata": {},
   "outputs": [],
   "source": [
    "import pandas as pd \n",
    "import numpy as np \n",
    "import matplotlib.pyplot as plt "
   ]
  },
  {
   "cell_type": "markdown",
   "id": "4cf5ffb8",
   "metadata": {},
   "source": [
    "# Data Preparation "
   ]
  },
  {
   "cell_type": "code",
   "execution_count": 2,
   "id": "d6e264eb",
   "metadata": {},
   "outputs": [],
   "source": [
    "images = pd.read_csv('Images.csv')\n",
    "images = images.iloc[:,1:]"
   ]
  },
  {
   "cell_type": "code",
   "execution_count": 3,
   "id": "75284860",
   "metadata": {},
   "outputs": [
    {
     "data": {
      "text/plain": [
       "1025"
      ]
     },
     "execution_count": 3,
     "metadata": {},
     "output_type": "execute_result"
    }
   ],
   "source": [
    "len(images.columns)"
   ]
  },
  {
   "cell_type": "code",
   "execution_count": 4,
   "id": "befc6e06",
   "metadata": {},
   "outputs": [],
   "source": [
    "x = images.drop(columns=['target'],axis=1)\n",
    "y = images['target']"
   ]
  },
  {
   "cell_type": "code",
   "execution_count": 5,
   "id": "0e416c0e",
   "metadata": {},
   "outputs": [
    {
     "data": {
      "text/html": [
       "<div>\n",
       "<style scoped>\n",
       "    .dataframe tbody tr th:only-of-type {\n",
       "        vertical-align: middle;\n",
       "    }\n",
       "\n",
       "    .dataframe tbody tr th {\n",
       "        vertical-align: top;\n",
       "    }\n",
       "\n",
       "    .dataframe thead th {\n",
       "        text-align: right;\n",
       "    }\n",
       "</style>\n",
       "<table border=\"1\" class=\"dataframe\">\n",
       "  <thead>\n",
       "    <tr style=\"text-align: right;\">\n",
       "      <th></th>\n",
       "      <th>0</th>\n",
       "      <th>1</th>\n",
       "      <th>2</th>\n",
       "      <th>3</th>\n",
       "      <th>4</th>\n",
       "      <th>5</th>\n",
       "      <th>6</th>\n",
       "      <th>7</th>\n",
       "      <th>8</th>\n",
       "      <th>9</th>\n",
       "      <th>...</th>\n",
       "      <th>1014</th>\n",
       "      <th>1015</th>\n",
       "      <th>1016</th>\n",
       "      <th>1017</th>\n",
       "      <th>1018</th>\n",
       "      <th>1019</th>\n",
       "      <th>1020</th>\n",
       "      <th>1021</th>\n",
       "      <th>1022</th>\n",
       "      <th>1023</th>\n",
       "    </tr>\n",
       "  </thead>\n",
       "  <tbody>\n",
       "    <tr>\n",
       "      <th>0</th>\n",
       "      <td>-20.000000</td>\n",
       "      <td>-20.0</td>\n",
       "      <td>-20.000000</td>\n",
       "      <td>-20.000000</td>\n",
       "      <td>-20.0</td>\n",
       "      <td>-20.000000</td>\n",
       "      <td>-20.000000</td>\n",
       "      <td>-20.0</td>\n",
       "      <td>4.025079</td>\n",
       "      <td>4.129632</td>\n",
       "      <td>...</td>\n",
       "      <td>-20.000000</td>\n",
       "      <td>-20.000000</td>\n",
       "      <td>-20.000000</td>\n",
       "      <td>-20.000000</td>\n",
       "      <td>-20.000000</td>\n",
       "      <td>-20.000000</td>\n",
       "      <td>-20.000000</td>\n",
       "      <td>-20.000000</td>\n",
       "      <td>-20.000000</td>\n",
       "      <td>-20.000000</td>\n",
       "    </tr>\n",
       "    <tr>\n",
       "      <th>1</th>\n",
       "      <td>-20.000000</td>\n",
       "      <td>-20.0</td>\n",
       "      <td>-20.000000</td>\n",
       "      <td>3.300450</td>\n",
       "      <td>-20.0</td>\n",
       "      <td>-3.411350</td>\n",
       "      <td>-3.280438</td>\n",
       "      <td>-20.0</td>\n",
       "      <td>-3.214981</td>\n",
       "      <td>-3.149525</td>\n",
       "      <td>...</td>\n",
       "      <td>-20.000000</td>\n",
       "      <td>-20.000000</td>\n",
       "      <td>-20.000000</td>\n",
       "      <td>-20.000000</td>\n",
       "      <td>-20.000000</td>\n",
       "      <td>-20.000000</td>\n",
       "      <td>-20.000000</td>\n",
       "      <td>-20.000000</td>\n",
       "      <td>-20.000000</td>\n",
       "      <td>-20.000000</td>\n",
       "    </tr>\n",
       "    <tr>\n",
       "      <th>2</th>\n",
       "      <td>3.804995</td>\n",
       "      <td>-20.0</td>\n",
       "      <td>-3.115944</td>\n",
       "      <td>-2.985031</td>\n",
       "      <td>-20.0</td>\n",
       "      <td>-2.919574</td>\n",
       "      <td>-2.788662</td>\n",
       "      <td>-20.0</td>\n",
       "      <td>-2.723205</td>\n",
       "      <td>-2.657749</td>\n",
       "      <td>...</td>\n",
       "      <td>-20.000000</td>\n",
       "      <td>-20.000000</td>\n",
       "      <td>-20.000000</td>\n",
       "      <td>-20.000000</td>\n",
       "      <td>-20.000000</td>\n",
       "      <td>-20.000000</td>\n",
       "      <td>-20.000000</td>\n",
       "      <td>-20.000000</td>\n",
       "      <td>-20.000000</td>\n",
       "      <td>-20.000000</td>\n",
       "    </tr>\n",
       "    <tr>\n",
       "      <th>3</th>\n",
       "      <td>-20.000000</td>\n",
       "      <td>-20.0</td>\n",
       "      <td>-20.000000</td>\n",
       "      <td>-20.000000</td>\n",
       "      <td>-20.0</td>\n",
       "      <td>-20.000000</td>\n",
       "      <td>4.744340</td>\n",
       "      <td>-20.0</td>\n",
       "      <td>4.852862</td>\n",
       "      <td>4.961383</td>\n",
       "      <td>...</td>\n",
       "      <td>-20.000000</td>\n",
       "      <td>-20.000000</td>\n",
       "      <td>-20.000000</td>\n",
       "      <td>-20.000000</td>\n",
       "      <td>-20.000000</td>\n",
       "      <td>-20.000000</td>\n",
       "      <td>-20.000000</td>\n",
       "      <td>-20.000000</td>\n",
       "      <td>-20.000000</td>\n",
       "      <td>-20.000000</td>\n",
       "    </tr>\n",
       "    <tr>\n",
       "      <th>4</th>\n",
       "      <td>-2.763842</td>\n",
       "      <td>-20.0</td>\n",
       "      <td>-2.698856</td>\n",
       "      <td>-2.568882</td>\n",
       "      <td>-20.0</td>\n",
       "      <td>-2.503896</td>\n",
       "      <td>-2.373835</td>\n",
       "      <td>-20.0</td>\n",
       "      <td>-2.308785</td>\n",
       "      <td>-2.243734</td>\n",
       "      <td>...</td>\n",
       "      <td>-20.000000</td>\n",
       "      <td>4.263516</td>\n",
       "      <td>3.815954</td>\n",
       "      <td>3.549164</td>\n",
       "      <td>3.278055</td>\n",
       "      <td>3.082746</td>\n",
       "      <td>2.968612</td>\n",
       "      <td>2.854479</td>\n",
       "      <td>2.740346</td>\n",
       "      <td>2.626212</td>\n",
       "    </tr>\n",
       "    <tr>\n",
       "      <th>...</th>\n",
       "      <td>...</td>\n",
       "      <td>...</td>\n",
       "      <td>...</td>\n",
       "      <td>...</td>\n",
       "      <td>...</td>\n",
       "      <td>...</td>\n",
       "      <td>...</td>\n",
       "      <td>...</td>\n",
       "      <td>...</td>\n",
       "      <td>...</td>\n",
       "      <td>...</td>\n",
       "      <td>...</td>\n",
       "      <td>...</td>\n",
       "      <td>...</td>\n",
       "      <td>...</td>\n",
       "      <td>...</td>\n",
       "      <td>...</td>\n",
       "      <td>...</td>\n",
       "      <td>...</td>\n",
       "      <td>...</td>\n",
       "      <td>...</td>\n",
       "    </tr>\n",
       "    <tr>\n",
       "      <th>32115</th>\n",
       "      <td>0.651214</td>\n",
       "      <td>-20.0</td>\n",
       "      <td>0.666787</td>\n",
       "      <td>0.709722</td>\n",
       "      <td>-20.0</td>\n",
       "      <td>0.732800</td>\n",
       "      <td>0.778957</td>\n",
       "      <td>-20.0</td>\n",
       "      <td>0.802036</td>\n",
       "      <td>0.822193</td>\n",
       "      <td>...</td>\n",
       "      <td>-0.648517</td>\n",
       "      <td>-0.503779</td>\n",
       "      <td>-0.281610</td>\n",
       "      <td>0.080376</td>\n",
       "      <td>0.686205</td>\n",
       "      <td>1.292034</td>\n",
       "      <td>1.875539</td>\n",
       "      <td>2.422767</td>\n",
       "      <td>2.969995</td>\n",
       "      <td>3.517224</td>\n",
       "    </tr>\n",
       "    <tr>\n",
       "      <th>32116</th>\n",
       "      <td>0.690940</td>\n",
       "      <td>-20.0</td>\n",
       "      <td>0.715672</td>\n",
       "      <td>0.765137</td>\n",
       "      <td>-20.0</td>\n",
       "      <td>0.789869</td>\n",
       "      <td>0.839334</td>\n",
       "      <td>-20.0</td>\n",
       "      <td>0.861790</td>\n",
       "      <td>0.882283</td>\n",
       "      <td>...</td>\n",
       "      <td>-0.736846</td>\n",
       "      <td>-0.589156</td>\n",
       "      <td>-0.412707</td>\n",
       "      <td>-0.072809</td>\n",
       "      <td>0.582404</td>\n",
       "      <td>1.237617</td>\n",
       "      <td>1.892830</td>\n",
       "      <td>2.548043</td>\n",
       "      <td>3.169497</td>\n",
       "      <td>3.744399</td>\n",
       "    </tr>\n",
       "    <tr>\n",
       "      <th>32117</th>\n",
       "      <td>-20.000000</td>\n",
       "      <td>-20.0</td>\n",
       "      <td>-20.000000</td>\n",
       "      <td>-20.000000</td>\n",
       "      <td>-20.0</td>\n",
       "      <td>-20.000000</td>\n",
       "      <td>-20.000000</td>\n",
       "      <td>-20.0</td>\n",
       "      <td>-20.000000</td>\n",
       "      <td>-20.000000</td>\n",
       "      <td>...</td>\n",
       "      <td>-0.027378</td>\n",
       "      <td>0.380806</td>\n",
       "      <td>1.157251</td>\n",
       "      <td>2.035931</td>\n",
       "      <td>2.914610</td>\n",
       "      <td>3.793290</td>\n",
       "      <td>4.671969</td>\n",
       "      <td>5.550649</td>\n",
       "      <td>6.429328</td>\n",
       "      <td>7.308008</td>\n",
       "    </tr>\n",
       "    <tr>\n",
       "      <th>32118</th>\n",
       "      <td>-20.000000</td>\n",
       "      <td>-20.0</td>\n",
       "      <td>-20.000000</td>\n",
       "      <td>-20.000000</td>\n",
       "      <td>-20.0</td>\n",
       "      <td>-20.000000</td>\n",
       "      <td>-20.000000</td>\n",
       "      <td>-20.0</td>\n",
       "      <td>-20.000000</td>\n",
       "      <td>-20.000000</td>\n",
       "      <td>...</td>\n",
       "      <td>3.024517</td>\n",
       "      <td>3.904204</td>\n",
       "      <td>4.783892</td>\n",
       "      <td>5.663579</td>\n",
       "      <td>-20.000000</td>\n",
       "      <td>-20.000000</td>\n",
       "      <td>-20.000000</td>\n",
       "      <td>-20.000000</td>\n",
       "      <td>-20.000000</td>\n",
       "      <td>-20.000000</td>\n",
       "    </tr>\n",
       "    <tr>\n",
       "      <th>32119</th>\n",
       "      <td>-20.000000</td>\n",
       "      <td>-20.0</td>\n",
       "      <td>-20.000000</td>\n",
       "      <td>-20.000000</td>\n",
       "      <td>-20.0</td>\n",
       "      <td>-20.000000</td>\n",
       "      <td>-20.000000</td>\n",
       "      <td>-20.0</td>\n",
       "      <td>-20.000000</td>\n",
       "      <td>-20.000000</td>\n",
       "      <td>...</td>\n",
       "      <td>-20.000000</td>\n",
       "      <td>-20.000000</td>\n",
       "      <td>-20.000000</td>\n",
       "      <td>-20.000000</td>\n",
       "      <td>-20.000000</td>\n",
       "      <td>-20.000000</td>\n",
       "      <td>-20.000000</td>\n",
       "      <td>-20.000000</td>\n",
       "      <td>-20.000000</td>\n",
       "      <td>-20.000000</td>\n",
       "    </tr>\n",
       "  </tbody>\n",
       "</table>\n",
       "<p>32120 rows × 1024 columns</p>\n",
       "</div>"
      ],
      "text/plain": [
       "               0     1          2          3     4          5          6  \\\n",
       "0     -20.000000 -20.0 -20.000000 -20.000000 -20.0 -20.000000 -20.000000   \n",
       "1     -20.000000 -20.0 -20.000000   3.300450 -20.0  -3.411350  -3.280438   \n",
       "2       3.804995 -20.0  -3.115944  -2.985031 -20.0  -2.919574  -2.788662   \n",
       "3     -20.000000 -20.0 -20.000000 -20.000000 -20.0 -20.000000   4.744340   \n",
       "4      -2.763842 -20.0  -2.698856  -2.568882 -20.0  -2.503896  -2.373835   \n",
       "...          ...   ...        ...        ...   ...        ...        ...   \n",
       "32115   0.651214 -20.0   0.666787   0.709722 -20.0   0.732800   0.778957   \n",
       "32116   0.690940 -20.0   0.715672   0.765137 -20.0   0.789869   0.839334   \n",
       "32117 -20.000000 -20.0 -20.000000 -20.000000 -20.0 -20.000000 -20.000000   \n",
       "32118 -20.000000 -20.0 -20.000000 -20.000000 -20.0 -20.000000 -20.000000   \n",
       "32119 -20.000000 -20.0 -20.000000 -20.000000 -20.0 -20.000000 -20.000000   \n",
       "\n",
       "          7          8          9  ...       1014       1015       1016  \\\n",
       "0     -20.0   4.025079   4.129632  ... -20.000000 -20.000000 -20.000000   \n",
       "1     -20.0  -3.214981  -3.149525  ... -20.000000 -20.000000 -20.000000   \n",
       "2     -20.0  -2.723205  -2.657749  ... -20.000000 -20.000000 -20.000000   \n",
       "3     -20.0   4.852862   4.961383  ... -20.000000 -20.000000 -20.000000   \n",
       "4     -20.0  -2.308785  -2.243734  ... -20.000000   4.263516   3.815954   \n",
       "...     ...        ...        ...  ...        ...        ...        ...   \n",
       "32115 -20.0   0.802036   0.822193  ...  -0.648517  -0.503779  -0.281610   \n",
       "32116 -20.0   0.861790   0.882283  ...  -0.736846  -0.589156  -0.412707   \n",
       "32117 -20.0 -20.000000 -20.000000  ...  -0.027378   0.380806   1.157251   \n",
       "32118 -20.0 -20.000000 -20.000000  ...   3.024517   3.904204   4.783892   \n",
       "32119 -20.0 -20.000000 -20.000000  ... -20.000000 -20.000000 -20.000000   \n",
       "\n",
       "            1017       1018       1019       1020       1021       1022  \\\n",
       "0     -20.000000 -20.000000 -20.000000 -20.000000 -20.000000 -20.000000   \n",
       "1     -20.000000 -20.000000 -20.000000 -20.000000 -20.000000 -20.000000   \n",
       "2     -20.000000 -20.000000 -20.000000 -20.000000 -20.000000 -20.000000   \n",
       "3     -20.000000 -20.000000 -20.000000 -20.000000 -20.000000 -20.000000   \n",
       "4       3.549164   3.278055   3.082746   2.968612   2.854479   2.740346   \n",
       "...          ...        ...        ...        ...        ...        ...   \n",
       "32115   0.080376   0.686205   1.292034   1.875539   2.422767   2.969995   \n",
       "32116  -0.072809   0.582404   1.237617   1.892830   2.548043   3.169497   \n",
       "32117   2.035931   2.914610   3.793290   4.671969   5.550649   6.429328   \n",
       "32118   5.663579 -20.000000 -20.000000 -20.000000 -20.000000 -20.000000   \n",
       "32119 -20.000000 -20.000000 -20.000000 -20.000000 -20.000000 -20.000000   \n",
       "\n",
       "            1023  \n",
       "0     -20.000000  \n",
       "1     -20.000000  \n",
       "2     -20.000000  \n",
       "3     -20.000000  \n",
       "4       2.626212  \n",
       "...          ...  \n",
       "32115   3.517224  \n",
       "32116   3.744399  \n",
       "32117   7.308008  \n",
       "32118 -20.000000  \n",
       "32119 -20.000000  \n",
       "\n",
       "[32120 rows x 1024 columns]"
      ]
     },
     "execution_count": 5,
     "metadata": {},
     "output_type": "execute_result"
    }
   ],
   "source": [
    "x"
   ]
  },
  {
   "cell_type": "code",
   "execution_count": 4,
   "id": "4001732b",
   "metadata": {},
   "outputs": [],
   "source": [
    "n= np.array(x)\n",
    "images_arr = []\n",
    "for i in range(len(x)):\n",
    "    arr = n[i]\n",
    "    arr = arr.reshape(32,32)\n",
    "    images_arr.append(arr)\n",
    "    \n",
    "images_arr = np.array(images_arr)"
   ]
  },
  {
   "cell_type": "code",
   "execution_count": 5,
   "id": "08e4669f",
   "metadata": {
    "scrolled": true
   },
   "outputs": [
    {
     "data": {
      "text/plain": [
       "(32, 32)"
      ]
     },
     "execution_count": 5,
     "metadata": {},
     "output_type": "execute_result"
    }
   ],
   "source": [
    "images_arr[0].shape"
   ]
  },
  {
   "cell_type": "code",
   "execution_count": 6,
   "id": "e68da921",
   "metadata": {},
   "outputs": [
    {
     "data": {
      "text/plain": [
       "(32, 32, 1)"
      ]
     },
     "execution_count": 6,
     "metadata": {},
     "output_type": "execute_result"
    }
   ],
   "source": [
    "images_arr = images_arr.reshape(len(images_arr),32,32,1)\n",
    "images_arr[0].shape"
   ]
  },
  {
   "cell_type": "code",
   "execution_count": 7,
   "id": "fafe9ba7",
   "metadata": {
    "scrolled": true
   },
   "outputs": [
    {
     "data": {
      "text/plain": [
       "array([[-20.],\n",
       "       [-20.],\n",
       "       [-20.],\n",
       "       [-20.],\n",
       "       [-20.],\n",
       "       [-20.],\n",
       "       [-20.],\n",
       "       [-20.],\n",
       "       [-20.],\n",
       "       [-20.],\n",
       "       [-20.],\n",
       "       [-20.],\n",
       "       [-20.],\n",
       "       [-20.],\n",
       "       [-20.],\n",
       "       [-20.],\n",
       "       [-20.],\n",
       "       [-20.],\n",
       "       [-20.],\n",
       "       [-20.],\n",
       "       [-20.],\n",
       "       [-20.],\n",
       "       [-20.],\n",
       "       [-20.],\n",
       "       [-20.],\n",
       "       [-20.],\n",
       "       [-20.],\n",
       "       [-20.],\n",
       "       [-20.],\n",
       "       [-20.],\n",
       "       [-20.],\n",
       "       [-20.]])"
      ]
     },
     "execution_count": 7,
     "metadata": {},
     "output_type": "execute_result"
    }
   ],
   "source": [
    "images_arr[0][31]"
   ]
  },
  {
   "cell_type": "code",
   "execution_count": 10,
   "id": "82c8e2fc",
   "metadata": {
    "scrolled": false
   },
   "outputs": [
    {
     "data": {
      "text/plain": [
       "<matplotlib.image.AxesImage at 0x222f10f9040>"
      ]
     },
     "execution_count": 10,
     "metadata": {},
     "output_type": "execute_result"
    },
    {
     "data": {
      "image/png": "[encoded data removed]",
      "text/plain": [
       "<Figure size 432x288 with 1 Axes>"
      ]
     },
     "metadata": {
      "needs_background": "light"
     },
     "output_type": "display_data"
    }
   ],
   "source": [
    "plt.imshow(images_arr[7])"
   ]
  },
  {
   "cell_type": "code",
   "execution_count": 8,
   "id": "18a15648",
   "metadata": {
    "scrolled": true
   },
   "outputs": [
    {
     "data": {
      "text/plain": [
       "<matplotlib.image.AxesImage at 0x22fa8eda0d0>"
      ]
     },
     "execution_count": 8,
     "metadata": {},
     "output_type": "execute_result"
    },
    {
     "data": {
      "image/png": "[encoded data removed]",
      "text/plain": [
       "<Figure size 432x288 with 1 Axes>"
      ]
     },
     "metadata": {
      "needs_background": "light"
     },
     "output_type": "display_data"
    }
   ],
   "source": [
    "images_arr = images_arr/225.0 \n",
    "plt.imshow(images_arr[7])"
   ]
  },
  {
   "cell_type": "code",
   "execution_count": 12,
   "id": "907edf5d",
   "metadata": {},
   "outputs": [],
   "source": [
    "y = np.array(y)"
   ]
  },
  {
   "cell_type": "code",
   "execution_count": 13,
   "id": "b900b538",
   "metadata": {
    "scrolled": false
   },
   "outputs": [
    {
     "data": {
      "text/plain": [
       "array([0. , 0.1, 0.2, 0.3, 0.4, 0.5, 0.6, 0.7, 0.8, 0.9, 1. ])"
      ]
     },
     "execution_count": 13,
     "metadata": {},
     "output_type": "execute_result"
    }
   ],
   "source": [
    "np.unique(y)"
   ]
  },
  {
   "cell_type": "code",
   "execution_count": null,
   "id": "288e076c",
   "metadata": {
    "scrolled": true
   },
   "outputs": [],
   "source": []
  },
  {
   "cell_type": "code",
   "execution_count": 18,
   "id": "222c3910",
   "metadata": {},
   "outputs": [
    {
     "name": "stdout",
     "output_type": "stream",
     "text": [
      "AxesImage(54,36;334.8x217.44)\n"
     ]
    },
    {
     "data": {
      "image/png": "[encoded data removed]",
      "text/plain": [
       "<Figure size 432x288 with 1 Axes>"
      ]
     },
     "metadata": {
      "needs_background": "light"
     },
     "output_type": "display_data"
    }
   ],
   "source": [
    "print(plt.imshow(images_arr[0]))\n",
    "plt.show()"
   ]
  },
  {
   "cell_type": "code",
   "execution_count": 27,
   "id": "c557a3e4",
   "metadata": {
    "scrolled": true
   },
   "outputs": [
    {
     "data": {
      "text/plain": [
       "<matplotlib.image.AxesImage at 0x1a7b60f51c0>"
      ]
     },
     "execution_count": 27,
     "metadata": {},
     "output_type": "execute_result"
    },
    {
     "data": {
      "image/png": "[encoded data removed]",
      "text/plain": [
       "<Figure size 432x288 with 1 Axes>"
      ]
     },
     "metadata": {
      "needs_background": "light"
     },
     "output_type": "display_data"
    }
   ],
   "source": [
    "plt.imshow(images_arr[2])"
   ]
  },
  {
   "cell_type": "markdown",
   "id": "44e78041",
   "metadata": {},
   "source": [
    "# model Building "
   ]
  },
  {
   "cell_type": "markdown",
   "id": "eecadfe8",
   "metadata": {},
   "source": [
    "### This is yesterdays code where i was trying to predict 11 classes.\n",
    "### Pls skip this and below 2 hyperparameter model to directly access todays new code.\n",
    "### Thankyou "
   ]
  },
  {
   "cell_type": "code",
   "execution_count": 9,
   "id": "446063f7",
   "metadata": {},
   "outputs": [],
   "source": [
    "from sklearn.model_selection import train_test_split\n",
    "x_train, x_test, y_train, y_test = train_test_split(images_arr,y,test_size=0.2,random_state=2)"
   ]
  },
  {
   "cell_type": "code",
   "execution_count": 10,
   "id": "301fb11f",
   "metadata": {},
   "outputs": [],
   "source": [
    "import tensorflow as tf \n",
    "from tensorflow import keras "
   ]
  },
  {
   "cell_type": "code",
   "execution_count": 56,
   "id": "183a2463",
   "metadata": {},
   "outputs": [],
   "source": [
    "cnn = keras.Sequential([\n",
    "    keras.layers.Conv2D(filters = 128, kernel_size= (3,3), strides = 1,padding = 'same',activation = 'relu',input_shape = (32,32,1)),\n",
    "    keras.layers.MaxPooling2D((2,2)),\n",
    "    \n",
    "    keras.layers.Conv2D(filters = 64, kernel_size= (3,3),strides = 1,padding = 'same', activation = 'relu'),\n",
    "    keras.layers.MaxPooling2D((2,2)),\n",
    "    \n",
    "    keras.layers.Conv2D(filters = 32, kernel_size= (3,3),strides = 1,padding = 'same', activation = 'relu'),\n",
    "    keras.layers.MaxPooling2D((2,2)),\n",
    "    \n",
    "    keras.layers.Flatten(),\n",
    "    keras.layers.Dense(64, activation = 'relu'),\n",
    "    keras.layers.Dense(11, activation = 'softmax')\n",
    "])\n",
    "\n",
    "cnn.compile(optimizer = 'adam',\n",
    "           loss = 'sparse_categorical_crossentropy',\n",
    "           metrics=['accuracy'])"
   ]
  },
  {
   "cell_type": "code",
   "execution_count": 70,
   "id": "3d8973f7",
   "metadata": {
    "scrolled": true
   },
   "outputs": [
    {
     "name": "stdout",
     "output_type": "stream",
     "text": [
      "Epoch 1/10\n",
      "803/803 [==============================] - 95s 118ms/step - loss: 0.0405 - accuracy: 0.0034\n",
      "Epoch 2/10\n",
      "803/803 [==============================] - 94s 117ms/step - loss: 0.0377 - accuracy: 0.0034\n",
      "Epoch 3/10\n",
      "803/803 [==============================] - 94s 117ms/step - loss: 0.0372 - accuracy: 0.0034\n",
      "Epoch 4/10\n",
      "803/803 [==============================] - 94s 117ms/step - loss: 0.0359 - accuracy: 0.0034\n",
      "Epoch 5/10\n",
      "803/803 [==============================] - 94s 117ms/step - loss: 0.0352 - accuracy: 0.0034\n",
      "Epoch 6/10\n",
      "803/803 [==============================] - 94s 117ms/step - loss: 0.0342 - accuracy: 0.0034\n",
      "Epoch 7/10\n",
      "803/803 [==============================] - 96s 119ms/step - loss: 0.0332 - accuracy: 0.0034\n",
      "Epoch 8/10\n",
      "803/803 [==============================] - 95s 118ms/step - loss: 0.0311 - accuracy: 0.0035\n",
      "Epoch 9/10\n",
      "803/803 [==============================] - 95s 118ms/step - loss: 0.0305 - accuracy: 0.0036\n",
      "Epoch 10/10\n",
      "803/803 [==============================] - 105s 130ms/step - loss: 0.0294 - accuracy: 0.0037\n"
     ]
    },
    {
     "data": {
      "text/plain": [
       "<keras.callbacks.History at 0x1a81be1e190>"
      ]
     },
     "execution_count": 70,
     "metadata": {},
     "output_type": "execute_result"
    }
   ],
   "source": [
    "cnn.fit(x_train,y_train, epochs = 10)"
   ]
  },
  {
   "cell_type": "code",
   "execution_count": 71,
   "id": "b614b155",
   "metadata": {
    "scrolled": true
   },
   "outputs": [
    {
     "name": "stdout",
     "output_type": "stream",
     "text": [
      "Epoch 11/30\n",
      "803/803 [==============================] - 95s 118ms/step - loss: 0.0274 - accuracy: 0.0038\n",
      "Epoch 12/30\n",
      "803/803 [==============================] - 95s 119ms/step - loss: 0.0261 - accuracy: 0.0041\n",
      "Epoch 13/30\n",
      "803/803 [==============================] - 97s 121ms/step - loss: 0.0259 - accuracy: 0.0040\n",
      "Epoch 14/30\n",
      "803/803 [==============================] - 95s 118ms/step - loss: 0.0242 - accuracy: 0.0039\n",
      "Epoch 15/30\n",
      "803/803 [==============================] - 94s 117ms/step - loss: 0.0241 - accuracy: 0.0042\n",
      "Epoch 16/30\n",
      "803/803 [==============================] - 95s 118ms/step - loss: 0.0223 - accuracy: 0.0044\n",
      "Epoch 17/30\n",
      "803/803 [==============================] - 94s 118ms/step - loss: 0.0211 - accuracy: 0.0045\n",
      "Epoch 18/30\n",
      "803/803 [==============================] - 95s 118ms/step - loss: 0.0209 - accuracy: 0.0044\n",
      "Epoch 19/30\n",
      "803/803 [==============================] - 95s 118ms/step - loss: 0.0200 - accuracy: 0.0048\n",
      "Epoch 20/30\n",
      "803/803 [==============================] - 98s 122ms/step - loss: 0.0194 - accuracy: 0.0049\n",
      "Epoch 21/30\n",
      "803/803 [==============================] - 87s 109ms/step - loss: 0.0199 - accuracy: 0.0049\n",
      "Epoch 22/30\n",
      "803/803 [==============================] - 84s 104ms/step - loss: 0.0191 - accuracy: 0.0049\n",
      "Epoch 23/30\n",
      "803/803 [==============================] - 84s 105ms/step - loss: 0.0192 - accuracy: 0.0047\n",
      "Epoch 24/30\n",
      "803/803 [==============================] - 83s 103ms/step - loss: 0.0182 - accuracy: 0.0050\n",
      "Epoch 25/30\n",
      "803/803 [==============================] - 84s 105ms/step - loss: 0.0174 - accuracy: 0.0054\n",
      "Epoch 26/30\n",
      "803/803 [==============================] - 85s 105ms/step - loss: 0.0168 - accuracy: 0.0054\n",
      "Epoch 27/30\n",
      "803/803 [==============================] - 87s 109ms/step - loss: 0.0170 - accuracy: 0.0053\n",
      "Epoch 28/30\n",
      "803/803 [==============================] - 87s 108ms/step - loss: 0.0164 - accuracy: 0.0054\n",
      "Epoch 29/30\n",
      "803/803 [==============================] - 92s 115ms/step - loss: 0.0167 - accuracy: 0.0054\n",
      "Epoch 30/30\n",
      "803/803 [==============================] - 106s 132ms/step - loss: 0.0165 - accuracy: 0.0053\n"
     ]
    },
    {
     "data": {
      "text/plain": [
       "<keras.callbacks.History at 0x1a81b6c6490>"
      ]
     },
     "execution_count": 71,
     "metadata": {},
     "output_type": "execute_result"
    }
   ],
   "source": [
    "cnn.fit(x_train,y_train, epochs =30, initial_epoch=10)"
   ]
  },
  {
   "cell_type": "code",
   "execution_count": 72,
   "id": "8a643683",
   "metadata": {
    "scrolled": true
   },
   "outputs": [
    {
     "name": "stdout",
     "output_type": "stream",
     "text": [
      "Epoch 31/70\n",
      "803/803 [==============================] - 95s 118ms/step - loss: 0.0162 - accuracy: 0.0055\n",
      "Epoch 32/70\n",
      "803/803 [==============================] - 95s 118ms/step - loss: 0.0163 - accuracy: 0.0055\n",
      "Epoch 33/70\n",
      "803/803 [==============================] - 94s 117ms/step - loss: 0.0188 - accuracy: 0.0054\n",
      "Epoch 34/70\n",
      "803/803 [==============================] - 94s 118ms/step - loss: 0.0150 - accuracy: 0.0055\n",
      "Epoch 35/70\n",
      "803/803 [==============================] - 97s 120ms/step - loss: 0.0147 - accuracy: 0.0059\n",
      "Epoch 36/70\n",
      "803/803 [==============================] - 96s 119ms/step - loss: 0.0147 - accuracy: 0.0059\n",
      "Epoch 37/70\n",
      "803/803 [==============================] - 96s 120ms/step - loss: 0.0143 - accuracy: 0.0060\n",
      "Epoch 38/70\n",
      "803/803 [==============================] - 96s 120ms/step - loss: 0.0147 - accuracy: 0.0060\n",
      "Epoch 39/70\n",
      "803/803 [==============================] - 96s 120ms/step - loss: 0.0147 - accuracy: 0.0062\n",
      "Epoch 40/70\n",
      "803/803 [==============================] - 95s 118ms/step - loss: 0.0143 - accuracy: 0.0060\n",
      "Epoch 41/70\n",
      "803/803 [==============================] - 95s 118ms/step - loss: 0.0141 - accuracy: 0.0062\n",
      "Epoch 42/70\n",
      "803/803 [==============================] - 95s 118ms/step - loss: 0.0145 - accuracy: 0.0059\n",
      "Epoch 43/70\n",
      "803/803 [==============================] - 96s 120ms/step - loss: 0.0131 - accuracy: 0.0062\n",
      "Epoch 44/70\n",
      "803/803 [==============================] - 95s 119ms/step - loss: 0.0137 - accuracy: 0.0060\n",
      "Epoch 45/70\n",
      "803/803 [==============================] - 95s 119ms/step - loss: 0.0139 - accuracy: 0.0061\n",
      "Epoch 46/70\n",
      "803/803 [==============================] - 98s 122ms/step - loss: 0.0133 - accuracy: 0.0063\n",
      "Epoch 47/70\n",
      "803/803 [==============================] - 85s 106ms/step - loss: 0.0141 - accuracy: 0.0060\n",
      "Epoch 48/70\n",
      "803/803 [==============================] - 85s 106ms/step - loss: 0.0151 - accuracy: 0.0056\n",
      "Epoch 49/70\n",
      "803/803 [==============================] - 84s 105ms/step - loss: 0.0130 - accuracy: 0.0061\n",
      "Epoch 50/70\n",
      "803/803 [==============================] - 84s 105ms/step - loss: 0.0134 - accuracy: 0.0064\n",
      "Epoch 51/70\n",
      "803/803 [==============================] - 85s 105ms/step - loss: 0.0123 - accuracy: 0.0062\n",
      "Epoch 52/70\n",
      "803/803 [==============================] - 85s 106ms/step - loss: 0.0142 - accuracy: 0.0060\n",
      "Epoch 53/70\n",
      "803/803 [==============================] - 84s 105ms/step - loss: 0.0121 - accuracy: 0.0063\n",
      "Epoch 54/70\n",
      "803/803 [==============================] - 86s 108ms/step - loss: 0.0126 - accuracy: 0.0065\n",
      "Epoch 55/70\n",
      "803/803 [==============================] - 85s 106ms/step - loss: 0.0134 - accuracy: 0.0063s - l\n",
      "Epoch 56/70\n",
      "803/803 [==============================] - 85s 106ms/step - loss: 0.0139 - accuracy: 0.0066\n",
      "Epoch 57/70\n",
      "803/803 [==============================] - 84s 104ms/step - loss: 0.0137 - accuracy: 0.0064\n",
      "Epoch 58/70\n",
      "803/803 [==============================] - 84s 105ms/step - loss: 0.0118 - accuracy: 0.0066\n",
      "Epoch 59/70\n",
      "803/803 [==============================] - 84s 105ms/step - loss: 0.0122 - accuracy: 0.0065\n",
      "Epoch 60/70\n",
      "803/803 [==============================] - 84s 105ms/step - loss: 0.0123 - accuracy: 0.0065\n",
      "Epoch 61/70\n",
      "803/803 [==============================] - 84s 105ms/step - loss: 0.0126 - accuracy: 0.0065\n",
      "Epoch 62/70\n",
      "803/803 [==============================] - 83s 104ms/step - loss: 0.0112 - accuracy: 0.0067\n",
      "Epoch 63/70\n",
      "803/803 [==============================] - 84s 104ms/step - loss: 0.0125 - accuracy: 0.0067\n",
      "Epoch 64/70\n",
      "803/803 [==============================] - 84s 105ms/step - loss: 0.0195 - accuracy: 0.0064\n",
      "Epoch 65/70\n",
      "803/803 [==============================] - 84s 105ms/step - loss: 0.0113 - accuracy: 0.0067\n",
      "Epoch 66/70\n",
      "803/803 [==============================] - 85s 106ms/step - loss: 0.0115 - accuracy: 0.0069s - loss: 0.0115 \n",
      "Epoch 67/70\n",
      "803/803 [==============================] - 85s 106ms/step - loss: 0.0112 - accuracy: 0.0067\n",
      "Epoch 68/70\n",
      "803/803 [==============================] - 86s 107ms/step - loss: 0.0114 - accuracy: 0.0068\n",
      "Epoch 69/70\n",
      "803/803 [==============================] - 84s 105ms/step - loss: 0.0119 - accuracy: 0.0068\n",
      "Epoch 70/70\n",
      "803/803 [==============================] - 85s 105ms/step - loss: 0.0108 - accuracy: 0.0068\n"
     ]
    },
    {
     "data": {
      "text/plain": [
       "<keras.callbacks.History at 0x1a81b6de4f0>"
      ]
     },
     "execution_count": 72,
     "metadata": {},
     "output_type": "execute_result"
    }
   ],
   "source": [
    "cnn.fit(x_train,y_train, epochs =70, initial_epoch=30)"
   ]
  },
  {
   "cell_type": "code",
   "execution_count": 32,
   "id": "41377ce4",
   "metadata": {
    "scrolled": true
   },
   "outputs": [
    {
     "name": "stdout",
     "output_type": "stream",
     "text": [
      "302/302 [==============================] - 3s 10ms/step - loss: 0.0435 - accuracy: 0.0036\n"
     ]
    },
    {
     "data": {
      "text/plain": [
       "[0.04346616566181183, 0.003632212523370981]"
      ]
     },
     "execution_count": 32,
     "metadata": {},
     "output_type": "execute_result"
    }
   ],
   "source": [
    "cnn.evaluate(x_test,y_test)"
   ]
  },
  {
   "cell_type": "markdown",
   "id": "ab84d28c",
   "metadata": {},
   "source": [
    "### hyperparameter tuning "
   ]
  },
  {
   "cell_type": "code",
   "execution_count": 33,
   "id": "edd74799",
   "metadata": {},
   "outputs": [],
   "source": [
    "def build_model(hp):\n",
    "    model = keras.Sequential([\n",
    "    keras.layers.Conv2D( filters=hp.Int('conv_1_filter', min_value=32, max_value=128, step=16),\n",
    "        kernel_size=hp.Choice('conv_1_kernel', values = [3,5]),\n",
    "        activation='relu',\n",
    "        input_shape=(32,32,1)),\n",
    "        \n",
    "    keras.layers.Conv2D( filters=hp.Int('conv_2_filter', min_value=32, max_value=64, step=16),\n",
    "        kernel_size=hp.Choice('conv_2_kernel', values = [3,5]),\n",
    "        activation='relu'),\n",
    " \n",
    "    keras.layers.Flatten(),\n",
    "      \n",
    "    keras.layers.Dense(units=hp.Int('dense_1_units', min_value=32, max_value=128, step=16),activation='relu'),\n",
    "\n",
    "    keras.layers.Dense(10, activation='softmax')])\n",
    "    \n",
    "    model.compile(optimizer=keras.optimizers.Adam(hp.Choice('learning_rate', values=[1e-2, 1e-3])),\n",
    "              loss='sparse_categorical_crossentropy',\n",
    "              metrics=['accuracy'])\n",
    "    return model"
   ]
  },
  {
   "cell_type": "code",
   "execution_count": 148,
   "id": "734a09b9",
   "metadata": {
    "scrolled": true
   },
   "outputs": [],
   "source": [
    "from keras_tuner import RandomSearch\n",
    "\n",
    "tuner = RandomSearch(build_model,objective='val_accuracy',max_trials = 5)\n",
    "tuner.search(x_train,y_train,epochs=3,validation_data=(x_test,y_test))"
   ]
  },
  {
   "cell_type": "code",
   "execution_count": 37,
   "id": "f96881d4",
   "metadata": {},
   "outputs": [
    {
     "data": {
      "text/plain": [
       "[<keras.engine.sequential.Sequential at 0x1a818d736a0>]"
      ]
     },
     "execution_count": 37,
     "metadata": {},
     "output_type": "execute_result"
    }
   ],
   "source": [
    "#llading tunner saved in our directory \n",
    "tuner.reload()"
   ]
  },
  {
   "cell_type": "code",
   "execution_count": 38,
   "id": "6531e593",
   "metadata": {},
   "outputs": [],
   "source": [
    "cnn = tuner.get_best_models(num_models=1)[0]"
   ]
  },
  {
   "cell_type": "code",
   "execution_count": 40,
   "id": "be103947",
   "metadata": {
    "scrolled": true
   },
   "outputs": [
    {
     "name": "stdout",
     "output_type": "stream",
     "text": [
      "Model: \"sequential\"\n",
      "_________________________________________________________________\n",
      " Layer (type)                Output Shape              Param #   \n",
      "=================================================================\n",
      " conv2d (Conv2D)             (None, 30, 30, 48)        480       \n",
      "                                                                 \n",
      " conv2d_1 (Conv2D)           (None, 26, 26, 64)        76864     \n",
      "                                                                 \n",
      " flatten (Flatten)           (None, 43264)             0         \n",
      "                                                                 \n",
      " dense (Dense)               (None, 80)                3461200   \n",
      "                                                                 \n",
      " dense_1 (Dense)             (None, 10)                810       \n",
      "                                                                 \n",
      "=================================================================\n",
      "Total params: 3,539,354\n",
      "Trainable params: 3,539,354\n",
      "Non-trainable params: 0\n",
      "_________________________________________________________________\n"
     ]
    }
   ],
   "source": [
    "cnn.summary()"
   ]
  },
  {
   "cell_type": "code",
   "execution_count": 41,
   "id": "2049da7c",
   "metadata": {
    "scrolled": true
   },
   "outputs": [
    {
     "name": "stdout",
     "output_type": "stream",
     "text": [
      "Epoch 4/10\n",
      "703/703 [==============================] - 113s 160ms/step - loss: 0.0469 - accuracy: 0.0036\n",
      "Epoch 5/10\n",
      "703/703 [==============================] - 113s 161ms/step - loss: 0.0423 - accuracy: 0.0036\n",
      "Epoch 6/10\n",
      "703/703 [==============================] - 113s 160ms/step - loss: 0.0417 - accuracy: 0.0036\n",
      "Epoch 7/10\n",
      "703/703 [==============================] - 113s 161ms/step - loss: 0.0420 - accuracy: 0.0036\n",
      "Epoch 8/10\n",
      "703/703 [==============================] - 114s 162ms/step - loss: 0.0415 - accuracy: 0.0036\n",
      "Epoch 9/10\n",
      "703/703 [==============================] - 114s 162ms/step - loss: 0.0414 - accuracy: 0.0036\n",
      "Epoch 10/10\n",
      "703/703 [==============================] - 113s 161ms/step - loss: 0.0410 - accuracy: 0.0036\n"
     ]
    },
    {
     "data": {
      "text/plain": [
       "<keras.callbacks.History at 0x1a8190f9fd0>"
      ]
     },
     "execution_count": 41,
     "metadata": {},
     "output_type": "execute_result"
    }
   ],
   "source": [
    "cnn.fit(x_train,y_train, epochs =10, initial_epoch=3)"
   ]
  },
  {
   "cell_type": "code",
   "execution_count": 42,
   "id": "fb9ab172",
   "metadata": {
    "scrolled": true
   },
   "outputs": [
    {
     "name": "stdout",
     "output_type": "stream",
     "text": [
      "302/302 [==============================] - 11s 37ms/step - loss: 0.0390 - accuracy: 0.0036\n"
     ]
    },
    {
     "data": {
      "text/plain": [
       "[0.03898245096206665, 0.003632212523370981]"
      ]
     },
     "execution_count": 42,
     "metadata": {},
     "output_type": "execute_result"
    }
   ],
   "source": [
    "cnn.evaluate(x_test,y_test)"
   ]
  },
  {
   "cell_type": "markdown",
   "id": "b0f45fc9",
   "metadata": {},
   "source": [
    "### Hyperparameter "
   ]
  },
  {
   "cell_type": "code",
   "execution_count": 44,
   "id": "39d5e5b2",
   "metadata": {},
   "outputs": [],
   "source": [
    "def build_model2(hp):\n",
    "    model = keras.Sequential([\n",
    "    keras.layers.Conv2D( filters=hp.Int('conv_1_filter', min_value=32, max_value=128, step=16),\n",
    "        kernel_size=hp.Choice('conv_1_kernel', values = [3,5]),\n",
    "        activation='relu',\n",
    "        input_shape=(32,32,1)),\n",
    "    keras.layers.MaxPooling2D((2,2)),\n",
    "        \n",
    "    keras.layers.Conv2D( filters=hp.Int('conv_2_filter', min_value=32, max_value=64, step=16),\n",
    "        kernel_size=hp.Choice('conv_2_kernel', values = [3,5]),\n",
    "        activation='relu'),\n",
    "    keras.layers.MaxPooling2D((2,2)),\n",
    " \n",
    "        \n",
    "    keras.layers.Flatten(),\n",
    "      \n",
    "    keras.layers.Dense(units=hp.Int('dense_1_units', min_value=32, max_value=128, step=16),activation='relu'),\n",
    "\n",
    "    keras.layers.Dense(10, activation='softmax')])\n",
    "    \n",
    "    model.compile(optimizer=keras.optimizers.Adam(hp.Choice('learning_rate', values=[1e-2, 1e-3])),\n",
    "              loss='sparse_categorical_crossentropy',\n",
    "              metrics=['accuracy'])\n",
    "    return model"
   ]
  },
  {
   "cell_type": "code",
   "execution_count": 34,
   "id": "0d812ae1",
   "metadata": {
    "scrolled": true
   },
   "outputs": [
    {
     "name": "stdout",
     "output_type": "stream",
     "text": [
      "Trial 8 Complete [00h 03m 55s]\n",
      "val_accuracy: 0.003632212523370981\n",
      "\n",
      "Best val_accuracy So Far: 0.003632212523370981\n",
      "Total elapsed time: 00h 33m 08s\n",
      "INFO:tensorflow:Oracle triggered exit\n"
     ]
    }
   ],
   "source": [
    "tuner2 = RandomSearch(build_model2,objective='val_accuracy',max_trials = 8, directory = 'pooling_output',project_name='Algo_with_pooling')\n",
    "tuner2.search(x_train,y_train,epochs= 5,validation_data=(x_test,y_test))"
   ]
  },
  {
   "cell_type": "code",
   "execution_count": 45,
   "id": "f5cf611f",
   "metadata": {},
   "outputs": [
    {
     "name": "stdout",
     "output_type": "stream",
     "text": [
      "INFO:tensorflow:Reloading Oracle from existing project pooling_output\\Algo_with_pooling\\oracle.json\n",
      "INFO:tensorflow:Reloading Tuner from pooling_output\\Algo_with_pooling\\tuner0.json\n"
     ]
    }
   ],
   "source": [
    "tuner2 = RandomSearch(build_model2,objective='val_accuracy',max_trials = 8, directory = 'pooling_output',project_name='Algo_with_pooling')"
   ]
  },
  {
   "cell_type": "code",
   "execution_count": 46,
   "id": "ab942dcc",
   "metadata": {},
   "outputs": [],
   "source": [
    "tuner2.reload()"
   ]
  },
  {
   "cell_type": "code",
   "execution_count": 47,
   "id": "b5c9ca60",
   "metadata": {
    "scrolled": true
   },
   "outputs": [
    {
     "name": "stdout",
     "output_type": "stream",
     "text": [
      "Model: \"sequential\"\n",
      "_________________________________________________________________\n",
      " Layer (type)                Output Shape              Param #   \n",
      "=================================================================\n",
      " conv2d (Conv2D)             (None, 30, 30, 48)        480       \n",
      "                                                                 \n",
      " conv2d_1 (Conv2D)           (None, 26, 26, 64)        76864     \n",
      "                                                                 \n",
      " flatten (Flatten)           (None, 43264)             0         \n",
      "                                                                 \n",
      " dense (Dense)               (None, 80)                3461200   \n",
      "                                                                 \n",
      " dense_1 (Dense)             (None, 10)                810       \n",
      "                                                                 \n",
      "=================================================================\n",
      "Total params: 3,539,354\n",
      "Trainable params: 3,539,354\n",
      "Non-trainable params: 0\n",
      "_________________________________________________________________\n"
     ]
    }
   ],
   "source": [
    "cnn2 = tuner.get_best_models(num_models=1)[0]\n",
    "cnn2.summary()"
   ]
  },
  {
   "cell_type": "code",
   "execution_count": 48,
   "id": "763f9ca2",
   "metadata": {},
   "outputs": [
    {
     "name": "stdout",
     "output_type": "stream",
     "text": [
      "302/302 [==============================] - 10s 32ms/step - loss: 0.6499 - accuracy: 0.0036\n"
     ]
    },
    {
     "data": {
      "text/plain": [
       "[0.6499064564704895, 0.003632212523370981]"
      ]
     },
     "execution_count": 48,
     "metadata": {},
     "output_type": "execute_result"
    }
   ],
   "source": [
    "cnn2.evaluate(x_test,y_test)"
   ]
  },
  {
   "cell_type": "code",
   "execution_count": 59,
   "id": "fd82167e",
   "metadata": {
    "scrolled": true
   },
   "outputs": [
    {
     "name": "stdout",
     "output_type": "stream",
     "text": [
      "Row Number 0\n",
      "Target Number 0.7\n"
     ]
    },
    {
     "data": {
      "image/png": "[encoded data removed]",
      "text/plain": [
       "<Figure size 432x288 with 1 Axes>"
      ]
     },
     "metadata": {
      "needs_background": "light"
     },
     "output_type": "display_data"
    },
    {
     "name": "stdout",
     "output_type": "stream",
     "text": [
      "Row Number 1\n",
      "Target Number 0.6\n"
     ]
    },
    {
     "data": {
      "image/png": "[encoded data removed]",
      "text/plain": [
       "<Figure size 432x288 with 1 Axes>"
      ]
     },
     "metadata": {
      "needs_background": "light"
     },
     "output_type": "display_data"
    },
    {
     "name": "stdout",
     "output_type": "stream",
     "text": [
      "Row Number 2\n",
      "Target Number 0.7\n"
     ]
    },
    {
     "data": {
      "image/png": "[encoded data removed]",
      "text/plain": [
       "<Figure size 432x288 with 1 Axes>"
      ]
     },
     "metadata": {
      "needs_background": "light"
     },
     "output_type": "display_data"
    },
    {
     "name": "stdout",
     "output_type": "stream",
     "text": [
      "Row Number 3\n",
      "Target Number 0.7\n"
     ]
    },
    {
     "data": {
      "image/png": "[encoded data removed]",
      "text/plain": [
       "<Figure size 432x288 with 1 Axes>"
      ]
     },
     "metadata": {
      "needs_background": "light"
     },
     "output_type": "display_data"
    },
    {
     "name": "stdout",
     "output_type": "stream",
     "text": [
      "Row Number 4\n",
      "Target Number 0.7\n"
     ]
    },
    {
     "data": {
      "image/png": "[encoded data removed]",
      "text/plain": [
       "<Figure size 432x288 with 1 Axes>"
      ]
     },
     "metadata": {
      "needs_background": "light"
     },
     "output_type": "display_data"
    },
    {
     "name": "stdout",
     "output_type": "stream",
     "text": [
      "Row Number 5\n",
      "Target Number 0.5\n"
     ]
    },
    {
     "data": {
      "image/png": "[encoded data removed]",
      "text/plain": [
       "<Figure size 432x288 with 1 Axes>"
      ]
     },
     "metadata": {
      "needs_background": "light"
     },
     "output_type": "display_data"
    },
    {
     "name": "stdout",
     "output_type": "stream",
     "text": [
      "Row Number 6\n",
      "Target Number 0.5\n"
     ]
    },
    {
     "data": {
      "image/png": "[encoded data removed]",
      "text/plain": [
       "<Figure size 432x288 with 1 Axes>"
      ]
     },
     "metadata": {
      "needs_background": "light"
     },
     "output_type": "display_data"
    },
    {
     "name": "stdout",
     "output_type": "stream",
     "text": [
      "Row Number 7\n",
      "Target Number 0.6\n"
     ]
    },
    {
     "data": {
      "image/png": "[encoded data removed]",
      "text/plain": [
       "<Figure size 432x288 with 1 Axes>"
      ]
     },
     "metadata": {
      "needs_background": "light"
     },
     "output_type": "display_data"
    },
    {
     "name": "stdout",
     "output_type": "stream",
     "text": [
      "Row Number 8\n",
      "Target Number 0.6\n"
     ]
    },
    {
     "data": {
      "image/png": "[encoded data removed]",
      "text/plain": [
       "<Figure size 432x288 with 1 Axes>"
      ]
     },
     "metadata": {
      "needs_background": "light"
     },
     "output_type": "display_data"
    },
    {
     "name": "stdout",
     "output_type": "stream",
     "text": [
      "Row Number 9\n",
      "Target Number 0.5\n"
     ]
    },
    {
     "data": {
      "image/png": "[encoded data removed]",
      "text/plain": [
       "<Figure size 432x288 with 1 Axes>"
      ]
     },
     "metadata": {
      "needs_background": "light"
     },
     "output_type": "display_data"
    },
    {
     "name": "stdout",
     "output_type": "stream",
     "text": [
      "Row Number 10\n",
      "Target Number 0.4\n"
     ]
    },
    {
     "data": {
      "image/png": "[encoded data removed]",
      "text/plain": [
       "<Figure size 432x288 with 1 Axes>"
      ]
     },
     "metadata": {
      "needs_background": "light"
     },
     "output_type": "display_data"
    },
    {
     "name": "stdout",
     "output_type": "stream",
     "text": [
      "Row Number 11\n",
      "Target Number 0.6\n"
     ]
    },
    {
     "data": {
      "image/png": "[encoded data removed]",
      "text/plain": [
       "<Figure size 432x288 with 1 Axes>"
      ]
     },
     "metadata": {
      "needs_background": "light"
     },
     "output_type": "display_data"
    },
    {
     "name": "stdout",
     "output_type": "stream",
     "text": [
      "Row Number 12\n",
      "Target Number 0.6\n"
     ]
    },
    {
     "data": {
      "image/png": "[encoded data removed]",
      "text/plain": [
       "<Figure size 432x288 with 1 Axes>"
      ]
     },
     "metadata": {
      "needs_background": "light"
     },
     "output_type": "display_data"
    },
    {
     "name": "stdout",
     "output_type": "stream",
     "text": [
      "Row Number 13\n",
      "Target Number 0.3\n"
     ]
    },
    {
     "data": {
      "image/png": "[encoded data removed]",
      "text/plain": [
       "<Figure size 432x288 with 1 Axes>"
      ]
     },
     "metadata": {
      "needs_background": "light"
     },
     "output_type": "display_data"
    },
    {
     "name": "stdout",
     "output_type": "stream",
     "text": [
      "Row Number 14\n",
      "Target Number 0.5\n"
     ]
    },
    {
     "data": {
      "image/png": "[encoded data removed]",
      "text/plain": [
       "<Figure size 432x288 with 1 Axes>"
      ]
     },
     "metadata": {
      "needs_background": "light"
     },
     "output_type": "display_data"
    },
    {
     "name": "stdout",
     "output_type": "stream",
     "text": [
      "Row Number 15\n",
      "Target Number 0.5\n"
     ]
    },
    {
     "data": {
      "image/png": "[encoded data removed]",
      "text/plain": [
       "<Figure size 432x288 with 1 Axes>"
      ]
     },
     "metadata": {
      "needs_background": "light"
     },
     "output_type": "display_data"
    },
    {
     "name": "stdout",
     "output_type": "stream",
     "text": [
      "Row Number 16\n",
      "Target Number 0.5\n"
     ]
    },
    {
     "data": {
      "image/png": "[encoded data removed]",
      "text/plain": [
       "<Figure size 432x288 with 1 Axes>"
      ]
     },
     "metadata": {
      "needs_background": "light"
     },
     "output_type": "display_data"
    },
    {
     "name": "stdout",
     "output_type": "stream",
     "text": [
      "Row Number 17\n",
      "Target Number 0.4\n"
     ]
    },
    {
     "data": {
      "image/png": "[encoded data removed]",
      "text/plain": [
       "<Figure size 432x288 with 1 Axes>"
      ]
     },
     "metadata": {
      "needs_background": "light"
     },
     "output_type": "display_data"
    },
    {
     "name": "stdout",
     "output_type": "stream",
     "text": [
      "Row Number 18\n",
      "Target Number 0.3\n"
     ]
    },
    {
     "data": {
      "image/png": "[encoded data removed]",
      "text/plain": [
       "<Figure size 432x288 with 1 Axes>"
      ]
     },
     "metadata": {
      "needs_background": "light"
     },
     "output_type": "display_data"
    },
    {
     "name": "stdout",
     "output_type": "stream",
     "text": [
      "Row Number 19\n",
      "Target Number 0.2\n"
     ]
    },
    {
     "data": {
      "image/png": "[encoded data removed]",
      "text/plain": [
       "<Figure size 432x288 with 1 Axes>"
      ]
     },
     "metadata": {
      "needs_background": "light"
     },
     "output_type": "display_data"
    },
    {
     "name": "stdout",
     "output_type": "stream",
     "text": [
      "Row Number 20\n",
      "Target Number 0.2\n"
     ]
    },
    {
     "data": {
      "image/png": "[encoded data removed]",
      "text/plain": [
       "<Figure size 432x288 with 1 Axes>"
      ]
     },
     "metadata": {
      "needs_background": "light"
     },
     "output_type": "display_data"
    },
    {
     "name": "stdout",
     "output_type": "stream",
     "text": [
      "Row Number 21\n",
      "Target Number 0.2\n"
     ]
    },
    {
     "data": {
      "image/png": "[encoded data removed]",
      "text/plain": [
       "<Figure size 432x288 with 1 Axes>"
      ]
     },
     "metadata": {
      "needs_background": "light"
     },
     "output_type": "display_data"
    },
    {
     "name": "stdout",
     "output_type": "stream",
     "text": [
      "Row Number 22\n",
      "Target Number 0.2\n"
     ]
    },
    {
     "data": {
      "image/png": "[encoded data removed]",
      "text/plain": [
       "<Figure size 432x288 with 1 Axes>"
      ]
     },
     "metadata": {
      "needs_background": "light"
     },
     "output_type": "display_data"
    },
    {
     "name": "stdout",
     "output_type": "stream",
     "text": [
      "Row Number 23\n",
      "Target Number 0.2\n"
     ]
    },
    {
     "data": {
      "image/png": "[encoded data removed]",
      "text/plain": [
       "<Figure size 432x288 with 1 Axes>"
      ]
     },
     "metadata": {
      "needs_background": "light"
     },
     "output_type": "display_data"
    },
    {
     "name": "stdout",
     "output_type": "stream",
     "text": [
      "Row Number 24\n",
      "Target Number 0.3\n"
     ]
    },
    {
     "data": {
      "image/png": "[encoded data removed]",
      "text/plain": [
       "<Figure size 432x288 with 1 Axes>"
      ]
     },
     "metadata": {
      "needs_background": "light"
     },
     "output_type": "display_data"
    },
    {
     "name": "stdout",
     "output_type": "stream",
     "text": [
      "Row Number 25\n",
      "Target Number 0.3\n"
     ]
    },
    {
     "data": {
      "image/png": "[encoded data removed]",
      "text/plain": [
       "<Figure size 432x288 with 1 Axes>"
      ]
     },
     "metadata": {
      "needs_background": "light"
     },
     "output_type": "display_data"
    },
    {
     "name": "stdout",
     "output_type": "stream",
     "text": [
      "Row Number 26\n",
      "Target Number 0.3\n"
     ]
    },
    {
     "data": {
      "image/png": "[encoded data removed]",
      "text/plain": [
       "<Figure size 432x288 with 1 Axes>"
      ]
     },
     "metadata": {
      "needs_background": "light"
     },
     "output_type": "display_data"
    },
    {
     "name": "stdout",
     "output_type": "stream",
     "text": [
      "Row Number 27\n",
      "Target Number 0.2\n"
     ]
    },
    {
     "data": {
      "image/png": "[encoded data removed]",
      "text/plain": [
       "<Figure size 432x288 with 1 Axes>"
      ]
     },
     "metadata": {
      "needs_background": "light"
     },
     "output_type": "display_data"
    },
    {
     "name": "stdout",
     "output_type": "stream",
     "text": [
      "Row Number 28\n",
      "Target Number 0.2\n"
     ]
    },
    {
     "data": {
      "image/png": "[encoded data removed]",
      "text/plain": [
       "<Figure size 432x288 with 1 Axes>"
      ]
     },
     "metadata": {
      "needs_background": "light"
     },
     "output_type": "display_data"
    },
    {
     "name": "stdout",
     "output_type": "stream",
     "text": [
      "Row Number 29\n",
      "Target Number 0.3\n"
     ]
    },
    {
     "data": {
      "image/png": "[encoded data removed]",
      "text/plain": [
       "<Figure size 432x288 with 1 Axes>"
      ]
     },
     "metadata": {
      "needs_background": "light"
     },
     "output_type": "display_data"
    }
   ],
   "source": [
    "for i in range(30):\n",
    "    print('Row Number',i)\n",
    "    print('Target Number',y[i])\n",
    "    plt.imshow(images_arr[i])\n",
    "    plt.show()"
   ]
  },
  {
   "cell_type": "markdown",
   "id": "c38ab93d",
   "metadata": {},
   "source": [
    "## 9 Feb Code "
   ]
  },
  {
   "cell_type": "markdown",
   "id": "4d6b4858",
   "metadata": {},
   "source": [
    "### Taking average of Target values "
   ]
  },
  {
   "cell_type": "code",
   "execution_count": 54,
   "id": "61c0abac",
   "metadata": {},
   "outputs": [],
   "source": [
    "images_arr2 = images_arr.copy()\n",
    "y2 = y.copy()"
   ]
  },
  {
   "cell_type": "code",
   "execution_count": 55,
   "id": "29dfc955",
   "metadata": {},
   "outputs": [
    {
     "name": "stdout",
     "output_type": "stream",
     "text": [
      "unique values [0.  0.1 0.2 0.3 0.4 0.5 0.6 0.7 0.8 0.9 1. ]\n",
      "Mean 0.5338169364881694\n",
      "Median 0.5\n"
     ]
    }
   ],
   "source": [
    "print('unique values',np.unique(y2))\n",
    "print('Mean',np.mean(y2))\n",
    "print('Median',np.median(y2))"
   ]
  },
  {
   "cell_type": "code",
   "execution_count": 65,
   "id": "b5180403",
   "metadata": {},
   "outputs": [],
   "source": [
    "y2 = np.where(y2>0.5,1,y2)\n",
    "y2 = np.where(y2<=0.5,0,y2)"
   ]
  },
  {
   "cell_type": "code",
   "execution_count": 67,
   "id": "eca281a7",
   "metadata": {},
   "outputs": [
    {
     "data": {
      "text/plain": [
       "array([0., 1.])"
      ]
     },
     "execution_count": 67,
     "metadata": {},
     "output_type": "execute_result"
    }
   ],
   "source": [
    "np.unique(y2)"
   ]
  },
  {
   "cell_type": "code",
   "execution_count": 72,
   "id": "51fd3de5",
   "metadata": {},
   "outputs": [],
   "source": [
    "x_train_2, x_test_2, y_train_2, y_test_2 = train_test_split(images_arr2,y2,test_size=0.2,random_state=2)"
   ]
  },
  {
   "cell_type": "code",
   "execution_count": 80,
   "id": "f6d3d5e9",
   "metadata": {},
   "outputs": [],
   "source": [
    "cnn2 = keras.Sequential([\n",
    "    keras.layers.Conv2D(filters = 128, kernel_size= (3,3), strides = 1,padding = 'same',activation = 'relu',input_shape = (32,32,1)),\n",
    "    keras.layers.MaxPooling2D((2,2)),\n",
    "    \n",
    "    keras.layers.Conv2D(filters = 64, kernel_size= (3,3),strides = 1,padding = 'same', activation = 'relu'),\n",
    "    keras.layers.MaxPooling2D((2,2)),\n",
    "    \n",
    "    keras.layers.Conv2D(filters = 32, kernel_size= (3,3),strides = 1,padding = 'same', activation = 'relu'),\n",
    "    keras.layers.MaxPooling2D((2,2)),\n",
    "    \n",
    "    keras.layers.Flatten(),\n",
    "    keras.layers.Dense(64, activation = 'relu'),\n",
    "    keras.layers.Dense(1, activation = 'sigmoid')\n",
    "])\n",
    "\n",
    "cnn2.compile(optimizer = 'adam',\n",
    "           loss = 'binary_crossentropy',\n",
    "           metrics=['accuracy'])"
   ]
  },
  {
   "cell_type": "code",
   "execution_count": 81,
   "id": "b36cb683",
   "metadata": {
    "scrolled": true
   },
   "outputs": [
    {
     "name": "stdout",
     "output_type": "stream",
     "text": [
      "Epoch 1/10\n",
      "803/803 [==============================] - 140s 173ms/step - loss: 0.6526 - accuracy: 0.6155\n",
      "Epoch 2/10\n",
      "803/803 [==============================] - 137s 171ms/step - loss: 0.6159 - accuracy: 0.6547\n",
      "Epoch 3/10\n",
      "803/803 [==============================] - 138s 172ms/step - loss: 0.5858 - accuracy: 0.6851\n",
      "Epoch 4/10\n",
      "803/803 [==============================] - 137s 170ms/step - loss: 0.5540 - accuracy: 0.7160 - loss: 0.5539 - accura\n",
      "Epoch 5/10\n",
      "803/803 [==============================] - 137s 171ms/step - loss: 0.5320 - accuracy: 0.7374\n",
      "Epoch 6/10\n",
      "803/803 [==============================] - 137s 170ms/step - loss: 0.5128 - accuracy: 0.7488\n",
      "Epoch 7/10\n",
      "803/803 [==============================] - 137s 170ms/step - loss: 0.4966 - accuracy: 0.7633\n",
      "Epoch 8/10\n",
      "803/803 [==============================] - 138s 171ms/step - loss: 0.4796 - accuracy: 0.7719\n",
      "Epoch 9/10\n",
      "803/803 [==============================] - 138s 172ms/step - loss: 0.4689 - accuracy: 0.7781\n",
      "Epoch 10/10\n",
      "803/803 [==============================] - 137s 170ms/step - loss: 0.4573 - accuracy: 0.7872\n"
     ]
    },
    {
     "data": {
      "text/plain": [
       "<keras.callbacks.History at 0x274c4576670>"
      ]
     },
     "execution_count": 81,
     "metadata": {},
     "output_type": "execute_result"
    }
   ],
   "source": [
    "cnn2.fit(x_train_2,y_train_2,epochs=10)"
   ]
  },
  {
   "cell_type": "code",
   "execution_count": 82,
   "id": "55c9256f",
   "metadata": {},
   "outputs": [
    {
     "name": "stdout",
     "output_type": "stream",
     "text": [
      "201/201 [==============================] - 10s 46ms/step - loss: 0.5022 - accuracy: 0.7578\n"
     ]
    },
    {
     "data": {
      "text/plain": [
       "[0.5021626949310303, 0.7577832937240601]"
      ]
     },
     "execution_count": 82,
     "metadata": {},
     "output_type": "execute_result"
    }
   ],
   "source": [
    "cnn2.evaluate(x_test_2,y_test_2)"
   ]
  },
  {
   "cell_type": "code",
   "execution_count": 84,
   "id": "a2ce336a",
   "metadata": {
    "scrolled": true
   },
   "outputs": [
    {
     "name": "stdout",
     "output_type": "stream",
     "text": [
      "Epoch 11/25\n",
      "803/803 [==============================] - 136s 169ms/step - loss: 0.4473 - accuracy: 0.7950\n",
      "Epoch 12/25\n",
      "803/803 [==============================] - 137s 171ms/step - loss: 0.4338 - accuracy: 0.8016\n",
      "Epoch 13/25\n",
      "803/803 [==============================] - 137s 170ms/step - loss: 0.4223 - accuracy: 0.8069\n",
      "Epoch 14/25\n",
      "803/803 [==============================] - 137s 170ms/step - loss: 0.4132 - accuracy: 0.8134\n",
      "Epoch 15/25\n",
      "803/803 [==============================] - 138s 172ms/step - loss: 0.4039 - accuracy: 0.8188\n",
      "Epoch 16/25\n",
      "803/803 [==============================] - 136s 170ms/step - loss: 0.3942 - accuracy: 0.8220\n",
      "Epoch 17/25\n",
      "803/803 [==============================] - 136s 170ms/step - loss: 0.3854 - accuracy: 0.8275 -\n",
      "Epoch 18/25\n",
      "803/803 [==============================] - 137s 170ms/step - loss: 0.3763 - accuracy: 0.8331\n",
      "Epoch 19/25\n",
      "803/803 [==============================] - 138s 171ms/step - loss: 0.3692 - accuracy: 0.8373\n",
      "Epoch 20/25\n",
      "803/803 [==============================] - 138s 172ms/step - loss: 0.3565 - accuracy: 0.8409\n",
      "Epoch 21/25\n",
      "803/803 [==============================] - 95s 118ms/step - loss: 0.3484 - accuracy: 0.8464\n",
      "Epoch 22/25\n",
      "803/803 [==============================] - 85s 106ms/step - loss: 0.3434 - accuracy: 0.8458\n",
      "Epoch 23/25\n",
      "803/803 [==============================] - 85s 106ms/step - loss: 0.3342 - accuracy: 0.8543\n",
      "Epoch 24/25\n",
      "803/803 [==============================] - 85s 106ms/step - loss: 0.3279 - accuracy: 0.8565\n",
      "Epoch 25/25\n",
      "803/803 [==============================] - 85s 106ms/step - loss: 0.3199 - accuracy: 0.8605\n"
     ]
    },
    {
     "data": {
      "text/plain": [
       "<keras.callbacks.History at 0x274b7bd8490>"
      ]
     },
     "execution_count": 84,
     "metadata": {},
     "output_type": "execute_result"
    }
   ],
   "source": [
    "cnn2.fit(x_train_2,y_train_2, epochs =25, initial_epoch=10)"
   ]
  },
  {
   "cell_type": "code",
   "execution_count": 85,
   "id": "1d394281",
   "metadata": {},
   "outputs": [
    {
     "name": "stdout",
     "output_type": "stream",
     "text": [
      "201/201 [==============================] - 6s 32ms/step - loss: 0.5103 - accuracy: 0.7923\n"
     ]
    },
    {
     "data": {
      "text/plain": [
       "[0.5103013515472412, 0.7923412322998047]"
      ]
     },
     "execution_count": 85,
     "metadata": {},
     "output_type": "execute_result"
    }
   ],
   "source": [
    "cnn2.evaluate(x_test_2,y_test_2)"
   ]
  },
  {
   "cell_type": "code",
   "execution_count": 86,
   "id": "b810d8b9",
   "metadata": {
    "scrolled": true
   },
   "outputs": [
    {
     "name": "stdout",
     "output_type": "stream",
     "text": [
      "Epoch 26/40\n",
      "803/803 [==============================] - 83s 103ms/step - loss: 0.3115 - accuracy: 0.8628\n",
      "Epoch 27/40\n",
      "803/803 [==============================] - 86s 107ms/step - loss: 0.3059 - accuracy: 0.8662\n",
      "Epoch 28/40\n",
      "803/803 [==============================] - 83s 103ms/step - loss: 0.3019 - accuracy: 0.8708\n",
      "Epoch 29/40\n",
      "803/803 [==============================] - 84s 104ms/step - loss: 0.2922 - accuracy: 0.8730s\n",
      "Epoch 30/40\n",
      "803/803 [==============================] - 84s 105ms/step - loss: 0.2858 - accuracy: 0.8744\n",
      "Epoch 31/40\n",
      "803/803 [==============================] - 83s 104ms/step - loss: 0.2820 - accuracy: 0.8775\n",
      "Epoch 32/40\n",
      "803/803 [==============================] - 107s 134ms/step - loss: 0.2738 - accuracy: 0.8823\n",
      "Epoch 33/40\n",
      "803/803 [==============================] - 82s 102ms/step - loss: 0.2746 - accuracy: 0.8819\n",
      "Epoch 34/40\n",
      "803/803 [==============================] - 83s 104ms/step - loss: 0.2642 - accuracy: 0.8873\n",
      "Epoch 35/40\n",
      "803/803 [==============================] - 83s 104ms/step - loss: 0.2601 - accuracy: 0.8916\n",
      "Epoch 36/40\n",
      "803/803 [==============================] - 85s 105ms/step - loss: 0.2547 - accuracy: 0.8924\n",
      "Epoch 37/40\n",
      "803/803 [==============================] - 85s 106ms/step - loss: 0.2516 - accuracy: 0.8921\n",
      "Epoch 38/40\n",
      "803/803 [==============================] - 86s 107ms/step - loss: 0.2480 - accuracy: 0.8952\n",
      "Epoch 39/40\n",
      "803/803 [==============================] - 88s 109ms/step - loss: 0.2410 - accuracy: 0.8997\n",
      "Epoch 40/40\n",
      "803/803 [==============================] - 84s 105ms/step - loss: 0.2363 - accuracy: 0.8996\n"
     ]
    },
    {
     "data": {
      "text/plain": [
       "<keras.callbacks.History at 0x274b7c271c0>"
      ]
     },
     "execution_count": 86,
     "metadata": {},
     "output_type": "execute_result"
    }
   ],
   "source": [
    "cnn2.fit(x_train_2,y_train_2, epochs =40, initial_epoch=25)"
   ]
  },
  {
   "cell_type": "code",
   "execution_count": 87,
   "id": "44de7b56",
   "metadata": {},
   "outputs": [
    {
     "name": "stdout",
     "output_type": "stream",
     "text": [
      "201/201 [==============================] - 6s 28ms/step - loss: 0.6046 - accuracy: 0.7973\n"
     ]
    },
    {
     "data": {
      "text/plain": [
       "[0.6045905351638794, 0.7973225116729736]"
      ]
     },
     "execution_count": 87,
     "metadata": {},
     "output_type": "execute_result"
    }
   ],
   "source": [
    "cnn2.evaluate(x_test_2,y_test_2)"
   ]
  },
  {
   "cell_type": "code",
   "execution_count": 88,
   "id": "963c2c62",
   "metadata": {},
   "outputs": [
    {
     "name": "stdout",
     "output_type": "stream",
     "text": [
      "INFO:tensorflow:Assets written to: Classification_CNN_Model\\assets\n"
     ]
    }
   ],
   "source": [
    "#Saving model \n",
    "cnn2.save('Classification_CNN_Model')"
   ]
  },
  {
   "cell_type": "code",
   "execution_count": 89,
   "id": "208bfc31",
   "metadata": {
    "scrolled": true
   },
   "outputs": [
    {
     "data": {
      "text/plain": [
       "array([[4.1986433e-01],\n",
       "       [4.1422349e-01],\n",
       "       [8.7254024e-01],\n",
       "       ...,\n",
       "       [9.7747546e-01],\n",
       "       [9.4778952e-06],\n",
       "       [8.8782477e-01]], dtype=float32)"
      ]
     },
     "execution_count": 89,
     "metadata": {},
     "output_type": "execute_result"
    }
   ],
   "source": [
    "cnn2.predict(x_test_2)"
   ]
  },
  {
   "cell_type": "markdown",
   "id": "7f4971a2",
   "metadata": {},
   "source": [
    "### Classifying into target into 4 values using 25 percentile "
   ]
  },
  {
   "cell_type": "code",
   "execution_count": 166,
   "id": "5baecce6",
   "metadata": {},
   "outputs": [
    {
     "data": {
      "text/plain": [
       "array([0. , 0.1, 0.2, 0.3, 0.4, 0.5, 0.6, 0.7, 0.8, 0.9, 1. ])"
      ]
     },
     "execution_count": 166,
     "metadata": {},
     "output_type": "execute_result"
    }
   ],
   "source": [
    "np.unique(y)"
   ]
  },
  {
   "cell_type": "code",
   "execution_count": 119,
   "id": "2919ec81",
   "metadata": {
    "scrolled": true
   },
   "outputs": [
    {
     "name": "stdout",
     "output_type": "stream",
     "text": [
      "value of i -  0  Percentile -  0.0\n",
      "value of i -  1  Percentile -  0.1\n",
      "value of i -  2  Percentile -  0.2\n",
      "value of i -  5  Percentile -  0.3\n",
      "value of i -  20  Percentile -  0.4\n",
      "value of i -  34  Percentile -  0.5\n",
      "value of i -  54  Percentile -  0.6\n",
      "value of i -  68  Percentile -  0.7\n",
      "value of i -  89  Percentile -  0.8\n",
      "value of i -  98  Percentile -  0.9\n",
      "value of i -  100  Percentile -  1.0\n"
     ]
    }
   ],
   "source": [
    "for i in range(101):\n",
    "    \n",
    "    Percentile = np.percentile(y,i)\n",
    "    if i == 0:\n",
    "        print('value of i - ',i,' Percentile - ',Percentile)\n",
    "        \n",
    "    elif Percentile !=  np.percentile(y,i-1):\n",
    "        print('value of i - ',i,' Percentile - ',Percentile)"
   ]
  },
  {
   "cell_type": "code",
   "execution_count": 167,
   "id": "068f7aa0",
   "metadata": {},
   "outputs": [],
   "source": [
    "y3 = y.copy()"
   ]
  },
  {
   "cell_type": "code",
   "execution_count": 168,
   "id": "09f5ce39",
   "metadata": {
    "scrolled": true
   },
   "outputs": [],
   "source": [
    "y3 = np.where(y3>=0.8,3,y3)\n",
    "y3 = np.where((y3>=0.6) & (y3<0.8),2,y3)\n",
    "y3 = np.where((y3>0.4) & (y3<0.6),1,y3)\n",
    "y3 = np.where(y3<=0.4,0,y3)"
   ]
  },
  {
   "cell_type": "code",
   "execution_count": 179,
   "id": "62ed858c",
   "metadata": {
    "scrolled": false
   },
   "outputs": [
    {
     "data": {
      "text/plain": [
       "array([0., 1., 2., 3.])"
      ]
     },
     "execution_count": 179,
     "metadata": {},
     "output_type": "execute_result"
    }
   ],
   "source": [
    "np.unique(y3)"
   ]
  },
  {
   "cell_type": "code",
   "execution_count": 170,
   "id": "81c22707",
   "metadata": {},
   "outputs": [],
   "source": [
    "x_train_3, x_test_3, y_train_3, y_test_3 = train_test_split(images_arr2,y3,test_size=0.2,random_state=2)"
   ]
  },
  {
   "cell_type": "code",
   "execution_count": 171,
   "id": "00266afc",
   "metadata": {},
   "outputs": [],
   "source": [
    "cnn3 = keras.Sequential([\n",
    "    keras.layers.Conv2D(filters = 128, kernel_size= (3,3), strides = 1,padding = 'same',activation = 'relu',input_shape = (32,32,1)),\n",
    "    keras.layers.MaxPooling2D((2,2)),\n",
    "    \n",
    "    keras.layers.Conv2D(filters = 64, kernel_size= (3,3),strides = 1,padding = 'same', activation = 'relu'),\n",
    "    keras.layers.MaxPooling2D((2,2)),\n",
    "    \n",
    "    keras.layers.Conv2D(filters = 32, kernel_size= (3,3),strides = 1,padding = 'same', activation = 'relu'),\n",
    "    keras.layers.MaxPooling2D((2,2)),\n",
    "    \n",
    "    keras.layers.Flatten(),\n",
    "    keras.layers.Dense(64, activation = 'relu'),\n",
    "    keras.layers.Dense(4, activation = 'softmax')\n",
    "])\n",
    "\n",
    "cnn3.compile(optimizer = 'adam',\n",
    "           loss = 'sparse_categorical_crossentropy',\n",
    "           metrics=['accuracy'])"
   ]
  },
  {
   "cell_type": "code",
   "execution_count": 172,
   "id": "db08b79b",
   "metadata": {
    "scrolled": true
   },
   "outputs": [
    {
     "name": "stdout",
     "output_type": "stream",
     "text": [
      "Epoch 1/40\n",
      "803/803 [==============================] - 98s 122ms/step - loss: 1.2496 - accuracy: 0.4210\n",
      "Epoch 2/40\n",
      "803/803 [==============================] - 93s 116ms/step - loss: 1.1750 - accuracy: 0.4769\n",
      "Epoch 3/40\n",
      "803/803 [==============================] - 85s 105ms/step - loss: 1.1128 - accuracy: 0.5064\n",
      "Epoch 4/40\n",
      "803/803 [==============================] - 83s 104ms/step - loss: 1.0598 - accuracy: 0.5376\n",
      "Epoch 5/40\n",
      "803/803 [==============================] - 90s 112ms/step - loss: 1.0180 - accuracy: 0.5605\n",
      "Epoch 6/40\n",
      "803/803 [==============================] - 87s 108ms/step - loss: 0.9825 - accuracy: 0.5771\n",
      "Epoch 7/40\n",
      "803/803 [==============================] - 84s 105ms/step - loss: 0.9478 - accuracy: 0.5962\n",
      "Epoch 8/40\n",
      "803/803 [==============================] - 83s 103ms/step - loss: 0.9193 - accuracy: 0.6169\n",
      "Epoch 9/40\n",
      "803/803 [==============================] - 86s 107ms/step - loss: 0.8933 - accuracy: 0.6255s - loss: 0.893 - ETA: 0s - loss: 0.8933 - accuracy: 0.62\n",
      "Epoch 10/40\n",
      "803/803 [==============================] - 85s 106ms/step - loss: 0.8689 - accuracy: 0.6382\n",
      "Epoch 11/40\n",
      "803/803 [==============================] - 85s 105ms/step - loss: 0.8498 - accuracy: 0.6433\n",
      "Epoch 12/40\n",
      "803/803 [==============================] - 85s 106ms/step - loss: 0.8279 - accuracy: 0.6532\n",
      "Epoch 13/40\n",
      "803/803 [==============================] - 85s 106ms/step - loss: 0.8081 - accuracy: 0.6653\n",
      "Epoch 14/40\n",
      "803/803 [==============================] - 96s 120ms/step - loss: 0.7900 - accuracy: 0.6750\n",
      "Epoch 15/40\n",
      "803/803 [==============================] - 98s 122ms/step - loss: 0.7739 - accuracy: 0.6827\n",
      "Epoch 16/40\n",
      "803/803 [==============================] - 96s 120ms/step - loss: 0.7586 - accuracy: 0.6895\n",
      "Epoch 17/40\n",
      "803/803 [==============================] - 96s 120ms/step - loss: 0.7433 - accuracy: 0.6947\n",
      "Epoch 18/40\n",
      "803/803 [==============================] - 97s 121ms/step - loss: 0.7267 - accuracy: 0.7017\n",
      "Epoch 19/40\n",
      "803/803 [==============================] - 97s 121ms/step - loss: 0.7122 - accuracy: 0.7078\n",
      "Epoch 20/40\n",
      "803/803 [==============================] - 97s 120ms/step - loss: 0.6952 - accuracy: 0.7159\n",
      "Epoch 21/40\n",
      "803/803 [==============================] - 97s 121ms/step - loss: 0.6851 - accuracy: 0.7198\n",
      "Epoch 22/40\n",
      "803/803 [==============================] - 98s 122ms/step - loss: 0.6685 - accuracy: 0.7244s - loss: 0.6\n",
      "Epoch 23/40\n",
      "803/803 [==============================] - 98s 121ms/step - loss: 0.6557 - accuracy: 0.7296\n",
      "Epoch 24/40\n",
      "803/803 [==============================] - 97s 121ms/step - loss: 0.6454 - accuracy: 0.7341\n",
      "Epoch 25/40\n",
      "803/803 [==============================] - 97s 121ms/step - loss: 0.6328 - accuracy: 0.7397\n",
      "Epoch 26/40\n",
      "803/803 [==============================] - 98s 122ms/step - loss: 0.6228 - accuracy: 0.7468\n",
      "Epoch 27/40\n",
      "803/803 [==============================] - 97s 121ms/step - loss: 0.6089 - accuracy: 0.7486\n",
      "Epoch 28/40\n",
      "803/803 [==============================] - 97s 120ms/step - loss: 0.5993 - accuracy: 0.7540\n",
      "Epoch 29/40\n",
      "803/803 [==============================] - 92s 115ms/step - loss: 0.5879 - accuracy: 0.7578\n",
      "Epoch 30/40\n",
      "803/803 [==============================] - 84s 105ms/step - loss: 0.5778 - accuracy: 0.7629\n",
      "Epoch 31/40\n",
      "803/803 [==============================] - 84s 105ms/step - loss: 0.5680 - accuracy: 0.7670\n",
      "Epoch 32/40\n",
      "803/803 [==============================] - 86s 108ms/step - loss: 0.5594 - accuracy: 0.7719\n",
      "Epoch 33/40\n",
      "803/803 [==============================] - 87s 108ms/step - loss: 0.5459 - accuracy: 0.7758\n",
      "Epoch 34/40\n",
      "803/803 [==============================] - 97s 120ms/step - loss: 0.5384 - accuracy: 0.7797\n",
      "Epoch 35/40\n",
      "803/803 [==============================] - 99s 124ms/step - loss: 0.5314 - accuracy: 0.7818s\n",
      "Epoch 36/40\n",
      "803/803 [==============================] - 95s 119ms/step - loss: 0.5206 - accuracy: 0.7833\n",
      "Epoch 37/40\n",
      "803/803 [==============================] - 104s 129ms/step - loss: 0.5144 - accuracy: 0.7889\n",
      "Epoch 38/40\n",
      "803/803 [==============================] - 98s 122ms/step - loss: 0.5084 - accuracy: 0.7958\n",
      "Epoch 39/40\n",
      "803/803 [==============================] - 100s 124ms/step - loss: 0.4972 - accuracy: 0.7985\n",
      "Epoch 40/40\n",
      "803/803 [==============================] - 97s 120ms/step - loss: 0.4933 - accuracy: 0.7972\n"
     ]
    },
    {
     "data": {
      "text/plain": [
       "<keras.callbacks.History at 0x274b72be790>"
      ]
     },
     "execution_count": 172,
     "metadata": {},
     "output_type": "execute_result"
    }
   ],
   "source": [
    "cnn3.fit(x_train_3,y_train_3,epochs = 40)"
   ]
  },
  {
   "cell_type": "code",
   "execution_count": 173,
   "id": "2d50f36a",
   "metadata": {
    "scrolled": false
   },
   "outputs": [
    {
     "name": "stdout",
     "output_type": "stream",
     "text": [
      "201/201 [==============================] - 7s 35ms/step - loss: 1.1184 - accuracy: 0.6426\n"
     ]
    },
    {
     "data": {
      "text/plain": [
       "[1.1183576583862305, 0.6425902843475342]"
      ]
     },
     "execution_count": 173,
     "metadata": {},
     "output_type": "execute_result"
    }
   ],
   "source": [
    "cnn3.evaluate(x_test_3,y_test_3)"
   ]
  },
  {
   "cell_type": "code",
   "execution_count": 174,
   "id": "93ee362f",
   "metadata": {},
   "outputs": [
    {
     "name": "stdout",
     "output_type": "stream",
     "text": [
      "INFO:tensorflow:Assets written to: Classification_CNN_Model3\\assets\n"
     ]
    }
   ],
   "source": [
    "#Saving model \n",
    "cnn2.save('Classification_CNN_Model3')"
   ]
  },
  {
   "cell_type": "markdown",
   "id": "117590f3",
   "metadata": {},
   "source": [
    "### 8 Classes Prediction "
   ]
  },
  {
   "cell_type": "code",
   "execution_count": 150,
   "id": "54131d9a",
   "metadata": {},
   "outputs": [],
   "source": [
    "y4 = y.copy()"
   ]
  },
  {
   "cell_type": "code",
   "execution_count": 151,
   "id": "bc697aa1",
   "metadata": {},
   "outputs": [],
   "source": [
    "y4 = np.where(y4>=0.9,7,y4)\n",
    "y4 = np.where((y4>=0.8) & (y4<0.9),6,y4)\n",
    "y4 = np.where((y4>=0.7) & (y4<0.8),5,y4)\n",
    "y4 = np.where((y4>=0.6) & (y4<0.7),4,y4)\n",
    "y4 = np.where((y4>=0.5) & (y4<0.6),3,y4)\n",
    "y4 = np.where((y4>=0.4) & (y4<0.5),2,y4)\n",
    "y4 = np.where((y4>=0.2) & (y4<0.4),1,y4)\n",
    "y4 = np.where(y4<0.2,0,y4)"
   ]
  },
  {
   "cell_type": "code",
   "execution_count": 157,
   "id": "3e85d905",
   "metadata": {},
   "outputs": [
    {
     "data": {
      "text/plain": [
       "array([0., 1., 2., 3., 4., 5., 6., 7.])"
      ]
     },
     "execution_count": 157,
     "metadata": {},
     "output_type": "execute_result"
    }
   ],
   "source": [
    "np.unique(y4)"
   ]
  },
  {
   "cell_type": "code",
   "execution_count": 162,
   "id": "c91594f6",
   "metadata": {},
   "outputs": [],
   "source": [
    "x_train_4, x_test_4, y_train_4, y_test_4 = train_test_split(images_arr2,y4,test_size=0.2,random_state=2)"
   ]
  },
  {
   "cell_type": "code",
   "execution_count": 159,
   "id": "75c3625e",
   "metadata": {},
   "outputs": [],
   "source": [
    "cnn4 = keras.Sequential([\n",
    "    keras.layers.Conv2D(filters = 128, kernel_size= (3,3), strides = 1,padding = 'same',activation = 'relu',input_shape = (32,32,1)),\n",
    "    keras.layers.MaxPooling2D((2,2)),\n",
    "    \n",
    "    keras.layers.Conv2D(filters = 64, kernel_size= (3,3),strides = 1,padding = 'same', activation = 'relu'),\n",
    "    keras.layers.MaxPooling2D((2,2)),\n",
    "    \n",
    "    keras.layers.Conv2D(filters = 32, kernel_size= (3,3),strides = 1,padding = 'same', activation = 'relu'),\n",
    "    keras.layers.MaxPooling2D((2,2)),\n",
    "    \n",
    "    keras.layers.Flatten(),\n",
    "    keras.layers.Dense(64, activation = 'relu'),\n",
    "    keras.layers.Dense(8, activation = 'softmax')\n",
    "])\n",
    "\n",
    "cnn4.compile(optimizer = 'adam',\n",
    "           loss = 'sparse_categorical_crossentropy',\n",
    "           metrics=['accuracy'])"
   ]
  },
  {
   "cell_type": "code",
   "execution_count": 163,
   "id": "902614d4",
   "metadata": {
    "scrolled": true
   },
   "outputs": [
    {
     "name": "stdout",
     "output_type": "stream",
     "text": [
      "Epoch 1/40\n",
      "803/803 [==============================] - 89s 111ms/step - loss: 1.8013 - accuracy: 0.2765\n",
      "Epoch 2/40\n",
      "803/803 [==============================] - 84s 105ms/step - loss: 1.6758 - accuracy: 0.3532\n",
      "Epoch 3/40\n",
      "803/803 [==============================] - 84s 105ms/step - loss: 1.6007 - accuracy: 0.3891\n",
      "Epoch 4/40\n",
      "803/803 [==============================] - 84s 104ms/step - loss: 1.5468 - accuracy: 0.4102\n",
      "Epoch 5/40\n",
      "803/803 [==============================] - 84s 104ms/step - loss: 1.5024 - accuracy: 0.4310\n",
      "Epoch 6/40\n",
      "803/803 [==============================] - 85s 106ms/step - loss: 1.4546 - accuracy: 0.4515\n",
      "Epoch 7/40\n",
      "803/803 [==============================] - 84s 105ms/step - loss: 1.4097 - accuracy: 0.4682\n",
      "Epoch 8/40\n",
      "803/803 [==============================] - 98s 122ms/step - loss: 1.3749 - accuracy: 0.4826\n",
      "Epoch 9/40\n",
      "803/803 [==============================] - 96s 119ms/step - loss: 1.3407 - accuracy: 0.4944\n",
      "Epoch 10/40\n",
      "803/803 [==============================] - 96s 120ms/step - loss: 1.3121 - accuracy: 0.5055\n",
      "Epoch 11/40\n",
      "803/803 [==============================] - 97s 121ms/step - loss: 1.2815 - accuracy: 0.5175\n",
      "Epoch 12/40\n",
      "803/803 [==============================] - 96s 120ms/step - loss: 1.2580 - accuracy: 0.5250\n",
      "Epoch 13/40\n",
      "803/803 [==============================] - 96s 120ms/step - loss: 1.2334 - accuracy: 0.5384\n",
      "Epoch 14/40\n",
      "803/803 [==============================] - 97s 120ms/step - loss: 1.2133 - accuracy: 0.5458\n",
      "Epoch 15/40\n",
      "803/803 [==============================] - 98s 122ms/step - loss: 1.1919 - accuracy: 0.5542\n",
      "Epoch 16/40\n",
      "803/803 [==============================] - 97s 121ms/step - loss: 1.1721 - accuracy: 0.5631\n",
      "Epoch 17/40\n",
      "803/803 [==============================] - 98s 123ms/step - loss: 1.1529 - accuracy: 0.5658\n",
      "Epoch 18/40\n",
      "803/803 [==============================] - 97s 121ms/step - loss: 1.1345 - accuracy: 0.5744\n",
      "Epoch 19/40\n",
      "803/803 [==============================] - 97s 121ms/step - loss: 1.1162 - accuracy: 0.5822\n",
      "Epoch 20/40\n",
      "803/803 [==============================] - 99s 123ms/step - loss: 1.1040 - accuracy: 0.5823\n",
      "Epoch 21/40\n",
      "803/803 [==============================] - 97s 121ms/step - loss: 1.0851 - accuracy: 0.5961\n",
      "Epoch 22/40\n",
      "803/803 [==============================] - 97s 121ms/step - loss: 1.0695 - accuracy: 0.5983\n",
      "Epoch 23/40\n",
      "803/803 [==============================] - 99s 123ms/step - loss: 1.0533 - accuracy: 0.6057s - los\n",
      "Epoch 24/40\n",
      "803/803 [==============================] - 98s 122ms/step - loss: 1.0342 - accuracy: 0.6152\n",
      "Epoch 25/40\n",
      "803/803 [==============================] - 98s 122ms/step - loss: 1.0237 - accuracy: 0.6179\n",
      "Epoch 26/40\n",
      "803/803 [==============================] - 97s 121ms/step - loss: 1.0061 - accuracy: 0.6262\n",
      "Epoch 27/40\n",
      "803/803 [==============================] - 97s 121ms/step - loss: 0.9918 - accuracy: 0.6298\n",
      "Epoch 28/40\n",
      "803/803 [==============================] - 97s 121ms/step - loss: 0.9788 - accuracy: 0.6359\n",
      "Epoch 29/40\n",
      "803/803 [==============================] - 97s 120ms/step - loss: 0.9643 - accuracy: 0.6390\n",
      "Epoch 30/40\n",
      "803/803 [==============================] - 96s 120ms/step - loss: 0.9503 - accuracy: 0.6473\n",
      "Epoch 31/40\n",
      "803/803 [==============================] - 96s 119ms/step - loss: 0.9387 - accuracy: 0.6506\n",
      "Epoch 32/40\n",
      "803/803 [==============================] - 101s 125ms/step - loss: 0.9267 - accuracy: 0.6533\n",
      "Epoch 33/40\n",
      "803/803 [==============================] - 100s 124ms/step - loss: 0.9162 - accuracy: 0.6567\n",
      "Epoch 34/40\n",
      "803/803 [==============================] - 96s 119ms/step - loss: 0.9030 - accuracy: 0.6635\n",
      "Epoch 35/40\n",
      "803/803 [==============================] - 99s 123ms/step - loss: 0.8885 - accuracy: 0.6719\n",
      "Epoch 36/40\n",
      "803/803 [==============================] - 97s 121ms/step - loss: 0.8775 - accuracy: 0.6710\n",
      "Epoch 37/40\n",
      "803/803 [==============================] - 99s 123ms/step - loss: 0.8684 - accuracy: 0.6751\n",
      "Epoch 38/40\n",
      "803/803 [==============================] - 97s 121ms/step - loss: 0.8578 - accuracy: 0.6804\n",
      "Epoch 39/40\n",
      "803/803 [==============================] - 98s 122ms/step - loss: 0.8475 - accuracy: 0.6847\n",
      "Epoch 40/40\n",
      "803/803 [==============================] - 97s 121ms/step - loss: 0.8376 - accuracy: 0.6852\n"
     ]
    },
    {
     "data": {
      "text/plain": [
       "<keras.callbacks.History at 0x274b8333a00>"
      ]
     },
     "execution_count": 163,
     "metadata": {},
     "output_type": "execute_result"
    }
   ],
   "source": [
    "cnn4.fit(x_train_4,y_train_4,epochs = 40)"
   ]
  },
  {
   "cell_type": "code",
   "execution_count": 165,
   "id": "b48f9a10",
   "metadata": {
    "scrolled": true
   },
   "outputs": [
    {
     "name": "stdout",
     "output_type": "stream",
     "text": [
      "201/201 [==============================] - 7s 34ms/step - loss: 1.5006 - accuracy: 0.5280 1s - loss: 1.472 - ETA: 0s - loss: 1.4866 - \n"
     ]
    },
    {
     "data": {
      "text/plain": [
       "[1.500588297843933, 0.528019905090332]"
      ]
     },
     "execution_count": 165,
     "metadata": {},
     "output_type": "execute_result"
    }
   ],
   "source": [
    "cnn4.evaluate(x_test_4,y_test_4)"
   ]
  },
  {
   "cell_type": "code",
   "execution_count": 175,
   "id": "f13b219f",
   "metadata": {},
   "outputs": [
    {
     "name": "stdout",
     "output_type": "stream",
     "text": [
      "INFO:tensorflow:Assets written to: Classification_CNN_Model4\\assets\n"
     ]
    }
   ],
   "source": [
    "#Saving model \n",
    "cnn2.save('Classification_CNN_Model4')"
   ]
  },
  {
   "cell_type": "markdown",
   "id": "37b710a7",
   "metadata": {},
   "source": [
    "### NEW Data(PKL) file"
   ]
  },
  {
   "cell_type": "code",
   "execution_count": 47,
   "id": "4c42df68",
   "metadata": {},
   "outputs": [],
   "source": [
    "thck = pd.read_pickle('d_thck_pkl')\n",
    "data = pd.read_pickle('d_data_pkl')"
   ]
  },
  {
   "cell_type": "code",
   "execution_count": 48,
   "id": "a6bdcc92",
   "metadata": {},
   "outputs": [],
   "source": [
    "i_put = []\n",
    "o_put = []\n",
    "for key in data.keys():\n",
    "    i_img = data[key]['imgs']\n",
    "    o_put.append(thck[key])\n",
    "    i_put.append(np.array([i_img[k] for k in range(len(i_img))]))\n",
    "o_put = np.concatenate(o_put) #array of thickness\n",
    "i_put = np.concatenate(i_put) #array of images"
   ]
  },
  {
   "cell_type": "code",
   "execution_count": 49,
   "id": "96011ce2",
   "metadata": {
    "scrolled": true
   },
   "outputs": [
    {
     "name": "stdout",
     "output_type": "stream",
     "text": [
      "2.999996313\n"
     ]
    },
    {
     "data": {
      "text/plain": [
       "0.0"
      ]
     },
     "execution_count": 49,
     "metadata": {},
     "output_type": "execute_result"
    }
   ],
   "source": [
    "print(max(o_put))\n",
    "min(o_put)"
   ]
  },
  {
   "cell_type": "code",
   "execution_count": 14,
   "id": "80c91e45",
   "metadata": {
    "scrolled": true
   },
   "outputs": [
    {
     "name": "stdout",
     "output_type": "stream",
     "text": [
      "(53576, 32, 32)\n",
      "(53576, 32, 32, 1)\n"
     ]
    }
   ],
   "source": [
    "print(i_put.shape) #before reshape\n",
    "i_put = i_put.reshape(len(i_put),32,32,1)\n",
    "print(i_put.shape) #after reshape"
   ]
  },
  {
   "cell_type": "code",
   "execution_count": 44,
   "id": "5d0e1d2b",
   "metadata": {},
   "outputs": [],
   "source": [
    "i_put = i_put/255.0"
   ]
  },
  {
   "cell_type": "markdown",
   "id": "a84eb34a",
   "metadata": {},
   "source": [
    "###### 14 Classes "
   ]
  },
  {
   "cell_type": "code",
   "execution_count": 15,
   "id": "1d9b82b7",
   "metadata": {
    "scrolled": true
   },
   "outputs": [
    {
     "name": "stdout",
     "output_type": "stream",
     "text": [
      "(534,)\n",
      "(2424,)\n",
      "(4137,)\n",
      "(4005,)\n",
      "(4156,)\n",
      "\n",
      "\n",
      "(6270,)\n",
      "(6332,)\n",
      "(4963,)\n",
      "(5665,)\n",
      "(3323,)\n",
      "\n",
      "\n",
      "(4788,)\n",
      "(3382,)\n",
      "(3035,)\n",
      "(562,)\n"
     ]
    }
   ],
   "source": [
    "print(np.array(np.where(o_put<=0.2)).flatten().shape)\n",
    "print(np.array(np.where((o_put>0.2) & (o_put<0.5))).flatten().shape)\n",
    "print(np.array(np.where((o_put>=0.5) & (o_put<0.7))).flatten().shape)\n",
    "print(np.array(np.where((o_put>=0.7) & (o_put<0.9))).flatten().shape)\n",
    "print(np.array(np.where((o_put>=0.9) & (o_put<1.1))).flatten().shape)\n",
    "print('\\n')\n",
    "print(np.array(np.where((o_put>=1.1) & (o_put<1.3))).flatten().shape)\n",
    "print(np.array(np.where((o_put>=1.3) & (o_put<1.5))).flatten().shape)\n",
    "print(np.array(np.where((o_put>=1.5) & (o_put<1.7))).flatten().shape)\n",
    "print(np.array(np.where((o_put>=1.7) & (o_put<1.9))).flatten().shape)\n",
    "print(np.array(np.where((o_put>=1.9) & (o_put<2.1))).flatten().shape)\n",
    "print('\\n')\n",
    "print(np.array(np.where((o_put>=2.1) & (o_put<2.3))).flatten().shape)\n",
    "print(np.array(np.where((o_put>=2.3) & (o_put<2.5))).flatten().shape)\n",
    "print(np.array(np.where((o_put>=2.5) & (o_put<2.7))).flatten().shape)\n",
    "print(np.array(np.where(o_put>=2.7)).flatten().shape)"
   ]
  },
  {
   "cell_type": "code",
   "execution_count": 16,
   "id": "73845834",
   "metadata": {},
   "outputs": [],
   "source": [
    "#copying of o_put to new variable \n",
    "target1 = o_put.copy()"
   ]
  },
  {
   "cell_type": "code",
   "execution_count": 17,
   "id": "7965a0a4",
   "metadata": {},
   "outputs": [],
   "source": [
    "target1 = np.where(target1>=2.7,13,target1)\n",
    "target1 = np.where((o_put>=2.5) & (o_put<2.7),12,target1)\n",
    "target1 = np.where((o_put>=2.3) & (o_put<2.5),11,target1)\n",
    "target1 = np.where((o_put>=2.1) & (o_put<2.3),10,target1)\n",
    "\n",
    "target1 = np.where((o_put>=1.9) & (o_put<2.1),9,target1)\n",
    "target1 = np.where((o_put>=1.7) & (o_put<1.9),8,target1)\n",
    "target1 = np.where((o_put>=1.5) & (o_put<1.7),7,target1)\n",
    "target1 = np.where((o_put>=1.3) & (o_put<1.5),6,target1)\n",
    "target1 = np.where((o_put>=1.1) & (o_put<1.3),5,target1)\n",
    "\n",
    "target1 = np.where((o_put>=0.9) & (o_put<1.1),4,target1)\n",
    "target1 = np.where((o_put>=0.7) & (o_put<0.9),3,target1)\n",
    "target1 = np.where((o_put>=0.5) & (o_put<0.7),2,target1)\n",
    "target1 = np.where((o_put>0.2) & (o_put<0.5),1,target1)\n",
    "target1 = np.where(o_put<=0.2,0,target1)"
   ]
  },
  {
   "cell_type": "code",
   "execution_count": 135,
   "id": "8175dd8f",
   "metadata": {},
   "outputs": [
    {
     "data": {
      "text/plain": [
       "array([ 0.,  1.,  2.,  3.,  4.,  5.,  6.,  7.,  8.,  9., 10., 11., 12.,\n",
       "       13.])"
      ]
     },
     "execution_count": 135,
     "metadata": {},
     "output_type": "execute_result"
    }
   ],
   "source": [
    "np.unique(target1)"
   ]
  },
  {
   "cell_type": "code",
   "execution_count": 45,
   "id": "be82ed10",
   "metadata": {},
   "outputs": [],
   "source": [
    "x_train_pkl_14, x_test_pkl_14, y_train_pkl_14, y_test_pkl_14 = train_test_split(i_put,target1,test_size=0.2,random_state=2)"
   ]
  },
  {
   "cell_type": "code",
   "execution_count": 46,
   "id": "a21735f3",
   "metadata": {
    "scrolled": true
   },
   "outputs": [
    {
     "data": {
      "text/plain": [
       "array([[-0.07843137],\n",
       "       [-0.07843137],\n",
       "       [-0.07843137],\n",
       "       [-0.07843137],\n",
       "       [-0.07843137],\n",
       "       [-0.07843137],\n",
       "       [-0.07843137],\n",
       "       [-0.07843137],\n",
       "       [-0.07843137],\n",
       "       [-0.07843137],\n",
       "       [-0.07843137],\n",
       "       [-0.01150796],\n",
       "       [-0.01220903],\n",
       "       [-0.01291009],\n",
       "       [-0.01361118],\n",
       "       [-0.01404952],\n",
       "       [-0.01436913],\n",
       "       [-0.01468875],\n",
       "       [-0.01500836],\n",
       "       [-0.01532798],\n",
       "       [-0.0156476 ],\n",
       "       [-0.01596722],\n",
       "       [-0.01617932],\n",
       "       [-0.01633848],\n",
       "       [-0.01649764],\n",
       "       [-0.01665679],\n",
       "       [-0.01681595],\n",
       "       [-0.01697511],\n",
       "       [-0.01713426],\n",
       "       [-0.01729342],\n",
       "       [-0.01745256],\n",
       "       [-0.07843137]])"
      ]
     },
     "execution_count": 46,
     "metadata": {},
     "output_type": "execute_result"
    }
   ],
   "source": [
    "x_train_pkl_14[0,1]"
   ]
  },
  {
   "cell_type": "code",
   "execution_count": 142,
   "id": "4f4235fc",
   "metadata": {},
   "outputs": [],
   "source": [
    "pkl_14_model = keras.Sequential([\n",
    "    keras.layers.Conv2D(filters = 128, kernel_size= (3,3), strides = 1,padding = 'same',activation = 'relu',input_shape = (32,32,1)),\n",
    "    keras.layers.MaxPooling2D((2,2)),\n",
    "    \n",
    "    keras.layers.Conv2D(filters = 64, kernel_size= (3,3),strides = 1,padding = 'same', activation = 'relu'),\n",
    "    keras.layers.MaxPooling2D((2,2)),\n",
    "    \n",
    "    keras.layers.Conv2D(filters = 32, kernel_size= (3,3),strides = 1,padding = 'same', activation = 'relu'),\n",
    "    keras.layers.MaxPooling2D((2,2)),\n",
    "    \n",
    "    keras.layers.Flatten(),\n",
    "    keras.layers.Dense(64, activation = 'relu'),\n",
    "    keras.layers.Dense(14, activation = 'softmax')\n",
    "])\n",
    "\n",
    "pkl_14_model.compile(optimizer = 'adam',\n",
    "           loss = 'sparse_categorical_crossentropy',\n",
    "           metrics=['accuracy'])"
   ]
  },
  {
   "cell_type": "code",
   "execution_count": 143,
   "id": "1137fe51",
   "metadata": {
    "scrolled": true
   },
   "outputs": [
    {
     "name": "stdout",
     "output_type": "stream",
     "text": [
      "Epoch 1/50\n",
      "1340/1340 [==============================] - 166s 124ms/step - loss: 2.3473 - accuracy: 0.1917\n",
      "Epoch 2/50\n",
      "1340/1340 [==============================] - 163s 122ms/step - loss: 2.1570 - accuracy: 0.2545\n",
      "Epoch 3/50\n",
      "1340/1340 [==============================] - 161s 120ms/step - loss: 2.0398 - accuracy: 0.2915\n",
      "Epoch 4/50\n",
      "1340/1340 [==============================] - 161s 120ms/step - loss: 1.9482 - accuracy: 0.3199\n",
      "Epoch 5/50\n",
      "1340/1340 [==============================] - 166s 124ms/step - loss: 1.8746 - accuracy: 0.3428\n",
      "Epoch 6/50\n",
      "1340/1340 [==============================] - 162s 121ms/step - loss: 1.8125 - accuracy: 0.3644\n",
      "Epoch 7/50\n",
      "1340/1340 [==============================] - 160s 120ms/step - loss: 1.7520 - accuracy: 0.3799\n",
      "Epoch 8/50\n",
      "1340/1340 [==============================] - 161s 120ms/step - loss: 1.7050 - accuracy: 0.3984\n",
      "Epoch 9/50\n",
      "1340/1340 [==============================] - 160s 120ms/step - loss: 1.6587 - accuracy: 0.4114\n",
      "Epoch 10/50\n",
      "1340/1340 [==============================] - 160s 120ms/step - loss: 1.6209 - accuracy: 0.4246\n",
      "Epoch 11/50\n",
      "1340/1340 [==============================] - 162s 121ms/step - loss: 1.5796 - accuracy: 0.4392\n",
      "Epoch 12/50\n",
      "1340/1340 [==============================] - 161s 120ms/step - loss: 1.5490 - accuracy: 0.4482\n",
      "Epoch 13/50\n",
      "1340/1340 [==============================] - 160s 120ms/step - loss: 1.5162 - accuracy: 0.4594\n",
      "Epoch 14/50\n",
      "1340/1340 [==============================] - 164s 122ms/step - loss: 1.4875 - accuracy: 0.4692\n",
      "Epoch 15/50\n",
      "1340/1340 [==============================] - 162s 121ms/step - loss: 1.4561 - accuracy: 0.4768\n",
      "Epoch 16/50\n",
      "1340/1340 [==============================] - 162s 121ms/step - loss: 1.4328 - accuracy: 0.4867\n",
      "Epoch 17/50\n",
      "1340/1340 [==============================] - 163s 122ms/step - loss: 1.4098 - accuracy: 0.4961\n",
      "Epoch 18/50\n",
      "1340/1340 [==============================] - 164s 122ms/step - loss: 1.3864 - accuracy: 0.4978\n",
      "Epoch 19/50\n",
      "1340/1340 [==============================] - 162s 121ms/step - loss: 1.3638 - accuracy: 0.5087\n",
      "Epoch 20/50\n",
      "1340/1340 [==============================] - 163s 122ms/step - loss: 1.3425 - accuracy: 0.5152\n",
      "Epoch 21/50\n",
      "1340/1340 [==============================] - 161s 120ms/step - loss: 1.3246 - accuracy: 0.5205\n",
      "Epoch 22/50\n",
      "1340/1340 [==============================] - 164s 122ms/step - loss: 1.3068 - accuracy: 0.5287\n",
      "Epoch 23/50\n",
      "1340/1340 [==============================] - 141s 105ms/step - loss: 1.2896 - accuracy: 0.5341\n",
      "Epoch 24/50\n",
      "1340/1340 [==============================] - 141s 105ms/step - loss: 1.2727 - accuracy: 0.5389\n",
      "Epoch 25/50\n",
      "1340/1340 [==============================] - 141s 106ms/step - loss: 1.2579 - accuracy: 0.5441\n",
      "Epoch 26/50\n",
      "1340/1340 [==============================] - 141s 105ms/step - loss: 1.2417 - accuracy: 0.5519\n",
      "Epoch 27/50\n",
      "1340/1340 [==============================] - 142s 106ms/step - loss: 1.2321 - accuracy: 0.5562\n",
      "Epoch 28/50\n",
      "1340/1340 [==============================] - 143s 107ms/step - loss: 1.2141 - accuracy: 0.5587\n",
      "Epoch 29/50\n",
      "1340/1340 [==============================] - 139s 104ms/step - loss: 1.1972 - accuracy: 0.5646\n",
      "Epoch 30/50\n",
      "1340/1340 [==============================] - 140s 104ms/step - loss: 1.1891 - accuracy: 0.5682\n",
      "Epoch 31/50\n",
      "1340/1340 [==============================] - 140s 105ms/step - loss: 1.1734 - accuracy: 0.5730\n",
      "Epoch 32/50\n",
      "1340/1340 [==============================] - 142s 106ms/step - loss: 1.1596 - accuracy: 0.5785\n",
      "Epoch 33/50\n",
      "1340/1340 [==============================] - 151s 113ms/step - loss: 1.1519 - accuracy: 0.5779\n",
      "Epoch 34/50\n",
      "1340/1340 [==============================] - 162s 121ms/step - loss: 1.1398 - accuracy: 0.5880\n",
      "Epoch 35/50\n",
      "1340/1340 [==============================] - 166s 124ms/step - loss: 1.1276 - accuracy: 0.5904\n",
      "Epoch 36/50\n",
      "1340/1340 [==============================] - 163s 121ms/step - loss: 1.1172 - accuracy: 0.5917\n",
      "Epoch 37/50\n",
      "1340/1340 [==============================] - 161s 120ms/step - loss: 1.1114 - accuracy: 0.5927\n",
      "Epoch 38/50\n",
      "1340/1340 [==============================] - 163s 122ms/step - loss: 1.1026 - accuracy: 0.6002\n",
      "Epoch 39/50\n",
      "1340/1340 [==============================] - 161s 120ms/step - loss: 1.0891 - accuracy: 0.6019\n",
      "Epoch 40/50\n",
      "1340/1340 [==============================] - 160s 120ms/step - loss: 1.0856 - accuracy: 0.6041\n",
      "Epoch 41/50\n",
      "1340/1340 [==============================] - 161s 120ms/step - loss: 1.0765 - accuracy: 0.6049\n",
      "Epoch 42/50\n",
      "1340/1340 [==============================] - 163s 121ms/step - loss: 1.0678 - accuracy: 0.6119\n",
      "Epoch 43/50\n",
      "1340/1340 [==============================] - 161s 120ms/step - loss: 1.0577 - accuracy: 0.6152\n",
      "Epoch 44/50\n",
      "1340/1340 [==============================] - 161s 120ms/step - loss: 1.0500 - accuracy: 0.6135\n",
      "Epoch 45/50\n",
      "1340/1340 [==============================] - 162s 121ms/step - loss: 1.0462 - accuracy: 0.6181\n",
      "Epoch 46/50\n",
      "1340/1340 [==============================] - 161s 120ms/step - loss: 1.0367 - accuracy: 0.6196\n",
      "Epoch 47/50\n",
      "1340/1340 [==============================] - 159s 119ms/step - loss: 1.0364 - accuracy: 0.6224\n",
      "Epoch 48/50\n",
      "1340/1340 [==============================] - 159s 119ms/step - loss: 1.0244 - accuracy: 0.6249\n",
      "Epoch 49/50\n",
      "1340/1340 [==============================] - 161s 120ms/step - loss: 1.0217 - accuracy: 0.6276\n",
      "Epoch 50/50\n",
      "1340/1340 [==============================] - 142s 106ms/step - loss: 1.0126 - accuracy: 0.6293\n"
     ]
    },
    {
     "data": {
      "text/plain": [
       "<keras.callbacks.History at 0x22325a3cfd0>"
      ]
     },
     "execution_count": 143,
     "metadata": {},
     "output_type": "execute_result"
    }
   ],
   "source": [
    "pkl_14_model.fit(x_train_pkl_14,y_train_pkl_14,epochs=50)"
   ]
  },
  {
   "cell_type": "code",
   "execution_count": 145,
   "id": "0a47c8bf",
   "metadata": {
    "scrolled": true
   },
   "outputs": [
    {
     "name": "stdout",
     "output_type": "stream",
     "text": [
      "335/335 [==============================] - 9s 27ms/step - loss: 2.8074 - accuracy: 0.3736\n"
     ]
    },
    {
     "data": {
      "text/plain": [
       "[2.807396173477173, 0.3735535740852356]"
      ]
     },
     "execution_count": 145,
     "metadata": {},
     "output_type": "execute_result"
    }
   ],
   "source": [
    "pkl_14_model.evaluate(x_test_pkl_14,y_test_pkl_14)"
   ]
  },
  {
   "cell_type": "code",
   "execution_count": 146,
   "id": "fc8e40a5",
   "metadata": {},
   "outputs": [
    {
     "name": "stdout",
     "output_type": "stream",
     "text": [
      "INFO:tensorflow:Assets written to: pkl_14_model\\assets\n"
     ]
    }
   ],
   "source": [
    "pkl_14_model.save('pkl_14_model')"
   ]
  },
  {
   "cell_type": "code",
   "execution_count": 25,
   "id": "34170861",
   "metadata": {},
   "outputs": [],
   "source": [
    "def build_model_pkl(hp):\n",
    "    model = keras.Sequential([\n",
    "    keras.layers.Conv2D( filters=hp.Int('conv_1_filter', min_value=32, max_value=128, step=16),\n",
    "        kernel_size=hp.Choice('conv_1_kernel', values = [3,5]),\n",
    "        activation='relu',\n",
    "        input_shape=(32,32,1)),\n",
    "    keras.layers.MaxPooling2D((2,2)),\n",
    "        \n",
    "    keras.layers.Conv2D( filters=hp.Int('conv_2_filter', min_value=32, max_value=64, step=16),\n",
    "        kernel_size=hp.Choice('conv_2_kernel', values = [3,5]),\n",
    "        activation='relu'),\n",
    "    keras.layers.MaxPooling2D((2,2)),\n",
    " \n",
    "        \n",
    "    keras.layers.Flatten(),\n",
    "      \n",
    "    keras.layers.Dense(units=hp.Int('dense_1_units', min_value=32, max_value=128, step=16),activation='relu'),\n",
    "\n",
    "    keras.layers.Dense(14, activation='softmax')])\n",
    "    \n",
    "    model.compile(optimizer=keras.optimizers.Adam(hp.Choice('learning_rate', values=[1e-2, 1e-3])),\n",
    "              loss='sparse_categorical_crossentropy',\n",
    "              metrics=['accuracy'])\n",
    "    return model"
   ]
  },
  {
   "cell_type": "code",
   "execution_count": null,
   "id": "cb512fa0",
   "metadata": {},
   "outputs": [],
   "source": []
  },
  {
   "cell_type": "code",
   "execution_count": 26,
   "id": "412a62d6",
   "metadata": {},
   "outputs": [
    {
     "name": "stdout",
     "output_type": "stream",
     "text": [
      "INFO:tensorflow:Reloading Oracle from existing project pooling_output\\pkl_14_model_tuner\\oracle.json\n",
      "INFO:tensorflow:Reloading Tuner from pooling_output\\pkl_14_model_tuner\\tuner0.json\n"
     ]
    }
   ],
   "source": [
    "from keras_tuner import RandomSearch\n",
    "pkl_14_model_tuner = RandomSearch(build_model_pkl,objective='val_accuracy',max_trials = 5, directory = 'pooling_output',project_name='pkl_14_model_tuner')"
   ]
  },
  {
   "cell_type": "code",
   "execution_count": 159,
   "id": "e4e97c96",
   "metadata": {},
   "outputs": [
    {
     "name": "stdout",
     "output_type": "stream",
     "text": [
      "Trial 5 Complete [00h 05m 19s]\n",
      "val_accuracy: 0.11496827006340027\n",
      "\n",
      "Best val_accuracy So Far: 0.27463605999946594\n",
      "Total elapsed time: 00h 20m 19s\n",
      "INFO:tensorflow:Oracle triggered exit\n"
     ]
    }
   ],
   "source": [
    "pkl_14_model_tuner.search(x_train_pkl_14,y_train_pkl_14,epochs=3,validation_data=(x_test_pkl_14,y_test_pkl_14))"
   ]
  },
  {
   "cell_type": "code",
   "execution_count": 161,
   "id": "9a44177d",
   "metadata": {},
   "outputs": [
    {
     "name": "stdout",
     "output_type": "stream",
     "text": [
      "Model: \"sequential\"\n",
      "_________________________________________________________________\n",
      " Layer (type)                Output Shape              Param #   \n",
      "=================================================================\n",
      " conv2d (Conv2D)             (None, 28, 28, 96)        2496      \n",
      "                                                                 \n",
      " max_pooling2d (MaxPooling2D  (None, 14, 14, 96)       0         \n",
      " )                                                               \n",
      "                                                                 \n",
      " conv2d_1 (Conv2D)           (None, 10, 10, 48)        115248    \n",
      "                                                                 \n",
      " max_pooling2d_1 (MaxPooling  (None, 5, 5, 48)         0         \n",
      " 2D)                                                             \n",
      "                                                                 \n",
      " flatten (Flatten)           (None, 1200)              0         \n",
      "                                                                 \n",
      " dense (Dense)               (None, 64)                76864     \n",
      "                                                                 \n",
      " dense_1 (Dense)             (None, 14)                910       \n",
      "                                                                 \n",
      "=================================================================\n",
      "Total params: 195,518\n",
      "Trainable params: 195,518\n",
      "Non-trainable params: 0\n",
      "_________________________________________________________________\n"
     ]
    }
   ],
   "source": [
    "model_14 = pkl_14_model_tuner.get_best_models()[0]\n",
    "model_14.summary()"
   ]
  },
  {
   "cell_type": "markdown",
   "id": "6e147a07",
   "metadata": {},
   "source": [
    "## 4 Classes and Scaling "
   ]
  },
  {
   "cell_type": "code",
   "execution_count": 127,
   "id": "7ed89149",
   "metadata": {
    "scrolled": true
   },
   "outputs": [],
   "source": [
    "cnn_input = i_put.copy()\n",
    "cnn_input.shape\n",
    "cnn_input = i_put.reshape(len(i_put),32,32,1)"
   ]
  },
  {
   "cell_type": "code",
   "execution_count": 128,
   "id": "758c4150",
   "metadata": {
    "scrolled": false
   },
   "outputs": [],
   "source": [
    "cnn_output = o_put.copy() "
   ]
  },
  {
   "cell_type": "code",
   "execution_count": 97,
   "id": "b1b3ab7b",
   "metadata": {},
   "outputs": [
    {
     "name": "stdout",
     "output_type": "stream",
     "text": [
      "2.999996313\n"
     ]
    },
    {
     "data": {
      "text/plain": [
       "0.0"
      ]
     },
     "execution_count": 97,
     "metadata": {},
     "output_type": "execute_result"
    }
   ],
   "source": [
    "print(max(cnn_output))\n",
    "min(cnn_output)"
   ]
  },
  {
   "cell_type": "code",
   "execution_count": 129,
   "id": "9fec2c56",
   "metadata": {
    "scrolled": true
   },
   "outputs": [
    {
     "name": "stdout",
     "output_type": "stream",
     "text": [
      "(8837,)\n",
      "(19021,)\n",
      "(18739,)\n",
      "(6979,)\n"
     ]
    }
   ],
   "source": [
    "print(np.array(np.where(cnn_output<=0.75)).flatten().shape)\n",
    "print(np.array(np.where((cnn_output>0.75) & (cnn_output<=1.5))).flatten().shape)\n",
    "print(np.array(np.where((cnn_output>1.5) & (cnn_output<=2.3))).flatten().shape)\n",
    "print(np.array(np.where((cnn_output>2.3) )).flatten().shape)"
   ]
  },
  {
   "cell_type": "code",
   "execution_count": 130,
   "id": "d1ff0c2d",
   "metadata": {},
   "outputs": [
    {
     "data": {
      "text/plain": [
       "(48403,)"
      ]
     },
     "execution_count": 130,
     "metadata": {},
     "output_type": "execute_result"
    }
   ],
   "source": [
    "np.unique(cnn_output).shape"
   ]
  },
  {
   "cell_type": "code",
   "execution_count": 131,
   "id": "e5d2e4d4",
   "metadata": {},
   "outputs": [],
   "source": [
    "cnn_output = np.where((cnn_output>2.3),3,cnn_output)\n",
    "cnn_output = np.where((cnn_output>1.5) & (cnn_output<=2.3),2,cnn_output)\n",
    "cnn_output = np.where((cnn_output>0.75) & (cnn_output<=1.5),1,cnn_output)\n",
    "cnn_output = np.where((cnn_output<=0.75),0,cnn_output)"
   ]
  },
  {
   "cell_type": "code",
   "execution_count": 132,
   "id": "dbe61172",
   "metadata": {},
   "outputs": [
    {
     "name": "stdout",
     "output_type": "stream",
     "text": [
      "[0. 1. 2. 3.]\n"
     ]
    },
    {
     "data": {
      "text/plain": [
       "(4,)"
      ]
     },
     "execution_count": 132,
     "metadata": {},
     "output_type": "execute_result"
    }
   ],
   "source": [
    "print(np.unique(cnn_output))\n",
    "np.unique(cnn_output).shape"
   ]
  },
  {
   "cell_type": "code",
   "execution_count": 133,
   "id": "78a498b5",
   "metadata": {},
   "outputs": [],
   "source": [
    "from sklearn.preprocessing import MinMaxScaler,MaxAbsScaler,StandardScaler\n",
    "from sklearn.model_selection import train_test_split"
   ]
  },
  {
   "cell_type": "code",
   "execution_count": 102,
   "id": "c450d0e5",
   "metadata": {},
   "outputs": [],
   "source": [
    "x_train_scal, x_test_scal, y_train_scal, y_test_scal = train_test_split(cnn_input, cnn_output, test_size=0.2, random_state=42)"
   ]
  },
  {
   "cell_type": "code",
   "execution_count": 144,
   "id": "7ab08fa1",
   "metadata": {
    "scrolled": true
   },
   "outputs": [],
   "source": [
    "# scaling = StandardScaler()\n",
    "# x_train_scal = scaling.fit_transform(x_train_scal)\n",
    "# x_test_scal = scaling.transform(x_test_scal)"
   ]
  },
  {
   "cell_type": "code",
   "execution_count": 135,
   "id": "931f1c4e",
   "metadata": {},
   "outputs": [],
   "source": [
    "scaled_model = keras.Sequential([\n",
    "    keras.layers.Conv2D(filters = 128, kernel_size= (3,3), strides = 1,padding = 'same',activation = 'relu',input_shape = (32,32,1)),\n",
    "    keras.layers.MaxPooling2D((2,2)),\n",
    "    \n",
    "    keras.layers.Conv2D(filters = 64, kernel_size= (3,3),strides = 1,padding = 'same', activation = 'relu'),\n",
    "    keras.layers.MaxPooling2D((2,2)),\n",
    "    \n",
    "    keras.layers.Conv2D(filters = 32, kernel_size= (3,3),strides = 1,padding = 'same', activation = 'relu'),\n",
    "    keras.layers.MaxPooling2D((2,2)),\n",
    "    \n",
    "    keras.layers.Flatten(),\n",
    "    keras.layers.Dense(64, activation = 'relu'),\n",
    "    keras.layers.Dense(4, activation = 'softmax')\n",
    "])\n",
    "\n",
    "scaled_model.compile(optimizer = 'adam',\n",
    "           loss = 'sparse_categorical_crossentropy',\n",
    "           metrics=['accuracy'])"
   ]
  },
  {
   "cell_type": "code",
   "execution_count": 136,
   "id": "9a93643a",
   "metadata": {
    "scrolled": true
   },
   "outputs": [
    {
     "name": "stdout",
     "output_type": "stream",
     "text": [
      "Epoch 1/20\n",
      "1340/1340 [==============================] - 165s 122ms/step - loss: 1.1733 - accuracy: 0.4580\n",
      "Epoch 2/20\n",
      "1340/1340 [==============================] - 163s 122ms/step - loss: 1.0604 - accuracy: 0.5218\n",
      "Epoch 3/20\n",
      "1340/1340 [==============================] - 168s 126ms/step - loss: 0.9866 - accuracy: 0.5633\n",
      "Epoch 4/20\n",
      "1340/1340 [==============================] - 167s 124ms/step - loss: 0.9291 - accuracy: 0.5896\n",
      "Epoch 5/20\n",
      "1340/1340 [==============================] - 167s 124ms/step - loss: 0.8826 - accuracy: 0.6155\n",
      "Epoch 6/20\n",
      "1340/1340 [==============================] - 166s 124ms/step - loss: 0.8405 - accuracy: 0.6378\n",
      "Epoch 7/20\n",
      "1340/1340 [==============================] - 167s 124ms/step - loss: 0.8008 - accuracy: 0.6543\n",
      "Epoch 8/20\n",
      "1340/1340 [==============================] - 167s 125ms/step - loss: 0.7712 - accuracy: 0.6718\n",
      "Epoch 9/20\n",
      "1340/1340 [==============================] - 167s 124ms/step - loss: 0.7422 - accuracy: 0.6853\n",
      "Epoch 10/20\n",
      "1340/1340 [==============================] - 167s 124ms/step - loss: 0.7156 - accuracy: 0.6986\n",
      "Epoch 11/20\n",
      "1340/1340 [==============================] - 166s 124ms/step - loss: 0.6912 - accuracy: 0.7080\n",
      "Epoch 12/20\n",
      "1340/1340 [==============================] - 164s 122ms/step - loss: 0.6679 - accuracy: 0.7174\n",
      "Epoch 13/20\n",
      "1340/1340 [==============================] - 164s 122ms/step - loss: 0.6464 - accuracy: 0.7293\n",
      "Epoch 14/20\n",
      "1340/1340 [==============================] - 166s 124ms/step - loss: 0.6287 - accuracy: 0.7370\n",
      "Epoch 15/20\n",
      "1340/1340 [==============================] - 164s 122ms/step - loss: 0.6149 - accuracy: 0.7450\n",
      "Epoch 16/20\n",
      "1340/1340 [==============================] - 165s 124ms/step - loss: 0.5888 - accuracy: 0.7561\n",
      "Epoch 17/20\n",
      "1340/1340 [==============================] - 165s 123ms/step - loss: 0.5747 - accuracy: 0.7627\n",
      "Epoch 18/20\n",
      "1340/1340 [==============================] - 166s 124ms/step - loss: 0.5635 - accuracy: 0.7671\n",
      "Epoch 19/20\n",
      "1340/1340 [==============================] - 167s 125ms/step - loss: 0.5471 - accuracy: 0.7745\n",
      "Epoch 20/20\n",
      "1340/1340 [==============================] - 165s 123ms/step - loss: 0.5353 - accuracy: 0.7799\n"
     ]
    },
    {
     "data": {
      "text/plain": [
       "<keras.callbacks.History at 0x231063bf1f0>"
      ]
     },
     "execution_count": 136,
     "metadata": {},
     "output_type": "execute_result"
    }
   ],
   "source": [
    "scaled_model.fit(x_train_scal,y_train_scal, epochs = 20)"
   ]
  },
  {
   "cell_type": "code",
   "execution_count": 138,
   "id": "8559871c",
   "metadata": {
    "scrolled": true
   },
   "outputs": [
    {
     "name": "stdout",
     "output_type": "stream",
     "text": [
      "Epoch 21/30\n",
      "1340/1340 [==============================] - 163s 122ms/step - loss: 0.5221 - accuracy: 0.7843\n",
      "Epoch 22/30\n",
      "1340/1340 [==============================] - 163s 122ms/step - loss: 0.5070 - accuracy: 0.7921\n",
      "Epoch 23/30\n",
      "1340/1340 [==============================] - 165s 123ms/step - loss: 0.4995 - accuracy: 0.7944\n",
      "Epoch 24/30\n",
      "1340/1340 [==============================] - 163s 122ms/step - loss: 0.4862 - accuracy: 0.8012\n",
      "Epoch 25/30\n",
      "1340/1340 [==============================] - 164s 123ms/step - loss: 0.4824 - accuracy: 0.8031\n",
      "Epoch 26/30\n",
      "1340/1340 [==============================] - 163s 122ms/step - loss: 0.4722 - accuracy: 0.8059\n",
      "Epoch 27/30\n",
      "1340/1340 [==============================] - 163s 122ms/step - loss: 0.4544 - accuracy: 0.8142\n",
      "Epoch 28/30\n",
      "1340/1340 [==============================] - 164s 122ms/step - loss: 0.4570 - accuracy: 0.8133\n",
      "Epoch 29/30\n",
      "1340/1340 [==============================] - 162s 121ms/step - loss: 0.4448 - accuracy: 0.8194\n",
      "Epoch 30/30\n",
      "1340/1340 [==============================] - 163s 122ms/step - loss: 0.4403 - accuracy: 0.8218\n"
     ]
    },
    {
     "data": {
      "text/plain": [
       "<keras.callbacks.History at 0x230180c1f10>"
      ]
     },
     "execution_count": 138,
     "metadata": {},
     "output_type": "execute_result"
    }
   ],
   "source": [
    "scaled_model.fit(x_train_scal,y_train_scal, epochs = 30,initial_epoch=20)"
   ]
  },
  {
   "cell_type": "code",
   "execution_count": 139,
   "id": "04ee4586",
   "metadata": {
    "scrolled": true
   },
   "outputs": [
    {
     "name": "stdout",
     "output_type": "stream",
     "text": [
      "335/335 [==============================] - 11s 34ms/step - loss: 1.1703 - accuracy: 0.6721\n"
     ]
    },
    {
     "data": {
      "text/plain": [
       "[1.170301914215088, 0.6720791459083557]"
      ]
     },
     "execution_count": 139,
     "metadata": {},
     "output_type": "execute_result"
    }
   ],
   "source": [
    "scaled_model.evaluate(x_test_scal,y_test_scal)"
   ]
  },
  {
   "cell_type": "code",
   "execution_count": 145,
   "id": "6669d04d",
   "metadata": {},
   "outputs": [
    {
     "name": "stdout",
     "output_type": "stream",
     "text": [
      "Epoch 31/40\n",
      "1340/1340 [==============================] - 162s 121ms/step - loss: 0.4273 - accuracy: 0.8274\n",
      "Epoch 32/40\n",
      "1340/1340 [==============================] - 143s 107ms/step - loss: 0.4283 - accuracy: 0.8275\n",
      "Epoch 33/40\n",
      "1340/1340 [==============================] - 142s 106ms/step - loss: 0.4117 - accuracy: 0.8332\n",
      "Epoch 34/40\n",
      "1340/1340 [==============================] - 142s 106ms/step - loss: 0.4073 - accuracy: 0.8327\n",
      "Epoch 35/40\n",
      "1340/1340 [==============================] - 144s 107ms/step - loss: 0.4022 - accuracy: 0.8392\n",
      "Epoch 36/40\n",
      "1340/1340 [==============================] - 143s 107ms/step - loss: 0.3943 - accuracy: 0.8405\n",
      "Epoch 37/40\n",
      "1340/1340 [==============================] - 145s 108ms/step - loss: 0.4051 - accuracy: 0.8393\n",
      "Epoch 38/40\n",
      "1340/1340 [==============================] - 145s 108ms/step - loss: 0.3825 - accuracy: 0.8442\n",
      "Epoch 39/40\n",
      "1340/1340 [==============================] - 143s 107ms/step - loss: 0.3876 - accuracy: 0.8438\n",
      "Epoch 40/40\n",
      "1340/1340 [==============================] - 143s 106ms/step - loss: 0.3756 - accuracy: 0.8471\n"
     ]
    },
    {
     "data": {
      "text/plain": [
       "<keras.callbacks.History at 0x23010921550>"
      ]
     },
     "execution_count": 145,
     "metadata": {},
     "output_type": "execute_result"
    }
   ],
   "source": [
    "scaled_model.fit(x_train_scal,y_train_scal, epochs = 40,initial_epoch=30)"
   ]
  },
  {
   "cell_type": "code",
   "execution_count": 146,
   "id": "22a67d16",
   "metadata": {},
   "outputs": [
    {
     "name": "stdout",
     "output_type": "stream",
     "text": [
      "335/335 [==============================] - 10s 30ms/step - loss: 1.3489 - accuracy: 0.6747\n"
     ]
    },
    {
     "data": {
      "text/plain": [
       "[1.3488898277282715, 0.6746920347213745]"
      ]
     },
     "execution_count": 146,
     "metadata": {},
     "output_type": "execute_result"
    }
   ],
   "source": [
    "scaled_model.evaluate(x_test_scal,y_test_scal)"
   ]
  },
  {
   "cell_type": "code",
   "execution_count": 147,
   "id": "a102f925",
   "metadata": {
    "scrolled": true
   },
   "outputs": [
    {
     "data": {
      "text/plain": [
       "array([[3.7989148e-03, 3.0230427e-01, 6.9352102e-01, 3.7580309e-04],\n",
       "       [2.5654708e-03, 7.7394080e-01, 2.2309734e-01, 3.9636629e-04],\n",
       "       [5.4724240e-03, 7.1584338e-01, 2.7696899e-01, 1.7151149e-03],\n",
       "       ...,\n",
       "       [1.8046346e-02, 9.7417927e-01, 7.6214126e-03, 1.5299208e-04],\n",
       "       [3.6291892e-03, 1.6635783e-02, 4.7266923e-02, 9.3246812e-01],\n",
       "       [6.7905700e-01, 6.2190790e-02, 3.4328562e-03, 2.5531936e-01]],\n",
       "      dtype=float32)"
      ]
     },
     "execution_count": 147,
     "metadata": {},
     "output_type": "execute_result"
    }
   ],
   "source": [
    "scaled_model.predict(x_test_scal)"
   ]
  },
  {
   "cell_type": "code",
   "execution_count": 148,
   "id": "d7398c76",
   "metadata": {},
   "outputs": [
    {
     "name": "stdout",
     "output_type": "stream",
     "text": [
      "Model: \"sequential_1\"\n",
      "_________________________________________________________________\n",
      " Layer (type)                Output Shape              Param #   \n",
      "=================================================================\n",
      " conv2d_2 (Conv2D)           (None, 32, 32, 128)       1280      \n",
      "                                                                 \n",
      " max_pooling2d_2 (MaxPooling  (None, 16, 16, 128)      0         \n",
      " 2D)                                                             \n",
      "                                                                 \n",
      " conv2d_3 (Conv2D)           (None, 16, 16, 64)        73792     \n",
      "                                                                 \n",
      " max_pooling2d_3 (MaxPooling  (None, 8, 8, 64)         0         \n",
      " 2D)                                                             \n",
      "                                                                 \n",
      " conv2d_4 (Conv2D)           (None, 8, 8, 32)          18464     \n",
      "                                                                 \n",
      " max_pooling2d_4 (MaxPooling  (None, 4, 4, 32)         0         \n",
      " 2D)                                                             \n",
      "                                                                 \n",
      " flatten_1 (Flatten)         (None, 512)               0         \n",
      "                                                                 \n",
      " dense_2 (Dense)             (None, 64)                32832     \n",
      "                                                                 \n",
      " dense_3 (Dense)             (None, 4)                 260       \n",
      "                                                                 \n",
      "=================================================================\n",
      "Total params: 126,628\n",
      "Trainable params: 126,628\n",
      "Non-trainable params: 0\n",
      "_________________________________________________________________\n"
     ]
    }
   ],
   "source": [
    "scaled_model.summary()"
   ]
  },
  {
   "cell_type": "code",
   "execution_count": null,
   "id": "668b8350",
   "metadata": {},
   "outputs": [],
   "source": []
  },
  {
   "cell_type": "markdown",
   "id": "55abf91d",
   "metadata": {},
   "source": [
    "## Continuation of the 10th feb model on 11th feb\n",
    "### Reloading of the old model "
   ]
  },
  {
   "cell_type": "code",
   "execution_count": 27,
   "id": "bd2d0fe5",
   "metadata": {},
   "outputs": [],
   "source": [
    "pkl_14_model_tuner.reload()"
   ]
  },
  {
   "cell_type": "code",
   "execution_count": 32,
   "id": "3e747c60",
   "metadata": {
    "scrolled": true
   },
   "outputs": [
    {
     "name": "stdout",
     "output_type": "stream",
     "text": [
      "Model: \"sequential\"\n",
      "_________________________________________________________________\n",
      " Layer (type)                Output Shape              Param #   \n",
      "=================================================================\n",
      " conv2d (Conv2D)             (None, 28, 28, 96)        2496      \n",
      "                                                                 \n",
      " max_pooling2d (MaxPooling2D  (None, 14, 14, 96)       0         \n",
      " )                                                               \n",
      "                                                                 \n",
      " conv2d_1 (Conv2D)           (None, 10, 10, 48)        115248    \n",
      "                                                                 \n",
      " max_pooling2d_1 (MaxPooling  (None, 5, 5, 48)         0         \n",
      " 2D)                                                             \n",
      "                                                                 \n",
      " flatten (Flatten)           (None, 1200)              0         \n",
      "                                                                 \n",
      " dense (Dense)               (None, 64)                76864     \n",
      "                                                                 \n",
      " dense_1 (Dense)             (None, 14)                910       \n",
      "                                                                 \n",
      "=================================================================\n",
      "Total params: 195,518\n",
      "Trainable params: 195,518\n",
      "Non-trainable params: 0\n",
      "_________________________________________________________________\n"
     ]
    }
   ],
   "source": [
    "model_14 = pkl_14_model_tuner.get_best_models()[0]\n",
    "model_14.summary()"
   ]
  },
  {
   "cell_type": "code",
   "execution_count": 33,
   "id": "3538732d",
   "metadata": {
    "scrolled": true
   },
   "outputs": [
    {
     "name": "stdout",
     "output_type": "stream",
     "text": [
      "Epoch 1/50\n",
      "1340/1340 [==============================] - 91s 68ms/step - loss: 2.0115 - accuracy: 0.3003\n",
      "Epoch 2/50\n",
      "1340/1340 [==============================] - 86s 64ms/step - loss: 1.9480 - accuracy: 0.3203\n",
      "Epoch 3/50\n",
      "1340/1340 [==============================] - 87s 65ms/step - loss: 1.8951 - accuracy: 0.33990s - loss: 1.8952 - accuracy\n",
      "Epoch 4/50\n",
      "1340/1340 [==============================] - 88s 66ms/step - loss: 1.8427 - accuracy: 0.3550\n",
      "Epoch 5/50\n",
      "1340/1340 [==============================] - 89s 67ms/step - loss: 1.7987 - accuracy: 0.3706\n",
      "Epoch 6/50\n",
      "1340/1340 [==============================] - 88s 65ms/step - loss: 1.7629 - accuracy: 0.3838\n",
      "Epoch 7/50\n",
      "1340/1340 [==============================] - 88s 66ms/step - loss: 1.7251 - accuracy: 0.3939\n",
      "Epoch 8/50\n",
      "1340/1340 [==============================] - 93s 70ms/step - loss: 1.6900 - accuracy: 0.4051\n",
      "Epoch 9/50\n",
      "1340/1340 [==============================] - 89s 66ms/step - loss: 1.6600 - accuracy: 0.4196\n",
      "Epoch 10/50\n",
      "1340/1340 [==============================] - 89s 66ms/step - loss: 1.6300 - accuracy: 0.42690s - loss: 1.6300 - accuracy: 0.\n",
      "Epoch 11/50\n",
      "1340/1340 [==============================] - 88s 66ms/step - loss: 1.6043 - accuracy: 0.4327\n",
      "Epoch 12/50\n",
      "1340/1340 [==============================] - 88s 66ms/step - loss: 1.5774 - accuracy: 0.4440\n",
      "Epoch 13/50\n",
      "1340/1340 [==============================] - 89s 67ms/step - loss: 1.5582 - accuracy: 0.4492\n",
      "Epoch 14/50\n",
      "1340/1340 [==============================] - 90s 67ms/step - loss: 1.5347 - accuracy: 0.4572\n",
      "Epoch 15/50\n",
      "1340/1340 [==============================] - 96s 72ms/step - loss: 1.5099 - accuracy: 0.4657\n",
      "Epoch 16/50\n",
      "1340/1340 [==============================] - 116s 87ms/step - loss: 1.4912 - accuracy: 0.4720\n",
      "Epoch 17/50\n",
      "1340/1340 [==============================] - 101s 76ms/step - loss: 1.4688 - accuracy: 0.4780\n",
      "Epoch 18/50\n",
      "1340/1340 [==============================] - 82s 61ms/step - loss: 1.4495 - accuracy: 0.4861\n",
      "Epoch 19/50\n",
      "1340/1340 [==============================] - 86s 64ms/step - loss: 1.4378 - accuracy: 0.4888\n",
      "Epoch 20/50\n",
      "1340/1340 [==============================] - 96s 71ms/step - loss: 1.4154 - accuracy: 0.4987\n",
      "Epoch 21/50\n",
      "1340/1340 [==============================] - 88s 66ms/step - loss: 1.4030 - accuracy: 0.5015\n",
      "Epoch 22/50\n",
      "1340/1340 [==============================] - 91s 68ms/step - loss: 1.3917 - accuracy: 0.5038\n",
      "Epoch 23/50\n",
      "1340/1340 [==============================] - 95s 71ms/step - loss: 1.3719 - accuracy: 0.5122\n",
      "Epoch 24/50\n",
      "1340/1340 [==============================] - 90s 67ms/step - loss: 1.3645 - accuracy: 0.5163\n",
      "Epoch 25/50\n",
      "1340/1340 [==============================] - 96s 72ms/step - loss: 1.3473 - accuracy: 0.5216\n",
      "Epoch 26/50\n",
      "1340/1340 [==============================] - 97s 73ms/step - loss: 1.3373 - accuracy: 0.5225\n",
      "Epoch 27/50\n",
      "1340/1340 [==============================] - 90s 67ms/step - loss: 1.3194 - accuracy: 0.5295\n",
      "Epoch 28/50\n",
      "1340/1340 [==============================] - 92s 69ms/step - loss: 1.3035 - accuracy: 0.5329\n",
      "Epoch 29/50\n",
      "1340/1340 [==============================] - 90s 67ms/step - loss: 1.2899 - accuracy: 0.5384\n",
      "Epoch 30/50\n",
      "1340/1340 [==============================] - 89s 67ms/step - loss: 1.2796 - accuracy: 0.5427\n",
      "Epoch 31/50\n",
      "1340/1340 [==============================] - 90s 67ms/step - loss: 1.2711 - accuracy: 0.54480s - loss: 1\n",
      "Epoch 32/50\n",
      "1340/1340 [==============================] - 94s 70ms/step - loss: 1.2566 - accuracy: 0.5502\n",
      "Epoch 33/50\n",
      "1340/1340 [==============================] - 100s 74ms/step - loss: 1.2614 - accuracy: 0.5466\n",
      "Epoch 34/50\n",
      "1340/1340 [==============================] - 104s 78ms/step - loss: 1.2344 - accuracy: 0.5575\n",
      "Epoch 35/50\n",
      "1340/1340 [==============================] - 105s 78ms/step - loss: 1.2365 - accuracy: 0.5572\n",
      "Epoch 36/50\n",
      "1340/1340 [==============================] - 105s 78ms/step - loss: 1.2244 - accuracy: 0.5600\n",
      "Epoch 37/50\n",
      "1340/1340 [==============================] - 105s 78ms/step - loss: 1.2076 - accuracy: 0.5674\n",
      "Epoch 38/50\n",
      "1340/1340 [==============================] - 104s 78ms/step - loss: 1.2079 - accuracy: 0.5676\n",
      "Epoch 39/50\n",
      "1340/1340 [==============================] - 104s 78ms/step - loss: 1.1885 - accuracy: 0.5746\n",
      "Epoch 40/50\n",
      "1340/1340 [==============================] - 107s 80ms/step - loss: 1.1857 - accuracy: 0.5764\n",
      "Epoch 41/50\n",
      "1340/1340 [==============================] - 94s 70ms/step - loss: 1.1817 - accuracy: 0.5750\n",
      "Epoch 42/50\n",
      "1340/1340 [==============================] - 90s 67ms/step - loss: 1.1721 - accuracy: 0.5800\n",
      "Epoch 43/50\n",
      "1340/1340 [==============================] - 90s 67ms/step - loss: 1.1686 - accuracy: 0.5812\n",
      "Epoch 44/50\n",
      "1340/1340 [==============================] - 91s 68ms/step - loss: 1.1496 - accuracy: 0.5861\n",
      "Epoch 45/50\n",
      "1340/1340 [==============================] - 89s 67ms/step - loss: 1.1524 - accuracy: 0.5882\n",
      "Epoch 46/50\n",
      "1340/1340 [==============================] - 88s 66ms/step - loss: 1.1429 - accuracy: 0.5895\n",
      "Epoch 47/50\n",
      "1340/1340 [==============================] - 91s 68ms/step - loss: 1.1357 - accuracy: 0.5913\n",
      "Epoch 48/50\n",
      "1340/1340 [==============================] - 90s 67ms/step - loss: 1.1208 - accuracy: 0.5974\n",
      "Epoch 49/50\n",
      "1340/1340 [==============================] - 91s 68ms/step - loss: 1.1275 - accuracy: 0.5948\n",
      "Epoch 50/50\n",
      "1340/1340 [==============================] - 91s 68ms/step - loss: 1.1103 - accuracy: 0.6008\n"
     ]
    },
    {
     "data": {
      "text/plain": [
       "<keras.callbacks.History at 0x2301bb95d30>"
      ]
     },
     "execution_count": 33,
     "metadata": {},
     "output_type": "execute_result"
    }
   ],
   "source": [
    "model_14.fit(x_train_pkl_14,y_train_pkl_14,epochs=50)"
   ]
  },
  {
   "cell_type": "code",
   "execution_count": 34,
   "id": "8495e9ea",
   "metadata": {
    "scrolled": true
   },
   "outputs": [
    {
     "name": "stdout",
     "output_type": "stream",
     "text": [
      "335/335 [==============================] - 6s 16ms/step - loss: 3.0468 - accuracy: 0.3537\n"
     ]
    },
    {
     "data": {
      "text/plain": [
       "[3.046752452850342, 0.3536767363548279]"
      ]
     },
     "execution_count": 34,
     "metadata": {},
     "output_type": "execute_result"
    }
   ],
   "source": [
    "model_14.evaluate(x_test_pkl_14,y_test_pkl_14)"
   ]
  },
  {
   "cell_type": "code",
   "execution_count": 35,
   "id": "f63a23b2",
   "metadata": {},
   "outputs": [
    {
     "name": "stdout",
     "output_type": "stream",
     "text": [
      "INFO:tensorflow:Assets written to: model_14\\assets\n"
     ]
    }
   ],
   "source": [
    "model_14.save('model_14')"
   ]
  },
  {
   "cell_type": "code",
   "execution_count": null,
   "id": "7213e890",
   "metadata": {},
   "outputs": [],
   "source": []
  },
  {
   "cell_type": "code",
   "execution_count": null,
   "id": "956c7bf8",
   "metadata": {},
   "outputs": [],
   "source": []
  },
  {
   "cell_type": "code",
   "execution_count": null,
   "id": "64e893c5",
   "metadata": {},
   "outputs": [],
   "source": []
  },
  {
   "cell_type": "code",
   "execution_count": null,
   "id": "ba0a6dcc",
   "metadata": {},
   "outputs": [],
   "source": []
  },
  {
   "cell_type": "markdown",
   "id": "da5342f7",
   "metadata": {},
   "source": [
    "## 8th Feb Code "
   ]
  },
  {
   "cell_type": "markdown",
   "id": "5dc78077",
   "metadata": {},
   "source": [
    "## alexnet "
   ]
  },
  {
   "cell_type": "code",
   "execution_count": 61,
   "id": "fc44d119",
   "metadata": {},
   "outputs": [],
   "source": [
    "model = keras.models.Sequential([\n",
    "    keras.layers.Conv2D(filters=96, kernel_size=(5,5), strides=1, activation='relu', input_shape=(32,32,1)),\n",
    "    keras.layers.BatchNormalization(),\n",
    "    keras.layers.MaxPool2D(pool_size=(3,3), strides=(2,2)),\n",
    "    \n",
    "    keras.layers.Conv2D(filters=256, kernel_size=(5,5), strides=(1,1), activation='relu', padding=\"same\"),\n",
    "    keras.layers.BatchNormalization(),\n",
    "    keras.layers.MaxPool2D(pool_size=(3,3), strides=(2,2)),\n",
    "    \n",
    "    keras.layers.Conv2D(filters=384, kernel_size=(3,3), strides=(1,1), activation='relu', padding=\"same\"),\n",
    "    keras.layers.BatchNormalization(),\n",
    "    \n",
    "    keras.layers.Conv2D(filters=384, kernel_size=(3,3), strides=(1,1), activation='relu', padding=\"same\"),\n",
    "    keras.layers.BatchNormalization(),\n",
    "    \n",
    "    keras.layers.Conv2D(filters=256, kernel_size=(3,3), strides=(1,1), activation='relu', padding=\"same\"),\n",
    "    keras.layers.BatchNormalization(),\n",
    "    keras.layers.MaxPool2D(pool_size=(3,3), strides=(2,2)),\n",
    "    \n",
    "    keras.layers.Flatten(),\n",
    "    keras.layers.Dense(4096, activation='relu'),\n",
    "    keras.layers.Dropout(0.5),\n",
    "    keras.layers.Dense(4096, activation='relu'),\n",
    "    keras.layers.Dropout(0.5),\n",
    "    keras.layers.Dense(11, activation='softmax')\n",
    "])\n",
    "\n",
    "model.compile(optimizer = 'adam',\n",
    "           loss = 'sparse_categorical_crossentropy',\n",
    "           metrics=['accuracy'])"
   ]
  },
  {
   "cell_type": "code",
   "execution_count": 62,
   "id": "eba6e5e8",
   "metadata": {},
   "outputs": [
    {
     "name": "stdout",
     "output_type": "stream",
     "text": [
      "Epoch 1/3\n",
      "703/703 [==============================] - 599s 850ms/step - loss: 0.6399 - accuracy: 0.0036\n",
      "Epoch 2/3\n",
      "703/703 [==============================] - 541s 769ms/step - loss: 0.0840 - accuracy: 0.0036\n",
      "Epoch 3/3\n",
      "703/703 [==============================] - 545s 775ms/step - loss: 0.0757 - accuracy: 0.0036\n"
     ]
    },
    {
     "data": {
      "text/plain": [
       "<keras.callbacks.History at 0x1a81d3398b0>"
      ]
     },
     "execution_count": 62,
     "metadata": {},
     "output_type": "execute_result"
    }
   ],
   "source": [
    "model.fit(x_train,y_train,epochs= 3)"
   ]
  },
  {
   "cell_type": "code",
   "execution_count": 63,
   "id": "ea008171",
   "metadata": {},
   "outputs": [
    {
     "name": "stdout",
     "output_type": "stream",
     "text": [
      "302/302 [==============================] - 40s 130ms/step - loss: 0.0886 - accuracy: 0.0036\n"
     ]
    },
    {
     "data": {
      "text/plain": [
       "[0.08861265331506729, 0.003632212523370981]"
      ]
     },
     "execution_count": 63,
     "metadata": {},
     "output_type": "execute_result"
    }
   ],
   "source": [
    "model.evaluate(x_test,y_test)"
   ]
  },
  {
   "cell_type": "markdown",
   "id": "24b0a2d0",
   "metadata": {},
   "source": [
    "## SVM "
   ]
  },
  {
   "cell_type": "code",
   "execution_count": 68,
   "id": "2c31b484",
   "metadata": {},
   "outputs": [],
   "source": [
    "svm = keras.Sequential([\n",
    "    keras.layers.Conv2D(filters = 64, kernel_size= (3,3), strides = 1,padding = 'same',activation = 'relu',input_shape = (32,32,1)),\n",
    "    keras.layers.MaxPooling2D((2,2)),\n",
    "    \n",
    "#     keras.layers.Conv2D(filters = 64, kernel_size= (3,3),strides = 1,padding = 'same', activation = 'relu'),\n",
    "#     keras.layers.MaxPooling2D((2,2)),\n",
    "    \n",
    "    keras.layers.Conv2D(filters = 32, kernel_size= (3,3),strides = 1,padding = 'same', activation = 'relu'),\n",
    "    keras.layers.MaxPooling2D((2,2)),\n",
    "    \n",
    "    keras.layers.Flatten(),\n",
    "    keras.layers.Dense(64, activation = 'relu'),\n",
    "    keras.layers.Dense(11, kernel_regularizer = tf.keras.regularizers.L2(0.01) ,activation = 'softmax')\n",
    "])\n",
    "\n",
    "svm.compile(optimizer = 'adam',\n",
    "           loss = 'squared_hinge',\n",
    "           metrics=['accuracy'])"
   ]
  },
  {
   "cell_type": "code",
   "execution_count": 69,
   "id": "dd3c5a84",
   "metadata": {},
   "outputs": [
    {
     "name": "stdout",
     "output_type": "stream",
     "text": [
      "Epoch 1/10\n",
      "803/803 [==============================] - 49s 60ms/step - loss: 0.9254 - accuracy: 2.3350e-04\n",
      "Epoch 2/10\n",
      "803/803 [==============================] - 48s 60ms/step - loss: 0.9057 - accuracy: 8.1725e-04\n",
      "Epoch 3/10\n",
      "803/803 [==============================] - 49s 60ms/step - loss: 0.9057 - accuracy: 7.0050e-04\n",
      "Epoch 4/10\n",
      "803/803 [==============================] - 49s 61ms/step - loss: 0.9057 - accuracy: 8.5616e-04\n",
      "Epoch 5/10\n",
      "803/803 [==============================] - 49s 61ms/step - loss: 0.9057 - accuracy: 8.1725e-04\n",
      "Epoch 6/10\n",
      "803/803 [==============================] - 49s 61ms/step - loss: 0.9057 - accuracy: 0.0011\n",
      "Epoch 7/10\n",
      "803/803 [==============================] - 49s 62ms/step - loss: 0.9057 - accuracy: 0.0012\n",
      "Epoch 8/10\n",
      "803/803 [==============================] - 49s 61ms/step - loss: 0.9057 - accuracy: 9.7291e-04\n",
      "Epoch 9/10\n",
      "803/803 [==============================] - 50s 62ms/step - loss: 0.9057 - accuracy: 0.00110s - loss: 0.9\n",
      "Epoch 10/10\n",
      "803/803 [==============================] - 49s 62ms/step - loss: 0.9057 - accuracy: 0.0013\n"
     ]
    },
    {
     "data": {
      "text/plain": [
       "<keras.callbacks.History at 0x1a81b8a7b20>"
      ]
     },
     "execution_count": 69,
     "metadata": {},
     "output_type": "execute_result"
    }
   ],
   "source": [
    "svm.fit(x_train,y_train,epochs=10)"
   ]
  },
  {
   "cell_type": "code",
   "execution_count": null,
   "id": "89dc44b2",
   "metadata": {},
   "outputs": [],
   "source": []
  },
  {
   "cell_type": "code",
   "execution_count": null,
   "id": "ea821746",
   "metadata": {},
   "outputs": [],
   "source": []
  },
  {
   "cell_type": "code",
   "execution_count": null,
   "id": "5533d9b5",
   "metadata": {},
   "outputs": [],
   "source": []
  },
  {
   "cell_type": "code",
   "execution_count": null,
   "id": "68215dff",
   "metadata": {},
   "outputs": [],
   "source": []
  },
  {
   "cell_type": "code",
   "execution_count": null,
   "id": "543fa97c",
   "metadata": {},
   "outputs": [],
   "source": []
  },
  {
   "cell_type": "code",
   "execution_count": null,
   "id": "d87263c8",
   "metadata": {},
   "outputs": [],
   "source": []
  },
  {
   "cell_type": "code",
   "execution_count": null,
   "id": "4ef441ed",
   "metadata": {},
   "outputs": [],
   "source": []
  },
  {
   "cell_type": "code",
   "execution_count": null,
   "id": "92b774f6",
   "metadata": {},
   "outputs": [],
   "source": []
  },
  {
   "cell_type": "code",
   "execution_count": null,
   "id": "91cc17f8",
   "metadata": {},
   "outputs": [],
   "source": []
  },
  {
   "cell_type": "code",
   "execution_count": null,
   "id": "3a7612eb",
   "metadata": {},
   "outputs": [],
   "source": []
  },
  {
   "cell_type": "code",
   "execution_count": null,
   "id": "ff2a80c1",
   "metadata": {},
   "outputs": [],
   "source": []
  },
  {
   "cell_type": "code",
   "execution_count": null,
   "id": "2d2515c0",
   "metadata": {},
   "outputs": [],
   "source": []
  },
  {
   "cell_type": "code",
   "execution_count": null,
   "id": "7324cc05",
   "metadata": {},
   "outputs": [],
   "source": []
  },
  {
   "cell_type": "code",
   "execution_count": null,
   "id": "56c4788f",
   "metadata": {},
   "outputs": [],
   "source": []
  },
  {
   "cell_type": "code",
   "execution_count": null,
   "id": "2396296e",
   "metadata": {},
   "outputs": [],
   "source": []
  }
 ],
 "metadata": {
  "kernelspec": {
   "display_name": "Python 3",
   "language": "python",
   "name": "python3"
  },
  "language_info": {
   "codemirror_mode": {
    "name": "ipython",
    "version": 3
   },
   "file_extension": ".py",
   "mimetype": "text/x-python",
   "name": "python",
   "nbconvert_exporter": "python",
   "pygments_lexer": "ipython3",
   "version": "3.8.8"
  }
 },
 "nbformat": 4,
 "nbformat_minor": 5
}
