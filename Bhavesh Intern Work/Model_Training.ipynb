{
 "cells": [
  {
   "cell_type": "code",
   "execution_count": 1,
   "metadata": {},
   "outputs": [],
   "source": [
    "import os\n",
    "import shap\n",
    "import numpy as np\n",
    "import pandas as pd\n",
    "from ML.main_model import load_model_\n",
    "from ML.data_reader import FeatureThicknessReader\n",
    "import tensorflow as tf    \n",
    "#tf.compat.v1.disable_v2_behavior()"
   ]
  },
  {
   "cell_type": "code",
   "execution_count": 2,
   "metadata": {},
   "outputs": [
    {
     "data": {
      "text/plain": [
       "'d:\\\\SH\\\\Cloud\\\\OneDrive - Faurecia\\\\KBE\\\\FIS_ML\\\\Projects\\\\ThicknessCompensation'"
      ]
     },
     "execution_count": 2,
     "metadata": {},
     "output_type": "execute_result"
    }
   ],
   "source": [
    "os.chdir(\"..//\")\n",
    "os.getcwd()"
   ]
  },
  {
   "cell_type": "code",
   "execution_count": 4,
   "metadata": {},
   "outputs": [],
   "source": [
    "df = pd.read_csv(\"df_all_temp.csv\")"
   ]
  },
  {
   "cell_type": "code",
   "execution_count": null,
   "metadata": {},
   "outputs": [],
   "source": [
    "#col for col in df_feat.columns if col not in [\"index\", \"img_name\", \"comp_thk\"]"
   ]
  },
  {
   "cell_type": "code",
   "execution_count": null,
   "metadata": {},
   "outputs": [],
   "source": [
    "trn = ['D0001', 'D0002', 'D0003', 'D0004', 'D0005', 'D0006', 'D0007', 'D0008', 'D0009']\n",
    "val = ['D0011', 'D0012']\n",
    "tst = ['D0013', 'D0014']\n",
    "yft = \"thick\"\n",
    "xft = [\"depth\", \"Skin thk\", \"Foam Thk\", \"cos_MTD\"]\n",
    "train_data = FeatureThicknessReader(df, xft, yft, trn, 32)\n",
    "test__data = FeatureThicknessReader(df, xft, yft, tst, 32)"
   ]
  },
  {
   "cell_type": "code",
   "execution_count": null,
   "metadata": {},
   "outputs": [],
   "source": [
    "a_model(inputs=x_trn, training=False)"
   ]
  },
  {
   "cell_type": "code",
   "execution_count": null,
   "metadata": {},
   "outputs": [],
   "source": [
    "for btch in [16, 32, 64]:\n",
    "    for epch in [5, 10]:\n",
    "        for lr in [1e-3, 1e-4]:\n",
    "            for opt in [\"adam\", \"rmsp\"]:\n",
    "                an_expt.train_model(epch, btch, opt, lr)"
   ]
  },
  {
   "cell_type": "code",
   "execution_count": null,
   "metadata": {},
   "outputs": [],
   "source": [
    "#tensorboard --logdir \"D:\\SH\\Cloud\\OneDrive - Faurecia\\KBE\\FIS_ML\\Projects\\ThicknessCompensation\\logs\\tb_logs\""
   ]
  },
  {
   "cell_type": "code",
   "execution_count": null,
   "metadata": {},
   "outputs": [],
   "source": [
    "from tensorflow.keras.utils import plot_model "
   ]
  },
  {
   "cell_type": "code",
   "execution_count": null,
   "metadata": {},
   "outputs": [],
   "source": [
    "plot_model(model)"
   ]
  }
 ],
 "metadata": {
  "interpreter": {
   "hash": "48e6d4558b0dc4820bc7dbdb655b2f48556a950237ad43c8a4e98ccc44217113"
  },
  "kernelspec": {
   "display_name": "Python 3.9.12 ('aiml')",
   "language": "python",
   "name": "python3"
  },
  "language_info": {
   "codemirror_mode": {
    "name": "ipython",
    "version": 3
   },
   "file_extension": ".py",
   "mimetype": "text/x-python",
   "name": "python",
   "nbconvert_exporter": "python",
   "pygments_lexer": "ipython3",
   "version": "3.9.12"
  },
  "orig_nbformat": 4
 },
 "nbformat": 4,
 "nbformat_minor": 2
}
